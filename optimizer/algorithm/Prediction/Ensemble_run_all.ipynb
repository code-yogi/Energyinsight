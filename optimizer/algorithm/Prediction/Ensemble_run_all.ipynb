{
 "cells": [
  {
   "cell_type": "markdown",
   "metadata": {},
   "source": [
    "# Prediction Using Ensamble Tree"
   ]
  },
  {
   "cell_type": "markdown",
   "metadata": {},
   "source": [
    "1. Input: a table named \"total\", which includes information about this hour (temp,weekday..)\n",
    "2. output: the value of this hour's energy load"
   ]
  },
  {
   "cell_type": "markdown",
   "metadata": {},
   "source": [
    "## Data Preperation"
   ]
  },
  {
   "cell_type": "code",
   "execution_count": 1,
   "metadata": {
    "collapsed": false
   },
   "outputs": [],
   "source": [
    "%matplotlib inline\n",
    "import pandas as pd\n",
    "import numpy as np\n",
    "import csv\n",
    "import os\n",
    "import csv\n",
    "import numpy as np\n",
    "import matplotlib.pyplot as plt\n",
    "import time\n",
    "from datetime import datetime\n",
    "import pytz\n",
    "import math"
   ]
  },
  {
   "cell_type": "code",
   "execution_count": 2,
   "metadata": {
    "collapsed": false
   },
   "outputs": [],
   "source": [
    "################\n",
    "#READ LOAD DATA#\n",
    "################\n",
    "# set timezone\n",
    "local_tz = pytz.timezone('America/Denver')\n",
    "\n",
    "# read energy load from csv file\n",
    "energy_load_read = pd.DataFrame.from_csv('test_data/6.csv')['value']\n",
    "\n",
    "# convert energy load's index from timestamp to datetime format\n",
    "energy_index = [datetime.fromtimestamp(x,tz=local_tz) for x in energy_load_read.index]\n",
    "\n",
    "# reset the load's index\n",
    "energy_load_raw = pd.DataFrame({'Value':list(energy_load_read)},index=energy_index)\n",
    "\n",
    "# resample to hourly load\n",
    "energy_load = energy_load_raw.resample(\"H\").mean().fillna(method='ffill')"
   ]
  },
  {
   "cell_type": "code",
   "execution_count": 3,
   "metadata": {
    "collapsed": false
   },
   "outputs": [],
   "source": [
    "################\n",
    "#READ TEMP DATA#\n",
    "################\n",
    "# import hourly temp\n",
    "temp = pd.DataFrame.from_csv('test_data/6_temp.csv')\n",
    "temp = temp[['WetBulbFarenheit','Date','Time']]\n",
    "\n",
    "# store temp in data, datetime in index\n",
    "data = [value for value in temp['WetBulbFarenheit']]\n",
    "index = []\n",
    "\n",
    "for j in temp.iterrows():\n",
    "\n",
    "    c = datetime(int(str(j[1].Date)[0:4]),int(str(j[1].Date)[4:6]),int(str(j[1].Date)[6:8]),int(math.floor(j[1].Time/100)),int(j[1].Time-(math.floor(j[1].Time/100)*100)))\n",
    "    index.append(c.replace(tzinfo=local_tz))\n",
    "\n",
    "ts_temp = pd.DataFrame({'Temp':data},index = index)\n",
    "def filter_num(x):\n",
    "    try:\n",
    "        return np.float(x)\n",
    "    except:\n",
    "        return np.nan\n",
    "ts_temp['Temp'] = ts_temp['Temp'].apply(filter_num)\n",
    "hourly_temp = ts_temp.copy().resample(\"H\").mean().fillna(method='ffill')"
   ]
  },
  {
   "cell_type": "code",
   "execution_count": 4,
   "metadata": {
    "collapsed": false
   },
   "outputs": [],
   "source": [
    "total = pd.concat([hourly_temp,energy_load],axis=1).dropna()"
   ]
  },
  {
   "cell_type": "code",
   "execution_count": 5,
   "metadata": {
    "collapsed": true
   },
   "outputs": [],
   "source": [
    "total[\"Month\"] = total.index.map(lambda x: x.month)\n",
    "total[\"Weekday\"] = total.index.map(lambda x: x.isoweekday())\n",
    "total[\"Hour\"] = total.index.map(lambda x: x.hour)"
   ]
  },
  {
   "cell_type": "code",
   "execution_count": 6,
   "metadata": {
    "collapsed": false
   },
   "outputs": [
    {
     "data": {
      "text/html": [
       "<div>\n",
       "<table border=\"1\" class=\"dataframe\">\n",
       "  <thead>\n",
       "    <tr style=\"text-align: right;\">\n",
       "      <th></th>\n",
       "      <th>Temp</th>\n",
       "      <th>Value</th>\n",
       "      <th>Month</th>\n",
       "      <th>Weekday</th>\n",
       "      <th>Hour</th>\n",
       "    </tr>\n",
       "  </thead>\n",
       "  <tbody>\n",
       "    <tr>\n",
       "      <th>2012-01-01 00:00:00-07:00</th>\n",
       "      <td>20.666667</td>\n",
       "      <td>34.094725</td>\n",
       "      <td>1</td>\n",
       "      <td>7</td>\n",
       "      <td>0</td>\n",
       "    </tr>\n",
       "    <tr>\n",
       "      <th>2012-01-01 01:00:00-07:00</th>\n",
       "      <td>20.333333</td>\n",
       "      <td>34.168583</td>\n",
       "      <td>1</td>\n",
       "      <td>7</td>\n",
       "      <td>1</td>\n",
       "    </tr>\n",
       "    <tr>\n",
       "      <th>2012-01-01 02:00:00-07:00</th>\n",
       "      <td>20.000000</td>\n",
       "      <td>34.844692</td>\n",
       "      <td>1</td>\n",
       "      <td>7</td>\n",
       "      <td>2</td>\n",
       "    </tr>\n",
       "    <tr>\n",
       "      <th>2012-01-01 03:00:00-07:00</th>\n",
       "      <td>20.666667</td>\n",
       "      <td>35.956950</td>\n",
       "      <td>1</td>\n",
       "      <td>7</td>\n",
       "      <td>3</td>\n",
       "    </tr>\n",
       "    <tr>\n",
       "      <th>2012-01-01 04:00:00-07:00</th>\n",
       "      <td>19.000000</td>\n",
       "      <td>35.518508</td>\n",
       "      <td>1</td>\n",
       "      <td>7</td>\n",
       "      <td>4</td>\n",
       "    </tr>\n",
       "  </tbody>\n",
       "</table>\n",
       "</div>"
      ],
      "text/plain": [
       "                                Temp      Value  Month  Weekday  Hour\n",
       "2012-01-01 00:00:00-07:00  20.666667  34.094725      1        7     0\n",
       "2012-01-01 01:00:00-07:00  20.333333  34.168583      1        7     1\n",
       "2012-01-01 02:00:00-07:00  20.000000  34.844692      1        7     2\n",
       "2012-01-01 03:00:00-07:00  20.666667  35.956950      1        7     3\n",
       "2012-01-01 04:00:00-07:00  19.000000  35.518508      1        7     4"
      ]
     },
     "execution_count": 6,
     "metadata": {},
     "output_type": "execute_result"
    }
   ],
   "source": [
    "total.head()"
   ]
  },
  {
   "cell_type": "code",
   "execution_count": 7,
   "metadata": {
    "collapsed": true
   },
   "outputs": [],
   "source": [
    "# Temp1 means one hour before this hour\n",
    "move = list(total[\"Temp\"])[:-1]\n",
    "move.insert(0,np.nan)\n",
    "total[\"Temp1\"]= move\n",
    "\n",
    "# Temp2 means two hours before this hour\n",
    "move = list(total[\"Temp\"])[:-2]\n",
    "move.insert(0,np.nan)\n",
    "move.insert(0,np.nan)\n",
    "total[\"Temp2\"]= move\n",
    "\n",
    "# Temp3 means three hours before this hour\n",
    "move = list(total[\"Temp\"])[:-3]\n",
    "move.insert(0,np.nan)\n",
    "move.insert(0,np.nan)\n",
    "move.insert(0,np.nan)\n",
    "total[\"Temp3\"]= move"
   ]
  },
  {
   "cell_type": "code",
   "execution_count": 8,
   "metadata": {
    "collapsed": false
   },
   "outputs": [
    {
     "data": {
      "text/html": [
       "<div>\n",
       "<table border=\"1\" class=\"dataframe\">\n",
       "  <thead>\n",
       "    <tr style=\"text-align: right;\">\n",
       "      <th></th>\n",
       "      <th>Temp</th>\n",
       "      <th>Value</th>\n",
       "      <th>Month</th>\n",
       "      <th>Weekday</th>\n",
       "      <th>Hour</th>\n",
       "      <th>Temp1</th>\n",
       "      <th>Temp2</th>\n",
       "      <th>Temp3</th>\n",
       "    </tr>\n",
       "  </thead>\n",
       "  <tbody>\n",
       "    <tr>\n",
       "      <th>2012-01-01 00:00:00-07:00</th>\n",
       "      <td>20.666667</td>\n",
       "      <td>34.094725</td>\n",
       "      <td>1</td>\n",
       "      <td>7</td>\n",
       "      <td>0</td>\n",
       "      <td>NaN</td>\n",
       "      <td>NaN</td>\n",
       "      <td>NaN</td>\n",
       "    </tr>\n",
       "    <tr>\n",
       "      <th>2012-01-01 01:00:00-07:00</th>\n",
       "      <td>20.333333</td>\n",
       "      <td>34.168583</td>\n",
       "      <td>1</td>\n",
       "      <td>7</td>\n",
       "      <td>1</td>\n",
       "      <td>20.666667</td>\n",
       "      <td>NaN</td>\n",
       "      <td>NaN</td>\n",
       "    </tr>\n",
       "    <tr>\n",
       "      <th>2012-01-01 02:00:00-07:00</th>\n",
       "      <td>20.000000</td>\n",
       "      <td>34.844692</td>\n",
       "      <td>1</td>\n",
       "      <td>7</td>\n",
       "      <td>2</td>\n",
       "      <td>20.333333</td>\n",
       "      <td>20.666667</td>\n",
       "      <td>NaN</td>\n",
       "    </tr>\n",
       "    <tr>\n",
       "      <th>2012-01-01 03:00:00-07:00</th>\n",
       "      <td>20.666667</td>\n",
       "      <td>35.956950</td>\n",
       "      <td>1</td>\n",
       "      <td>7</td>\n",
       "      <td>3</td>\n",
       "      <td>20.000000</td>\n",
       "      <td>20.333333</td>\n",
       "      <td>20.666667</td>\n",
       "    </tr>\n",
       "    <tr>\n",
       "      <th>2012-01-01 04:00:00-07:00</th>\n",
       "      <td>19.000000</td>\n",
       "      <td>35.518508</td>\n",
       "      <td>1</td>\n",
       "      <td>7</td>\n",
       "      <td>4</td>\n",
       "      <td>20.666667</td>\n",
       "      <td>20.000000</td>\n",
       "      <td>20.333333</td>\n",
       "    </tr>\n",
       "  </tbody>\n",
       "</table>\n",
       "</div>"
      ],
      "text/plain": [
       "                                Temp      Value  Month  Weekday  Hour  \\\n",
       "2012-01-01 00:00:00-07:00  20.666667  34.094725      1        7     0   \n",
       "2012-01-01 01:00:00-07:00  20.333333  34.168583      1        7     1   \n",
       "2012-01-01 02:00:00-07:00  20.000000  34.844692      1        7     2   \n",
       "2012-01-01 03:00:00-07:00  20.666667  35.956950      1        7     3   \n",
       "2012-01-01 04:00:00-07:00  19.000000  35.518508      1        7     4   \n",
       "\n",
       "                               Temp1      Temp2      Temp3  \n",
       "2012-01-01 00:00:00-07:00        NaN        NaN        NaN  \n",
       "2012-01-01 01:00:00-07:00  20.666667        NaN        NaN  \n",
       "2012-01-01 02:00:00-07:00  20.333333  20.666667        NaN  \n",
       "2012-01-01 03:00:00-07:00  20.000000  20.333333  20.666667  \n",
       "2012-01-01 04:00:00-07:00  20.666667  20.000000  20.333333  "
      ]
     },
     "execution_count": 8,
     "metadata": {},
     "output_type": "execute_result"
    }
   ],
   "source": [
    "total.head()"
   ]
  },
  {
   "cell_type": "code",
   "execution_count": 9,
   "metadata": {
    "collapsed": false
   },
   "outputs": [],
   "source": [
    "total = total.dropna()"
   ]
  },
  {
   "cell_type": "markdown",
   "metadata": {},
   "source": [
    "## Function Preperation--calculate absolute error"
   ]
  },
  {
   "cell_type": "code",
   "execution_count": 10,
   "metadata": {
    "collapsed": false
   },
   "outputs": [],
   "source": [
    "def cal_error_for_list(pred,actual):\n",
    "    error_abs=[]\n",
    "    for i in range(len(pred)):\n",
    "        error_abs.append(abs(pred[i]-actual[i]))\n",
    "    actual_sum = np.array(actual).sum()\n",
    "    error_sum = np.array(error_abs).sum()\n",
    "    print \"Mape Error = \",float(error_sum)/float(actual_sum)\n",
    "    return error_sum,actual_sum"
   ]
  },
  {
   "cell_type": "markdown",
   "metadata": {},
   "source": [
    "## Random Forest"
   ]
  },
  {
   "cell_type": "code",
   "execution_count": 11,
   "metadata": {
    "collapsed": false
   },
   "outputs": [
    {
     "data": {
      "text/html": [
       "<div>\n",
       "<table border=\"1\" class=\"dataframe\">\n",
       "  <thead>\n",
       "    <tr style=\"text-align: right;\">\n",
       "      <th></th>\n",
       "      <th>Temp</th>\n",
       "      <th>Month</th>\n",
       "      <th>Weekday</th>\n",
       "      <th>Hour</th>\n",
       "      <th>Temp1</th>\n",
       "      <th>Temp2</th>\n",
       "      <th>Temp3</th>\n",
       "    </tr>\n",
       "  </thead>\n",
       "  <tbody>\n",
       "    <tr>\n",
       "      <th>2012-01-01 03:00:00-07:00</th>\n",
       "      <td>20.666667</td>\n",
       "      <td>1</td>\n",
       "      <td>7</td>\n",
       "      <td>3</td>\n",
       "      <td>20.000000</td>\n",
       "      <td>20.333333</td>\n",
       "      <td>20.666667</td>\n",
       "    </tr>\n",
       "    <tr>\n",
       "      <th>2012-01-01 04:00:00-07:00</th>\n",
       "      <td>19.000000</td>\n",
       "      <td>1</td>\n",
       "      <td>7</td>\n",
       "      <td>4</td>\n",
       "      <td>20.666667</td>\n",
       "      <td>20.000000</td>\n",
       "      <td>20.333333</td>\n",
       "    </tr>\n",
       "    <tr>\n",
       "      <th>2012-01-01 05:00:00-07:00</th>\n",
       "      <td>19.000000</td>\n",
       "      <td>1</td>\n",
       "      <td>7</td>\n",
       "      <td>5</td>\n",
       "      <td>19.000000</td>\n",
       "      <td>20.666667</td>\n",
       "      <td>20.000000</td>\n",
       "    </tr>\n",
       "    <tr>\n",
       "      <th>2012-01-01 06:00:00-07:00</th>\n",
       "      <td>19.000000</td>\n",
       "      <td>1</td>\n",
       "      <td>7</td>\n",
       "      <td>6</td>\n",
       "      <td>19.000000</td>\n",
       "      <td>19.000000</td>\n",
       "      <td>20.666667</td>\n",
       "    </tr>\n",
       "    <tr>\n",
       "      <th>2012-01-01 07:00:00-07:00</th>\n",
       "      <td>18.000000</td>\n",
       "      <td>1</td>\n",
       "      <td>7</td>\n",
       "      <td>7</td>\n",
       "      <td>19.000000</td>\n",
       "      <td>19.000000</td>\n",
       "      <td>19.000000</td>\n",
       "    </tr>\n",
       "  </tbody>\n",
       "</table>\n",
       "</div>"
      ],
      "text/plain": [
       "                                Temp  Month  Weekday  Hour      Temp1  \\\n",
       "2012-01-01 03:00:00-07:00  20.666667      1        7     3  20.000000   \n",
       "2012-01-01 04:00:00-07:00  19.000000      1        7     4  20.666667   \n",
       "2012-01-01 05:00:00-07:00  19.000000      1        7     5  19.000000   \n",
       "2012-01-01 06:00:00-07:00  19.000000      1        7     6  19.000000   \n",
       "2012-01-01 07:00:00-07:00  18.000000      1        7     7  19.000000   \n",
       "\n",
       "                               Temp2      Temp3  \n",
       "2012-01-01 03:00:00-07:00  20.333333  20.666667  \n",
       "2012-01-01 04:00:00-07:00  20.000000  20.333333  \n",
       "2012-01-01 05:00:00-07:00  20.666667  20.000000  \n",
       "2012-01-01 06:00:00-07:00  19.000000  20.666667  \n",
       "2012-01-01 07:00:00-07:00  19.000000  19.000000  "
      ]
     },
     "execution_count": 11,
     "metadata": {},
     "output_type": "execute_result"
    }
   ],
   "source": [
    "target = total[[\"Value\"]]\n",
    "feature = total.copy().drop(\"Value\",axis=1)\n",
    "Y = target.values.reshape(1,-1)[0]\n",
    "X = feature.values\n",
    "feature.head()"
   ]
  },
  {
   "cell_type": "code",
   "execution_count": 12,
   "metadata": {
    "collapsed": false
   },
   "outputs": [
    {
     "name": "stdout",
     "output_type": "stream",
     "text": [
      "Mape Error =  0.0227962863501\n"
     ]
    },
    {
     "data": {
      "text/plain": [
       "(6212.4943104425647, 272522.20888181822)"
      ]
     },
     "execution_count": 12,
     "metadata": {},
     "output_type": "execute_result"
    }
   ],
   "source": [
    "# cal insample error\n",
    "from sklearn.ensemble import RandomForestRegressor\n",
    "clf = RandomForestRegressor(n_estimators=500)\n",
    "clf = clf.fit(X, Y)\n",
    "pred = clf.predict(X)\n",
    "cal_error_for_list(pred,Y)"
   ]
  },
  {
   "cell_type": "code",
   "execution_count": 13,
   "metadata": {
    "collapsed": false
   },
   "outputs": [
    {
     "name": "stdout",
     "output_type": "stream",
     "text": [
      "Importance of each feature\n",
      "\n",
      "Temp : 0.0277043980194\n",
      "Month : 0.0514023019892\n",
      "Weekday : 0.0663192192687\n",
      "Hour : 0.738053508303\n",
      "Temp1 : 0.0235635741863\n",
      "Temp2 : 0.0352346520052\n",
      "Temp3 : 0.057722346228\n"
     ]
    }
   ],
   "source": [
    "# see which feature is important\n",
    "print \"Importance of each feature\\n\"\n",
    "for name,score in zip(feature.columns,clf.feature_importances_ ):\n",
    "    print name,\":\",score"
   ]
  },
  {
   "cell_type": "code",
   "execution_count": 14,
   "metadata": {
    "collapsed": false
   },
   "outputs": [
    {
     "name": "stdout",
     "output_type": "stream",
     "text": [
      "Mape Error =  0.0637984285351\n",
      "Mape Error =  0.0640163730192\n",
      "Mape Error =  0.056468828173\n",
      "Mape Error =  0.0598899363505\n",
      "Mape Error =  0.0609153966851\n",
      "Mape Error =  0.0606542033679\n",
      "Mape Error =  0.0633497278109\n",
      "Mape Error =  0.0651670193446\n",
      "Mape Error =  0.066028074762\n",
      "Mape Error =  0.0647033525819\n",
      "Mape Error =  0.0682884924061\n",
      "Mape Error =  0.0596424937861\n",
      "Mape Error =  0.0620503825924\n",
      "Mape Error =  0.0643065358911\n",
      "Mape Error =  0.062975244471\n",
      "Mape Error =  0.065511481739\n",
      "Mape Error =  0.0660761037187\n",
      "Mape Error =  0.0605120635414\n",
      "Mape Error =  0.0597143570749\n",
      "Mape Error =  0.054396850766\n",
      "Total Mape Error =  0.062435266276\n"
     ]
    }
   ],
   "source": [
    "# cal outsample error using random sample points \n",
    "from sklearn.ensemble import RandomForestRegressor\n",
    "from sklearn import cross_validation\n",
    "ss = cross_validation.ShuffleSplit(len(X), 20, 0.05, random_state=0)\n",
    "error_list = []\n",
    "actual_list = []\n",
    "\n",
    "for train,test in ss:\n",
    "    clf = RandomForestRegressor(n_estimators=500)\n",
    "    clf = clf.fit(X[train], Y[train])\n",
    "    pred = clf.predict(X[test])\n",
    "    error,actual = cal_error_for_list(pred, Y[test])\n",
    "    error_list.append(error)\n",
    "    actual_list.append(actual)\n",
    "error_sum = np.array(error_list).sum()\n",
    "actual_sum = np.array(actual_list).sum()\n",
    "print \"Total Mape Error = \",float(error_sum)/float(actual_sum)"
   ]
  },
  {
   "cell_type": "markdown",
   "metadata": {},
   "source": [
    "## XGBoost "
   ]
  },
  {
   "cell_type": "code",
   "execution_count": 16,
   "metadata": {
    "collapsed": true
   },
   "outputs": [],
   "source": [
    "import xgboost as xgb"
   ]
  },
  {
   "cell_type": "code",
   "execution_count": 17,
   "metadata": {
    "collapsed": false
   },
   "outputs": [
    {
     "data": {
      "text/html": [
       "<div>\n",
       "<table border=\"1\" class=\"dataframe\">\n",
       "  <thead>\n",
       "    <tr style=\"text-align: right;\">\n",
       "      <th></th>\n",
       "      <th>Temp</th>\n",
       "      <th>Month</th>\n",
       "      <th>Weekday</th>\n",
       "      <th>Hour</th>\n",
       "      <th>Temp1</th>\n",
       "      <th>Temp2</th>\n",
       "      <th>Temp3</th>\n",
       "    </tr>\n",
       "  </thead>\n",
       "  <tbody>\n",
       "    <tr>\n",
       "      <th>2012-01-01 03:00:00-07:00</th>\n",
       "      <td>20.666667</td>\n",
       "      <td>1</td>\n",
       "      <td>7</td>\n",
       "      <td>3</td>\n",
       "      <td>20.000000</td>\n",
       "      <td>20.333333</td>\n",
       "      <td>20.666667</td>\n",
       "    </tr>\n",
       "    <tr>\n",
       "      <th>2012-01-01 04:00:00-07:00</th>\n",
       "      <td>19.000000</td>\n",
       "      <td>1</td>\n",
       "      <td>7</td>\n",
       "      <td>4</td>\n",
       "      <td>20.666667</td>\n",
       "      <td>20.000000</td>\n",
       "      <td>20.333333</td>\n",
       "    </tr>\n",
       "    <tr>\n",
       "      <th>2012-01-01 05:00:00-07:00</th>\n",
       "      <td>19.000000</td>\n",
       "      <td>1</td>\n",
       "      <td>7</td>\n",
       "      <td>5</td>\n",
       "      <td>19.000000</td>\n",
       "      <td>20.666667</td>\n",
       "      <td>20.000000</td>\n",
       "    </tr>\n",
       "    <tr>\n",
       "      <th>2012-01-01 06:00:00-07:00</th>\n",
       "      <td>19.000000</td>\n",
       "      <td>1</td>\n",
       "      <td>7</td>\n",
       "      <td>6</td>\n",
       "      <td>19.000000</td>\n",
       "      <td>19.000000</td>\n",
       "      <td>20.666667</td>\n",
       "    </tr>\n",
       "    <tr>\n",
       "      <th>2012-01-01 07:00:00-07:00</th>\n",
       "      <td>18.000000</td>\n",
       "      <td>1</td>\n",
       "      <td>7</td>\n",
       "      <td>7</td>\n",
       "      <td>19.000000</td>\n",
       "      <td>19.000000</td>\n",
       "      <td>19.000000</td>\n",
       "    </tr>\n",
       "  </tbody>\n",
       "</table>\n",
       "</div>"
      ],
      "text/plain": [
       "                                Temp  Month  Weekday  Hour      Temp1  \\\n",
       "2012-01-01 03:00:00-07:00  20.666667      1        7     3  20.000000   \n",
       "2012-01-01 04:00:00-07:00  19.000000      1        7     4  20.666667   \n",
       "2012-01-01 05:00:00-07:00  19.000000      1        7     5  19.000000   \n",
       "2012-01-01 06:00:00-07:00  19.000000      1        7     6  19.000000   \n",
       "2012-01-01 07:00:00-07:00  18.000000      1        7     7  19.000000   \n",
       "\n",
       "                               Temp2      Temp3  \n",
       "2012-01-01 03:00:00-07:00  20.333333  20.666667  \n",
       "2012-01-01 04:00:00-07:00  20.000000  20.333333  \n",
       "2012-01-01 05:00:00-07:00  20.666667  20.000000  \n",
       "2012-01-01 06:00:00-07:00  19.000000  20.666667  \n",
       "2012-01-01 07:00:00-07:00  19.000000  19.000000  "
      ]
     },
     "execution_count": 17,
     "metadata": {},
     "output_type": "execute_result"
    }
   ],
   "source": [
    "target = total[[\"Value\"]]\n",
    "feature = total.copy().drop(\"Value\",axis=1)\n",
    "Y = target.values.reshape(1,-1)[0]\n",
    "X = feature.values\n",
    "feature.head()"
   ]
  },
  {
   "cell_type": "code",
   "execution_count": 18,
   "metadata": {
    "collapsed": false
   },
   "outputs": [],
   "source": [
    "# config\n",
    "\n",
    "n_estimators = 1000\n",
    "\n",
    "# encounter overfitting directly\n",
    "max_depth = 5\n",
    "min_child_weight = 0.6\n",
    "gamma =2\n",
    "\n",
    "# encounter overfitting by add randomness\n",
    "subsample = 0.3\n",
    "seed = 3\n"
   ]
  },
  {
   "cell_type": "code",
   "execution_count": 19,
   "metadata": {
    "collapsed": false
   },
   "outputs": [
    {
     "name": "stdout",
     "output_type": "stream",
     "text": [
      "Mape Error =  0.0428014809218\n"
     ]
    },
    {
     "data": {
      "text/plain": [
       "(11664.354124217271, 272522.20888181822)"
      ]
     },
     "execution_count": 19,
     "metadata": {},
     "output_type": "execute_result"
    }
   ],
   "source": [
    "# insample error\n",
    "xgb_model = xgb.XGBRegressor(\n",
    "    n_estimators = n_estimators,\n",
    "    max_depth=max_depth,\n",
    "    min_child_weight = min_child_weight,\n",
    "    gamma=gamma).fit(X,Y)\n",
    "pred = xgb_model.predict(X)\n",
    "cal_error_for_list(pred,Y)"
   ]
  },
  {
   "cell_type": "code",
   "execution_count": 20,
   "metadata": {
    "collapsed": false
   },
   "outputs": [
    {
     "name": "stdout",
     "output_type": "stream",
     "text": [
      "Mape Error =  0.0656704654939\n",
      "Mape Error =  0.0625974930604\n",
      "Mape Error =  0.0600487899936\n",
      "Mape Error =  0.0626963399666\n",
      "Mape Error =  0.0616486078484\n",
      "Mape Error =  0.0636688584054\n",
      "Mape Error =  0.0658171422327\n",
      "Mape Error =  0.0649343954459\n",
      "Mape Error =  0.0665624503311\n",
      "Mape Error =  0.0625891742535\n",
      "Mape Error =  0.0695967593038\n",
      "Mape Error =  0.0627668279621\n",
      "Mape Error =  0.0640162909959\n",
      "Mape Error =  0.0664627171903\n",
      "Mape Error =  0.0641266409022\n",
      "Mape Error =  0.064460331614\n",
      "Mape Error =  0.0679552217653\n",
      "Mape Error =  0.0614682337631\n",
      "Mape Error =  0.0602538838426\n",
      "Mape Error =  0.0553693212928\n",
      "Total Mape Error =  0.0636387967911\n"
     ]
    }
   ],
   "source": [
    "# cal outsample error using random sample\n",
    "from sklearn.ensemble import RandomForestRegressor\n",
    "from sklearn import cross_validation\n",
    "ss = cross_validation.ShuffleSplit(len(X), 20, 0.05, random_state=0)\n",
    "error_list = []\n",
    "actual_list = []\n",
    "\n",
    "for train,test in ss:\n",
    "    xgb_model = xgb.XGBRegressor(\n",
    "        n_estimators = n_estimators,\n",
    "        max_depth=max_depth,\n",
    "        min_child_weight = min_child_weight\n",
    "        ,gamma=gamma).fit(X[train], Y[train])\n",
    "    pred = xgb_model.predict(X[test])\n",
    "    error,actual = cal_error_for_list(pred, Y[test])\n",
    "    error_list.append(error)\n",
    "    actual_list.append(actual)\n",
    "error_sum = np.array(error_list).sum()\n",
    "actual_sum = np.array(actual_list).sum()\n",
    "print \"Total Mape Error = \",float(error_sum)/float(actual_sum)"
   ]
  },
  {
   "cell_type": "code",
   "execution_count": null,
   "metadata": {
    "collapsed": true
   },
   "outputs": [],
   "source": []
  }
 ],
 "metadata": {
  "kernelspec": {
   "display_name": "Python 2",
   "language": "python",
   "name": "python2"
  },
  "language_info": {
   "codemirror_mode": {
    "name": "ipython",
    "version": 2
   },
   "file_extension": ".py",
   "mimetype": "text/x-python",
   "name": "python",
   "nbconvert_exporter": "python",
   "pygments_lexer": "ipython2",
   "version": "2.7.10"
  },
  "widgets": {
   "state": {},
   "version": "1.1.1"
  }
 },
 "nbformat": 4,
 "nbformat_minor": 0
}
