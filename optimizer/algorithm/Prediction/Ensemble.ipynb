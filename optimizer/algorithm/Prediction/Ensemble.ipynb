{
 "cells": [
  {
   "cell_type": "markdown",
   "metadata": {},
   "source": [
    "# Prediction Using Ensamble Tree"
   ]
  },
  {
   "cell_type": "markdown",
   "metadata": {},
   "source": [
    "Part 1 --Data Preperation\n",
    "1. basic (Temp, Month, Weekday, Hour)\n",
    "2. with previous temp (Temp, previous 3 hours temp, Month, Weekday, Hour)\n",
    "3. with previous load (Temp, previous 3 hours load, Month, Weekday, Hour)"
   ]
  },
  {
   "cell_type": "markdown",
   "metadata": {},
   "source": [
    "Part 2 --ANN\n",
    "1. Use \"basic\" data in Part 1 as input ,and generate one hot code for feature \"Month\", \"Weekday\", \"Hour\"\n",
    "2. Use \"basic\" data in Part 1 as input"
   ]
  },
  {
   "cell_type": "markdown",
   "metadata": {},
   "source": [
    "Part 3--Random Forest\n",
    "1. Use \"basic\" data in Part 1 as input\n",
    "2. Use \"with previous temp\" data in Part 1 as input\n",
    "3. Use \"with previous load\" data in Part 1 as input"
   ]
  },
  {
   "cell_type": "markdown",
   "metadata": {},
   "source": [
    "Part 4--XGBoost\n",
    "1. Use \"basic\" data in Part 1 as input\n",
    "2. Use \"with previous load\" data in Part 1 as input"
   ]
  },
  {
   "cell_type": "markdown",
   "metadata": {},
   "source": [
    "Note: Part 2-Part 4 and all the methods inside are independly. For each method, all the input features has been resampled to 24 points a day (hourly) and the output is the load at this hour. Always run Data Preperation cells first and then run method cells."
   ]
  },
  {
   "cell_type": "markdown",
   "metadata": {},
   "source": [
    "## Data Preperation"
   ]
  },
  {
   "cell_type": "code",
   "execution_count": 1,
   "metadata": {
    "collapsed": true
   },
   "outputs": [],
   "source": [
    "%matplotlib inline\n",
    "import pandas as pd\n",
    "import numpy as np\n",
    "import csv\n",
    "import os\n",
    "import csv\n",
    "import numpy as np\n",
    "import matplotlib.pyplot as plt\n",
    "import time\n",
    "from datetime import datetime\n",
    "import pytz\n",
    "import math"
   ]
  },
  {
   "cell_type": "code",
   "execution_count": 2,
   "metadata": {
    "collapsed": true
   },
   "outputs": [],
   "source": [
    "################\n",
    "#READ LOAD DATA#\n",
    "################\n",
    "# set timezone\n",
    "local_tz = pytz.timezone('America/Denver')\n",
    "\n",
    "# read energy load from csv file\n",
    "energy_load_read = pd.DataFrame.from_csv('/Users/leikang/Equota/algorithm/6.csv')['value']\n",
    "\n",
    "# convert energy load's index from timestamp to datetime format\n",
    "energy_index = [datetime.fromtimestamp(x,tz=local_tz) for x in energy_load_read.index]\n",
    "\n",
    "# reset the load's index\n",
    "energy_load_raw = pd.DataFrame({'Value':list(energy_load_read)},index=energy_index)\n",
    "\n",
    "# resample to hourly load\n",
    "energy_load = energy_load_raw.resample(\"H\").mean().fillna(method='ffill')"
   ]
  },
  {
   "cell_type": "code",
   "execution_count": 3,
   "metadata": {
    "collapsed": false
   },
   "outputs": [],
   "source": [
    "################\n",
    "#READ TEMP DATA#\n",
    "################\n",
    "# import hourly temp\n",
    "temp = pd.DataFrame.from_csv('/Users/leikang/Equota/algorithm/temp_hourly.csv')\n",
    "temp = temp[['WetBulbFarenheit','Date','Time']]\n",
    "\n",
    "# store temp in data, datetime in index\n",
    "data = [value for value in temp['WetBulbFarenheit']]\n",
    "index = []\n",
    "\n",
    "for j in temp.iterrows():\n",
    "\n",
    "    c = datetime(int(str(j[1].Date)[0:4]),int(str(j[1].Date)[4:6]),int(str(j[1].Date)[6:8]),int(math.floor(j[1].Time/100)),int(j[1].Time-(math.floor(j[1].Time/100)*100)))\n",
    "    index.append(c.replace(tzinfo=local_tz))\n",
    "\n",
    "ts_temp = pd.DataFrame({'Temp':data},index = index)\n",
    "def filter_num(x):\n",
    "    try:\n",
    "        return np.float(x)\n",
    "    except:\n",
    "        return np.nan\n",
    "ts_temp['Temp'] = ts_temp['Temp'].apply(filter_num)\n",
    "hourly_temp = ts_temp.copy().resample(\"H\").mean().fillna(method='ffill')"
   ]
  },
  {
   "cell_type": "code",
   "execution_count": 4,
   "metadata": {
    "collapsed": false
   },
   "outputs": [],
   "source": [
    "total = pd.concat([hourly_temp,energy_load],axis=1).dropna()"
   ]
  },
  {
   "cell_type": "code",
   "execution_count": 5,
   "metadata": {
    "collapsed": true
   },
   "outputs": [],
   "source": [
    "total[\"Month\"] = total.index.map(lambda x: x.month)\n",
    "total[\"Weekday\"] = total.index.map(lambda x: x.isoweekday())\n",
    "total[\"Hour\"] = total.index.map(lambda x: x.hour)\n"
   ]
  },
  {
   "cell_type": "code",
   "execution_count": 6,
   "metadata": {
    "collapsed": false
   },
   "outputs": [
    {
     "data": {
      "text/html": [
       "<div>\n",
       "<table border=\"1\" class=\"dataframe\">\n",
       "  <thead>\n",
       "    <tr style=\"text-align: right;\">\n",
       "      <th></th>\n",
       "      <th>Temp</th>\n",
       "      <th>Value</th>\n",
       "      <th>Month</th>\n",
       "      <th>Weekday</th>\n",
       "      <th>Hour</th>\n",
       "    </tr>\n",
       "  </thead>\n",
       "  <tbody>\n",
       "    <tr>\n",
       "      <th>2012-01-01 00:00:00-07:00</th>\n",
       "      <td>20.666667</td>\n",
       "      <td>34.094725</td>\n",
       "      <td>1</td>\n",
       "      <td>7</td>\n",
       "      <td>0</td>\n",
       "    </tr>\n",
       "    <tr>\n",
       "      <th>2012-01-01 01:00:00-07:00</th>\n",
       "      <td>20.333333</td>\n",
       "      <td>34.168583</td>\n",
       "      <td>1</td>\n",
       "      <td>7</td>\n",
       "      <td>1</td>\n",
       "    </tr>\n",
       "    <tr>\n",
       "      <th>2012-01-01 02:00:00-07:00</th>\n",
       "      <td>20.000000</td>\n",
       "      <td>34.844692</td>\n",
       "      <td>1</td>\n",
       "      <td>7</td>\n",
       "      <td>2</td>\n",
       "    </tr>\n",
       "    <tr>\n",
       "      <th>2012-01-01 03:00:00-07:00</th>\n",
       "      <td>20.666667</td>\n",
       "      <td>35.956950</td>\n",
       "      <td>1</td>\n",
       "      <td>7</td>\n",
       "      <td>3</td>\n",
       "    </tr>\n",
       "    <tr>\n",
       "      <th>2012-01-01 04:00:00-07:00</th>\n",
       "      <td>19.000000</td>\n",
       "      <td>35.518508</td>\n",
       "      <td>1</td>\n",
       "      <td>7</td>\n",
       "      <td>4</td>\n",
       "    </tr>\n",
       "  </tbody>\n",
       "</table>\n",
       "</div>"
      ],
      "text/plain": [
       "                                Temp      Value  Month  Weekday  Hour\n",
       "2012-01-01 00:00:00-07:00  20.666667  34.094725      1        7     0\n",
       "2012-01-01 01:00:00-07:00  20.333333  34.168583      1        7     1\n",
       "2012-01-01 02:00:00-07:00  20.000000  34.844692      1        7     2\n",
       "2012-01-01 03:00:00-07:00  20.666667  35.956950      1        7     3\n",
       "2012-01-01 04:00:00-07:00  19.000000  35.518508      1        7     4"
      ]
     },
     "execution_count": 6,
     "metadata": {},
     "output_type": "execute_result"
    }
   ],
   "source": [
    "total.head()"
   ]
  },
  {
   "cell_type": "markdown",
   "metadata": {},
   "source": [
    "## Data Preperation--with previous temp\n",
    "Don't run this part if you don't want to add previous temperature"
   ]
  },
  {
   "cell_type": "code",
   "execution_count": 194,
   "metadata": {
    "collapsed": true
   },
   "outputs": [],
   "source": [
    "move = list(total[\"Temp\"])[:-1]\n",
    "move.insert(0,np.nan)\n",
    "total[\"Temp1\"]= move\n",
    "\n",
    "move = list(total[\"Temp\"])[:-2]\n",
    "move.insert(0,np.nan)\n",
    "move.insert(0,np.nan)\n",
    "total[\"Temp2\"]= move\n",
    "\n",
    "move = list(total[\"Temp\"])[:-3]\n",
    "move.insert(0,np.nan)\n",
    "move.insert(0,np.nan)\n",
    "move.insert(0,np.nan)\n",
    "total[\"Temp3\"]= move"
   ]
  },
  {
   "cell_type": "code",
   "execution_count": 195,
   "metadata": {
    "collapsed": false
   },
   "outputs": [
    {
     "data": {
      "text/html": [
       "<div>\n",
       "<table border=\"1\" class=\"dataframe\">\n",
       "  <thead>\n",
       "    <tr style=\"text-align: right;\">\n",
       "      <th></th>\n",
       "      <th>Temp</th>\n",
       "      <th>Value</th>\n",
       "      <th>Month</th>\n",
       "      <th>Weekday</th>\n",
       "      <th>Hour</th>\n",
       "      <th>Temp1</th>\n",
       "      <th>Temp2</th>\n",
       "      <th>Temp3</th>\n",
       "    </tr>\n",
       "  </thead>\n",
       "  <tbody>\n",
       "    <tr>\n",
       "      <th>2012-01-01 00:00:00-07:00</th>\n",
       "      <td>20.666667</td>\n",
       "      <td>34.094725</td>\n",
       "      <td>1</td>\n",
       "      <td>7</td>\n",
       "      <td>0</td>\n",
       "      <td>NaN</td>\n",
       "      <td>NaN</td>\n",
       "      <td>NaN</td>\n",
       "    </tr>\n",
       "    <tr>\n",
       "      <th>2012-01-01 01:00:00-07:00</th>\n",
       "      <td>20.333333</td>\n",
       "      <td>34.168583</td>\n",
       "      <td>1</td>\n",
       "      <td>7</td>\n",
       "      <td>1</td>\n",
       "      <td>20.666667</td>\n",
       "      <td>NaN</td>\n",
       "      <td>NaN</td>\n",
       "    </tr>\n",
       "    <tr>\n",
       "      <th>2012-01-01 02:00:00-07:00</th>\n",
       "      <td>20.000000</td>\n",
       "      <td>34.844692</td>\n",
       "      <td>1</td>\n",
       "      <td>7</td>\n",
       "      <td>2</td>\n",
       "      <td>20.333333</td>\n",
       "      <td>20.666667</td>\n",
       "      <td>NaN</td>\n",
       "    </tr>\n",
       "    <tr>\n",
       "      <th>2012-01-01 03:00:00-07:00</th>\n",
       "      <td>20.666667</td>\n",
       "      <td>35.956950</td>\n",
       "      <td>1</td>\n",
       "      <td>7</td>\n",
       "      <td>3</td>\n",
       "      <td>20.000000</td>\n",
       "      <td>20.333333</td>\n",
       "      <td>20.666667</td>\n",
       "    </tr>\n",
       "    <tr>\n",
       "      <th>2012-01-01 04:00:00-07:00</th>\n",
       "      <td>19.000000</td>\n",
       "      <td>35.518508</td>\n",
       "      <td>1</td>\n",
       "      <td>7</td>\n",
       "      <td>4</td>\n",
       "      <td>20.666667</td>\n",
       "      <td>20.000000</td>\n",
       "      <td>20.333333</td>\n",
       "    </tr>\n",
       "  </tbody>\n",
       "</table>\n",
       "</div>"
      ],
      "text/plain": [
       "                                Temp      Value  Month  Weekday  Hour  \\\n",
       "2012-01-01 00:00:00-07:00  20.666667  34.094725      1        7     0   \n",
       "2012-01-01 01:00:00-07:00  20.333333  34.168583      1        7     1   \n",
       "2012-01-01 02:00:00-07:00  20.000000  34.844692      1        7     2   \n",
       "2012-01-01 03:00:00-07:00  20.666667  35.956950      1        7     3   \n",
       "2012-01-01 04:00:00-07:00  19.000000  35.518508      1        7     4   \n",
       "\n",
       "                               Temp1      Temp2      Temp3  \n",
       "2012-01-01 00:00:00-07:00        NaN        NaN        NaN  \n",
       "2012-01-01 01:00:00-07:00  20.666667        NaN        NaN  \n",
       "2012-01-01 02:00:00-07:00  20.333333  20.666667        NaN  \n",
       "2012-01-01 03:00:00-07:00  20.000000  20.333333  20.666667  \n",
       "2012-01-01 04:00:00-07:00  20.666667  20.000000  20.333333  "
      ]
     },
     "execution_count": 195,
     "metadata": {},
     "output_type": "execute_result"
    }
   ],
   "source": [
    "total.head()"
   ]
  },
  {
   "cell_type": "code",
   "execution_count": 197,
   "metadata": {
    "collapsed": false
   },
   "outputs": [],
   "source": [
    "total = total.dropna()"
   ]
  },
  {
   "cell_type": "markdown",
   "metadata": {},
   "source": [
    "## Data Preperation--with previous value\n",
    "Don't run this part if you don't want to add previous value"
   ]
  },
  {
   "cell_type": "code",
   "execution_count": 219,
   "metadata": {
    "collapsed": false
   },
   "outputs": [],
   "source": [
    "move = list(total[\"Value\"])[:-1]\n",
    "move.insert(0,np.nan)\n",
    "total[\"Value1\"]= move\n",
    "\n",
    "move = list(total[\"Value\"])[:-2]\n",
    "move.insert(0,np.nan)\n",
    "move.insert(0,np.nan)\n",
    "total[\"Value2\"]= move\n",
    "\n",
    "move = list(total[\"Value\"])[:-3]\n",
    "move.insert(0,np.nan)\n",
    "move.insert(0,np.nan)\n",
    "move.insert(0,np.nan)\n",
    "total[\"Value3\"]= move"
   ]
  },
  {
   "cell_type": "code",
   "execution_count": 220,
   "metadata": {
    "collapsed": false
   },
   "outputs": [
    {
     "data": {
      "text/html": [
       "<div>\n",
       "<table border=\"1\" class=\"dataframe\">\n",
       "  <thead>\n",
       "    <tr style=\"text-align: right;\">\n",
       "      <th></th>\n",
       "      <th>Temp</th>\n",
       "      <th>Value</th>\n",
       "      <th>Month</th>\n",
       "      <th>Weekday</th>\n",
       "      <th>Hour</th>\n",
       "      <th>Value1</th>\n",
       "      <th>Value2</th>\n",
       "      <th>Value3</th>\n",
       "    </tr>\n",
       "  </thead>\n",
       "  <tbody>\n",
       "    <tr>\n",
       "      <th>2012-01-01 00:00:00-07:00</th>\n",
       "      <td>20.666667</td>\n",
       "      <td>34.094725</td>\n",
       "      <td>1</td>\n",
       "      <td>7</td>\n",
       "      <td>0</td>\n",
       "      <td>NaN</td>\n",
       "      <td>NaN</td>\n",
       "      <td>NaN</td>\n",
       "    </tr>\n",
       "    <tr>\n",
       "      <th>2012-01-01 01:00:00-07:00</th>\n",
       "      <td>20.333333</td>\n",
       "      <td>34.168583</td>\n",
       "      <td>1</td>\n",
       "      <td>7</td>\n",
       "      <td>1</td>\n",
       "      <td>34.094725</td>\n",
       "      <td>NaN</td>\n",
       "      <td>NaN</td>\n",
       "    </tr>\n",
       "    <tr>\n",
       "      <th>2012-01-01 02:00:00-07:00</th>\n",
       "      <td>20.000000</td>\n",
       "      <td>34.844692</td>\n",
       "      <td>1</td>\n",
       "      <td>7</td>\n",
       "      <td>2</td>\n",
       "      <td>34.168583</td>\n",
       "      <td>34.094725</td>\n",
       "      <td>NaN</td>\n",
       "    </tr>\n",
       "    <tr>\n",
       "      <th>2012-01-01 03:00:00-07:00</th>\n",
       "      <td>20.666667</td>\n",
       "      <td>35.956950</td>\n",
       "      <td>1</td>\n",
       "      <td>7</td>\n",
       "      <td>3</td>\n",
       "      <td>34.844692</td>\n",
       "      <td>34.168583</td>\n",
       "      <td>34.094725</td>\n",
       "    </tr>\n",
       "    <tr>\n",
       "      <th>2012-01-01 04:00:00-07:00</th>\n",
       "      <td>19.000000</td>\n",
       "      <td>35.518508</td>\n",
       "      <td>1</td>\n",
       "      <td>7</td>\n",
       "      <td>4</td>\n",
       "      <td>35.956950</td>\n",
       "      <td>34.844692</td>\n",
       "      <td>34.168583</td>\n",
       "    </tr>\n",
       "  </tbody>\n",
       "</table>\n",
       "</div>"
      ],
      "text/plain": [
       "                                Temp      Value  Month  Weekday  Hour  \\\n",
       "2012-01-01 00:00:00-07:00  20.666667  34.094725      1        7     0   \n",
       "2012-01-01 01:00:00-07:00  20.333333  34.168583      1        7     1   \n",
       "2012-01-01 02:00:00-07:00  20.000000  34.844692      1        7     2   \n",
       "2012-01-01 03:00:00-07:00  20.666667  35.956950      1        7     3   \n",
       "2012-01-01 04:00:00-07:00  19.000000  35.518508      1        7     4   \n",
       "\n",
       "                              Value1     Value2     Value3  \n",
       "2012-01-01 00:00:00-07:00        NaN        NaN        NaN  \n",
       "2012-01-01 01:00:00-07:00  34.094725        NaN        NaN  \n",
       "2012-01-01 02:00:00-07:00  34.168583  34.094725        NaN  \n",
       "2012-01-01 03:00:00-07:00  34.844692  34.168583  34.094725  \n",
       "2012-01-01 04:00:00-07:00  35.956950  34.844692  34.168583  "
      ]
     },
     "execution_count": 220,
     "metadata": {},
     "output_type": "execute_result"
    }
   ],
   "source": [
    "total.head()"
   ]
  },
  {
   "cell_type": "code",
   "execution_count": 221,
   "metadata": {
    "collapsed": false
   },
   "outputs": [],
   "source": [
    "total=total.dropna()"
   ]
  },
  {
   "cell_type": "markdown",
   "metadata": {},
   "source": [
    "## Function Preperation--calculate absolute error"
   ]
  },
  {
   "cell_type": "code",
   "execution_count": 7,
   "metadata": {
    "collapsed": false
   },
   "outputs": [],
   "source": [
    "def cal_error_for_list(pred,actual):\n",
    "    error_abs=[]\n",
    "    for i in range(len(pred)):\n",
    "        error_abs.append(abs(pred[i]-actual[i]))\n",
    "    actual_sum = np.array(actual).sum()\n",
    "    error_sum = np.array(error_abs).sum()\n",
    "    print \"Mape Error = \",float(error_sum)/float(actual_sum)\n",
    "    return error_sum,actual_sum"
   ]
  },
  {
   "cell_type": "markdown",
   "metadata": {},
   "source": [
    "## ANN with one hot code (44 input)"
   ]
  },
  {
   "cell_type": "code",
   "execution_count": 8,
   "metadata": {
    "collapsed": false
   },
   "outputs": [
    {
     "data": {
      "text/html": [
       "<div>\n",
       "<table border=\"1\" class=\"dataframe\">\n",
       "  <thead>\n",
       "    <tr style=\"text-align: right;\">\n",
       "      <th></th>\n",
       "      <th>Temp</th>\n",
       "      <th>Month</th>\n",
       "      <th>Weekday</th>\n",
       "      <th>Hour</th>\n",
       "    </tr>\n",
       "  </thead>\n",
       "  <tbody>\n",
       "    <tr>\n",
       "      <th>2012-01-01 00:00:00-07:00</th>\n",
       "      <td>20.666667</td>\n",
       "      <td>1</td>\n",
       "      <td>7</td>\n",
       "      <td>0</td>\n",
       "    </tr>\n",
       "    <tr>\n",
       "      <th>2012-01-01 01:00:00-07:00</th>\n",
       "      <td>20.333333</td>\n",
       "      <td>1</td>\n",
       "      <td>7</td>\n",
       "      <td>1</td>\n",
       "    </tr>\n",
       "    <tr>\n",
       "      <th>2012-01-01 02:00:00-07:00</th>\n",
       "      <td>20.000000</td>\n",
       "      <td>1</td>\n",
       "      <td>7</td>\n",
       "      <td>2</td>\n",
       "    </tr>\n",
       "    <tr>\n",
       "      <th>2012-01-01 03:00:00-07:00</th>\n",
       "      <td>20.666667</td>\n",
       "      <td>1</td>\n",
       "      <td>7</td>\n",
       "      <td>3</td>\n",
       "    </tr>\n",
       "    <tr>\n",
       "      <th>2012-01-01 04:00:00-07:00</th>\n",
       "      <td>19.000000</td>\n",
       "      <td>1</td>\n",
       "      <td>7</td>\n",
       "      <td>4</td>\n",
       "    </tr>\n",
       "  </tbody>\n",
       "</table>\n",
       "</div>"
      ],
      "text/plain": [
       "                                Temp  Month  Weekday  Hour\n",
       "2012-01-01 00:00:00-07:00  20.666667      1        7     0\n",
       "2012-01-01 01:00:00-07:00  20.333333      1        7     1\n",
       "2012-01-01 02:00:00-07:00  20.000000      1        7     2\n",
       "2012-01-01 03:00:00-07:00  20.666667      1        7     3\n",
       "2012-01-01 04:00:00-07:00  19.000000      1        7     4"
      ]
     },
     "execution_count": 8,
     "metadata": {},
     "output_type": "execute_result"
    }
   ],
   "source": [
    "# seperate data to 2 parts: feature/target and show the feature we are going to use\n",
    "target = total[[\"Value\"]]\n",
    "feature = total.copy().drop(\"Value\",axis=1)\n",
    "feature.head()"
   ]
  },
  {
   "cell_type": "code",
   "execution_count": 9,
   "metadata": {
    "collapsed": true
   },
   "outputs": [],
   "source": [
    "# prepare feature table with one hot code\n",
    "f_one = feature.copy()\n",
    "\n",
    "weekday_one_hot = pd.get_dummies(f_one['Weekday'])\n",
    "weekday_one_hot = weekday_one_hot.set_index(f_one.index)\n",
    "\n",
    "month_one_hot = pd.get_dummies(f_one['Month'])\n",
    "month_one_hot = month_one_hot.set_index(f_one.index)\n",
    "\n",
    "hour_one_hot = pd.get_dummies(f_one['Hour'])\n",
    "hour_one_hot = hour_one_hot.set_index(f_one.index)\n",
    "\n",
    "f_weekday = [feature,weekday_one_hot,month_one_hot,hour_one_hot]\n",
    "\n",
    "table_join = pd.concat(f_weekday, axis=1)\n",
    "table = table_join.drop(['Weekday','Month','Hour'],axis=1)"
   ]
  },
  {
   "cell_type": "code",
   "execution_count": 10,
   "metadata": {
    "collapsed": false
   },
   "outputs": [
    {
     "data": {
      "text/html": [
       "<div>\n",
       "<table border=\"1\" class=\"dataframe\">\n",
       "  <thead>\n",
       "    <tr style=\"text-align: right;\">\n",
       "      <th></th>\n",
       "      <th>Temp</th>\n",
       "      <th>1</th>\n",
       "      <th>2</th>\n",
       "      <th>3</th>\n",
       "      <th>4</th>\n",
       "      <th>5</th>\n",
       "      <th>6</th>\n",
       "      <th>7</th>\n",
       "      <th>1</th>\n",
       "      <th>2</th>\n",
       "      <th>...</th>\n",
       "      <th>14</th>\n",
       "      <th>15</th>\n",
       "      <th>16</th>\n",
       "      <th>17</th>\n",
       "      <th>18</th>\n",
       "      <th>19</th>\n",
       "      <th>20</th>\n",
       "      <th>21</th>\n",
       "      <th>22</th>\n",
       "      <th>23</th>\n",
       "    </tr>\n",
       "  </thead>\n",
       "  <tbody>\n",
       "    <tr>\n",
       "      <th>2012-01-01 00:00:00-07:00</th>\n",
       "      <td>-0.318265</td>\n",
       "      <td>-0.144224</td>\n",
       "      <td>-0.142174</td>\n",
       "      <td>-0.142174</td>\n",
       "      <td>-0.142174</td>\n",
       "      <td>-0.142174</td>\n",
       "      <td>-0.142174</td>\n",
       "      <td>0.855092</td>\n",
       "      <td>0.915243</td>\n",
       "      <td>-0.079289</td>\n",
       "      <td>...</td>\n",
       "      <td>-0.041695</td>\n",
       "      <td>-0.041695</td>\n",
       "      <td>-0.041695</td>\n",
       "      <td>-0.041695</td>\n",
       "      <td>-0.041581</td>\n",
       "      <td>-0.041581</td>\n",
       "      <td>-0.041581</td>\n",
       "      <td>-0.041581</td>\n",
       "      <td>-0.041581</td>\n",
       "      <td>-0.041581</td>\n",
       "    </tr>\n",
       "    <tr>\n",
       "      <th>2012-01-01 01:00:00-07:00</th>\n",
       "      <td>-0.323473</td>\n",
       "      <td>-0.144224</td>\n",
       "      <td>-0.142174</td>\n",
       "      <td>-0.142174</td>\n",
       "      <td>-0.142174</td>\n",
       "      <td>-0.142174</td>\n",
       "      <td>-0.142174</td>\n",
       "      <td>0.855092</td>\n",
       "      <td>0.915243</td>\n",
       "      <td>-0.079289</td>\n",
       "      <td>...</td>\n",
       "      <td>-0.041695</td>\n",
       "      <td>-0.041695</td>\n",
       "      <td>-0.041695</td>\n",
       "      <td>-0.041695</td>\n",
       "      <td>-0.041581</td>\n",
       "      <td>-0.041581</td>\n",
       "      <td>-0.041581</td>\n",
       "      <td>-0.041581</td>\n",
       "      <td>-0.041581</td>\n",
       "      <td>-0.041581</td>\n",
       "    </tr>\n",
       "    <tr>\n",
       "      <th>2012-01-01 02:00:00-07:00</th>\n",
       "      <td>-0.328681</td>\n",
       "      <td>-0.144224</td>\n",
       "      <td>-0.142174</td>\n",
       "      <td>-0.142174</td>\n",
       "      <td>-0.142174</td>\n",
       "      <td>-0.142174</td>\n",
       "      <td>-0.142174</td>\n",
       "      <td>0.855092</td>\n",
       "      <td>0.915243</td>\n",
       "      <td>-0.079289</td>\n",
       "      <td>...</td>\n",
       "      <td>-0.041695</td>\n",
       "      <td>-0.041695</td>\n",
       "      <td>-0.041695</td>\n",
       "      <td>-0.041695</td>\n",
       "      <td>-0.041581</td>\n",
       "      <td>-0.041581</td>\n",
       "      <td>-0.041581</td>\n",
       "      <td>-0.041581</td>\n",
       "      <td>-0.041581</td>\n",
       "      <td>-0.041581</td>\n",
       "    </tr>\n",
       "    <tr>\n",
       "      <th>2012-01-01 03:00:00-07:00</th>\n",
       "      <td>-0.318265</td>\n",
       "      <td>-0.144224</td>\n",
       "      <td>-0.142174</td>\n",
       "      <td>-0.142174</td>\n",
       "      <td>-0.142174</td>\n",
       "      <td>-0.142174</td>\n",
       "      <td>-0.142174</td>\n",
       "      <td>0.855092</td>\n",
       "      <td>0.915243</td>\n",
       "      <td>-0.079289</td>\n",
       "      <td>...</td>\n",
       "      <td>-0.041695</td>\n",
       "      <td>-0.041695</td>\n",
       "      <td>-0.041695</td>\n",
       "      <td>-0.041695</td>\n",
       "      <td>-0.041581</td>\n",
       "      <td>-0.041581</td>\n",
       "      <td>-0.041581</td>\n",
       "      <td>-0.041581</td>\n",
       "      <td>-0.041581</td>\n",
       "      <td>-0.041581</td>\n",
       "    </tr>\n",
       "    <tr>\n",
       "      <th>2012-01-01 04:00:00-07:00</th>\n",
       "      <td>-0.344306</td>\n",
       "      <td>-0.144224</td>\n",
       "      <td>-0.142174</td>\n",
       "      <td>-0.142174</td>\n",
       "      <td>-0.142174</td>\n",
       "      <td>-0.142174</td>\n",
       "      <td>-0.142174</td>\n",
       "      <td>0.855092</td>\n",
       "      <td>0.915243</td>\n",
       "      <td>-0.079289</td>\n",
       "      <td>...</td>\n",
       "      <td>-0.041695</td>\n",
       "      <td>-0.041695</td>\n",
       "      <td>-0.041695</td>\n",
       "      <td>-0.041695</td>\n",
       "      <td>-0.041581</td>\n",
       "      <td>-0.041581</td>\n",
       "      <td>-0.041581</td>\n",
       "      <td>-0.041581</td>\n",
       "      <td>-0.041581</td>\n",
       "      <td>-0.041581</td>\n",
       "    </tr>\n",
       "  </tbody>\n",
       "</table>\n",
       "<p>5 rows × 44 columns</p>\n",
       "</div>"
      ],
      "text/plain": [
       "                               Temp         1         2         3         4  \\\n",
       "2012-01-01 00:00:00-07:00 -0.318265 -0.144224 -0.142174 -0.142174 -0.142174   \n",
       "2012-01-01 01:00:00-07:00 -0.323473 -0.144224 -0.142174 -0.142174 -0.142174   \n",
       "2012-01-01 02:00:00-07:00 -0.328681 -0.144224 -0.142174 -0.142174 -0.142174   \n",
       "2012-01-01 03:00:00-07:00 -0.318265 -0.144224 -0.142174 -0.142174 -0.142174   \n",
       "2012-01-01 04:00:00-07:00 -0.344306 -0.144224 -0.142174 -0.142174 -0.142174   \n",
       "\n",
       "                                  5         6         7         1         2  \\\n",
       "2012-01-01 00:00:00-07:00 -0.142174 -0.142174  0.855092  0.915243 -0.079289   \n",
       "2012-01-01 01:00:00-07:00 -0.142174 -0.142174  0.855092  0.915243 -0.079289   \n",
       "2012-01-01 02:00:00-07:00 -0.142174 -0.142174  0.855092  0.915243 -0.079289   \n",
       "2012-01-01 03:00:00-07:00 -0.142174 -0.142174  0.855092  0.915243 -0.079289   \n",
       "2012-01-01 04:00:00-07:00 -0.142174 -0.142174  0.855092  0.915243 -0.079289   \n",
       "\n",
       "                             ...           14        15        16        17  \\\n",
       "2012-01-01 00:00:00-07:00    ...    -0.041695 -0.041695 -0.041695 -0.041695   \n",
       "2012-01-01 01:00:00-07:00    ...    -0.041695 -0.041695 -0.041695 -0.041695   \n",
       "2012-01-01 02:00:00-07:00    ...    -0.041695 -0.041695 -0.041695 -0.041695   \n",
       "2012-01-01 03:00:00-07:00    ...    -0.041695 -0.041695 -0.041695 -0.041695   \n",
       "2012-01-01 04:00:00-07:00    ...    -0.041695 -0.041695 -0.041695 -0.041695   \n",
       "\n",
       "                                 18        19        20        21        22  \\\n",
       "2012-01-01 00:00:00-07:00 -0.041581 -0.041581 -0.041581 -0.041581 -0.041581   \n",
       "2012-01-01 01:00:00-07:00 -0.041581 -0.041581 -0.041581 -0.041581 -0.041581   \n",
       "2012-01-01 02:00:00-07:00 -0.041581 -0.041581 -0.041581 -0.041581 -0.041581   \n",
       "2012-01-01 03:00:00-07:00 -0.041581 -0.041581 -0.041581 -0.041581 -0.041581   \n",
       "2012-01-01 04:00:00-07:00 -0.041581 -0.041581 -0.041581 -0.041581 -0.041581   \n",
       "\n",
       "                                 23  \n",
       "2012-01-01 00:00:00-07:00 -0.041581  \n",
       "2012-01-01 01:00:00-07:00 -0.041581  \n",
       "2012-01-01 02:00:00-07:00 -0.041581  \n",
       "2012-01-01 03:00:00-07:00 -0.041581  \n",
       "2012-01-01 04:00:00-07:00 -0.041581  \n",
       "\n",
       "[5 rows x 44 columns]"
      ]
     },
     "execution_count": 10,
     "metadata": {},
     "output_type": "execute_result"
    }
   ],
   "source": [
    "f_norm = (table-table.mean())/(table.max()-table.min())\n",
    "f_norm.head()"
   ]
  },
  {
   "cell_type": "code",
   "execution_count": 11,
   "metadata": {
    "collapsed": true
   },
   "outputs": [],
   "source": [
    "Y = target.values.reshape(1,-1)[0]\n",
    "X = f_norm.values"
   ]
  },
  {
   "cell_type": "code",
   "execution_count": 13,
   "metadata": {
    "collapsed": false
   },
   "outputs": [
    {
     "name": "stdout",
     "output_type": "stream",
     "text": [
      "Total error: 11.8149982793\n",
      "Total error: 6.97572933577\n",
      "Total error: 6.24057038293\n",
      "Total error: 5.84331510835\n",
      "Total error: 5.62686835303\n",
      "Total error: 5.46166081791\n",
      "Total error: 5.31579886511\n",
      "Total error: 5.23893792867\n",
      "Total error: 5.1224465245\n",
      "Total error: 4.98817268895\n",
      "Total error: 4.96041327976\n",
      "Total error: 4.94877840454\n",
      "Total error: 4.80123717498\n",
      "Total error: 4.73762666972\n",
      "Total error: 4.68940644807\n",
      "Total error: 4.66998696727\n",
      "Total error: 4.68267591982\n",
      "Total error: 4.61688146715\n",
      "Total error: 4.564925607\n",
      "Total error: 4.51114508724\n",
      "Total error: 4.48608834154\n",
      "Total error: 4.48896274725\n",
      "Total error: 4.45676928205\n",
      "Total error: 4.45664926636\n",
      "Total error: 4.41459788098\n",
      "Total error: 4.38717655816\n",
      "Total error: 4.39369447303\n",
      "Total error: 4.34239101221\n",
      "Total error: 4.33214510611\n",
      "Total error: 4.33618452793\n",
      "Total error: 4.33226169372\n",
      "Total error: 4.2699596109\n",
      "Total error: 4.24295617998\n",
      "Total error: 4.24178604304\n",
      "Total error: 4.26273376972\n",
      "Total error: 4.23259650381\n",
      "Total error: 4.2257898099\n",
      "Total error: 4.20079978356\n",
      "Total error: 4.19277284053\n",
      "Total error: 4.1768118627\n",
      "Total error: 4.14942670974\n",
      "Total error: 4.12771120269\n",
      "Total error: 4.14219904972\n",
      "Total error: 4.1415061757\n",
      "Total error: 4.08806298693\n",
      "Total error: 4.11676258446\n",
      "Total error: 4.12592603489\n",
      "Total error: 4.05588552356\n",
      "Total error: 4.05873204746\n",
      "Total error: 4.07999127946\n",
      "Total error: 4.04023318661\n",
      "Total error: 4.06261599187\n",
      "Total error: 4.06612883829\n",
      "Total error: 4.04066970091\n",
      "Total error: 4.0441122055\n",
      "Total error: 4.0240829648\n",
      "Total error: 4.03600394482\n",
      "Total error: 4.01375415857\n",
      "Total error: 4.04165173957\n",
      "Total error: 3.97226344259\n",
      "Total error: 4.00298456571\n",
      "Total error: 3.98287583684\n",
      "Total error: 3.97714822569\n",
      "Total error: 3.98485456595\n",
      "Total error: 3.9346290071\n",
      "Total error: 3.93542539298\n",
      "Total error: 3.96965495961\n",
      "Total error: 3.95983529987\n",
      "Total error: 3.904666729\n",
      "Total error: 3.95456949285\n",
      "Total error: 3.94445464233\n",
      "Total error: 3.93683469885\n",
      "Total error: 3.9054919745\n",
      "Total error: 3.92257842771\n",
      "Total error: 3.9327471119\n",
      "Total error: 3.8891513676\n",
      "Total error: 3.91391822807\n",
      "Total error: 3.88940172907\n",
      "Total error: 3.8907010546\n",
      "Total error: 3.86635072957\n",
      "Total error: 3.87397719516\n",
      "Total error: 3.88536360952\n",
      "Total error: 3.86376278631\n",
      "Total error: 3.85782094171\n",
      "Total error: 3.86243626925\n",
      "Total error: 3.84894486295\n",
      "Total error: 3.86065163176\n",
      "Total error: 3.83684323007\n",
      "Total error: 3.81325209382\n",
      "Total error: 3.82687194737\n",
      "Total error: 3.81978496087\n",
      "Total error: 3.80853914471\n",
      "Total error: 3.77099201283\n",
      "Total error: 3.82421923193\n",
      "Total error: 3.80097636017\n",
      "Total error: 3.81561196098\n",
      "Total error: 3.8162020167\n",
      "Total error: 3.80535714081\n",
      "Total error: 3.78548961295\n",
      "Total error: 3.78721871669\n",
      "Total error: 3.78932463012\n",
      "Total error: 3.78655931096\n",
      "Total error: 3.78520817698\n",
      "Total error: 3.77535546983\n",
      "Total error: 3.74668456197\n",
      "Total error: 3.77966961876\n",
      "Total error: 3.75116947756\n",
      "Total error: 3.74592347899\n",
      "Total error: 3.73361395304\n",
      "Total error: 3.74359464165\n",
      "Total error: 3.74159871603\n",
      "Total error: 3.76189930179\n",
      "Total error: 3.71876759903\n",
      "Total error: 3.74694570557\n",
      "Total error: 3.72445052883\n",
      "Total error: 3.69786485065\n",
      "Total error: 3.70516485815\n",
      "Total error: 3.70627632539\n",
      "Total error: 3.71099890829\n",
      "Total error: 3.72388324113\n",
      "Total error: 3.71176964153\n",
      "Total error: 3.69674282853\n",
      "Total error: 3.70595898815\n",
      "Total error: 3.69548202306\n",
      "Total error: 3.68195601816\n",
      "Total error: 3.70010275018\n",
      "Total error: 3.70133801378\n",
      "Total error: 3.68824807191\n",
      "Total error: 3.67672110278\n",
      "Total error: 3.67733183079\n",
      "Total error: 3.67145836125\n",
      "Total error: 3.69990257787\n",
      "Total error: 3.68240344994\n",
      "Total error: 3.67156259353\n",
      "Total error: 3.67684848012\n",
      "Total error: 3.68268766289\n",
      "Total error: 3.67257666615\n",
      "Total error: 3.65882397614\n",
      "Total error: 3.66853775967\n",
      "Total error: 3.64772815927\n",
      "Total error: 3.65362022417\n",
      "Total error: 3.63088630268\n",
      "Total error: 3.61482407887\n",
      "Total error: 3.65248789216\n",
      "Total error: 3.65813085541\n",
      "Total error: 3.6275093058\n",
      "Total error: 3.62661510495\n",
      "Total error: 3.64373934361\n",
      "Total error: 3.6236641536\n",
      "Total error: 3.62598465099\n",
      "Total error: 3.61862923815\n",
      "Total error: 3.61946190395\n",
      "Total error: 3.63662530885\n",
      "Total error: 3.62040452519\n",
      "Total error: 3.62208273878\n",
      "Total error: 3.60844494202\n",
      "Total error: 3.61090538824\n",
      "Total error: 3.61556775471\n",
      "Total error: 3.62894405924\n",
      "Total error: 3.64084348281\n",
      "Total error: 3.61128710602\n",
      "Total error: 3.62719747186\n",
      "Total error: 3.58881769627\n",
      "Total error: 3.57696825622\n",
      "Total error: 3.63306198432\n",
      "Total error: 3.6028594813\n",
      "Total error: 3.61130356764\n",
      "Total error: 3.58981314185\n",
      "Total error: 3.60059911664\n",
      "Total error: 3.60998550486\n",
      "Total error: 3.60869688287\n",
      "Total error: 3.60095921069\n",
      "Total error: 3.58603624056\n",
      "Total error: 3.60939041501\n",
      "Total error: 3.60881497439\n",
      "Total error: 3.57106102253\n",
      "Total error: 3.60048292582\n",
      "Total error: 3.59245407043\n",
      "Total error: 3.58000029407\n",
      "Total error: 3.5880862093\n",
      "Total error: 3.58271697672\n",
      "Total error: 3.57742320858\n",
      "Total error: 3.58981190209\n",
      "Total error: 3.57009321802\n",
      "Total error: 3.59469649508\n",
      "Total error: 3.58157730274\n",
      "Total error: 3.57364941696\n",
      "Total error: 3.57614537173\n",
      "Total error: 3.5895176897\n",
      "Total error: 3.56344348876\n",
      "Total error: 3.56543477727\n",
      "Total error: 3.55474758776\n",
      "Total error: 3.57366666843\n",
      "Total error: 3.54704627481\n",
      "Total error: 3.54116356356\n",
      "Total error: 3.57512790511\n",
      "Total error: 3.55656206548\n",
      "Total error: 3.54587884927\n",
      "Total error: 3.56048710046\n",
      "Total error: 3.54659569047\n"
     ]
    }
   ],
   "source": [
    "#######\n",
    "##ANN##\n",
    "#######\n",
    "from pybrain.tools.shortcuts import buildNetwork\n",
    "from pybrain.supervised.trainers import BackpropTrainer\n",
    "from pybrain.datasets import SupervisedDataSet,UnsupervisedDataSet\n",
    "from pybrain.structure import LinearLayer\n",
    "ds = SupervisedDataSet(X.shape[1], 1)\n",
    "for x,y in zip(X,Y):\n",
    "    ds.addSample(x,y)\n",
    "prediction_net = buildNetwork(X.shape[1],30, 1, outclass=LinearLayer,bias=True)\n",
    "trainer = BackpropTrainer(prediction_net, ds,verbose=True)\n",
    "trainer.trainEpochs(200)"
   ]
  },
  {
   "cell_type": "code",
   "execution_count": 14,
   "metadata": {
    "collapsed": false
   },
   "outputs": [
    {
     "name": "stdout",
     "output_type": "stream",
     "text": [
      "Mape Error =  0.0614929546518\n"
     ]
    },
    {
     "data": {
      "text/plain": [
       "(16764.536247952143, 272625.31688181817)"
      ]
     },
     "execution_count": 14,
     "metadata": {},
     "output_type": "execute_result"
    }
   ],
   "source": [
    "ts = UnsupervisedDataSet(X.shape[1],) \n",
    "for x in X:\n",
    "    ts.addSample(x)\n",
    "# create prediction result\n",
    "pre = prediction_net.activateOnDataset(ts)\n",
    "pred = [x[0] for x in pre]\n",
    "cal_error_for_list(pred,Y)"
   ]
  },
  {
   "cell_type": "markdown",
   "metadata": {},
   "source": [
    "## ANN without one hot code"
   ]
  },
  {
   "cell_type": "code",
   "execution_count": 15,
   "metadata": {
    "collapsed": false
   },
   "outputs": [],
   "source": [
    "target = total[[\"Value\"]]\n",
    "feature = total.copy().drop(\"Value\",axis=1)"
   ]
  },
  {
   "cell_type": "code",
   "execution_count": 16,
   "metadata": {
    "collapsed": false
   },
   "outputs": [
    {
     "data": {
      "text/html": [
       "<div>\n",
       "<table border=\"1\" class=\"dataframe\">\n",
       "  <thead>\n",
       "    <tr style=\"text-align: right;\">\n",
       "      <th></th>\n",
       "      <th>Temp</th>\n",
       "      <th>Month</th>\n",
       "      <th>Weekday</th>\n",
       "      <th>Hour</th>\n",
       "    </tr>\n",
       "  </thead>\n",
       "  <tbody>\n",
       "    <tr>\n",
       "      <th>2012-01-01 00:00:00-07:00</th>\n",
       "      <td>20.666667</td>\n",
       "      <td>1</td>\n",
       "      <td>7</td>\n",
       "      <td>0</td>\n",
       "    </tr>\n",
       "    <tr>\n",
       "      <th>2012-01-01 01:00:00-07:00</th>\n",
       "      <td>20.333333</td>\n",
       "      <td>1</td>\n",
       "      <td>7</td>\n",
       "      <td>1</td>\n",
       "    </tr>\n",
       "    <tr>\n",
       "      <th>2012-01-01 02:00:00-07:00</th>\n",
       "      <td>20.000000</td>\n",
       "      <td>1</td>\n",
       "      <td>7</td>\n",
       "      <td>2</td>\n",
       "    </tr>\n",
       "    <tr>\n",
       "      <th>2012-01-01 03:00:00-07:00</th>\n",
       "      <td>20.666667</td>\n",
       "      <td>1</td>\n",
       "      <td>7</td>\n",
       "      <td>3</td>\n",
       "    </tr>\n",
       "    <tr>\n",
       "      <th>2012-01-01 04:00:00-07:00</th>\n",
       "      <td>19.000000</td>\n",
       "      <td>1</td>\n",
       "      <td>7</td>\n",
       "      <td>4</td>\n",
       "    </tr>\n",
       "  </tbody>\n",
       "</table>\n",
       "</div>"
      ],
      "text/plain": [
       "                                Temp  Month  Weekday  Hour\n",
       "2012-01-01 00:00:00-07:00  20.666667      1        7     0\n",
       "2012-01-01 01:00:00-07:00  20.333333      1        7     1\n",
       "2012-01-01 02:00:00-07:00  20.000000      1        7     2\n",
       "2012-01-01 03:00:00-07:00  20.666667      1        7     3\n",
       "2012-01-01 04:00:00-07:00  19.000000      1        7     4"
      ]
     },
     "execution_count": 16,
     "metadata": {},
     "output_type": "execute_result"
    }
   ],
   "source": [
    "feature.head()"
   ]
  },
  {
   "cell_type": "code",
   "execution_count": 17,
   "metadata": {
    "collapsed": true
   },
   "outputs": [],
   "source": [
    "Y = target.values.reshape(1,-1)[0]\n",
    "X = feature.values"
   ]
  },
  {
   "cell_type": "code",
   "execution_count": 31,
   "metadata": {
    "collapsed": false
   },
   "outputs": [
    {
     "name": "stdout",
     "output_type": "stream",
     "text": [
      "Total error: 28.836988871\n",
      "Total error: 17.6873790861\n",
      "Total error: 14.3754542505\n",
      "Total error: 11.9680220375\n",
      "Total error: 10.7948119425\n",
      "Total error: 10.283548256\n",
      "Total error: 10.1117328904\n",
      "Total error: 9.97919342809\n",
      "Total error: 9.89356729327\n",
      "Total error: 9.83773117962\n",
      "Total error: 9.75380816459\n",
      "Total error: 9.67364246292\n",
      "Total error: 9.67189716773\n",
      "Total error: 9.62024394997\n",
      "Total error: 9.60320584459\n",
      "Total error: 9.53271244821\n",
      "Total error: 9.52140826259\n",
      "Total error: 9.43365737241\n",
      "Total error: 9.39908874766\n",
      "Total error: 9.40983278427\n",
      "Total error: 9.33347963587\n",
      "Total error: 9.31698861852\n",
      "Total error: 9.28907550793\n",
      "Total error: 9.31452506257\n",
      "Total error: 9.29254707929\n",
      "Total error: 9.26875324797\n",
      "Total error: 9.2666232592\n",
      "Total error: 9.21122507442\n",
      "Total error: 9.172148959\n",
      "Total error: 9.26949469154\n",
      "Total error: 9.17523275813\n",
      "Total error: 9.13350042801\n",
      "Total error: 9.19327159372\n",
      "Total error: 9.13493205883\n",
      "Total error: 9.1221265544\n",
      "Total error: 9.08945899321\n",
      "Total error: 9.1123836333\n",
      "Total error: 9.09085282862\n",
      "Total error: 9.04156557872\n",
      "Total error: 9.04465683396\n",
      "Total error: 9.08496817819\n",
      "Total error: 9.06567893325\n",
      "Total error: 8.96635457563\n",
      "Total error: 9.0308373166\n",
      "Total error: 9.01447612469\n",
      "Total error: 9.00425611627\n",
      "Total error: 8.97520322826\n",
      "Total error: 8.90669586166\n",
      "Total error: 9.01591494442\n",
      "Total error: 9.03254786916\n",
      "Total error: 9.05972592304\n",
      "Total error: 9.0492656686\n",
      "Total error: 9.03336359242\n",
      "Total error: 8.97150254213\n",
      "Total error: 9.02251864983\n",
      "Total error: 8.97965551585\n",
      "Total error: 8.96690624274\n",
      "Total error: 8.96165120012\n",
      "Total error: 8.9432221615\n",
      "Total error: 8.9144288722\n",
      "Total error: 9.02400966667\n",
      "Total error: 8.96455316719\n",
      "Total error: 8.9547989245\n",
      "Total error: 9.00006591435\n",
      "Total error: 8.93094338928\n",
      "Total error: 8.91374925449\n",
      "Total error: 8.97909300724\n",
      "Total error: 8.98661356734\n",
      "Total error: 8.92600700129\n",
      "Total error: 8.98456062281\n",
      "Total error: 8.96639951071\n",
      "Total error: 8.93778758832\n",
      "Total error: 8.95357536811\n",
      "Total error: 8.95066845227\n",
      "Total error: 8.98001102321\n",
      "Total error: 8.94292558825\n",
      "Total error: 8.96181157749\n",
      "Total error: 8.96606569756\n",
      "Total error: 8.96261416764\n",
      "Total error: 8.96726705027\n",
      "Total error: 8.91922894574\n",
      "Total error: 8.90315691852\n",
      "Total error: 8.90482604277\n",
      "Total error: 8.91920184207\n",
      "Total error: 8.95906688013\n",
      "Total error: 8.90611255259\n",
      "Total error: 8.91021342635\n",
      "Total error: 8.91776129117\n",
      "Total error: 8.95212033303\n",
      "Total error: 8.88712761091\n",
      "Total error: 8.95412555808\n",
      "Total error: 8.88913708524\n",
      "Total error: 8.98941951688\n",
      "Total error: 8.91051456715\n",
      "Total error: 8.94038885751\n",
      "Total error: 8.88899025603\n",
      "Total error: 8.98206529931\n",
      "Total error: 8.91577812902\n",
      "Total error: 8.96093593754\n",
      "Total error: 8.88401307525\n",
      "Total error: 8.93207654779\n",
      "Total error: 8.88873133067\n",
      "Total error: 8.92773517423\n",
      "Total error: 8.92349577043\n",
      "Total error: 8.92831571422\n",
      "Total error: 8.88106136877\n",
      "Total error: 8.91861348272\n",
      "Total error: 8.91996091351\n",
      "Total error: 8.94992040115\n",
      "Total error: 8.92012827011\n",
      "Total error: 8.89891007923\n",
      "Total error: 8.87495222029\n",
      "Total error: 8.85748600035\n",
      "Total error: 8.9191245573\n",
      "Total error: 8.85334217446\n",
      "Total error: 8.95045852594\n",
      "Total error: 8.90121044571\n",
      "Total error: 8.89401570328\n",
      "Total error: 8.93692774923\n",
      "Total error: 8.92029308699\n",
      "Total error: 8.93553903872\n",
      "Total error: 8.91827225901\n",
      "Total error: 8.85704929644\n",
      "Total error: 8.8837842523\n",
      "Total error: 8.916243558\n",
      "Total error: 8.92855827985\n",
      "Total error: 8.94970794631\n",
      "Total error: 8.88840336491\n",
      "Total error: 8.96240207698\n",
      "Total error: 8.87949087885\n",
      "Total error: 8.9158806124\n",
      "Total error: 8.87099260223\n",
      "Total error: 8.94133782162\n",
      "Total error: 8.93689675326\n",
      "Total error: 8.86462807866\n",
      "Total error: 8.83115292829\n",
      "Total error: 8.85582792805\n",
      "Total error: 8.84283984443\n",
      "Total error: 8.82393108623\n",
      "Total error: 8.9052634195\n",
      "Total error: 8.85115122253\n",
      "Total error: 8.93549127308\n",
      "Total error: 8.9585027873\n",
      "Total error: 8.9006957364\n",
      "Total error: 8.93052367729\n",
      "Total error: 8.88682727222\n",
      "Total error: 8.89474170339\n",
      "Total error: 8.88102138982\n",
      "Total error: 8.91030215777\n",
      "Total error: 8.90118419246\n",
      "Total error: 8.9359486752\n",
      "Total error: 8.88963169039\n",
      "Total error: 8.93776313117\n",
      "Total error: 8.91099082016\n",
      "Total error: 8.94878431304\n",
      "Total error: 8.90376631914\n",
      "Total error: 8.9366370766\n",
      "Total error: 8.8410799915\n",
      "Total error: 8.90061558723\n",
      "Total error: 8.92293934394\n",
      "Total error: 8.85802589444\n",
      "Total error: 8.86556764606\n",
      "Total error: 8.89622206298\n",
      "Total error: 8.8433414732\n",
      "Total error: 8.86284731465\n",
      "Total error: 8.86768534612\n",
      "Total error: 8.94105711786\n",
      "Total error: 8.90943030187\n",
      "Total error: 8.8732282544\n",
      "Total error: 8.90341906671\n",
      "Total error: 8.93300084049\n",
      "Total error: 8.84455189939\n",
      "Total error: 8.89653351472\n",
      "Total error: 8.83607324366\n",
      "Total error: 8.81119935211\n",
      "Total error: 8.91104822116\n",
      "Total error: 8.90090985231\n",
      "Total error: 8.87896026394\n",
      "Total error: 8.86525683871\n",
      "Total error: 8.9098040051\n",
      "Total error: 8.89450620182\n",
      "Total error: 8.89248874318\n",
      "Total error: 8.89973170718\n",
      "Total error: 8.87214961184\n",
      "Total error: 8.86838044211\n",
      "Total error: 8.91753936188\n",
      "Total error: 8.80981626599\n",
      "Total error: 8.91070155214\n",
      "Total error: 8.8911137864\n",
      "Total error: 8.91014149094\n",
      "Total error: 8.86876220497\n",
      "Total error: 8.90958495484\n",
      "Total error: 8.89898372483\n",
      "Total error: 8.87933306985\n",
      "Total error: 8.88797350933\n",
      "Total error: 8.81801187385\n",
      "Total error: 8.87725063331\n",
      "Total error: 8.89728463727\n",
      "Total error: 8.9441957129\n",
      "Total error: 8.89308053772\n"
     ]
    }
   ],
   "source": [
    "#########\n",
    "## ANN ##\n",
    "#########\n",
    "from pybrain.tools.shortcuts import buildNetwork\n",
    "from pybrain.supervised.trainers import BackpropTrainer\n",
    "from pybrain.datasets import SupervisedDataSet,UnsupervisedDataSet\n",
    "from pybrain.structure import LinearLayer\n",
    "ds = SupervisedDataSet(X.shape[1], 1)\n",
    "for x,y in zip(X,Y):\n",
    "    ds.addSample(x,y)\n",
    "prediction_net = buildNetwork(X.shape[1],30, 1, outclass=LinearLayer,bias=True)\n",
    "trainer = BackpropTrainer(prediction_net, ds,verbose=True)\n",
    "trainer.trainEpochs(200)"
   ]
  },
  {
   "cell_type": "code",
   "execution_count": 42,
   "metadata": {
    "collapsed": false
   },
   "outputs": [
    {
     "name": "stdout",
     "output_type": "stream",
     "text": [
      "Mape Error =  0.100056512379\n"
     ]
    },
    {
     "data": {
      "text/plain": [
       "(27277.938393521181, 272625.31688181817)"
      ]
     },
     "execution_count": 42,
     "metadata": {},
     "output_type": "execute_result"
    }
   ],
   "source": [
    "ts = UnsupervisedDataSet(X.shape[1],) \n",
    "for x in X:\n",
    "    ts.addSample(x)\n",
    "# create prediction result\n",
    "pre = prediction_net.activateOnDataset(ts)\n",
    "pred = [x[0] for x in pre]\n",
    "cal_error_for_list(pred,Y)"
   ]
  },
  {
   "cell_type": "markdown",
   "metadata": {},
   "source": [
    "## Random Forest --Use only external feature --Long term prediction"
   ]
  },
  {
   "cell_type": "code",
   "execution_count": 18,
   "metadata": {
    "collapsed": false
   },
   "outputs": [
    {
     "data": {
      "text/html": [
       "<div>\n",
       "<table border=\"1\" class=\"dataframe\">\n",
       "  <thead>\n",
       "    <tr style=\"text-align: right;\">\n",
       "      <th></th>\n",
       "      <th>Temp</th>\n",
       "      <th>Month</th>\n",
       "      <th>Weekday</th>\n",
       "      <th>Hour</th>\n",
       "    </tr>\n",
       "  </thead>\n",
       "  <tbody>\n",
       "    <tr>\n",
       "      <th>2012-01-01 00:00:00-07:00</th>\n",
       "      <td>20.666667</td>\n",
       "      <td>1</td>\n",
       "      <td>7</td>\n",
       "      <td>0</td>\n",
       "    </tr>\n",
       "    <tr>\n",
       "      <th>2012-01-01 01:00:00-07:00</th>\n",
       "      <td>20.333333</td>\n",
       "      <td>1</td>\n",
       "      <td>7</td>\n",
       "      <td>1</td>\n",
       "    </tr>\n",
       "    <tr>\n",
       "      <th>2012-01-01 02:00:00-07:00</th>\n",
       "      <td>20.000000</td>\n",
       "      <td>1</td>\n",
       "      <td>7</td>\n",
       "      <td>2</td>\n",
       "    </tr>\n",
       "    <tr>\n",
       "      <th>2012-01-01 03:00:00-07:00</th>\n",
       "      <td>20.666667</td>\n",
       "      <td>1</td>\n",
       "      <td>7</td>\n",
       "      <td>3</td>\n",
       "    </tr>\n",
       "    <tr>\n",
       "      <th>2012-01-01 04:00:00-07:00</th>\n",
       "      <td>19.000000</td>\n",
       "      <td>1</td>\n",
       "      <td>7</td>\n",
       "      <td>4</td>\n",
       "    </tr>\n",
       "  </tbody>\n",
       "</table>\n",
       "</div>"
      ],
      "text/plain": [
       "                                Temp  Month  Weekday  Hour\n",
       "2012-01-01 00:00:00-07:00  20.666667      1        7     0\n",
       "2012-01-01 01:00:00-07:00  20.333333      1        7     1\n",
       "2012-01-01 02:00:00-07:00  20.000000      1        7     2\n",
       "2012-01-01 03:00:00-07:00  20.666667      1        7     3\n",
       "2012-01-01 04:00:00-07:00  19.000000      1        7     4"
      ]
     },
     "execution_count": 18,
     "metadata": {},
     "output_type": "execute_result"
    }
   ],
   "source": [
    "target = total[[\"Value\"]]\n",
    "feature = total.copy().drop(\"Value\",axis=1)\n",
    "Y = target.values.reshape(1,-1)[0]\n",
    "X = feature.values\n",
    "feature.head()"
   ]
  },
  {
   "cell_type": "code",
   "execution_count": 19,
   "metadata": {
    "collapsed": false
   },
   "outputs": [
    {
     "name": "stdout",
     "output_type": "stream",
     "text": [
      "Mape Error =  0.0261402123648\n"
     ]
    },
    {
     "data": {
      "text/plain": [
       "(7126.4836793184249, 272625.31688181817)"
      ]
     },
     "execution_count": 19,
     "metadata": {},
     "output_type": "execute_result"
    }
   ],
   "source": [
    "# cal insample error\n",
    "from sklearn.ensemble import RandomForestRegressor\n",
    "clf = RandomForestRegressor(n_estimators=500)\n",
    "clf = clf.fit(X, Y)\n",
    "pred = clf.predict(X)\n",
    "cal_error_for_list(pred,Y)"
   ]
  },
  {
   "cell_type": "code",
   "execution_count": 22,
   "metadata": {
    "collapsed": false
   },
   "outputs": [
    {
     "name": "stdout",
     "output_type": "stream",
     "text": [
      "Importance of each feature\n",
      "\n",
      "Temp : 0.11190713602\n",
      "Month : 0.0662885915966\n",
      "Weekday : 0.0749302472632\n",
      "Hour : 0.74687402512\n"
     ]
    }
   ],
   "source": [
    "# see which feature is important\n",
    "print \"Importance of each feature\\n\"\n",
    "for name,score in zip(feature.columns,clf.feature_importances_ ):\n",
    "    print name,\":\",score"
   ]
  },
  {
   "cell_type": "code",
   "execution_count": 26,
   "metadata": {
    "collapsed": false
   },
   "outputs": [
    {
     "name": "stdout",
     "output_type": "stream",
     "text": [
      "Mape Error =  0.0717077966746\n",
      "Mape Error =  0.0647415960819\n",
      "Mape Error =  0.0612288369631\n",
      "Mape Error =  0.0636248082063\n",
      "Mape Error =  0.0650705712583\n",
      "Mape Error =  0.0565046076059\n",
      "Mape Error =  0.0622906789766\n",
      "Mape Error =  0.0633016517725\n",
      "Mape Error =  0.0654073006919\n",
      "Mape Error =  0.0627641681949\n",
      "Mape Error =  0.0652783324614\n",
      "Mape Error =  0.0699954394153\n",
      "Mape Error =  0.0643254843765\n",
      "Mape Error =  0.0603114759418\n",
      "Mape Error =  0.0639881945207\n",
      "Mape Error =  0.0621714289946\n",
      "Mape Error =  0.0631888974869\n",
      "Mape Error =  0.0677674198692\n",
      "Mape Error =  0.0651724077782\n",
      "Mape Error =  0.0648377164218\n",
      "Total Mape Error =  0.0641790785639\n"
     ]
    }
   ],
   "source": [
    "# cal outsample error using random sample points \n",
    "from sklearn.ensemble import RandomForestRegressor\n",
    "from sklearn import cross_validation\n",
    "ss = cross_validation.ShuffleSplit(len(X), 20, 0.05, random_state=0)\n",
    "error_list = []\n",
    "actual_list = []\n",
    "\n",
    "for train,test in ss:\n",
    "    clf = RandomForestRegressor(n_estimators=500)\n",
    "    clf = clf.fit(X[train], Y[train])\n",
    "    pred = clf.predict(X[test])\n",
    "    error,actual = cal_error_for_list(pred, Y[test])\n",
    "    error_list.append(error)\n",
    "    actual_list.append(actual)\n",
    "error_sum = np.array(error_list).sum()\n",
    "actual_sum = np.array(actual_list).sum()\n",
    "print \"Total Mape Error = \",float(error_sum)/float(actual_sum)"
   ]
  },
  {
   "cell_type": "code",
   "execution_count": 28,
   "metadata": {
    "collapsed": false
   },
   "outputs": [
    {
     "name": "stdout",
     "output_type": "stream",
     "text": [
      "Mape Error =  0.139098826615\n",
      "Mape Error =  0.0724317147867\n",
      "Mape Error =  0.0758353593595\n",
      "Mape Error =  0.0726900700201\n",
      "Mape Error =  0.0912937885787\n",
      "Mape Error =  0.0562571560018\n",
      "Mape Error =  0.118373579609\n",
      "Mape Error =  0.0840728487358\n",
      "Mape Error =  0.0920807845357\n",
      "Mape Error =  0.0744075066721\n",
      "Mape Error =  0.108653677901\n",
      "Mape Error =  0.116015370494\n",
      "Mape Error =  0.142004594652\n",
      "Mape Error =  0.066850982222\n",
      "Mape Error =  0.0693279880431\n",
      "Mape Error =  0.0984780618535\n",
      "Mape Error =  0.0704048728994\n",
      "Mape Error =  0.0846681989182\n",
      "Mape Error =  0.0998617338751\n",
      "Mape Error =  0.172620587886\n",
      "Mape Error =  0.0695368516721\n",
      "Mape Error =  0.112938858044\n",
      "Mape Error =  0.0926531927826\n",
      "Mape Error =  0.0854512543978\n",
      "Mape Error =  0.0701670925332\n",
      "Mape Error =  0.117721703122\n",
      "Mape Error =  0.0726105473723\n",
      "Mape Error =  0.0568393493951\n",
      "Mape Error =  0.0891405023948\n",
      "Mape Error =  0.0946283383975\n",
      "Mape Error =  0.0715361318754\n",
      "Mape Error =  0.0567450432985\n",
      "Mape Error =  0.0705306368491\n",
      "Mape Error =  0.0740347365313\n",
      "Mape Error =  0.0871025769489\n",
      "Mape Error =  0.0800630588339\n",
      "Mape Error =  0.0675697219924\n",
      "Mape Error =  0.0869722659329\n",
      "Mape Error =  0.0376101213407\n",
      "Mape Error =  0.0719927491272\n",
      "Mape Error =  0.0507696994669\n",
      "Mape Error =  0.158529456499\n",
      "Mape Error =  0.0862147579033\n",
      "Mape Error =  0.0963947973125\n",
      "Mape Error =  0.0549997517661\n",
      "Mape Error =  0.0418647597116\n",
      "Mape Error =  0.0580999656136\n",
      "Mape Error =  0.0859683063737\n",
      "Mape Error =  0.122498874363\n",
      "Mape Error =  0.0629297890615\n",
      "Mape Error =  0.109755247725\n",
      "Mape Error =  0.148175541888\n",
      "Mape Error =  0.108110649868\n",
      "Mape Error =  0.0613464880027\n",
      "Mape Error =  0.129897916726\n",
      "Mape Error =  0.0932416854243\n",
      "Mape Error =  0.0711147065966\n",
      "Mape Error =  0.0975625910861\n",
      "Mape Error =  0.116996370876\n",
      "Mape Error =  0.132988276166\n",
      "Mape Error =  0.109594137368\n",
      "Mape Error =  0.0787682562107\n",
      "Mape Error =  0.0504353045339\n",
      "Mape Error =  0.0894181179663\n",
      "Mape Error =  0.0951309128083\n",
      "Mape Error =  0.14843421527\n",
      "Mape Error =  0.0781599402431\n",
      "Mape Error =  0.0707497063374\n",
      "Mape Error =  0.0743942127092\n",
      "Mape Error =  0.0659222699027\n",
      "Mape Error =  0.0552998992318\n",
      "Mape Error =  0.072691987176\n",
      "Mape Error =  0.0450961126671\n",
      "Mape Error =  0.0469739623813\n",
      "Mape Error =  0.0345813853324\n",
      "Mape Error =  0.0316092541479\n",
      "Mape Error =  0.093537849762\n",
      "Mape Error =  0.123983509226\n",
      "Mape Error =  0.0876194705519\n",
      "Mape Error =  0.0922736931298\n",
      "Mape Error =  0.058997142083\n",
      "Mape Error =  0.0294448186755\n",
      "Mape Error =  0.0392560196853\n",
      "Mape Error =  0.0850707121115\n",
      "Mape Error =  0.0880153389833\n",
      "Mape Error =  0.0575536599179\n",
      "Mape Error =  0.0575991334763\n",
      "Mape Error =  0.0472681173702\n",
      "Mape Error =  0.0296107465276\n",
      "Mape Error =  0.0831048504677\n",
      "Mape Error =  0.111131018397\n",
      "Mape Error =  0.105170015304\n",
      "Mape Error =  0.0835296011271\n",
      "Mape Error =  0.0391214749276\n",
      "Mape Error =  0.0636974842328\n",
      "Mape Error =  0.0920980479903\n",
      "Mape Error =  0.0533085794539\n",
      "Mape Error =  0.225864195784\n",
      "Mape Error =  0.0721288767033\n",
      "Mape Error =  0.038829313722\n",
      "Mape Error =  0.0432023021419\n",
      "Mape Error =  0.048293732128\n",
      "Mape Error =  0.0211475766532\n",
      "Mape Error =  0.0340849237765\n",
      "Mape Error =  0.0460856326281\n",
      "Mape Error =  0.0308644557569\n",
      "Mape Error =  0.0369476888438\n",
      "Mape Error =  0.0231120733805\n",
      "Mape Error =  0.0299975337563\n",
      "Mape Error =  0.075585414095\n",
      "Mape Error =  0.106668726151\n",
      "Mape Error =  0.104009712481\n",
      "Mape Error =  0.0639516898384\n",
      "Mape Error =  0.0365096289821\n",
      "Mape Error =  0.0427878304341\n",
      "Mape Error =  0.0584550957298\n",
      "Mape Error =  0.0638082127725\n",
      "Mape Error =  0.0460130788838\n",
      "Mape Error =  0.151442817563\n",
      "Mape Error =  0.0601962442613\n",
      "Mape Error =  0.0792507641109\n",
      "Mape Error =  0.0723993146073\n",
      "Mape Error =  0.0618510401292\n",
      "Mape Error =  0.0235424666928\n",
      "Mape Error =  0.0567266837773\n",
      "Mape Error =  0.0616644955838\n",
      "Mape Error =  0.0655119482172\n",
      "Mape Error =  0.0394112205881\n",
      "Mape Error =  0.0690173456466\n",
      "Mape Error =  0.0623168344366\n",
      "Mape Error =  0.0335718620575\n",
      "Mape Error =  0.0245447924254\n",
      "Mape Error =  0.0726533897915\n",
      "Mape Error =  0.0916461720569\n",
      "Mape Error =  0.0875206646964\n",
      "Mape Error =  0.0771878136003\n",
      "Mape Error =  0.0637255989297\n",
      "Mape Error =  0.045806474871\n",
      "Mape Error =  0.0200291879137\n",
      "Mape Error =  0.0425618758831\n",
      "Mape Error =  0.0657413608605\n",
      "Mape Error =  0.0750424418019\n",
      "Mape Error =  0.0697212705731\n",
      "Mape Error =  0.0758841861918\n",
      "Mape Error =  0.0400107226603\n",
      "Mape Error =  0.146490428596\n",
      "Mape Error =  0.0544985402032\n",
      "Mape Error =  0.0967753722132\n",
      "Mape Error =  0.0276694716925\n",
      "Mape Error =  0.0405444301184\n",
      "Mape Error =  0.0592031118983\n",
      "Mape Error =  0.12724241938\n",
      "Mape Error =  0.150121438242\n",
      "Mape Error =  0.116286343598\n",
      "Mape Error =  0.122055058647\n",
      "Mape Error =  0.0856083737628\n",
      "Mape Error =  0.0928873531941\n",
      "Mape Error =  0.164776232045\n",
      "Mape Error =  0.130170622582\n",
      "Mape Error =  0.19026459868\n",
      "Mape Error =  0.174569424216\n",
      "Mape Error =  0.122824191301\n",
      "Mape Error =  0.0450859095301\n",
      "Mape Error =  0.0319255450986\n",
      "Mape Error =  0.0334766362953\n",
      "Mape Error =  0.1276050688\n",
      "Mape Error =  0.107170306177\n",
      "Mape Error =  0.125700633016\n",
      "Mape Error =  0.121782482337\n",
      "Mape Error =  0.105414129297\n",
      "Mape Error =  0.0912128856468\n",
      "Mape Error =  0.062473395838\n",
      "Mape Error =  0.138388995341\n",
      "Mape Error =  0.0522112759646\n",
      "Mape Error =  0.0507677326639\n",
      "Mape Error =  0.0503000911213\n",
      "Mape Error =  0.0399369278676\n",
      "Mape Error =  0.0695306114877\n",
      "Mape Error =  0.0802231429596\n",
      "Mape Error =  0.0634739838489\n",
      "Mape Error =  0.0540438782095\n",
      "Mape Error =  0.0286831460682\n",
      "Mape Error =  0.0301077926307\n",
      "Mape Error =  0.0340486928999\n",
      "Mape Error =  0.0841397278226\n",
      "Mape Error =  0.182054788397\n",
      "Mape Error =  0.0623940651695\n",
      "Mape Error =  0.043158057618\n",
      "Mape Error =  0.0563550298019\n",
      "Mape Error =  0.0470447253139\n",
      "Mape Error =  0.0609624979329\n",
      "Mape Error =  0.0629951295194\n",
      "Mape Error =  0.0458769410857\n",
      "Mape Error =  0.0528929627236\n",
      "Mape Error =  0.0776692617027\n",
      "Mape Error =  0.0394441774716\n",
      "Mape Error =  0.0428475410748\n",
      "Mape Error =  0.0467786453405\n",
      "Mape Error =  0.0360259080603\n",
      "Mape Error =  0.0241936939087\n",
      "Mape Error =  0.027062534574\n",
      "Mape Error =  0.0441474857605\n",
      "Mape Error =  0.0528758826996\n",
      "Mape Error =  0.020124781438\n",
      "Mape Error =  0.0508901668355\n",
      "Mape Error =  0.0212893672369\n",
      "Mape Error =  0.0220696589168\n",
      "Mape Error =  0.0700520262398\n",
      "Mape Error =  0.0559703216164\n",
      "Mape Error =  0.0341975290997\n",
      "Mape Error =  0.0374708167061\n",
      "Mape Error =  0.0405189499884\n",
      "Mape Error =  0.0259517053109\n",
      "Mape Error =  0.0390845609433\n",
      "Mape Error =  0.0397407044987\n",
      "Mape Error =  0.0373021522052\n",
      "Mape Error =  0.0733436239025\n",
      "Mape Error =  0.034791305887\n",
      "Mape Error =  0.05190625721\n",
      "Mape Error =  0.070771207991\n",
      "Mape Error =  0.0589551733623\n",
      "Mape Error =  0.0525980043847\n",
      "Mape Error =  0.0925747795045\n",
      "Mape Error =  0.132770205437\n",
      "Mape Error =  0.0922902671347\n",
      "Mape Error =  0.0900420781115\n",
      "Mape Error =  0.0864111975122\n",
      "Mape Error =  0.0409969330106\n",
      "Mape Error =  0.0404267597576\n",
      "Mape Error =  0.0535124791904\n",
      "Mape Error =  0.0483504083602\n",
      "Mape Error =  0.0344413959939\n",
      "Mape Error =  0.0619407161204\n",
      "Mape Error =  0.055409519595\n",
      "Mape Error =  0.0379099443115\n",
      "Mape Error =  0.0515196277283\n",
      "Mape Error =  0.0555494978957\n",
      "Mape Error =  0.0446511166001\n",
      "Mape Error =  0.0274117788814\n",
      "Mape Error =  0.0549263257446\n",
      "Mape Error =  0.0459794533729\n",
      "Mape Error =  0.048402011451\n",
      "Mape Error =  0.0543014105897\n",
      "Mape Error =  0.0688562709509\n",
      "Mape Error =  0.0911033134614\n",
      "Mape Error =  0.040702899318\n",
      "Mape Error =  0.0398899239484\n",
      "Mape Error =  0.0647007844328\n",
      "Mape Error =  0.0550184216403\n",
      "Mape Error =  0.0230883314391\n",
      "Mape Error =  0.0305608414532\n",
      "Mape Error =  0.0426641922333\n",
      "Mape Error =  0.0492382557453\n",
      "Mape Error =  0.0646719066073\n",
      "Mape Error =  0.0640507418102\n",
      "Mape Error =  0.0535575168229\n",
      "Mape Error =  0.0361468651012\n",
      "Mape Error =  0.0330046849444\n",
      "Mape Error =  0.0280972843929\n",
      "Mape Error =  0.0492134400244\n",
      "Mape Error =  0.0330524658872\n",
      "Mape Error =  0.0271698573551\n",
      "Mape Error =  0.0335814524743\n",
      "Mape Error =  0.0276264459936\n",
      "Mape Error =  0.0232911926377\n",
      "Mape Error =  0.046960969419\n",
      "Mape Error =  0.0588116824452\n",
      "Mape Error =  0.0452583509791\n",
      "Mape Error =  0.0294903629166\n",
      "Mape Error =  0.0212606893049\n",
      "Mape Error =  0.0290097873533\n",
      "Mape Error =  0.0328676107632\n",
      "Mape Error =  0.0329880363081\n",
      "Mape Error =  0.0717964234836\n",
      "Mape Error =  0.0542297237152\n",
      "Mape Error =  0.0568270908943\n",
      "Mape Error =  0.0381660102203\n",
      "Mape Error =  0.0787815174641\n",
      "Mape Error =  0.0508890083022\n",
      "Mape Error =  0.092345438355\n",
      "Mape Error =  0.0846820069908\n",
      "Mape Error =  0.0765232166457\n",
      "Mape Error =  0.0811478875719\n",
      "Mape Error =  0.0568066930808\n",
      "Mape Error =  0.0689325121254\n",
      "Mape Error =  0.0395419737096\n",
      "Mape Error =  0.0682793194289\n",
      "Mape Error =  0.0762561400919\n",
      "Mape Error =  0.0806101782912\n",
      "Mape Error =  0.053065789206\n",
      "Mape Error =  0.0590021678066\n",
      "Mape Error =  0.0543767329031\n",
      "Mape Error =  0.0431614566844\n",
      "Mape Error =  0.0634905286819\n",
      "Mape Error =  0.0865280892691\n",
      "Mape Error =  0.0917316832945\n",
      "Mape Error =  0.148042797307\n",
      "Mape Error =  0.121975928373\n",
      "Mape Error =  0.112371001461\n",
      "Mape Error =  0.140186736064\n",
      "Mape Error =  0.0766451992532\n",
      "Mape Error =  0.0568134426776\n",
      "Mape Error =  0.0440015669993\n",
      "Mape Error =  0.0845245834327\n",
      "Mape Error =  0.0800613272885\n",
      "Mape Error =  0.0909056660391\n",
      "Mape Error =  0.19081262645\n",
      "Mape Error =  0.18371761893\n",
      "Mape Error =  0.0797181128054\n",
      "Mape Error =  0.0608267823873\n",
      "Mape Error =  0.0334059328033\n",
      "Mape Error =  0.0630594283824\n",
      "Mape Error =  0.0883117350852\n",
      "Mape Error =  0.116453559843\n",
      "Mape Error =  0.133678941744\n",
      "Mape Error =  0.234486886226\n",
      "Mape Error =  0.0685433060768\n",
      "Mape Error =  0.0482925691982\n",
      "Mape Error =  0.10869251377\n",
      "Mape Error =  0.097201095308\n",
      "Mape Error =  0.0704768118837\n",
      "Mape Error =  0.0832148793694\n",
      "Mape Error =  0.0867724520917\n",
      "Mape Error =  0.0759211035687\n",
      "Mape Error =  0.0356128131622\n",
      "Mape Error =  0.242855330189\n",
      "Mape Error =  0.223470235034\n",
      "Mape Error =  0.173495740676\n",
      "Mape Error =  0.0954919567317\n",
      "Mape Error =  0.185771572839\n",
      "Mape Error =  0.0906305580818\n",
      "Mape Error =  0.0478041496934\n",
      "Mape Error =  0.0629467083285\n",
      "Mape Error =  0.100064561175\n",
      "Mape Error =  0.0738301460209\n",
      "Mape Error =  0.154201744271\n",
      "Mape Error =  0.0997406563092\n",
      "Mape Error =  0.0875181077403\n",
      "Mape Error =  0.0374477437731\n",
      "Mape Error =  0.0838784640551\n",
      "Mape Error =  0.0605355901577\n",
      "Mape Error =  0.102316948222\n",
      "Mape Error =  0.126972073511\n",
      "Mape Error =  0.170039143638\n",
      "Mape Error =  0.158936132889\n",
      "Mape Error =  0.11833915041\n",
      "Mape Error =  0.0800383701075\n",
      "Mape Error =  0.171870081411\n",
      "Mape Error =  0.0942149349475\n",
      "Mape Error =  0.127402463546\n",
      "Mape Error =  0.153897067648\n",
      "Mape Error =  0.119293028132\n",
      "Mape Error =  0.0852825087088\n",
      "Mape Error =  0.140419198034\n",
      "Mape Error =  0.159566106536\n",
      "Mape Error =  0.118561305131\n",
      "Mape Error =  0.137825693756\n",
      "Mape Error =  0.139887591541\n",
      "Mape Error =  0.307874721872\n",
      "Mape Error =  0.166057661983\n",
      "Mape Error =  0.0788370231423\n",
      "Mape Error =  0.0899936689808\n",
      "Mape Error =  0.115860054845\n",
      "Mape Error =  0.144160021606\n",
      "Mape Error =  0.224687765995\n",
      "Total Mape Error =  0.0783590200876\n"
     ]
    }
   ],
   "source": [
    "# cal outsample error using continous points\n",
    "from sklearn.cross_validation import KFold\n",
    "kf = KFold(len(X), n_folds=365)\n",
    "error_list = []\n",
    "actual_list = []\n",
    "plot_actual = []\n",
    "plot_pred = []\n",
    "for train,test in kf:\n",
    "    clf = RandomForestRegressor(n_estimators=500)\n",
    "    clf = clf.fit(X[train], Y[train])\n",
    "    pred = clf.predict(X[test])\n",
    "    error,actual = cal_error_for_list(pred, Y[test])\n",
    "    error_list.append(error)\n",
    "    actual_list.append(actual)\n",
    "    plot_actual.append(Y[test])\n",
    "    plot_pred.append(pred)\n",
    "error_sum = np.array(error_list).sum()\n",
    "actual_sum = np.array(actual_list).sum()\n",
    "print \"Total Mape Error = \",float(error_sum)/float(actual_sum)"
   ]
  },
  {
   "cell_type": "code",
   "execution_count": 29,
   "metadata": {
    "collapsed": false
   },
   "outputs": [],
   "source": [
    "def to_list(x):\n",
    "    l = []\n",
    "    for i in x:\n",
    "        for j in i:\n",
    "            l.append(j)\n",
    "    return l\n",
    "plot_actual_list = to_list(plot_actual)\n",
    "plot_pred_list = to_list(plot_pred)"
   ]
  },
  {
   "cell_type": "code",
   "execution_count": 30,
   "metadata": {
    "collapsed": false
   },
   "outputs": [
    {
     "data": {
      "text/html": [
       "\n",
       "    <div class=\"bk-banner\">\n",
       "        <a href=\"http://bokeh.pydata.org\" target=\"_blank\" class=\"bk-logo bk-logo-small bk-logo-notebook\"></a>\n",
       "        <span id=\"b6a81ada-bbd1-427b-b868-5a078963edfc\">Loading BokehJS ...</span>\n",
       "    </div>"
      ]
     },
     "metadata": {},
     "output_type": "display_data"
    },
    {
     "data": {
      "application/javascript": [
       "\n",
       "(function(global) {\n",
       "  function now() {\n",
       "    return new Date();\n",
       "  }\n",
       "\n",
       "  if (typeof (window._bokeh_onload_callbacks) === \"undefined\") {\n",
       "    window._bokeh_onload_callbacks = [];\n",
       "  }\n",
       "\n",
       "  function run_callbacks() {\n",
       "    window._bokeh_onload_callbacks.forEach(function(callback) { callback() });\n",
       "    delete window._bokeh_onload_callbacks\n",
       "    console.info(\"Bokeh: all callbacks have finished\");\n",
       "  }\n",
       "\n",
       "  function load_libs(js_urls, callback) {\n",
       "    window._bokeh_onload_callbacks.push(callback);\n",
       "    if (window._bokeh_is_loading > 0) {\n",
       "      console.log(\"Bokeh: BokehJS is being loaded, scheduling callback at\", now());\n",
       "      return null;\n",
       "    }\n",
       "    if (js_urls == null || js_urls.length === 0) {\n",
       "      run_callbacks();\n",
       "      return null;\n",
       "    }\n",
       "    console.log(\"Bokeh: BokehJS not loaded, scheduling load and callback at\", now());\n",
       "    window._bokeh_is_loading = js_urls.length;\n",
       "    for (var i = 0; i < js_urls.length; i++) {\n",
       "      var url = js_urls[i];\n",
       "      var s = document.createElement('script');\n",
       "      s.src = url;\n",
       "      s.async = false;\n",
       "      s.onreadystatechange = s.onload = function() {\n",
       "        window._bokeh_is_loading--;\n",
       "        if (window._bokeh_is_loading === 0) {\n",
       "          console.log(\"Bokeh: all BokehJS libraries loaded\");\n",
       "          run_callbacks()\n",
       "        }\n",
       "      };\n",
       "      s.onerror = function() {\n",
       "        console.warn(\"failed to load library \" + url);\n",
       "      };\n",
       "      console.log(\"Bokeh: injecting script tag for BokehJS library: \", url);\n",
       "      document.getElementsByTagName(\"head\")[0].appendChild(s);\n",
       "    }\n",
       "  };\n",
       "\n",
       "  var js_urls = ['https://cdn.pydata.org/bokeh/release/bokeh-0.11.1.min.js', 'https://cdn.pydata.org/bokeh/release/bokeh-widgets-0.11.1.min.js', 'https://cdn.pydata.org/bokeh/release/bokeh-compiler-0.11.1.min.js'];\n",
       "\n",
       "  var inline_js = [\n",
       "    function(Bokeh) {\n",
       "      Bokeh.set_log_level(\"info\");\n",
       "    },\n",
       "    \n",
       "    function(Bokeh) {\n",
       "      Bokeh.$(\"#b6a81ada-bbd1-427b-b868-5a078963edfc\").text(\"BokehJS successfully loaded\");\n",
       "    },\n",
       "    function(Bokeh) {\n",
       "      console.log(\"Bokeh: injecting CSS: https://cdn.pydata.org/bokeh/release/bokeh-0.11.1.min.css\");\n",
       "      Bokeh.embed.inject_css(\"https://cdn.pydata.org/bokeh/release/bokeh-0.11.1.min.css\");\n",
       "      console.log(\"Bokeh: injecting CSS: https://cdn.pydata.org/bokeh/release/bokeh-widgets-0.11.1.min.css\");\n",
       "      Bokeh.embed.inject_css(\"https://cdn.pydata.org/bokeh/release/bokeh-widgets-0.11.1.min.css\");\n",
       "    }\n",
       "  ];\n",
       "\n",
       "  function run_inline_js() {\n",
       "    for (var i = 0; i < inline_js.length; i++) {\n",
       "      inline_js[i](window.Bokeh);\n",
       "    }\n",
       "  }\n",
       "\n",
       "  if (window._bokeh_is_loading === 0) {\n",
       "    console.log(\"Bokeh: BokehJS loaded, going straight to plotting\");\n",
       "    run_inline_js();\n",
       "  } else {\n",
       "    load_libs(js_urls, function() {\n",
       "      console.log(\"Bokeh: BokehJS plotting callback run at\", now());\n",
       "      run_inline_js();\n",
       "    });\n",
       "  }\n",
       "}(this));"
      ]
     },
     "metadata": {},
     "output_type": "display_data"
    }
   ],
   "source": [
    "from bokeh.io import output_notebook, show\n",
    "from bokeh.plotting import figure\n",
    "output_notebook()"
   ]
  },
  {
   "cell_type": "code",
   "execution_count": 31,
   "metadata": {
    "collapsed": false
   },
   "outputs": [
    {
     "data": {
      "text/html": [
       "\n",
       "\n",
       "    <div class=\"plotdiv\" id=\"c72c5db3-d810-4349-8dca-a6c5622a82fc\"></div>\n",
       "<script type=\"text/javascript\">\n",
       "  \n",
       "  (function(global) {\n",
       "    function now() {\n",
       "      return new Date();\n",
       "    }\n",
       "  \n",
       "    if (typeof (window._bokeh_onload_callbacks) === \"undefined\") {\n",
       "      window._bokeh_onload_callbacks = [];\n",
       "    }\n",
       "  \n",
       "    function run_callbacks() {\n",
       "      window._bokeh_onload_callbacks.forEach(function(callback) { callback() });\n",
       "      delete window._bokeh_onload_callbacks\n",
       "      console.info(\"Bokeh: all callbacks have finished\");\n",
       "    }\n",
       "  \n",
       "    function load_libs(js_urls, callback) {\n",
       "      window._bokeh_onload_callbacks.push(callback);\n",
       "      if (window._bokeh_is_loading > 0) {\n",
       "        console.log(\"Bokeh: BokehJS is being loaded, scheduling callback at\", now());\n",
       "        return null;\n",
       "      }\n",
       "      if (js_urls == null || js_urls.length === 0) {\n",
       "        run_callbacks();\n",
       "        return null;\n",
       "      }\n",
       "      console.log(\"Bokeh: BokehJS not loaded, scheduling load and callback at\", now());\n",
       "      window._bokeh_is_loading = js_urls.length;\n",
       "      for (var i = 0; i < js_urls.length; i++) {\n",
       "        var url = js_urls[i];\n",
       "        var s = document.createElement('script');\n",
       "        s.src = url;\n",
       "        s.async = false;\n",
       "        s.onreadystatechange = s.onload = function() {\n",
       "          window._bokeh_is_loading--;\n",
       "          if (window._bokeh_is_loading === 0) {\n",
       "            console.log(\"Bokeh: all BokehJS libraries loaded\");\n",
       "            run_callbacks()\n",
       "          }\n",
       "        };\n",
       "        s.onerror = function() {\n",
       "          console.warn(\"failed to load library \" + url);\n",
       "        };\n",
       "        console.log(\"Bokeh: injecting script tag for BokehJS library: \", url);\n",
       "        document.getElementsByTagName(\"head\")[0].appendChild(s);\n",
       "      }\n",
       "    };var element = document.getElementById(\"c72c5db3-d810-4349-8dca-a6c5622a82fc\");\n",
       "    if (element == null) {\n",
       "      console.log(\"Bokeh: ERROR: autoload.js configured with elementid 'c72c5db3-d810-4349-8dca-a6c5622a82fc' but no matching script tag was found. \")\n",
       "      return false;\n",
       "    }\n",
       "  \n",
       "    var js_urls = [];\n",
       "  \n",
       "    var inline_js = [\n",
       "      function(Bokeh) {\n",
       "        Bokeh.$(function() {\n",
       "            var docs_json = {\"9570986c-fe11-4d24-9183-62440761248f\":{\"roots\":{\"references\":[{\"attributes\":{\"plot\":{\"id\":\"a8092d24-9325-4be3-a889-62f56a142c7f\",\"subtype\":\"Figure\",\"type\":\"Plot\"},\"ticker\":{\"id\":\"36cba388-47ec-4810-8802-dae65578f2c9\",\"type\":\"BasicTicker\"}},\"id\":\"5b5b54d8-5a59-41a2-867d-b140cf6f8a54\",\"type\":\"Grid\"},{\"attributes\":{\"plot\":{\"id\":\"a8092d24-9325-4be3-a889-62f56a142c7f\",\"subtype\":\"Figure\",\"type\":\"Plot\"}},\"id\":\"7ccf965b-2c26-4f82-816c-99e5e4b4b7bb\",\"type\":\"PanTool\"},{\"attributes\":{\"formatter\":{\"id\":\"09b55652-c052-436c-bb96-a5a0314830e2\",\"type\":\"BasicTickFormatter\"},\"plot\":{\"id\":\"a8092d24-9325-4be3-a889-62f56a142c7f\",\"subtype\":\"Figure\",\"type\":\"Plot\"},\"ticker\":{\"id\":\"6502e450-e4bd-4cc4-bb5c-e4d66d364853\",\"type\":\"BasicTicker\"}},\"id\":\"d3fdc8f3-70b3-4a6d-bd93-7100d1339927\",\"type\":\"LinearAxis\"},{\"attributes\":{\"bottom_units\":\"screen\",\"fill_alpha\":{\"value\":0.5},\"fill_color\":{\"value\":\"lightgrey\"},\"left_units\":\"screen\",\"level\":\"overlay\",\"line_alpha\":{\"value\":1.0},\"line_color\":{\"value\":\"black\"},\"line_dash\":[4,4],\"line_width\":{\"value\":2},\"plot\":null,\"render_mode\":\"css\",\"right_units\":\"screen\",\"top_units\":\"screen\"},\"id\":\"bc2e49ff-7090-4993-a145-d86bf8ef6b58\",\"type\":\"BoxAnnotation\"},{\"attributes\":{\"legends\":[[\"Pred\",[{\"id\":\"706394c2-c89f-46c5-82ca-295ec3b3ac63\",\"type\":\"GlyphRenderer\"}]],[\"Real\",[{\"id\":\"b9e47051-973d-4005-b40d-6a53ad04630d\",\"type\":\"GlyphRenderer\"}]]],\"plot\":{\"id\":\"a8092d24-9325-4be3-a889-62f56a142c7f\",\"subtype\":\"Figure\",\"type\":\"Plot\"}},\"id\":\"d5d3af59-862c-471e-b26a-69f3e74f4164\",\"type\":\"Legend\"},{\"attributes\":{\"line_color\":{\"value\":\"darkred\"},\"x\":{\"field\":\"x\"},\"y\":{\"field\":\"y\"}},\"id\":\"50ead699-a577-4a62-8637-eb2b671ba3d8\",\"type\":\"Line\"},{\"attributes\":{\"plot\":{\"id\":\"a8092d24-9325-4be3-a889-62f56a142c7f\",\"subtype\":\"Figure\",\"type\":\"Plot\"}},\"id\":\"51c405c4-aa1e-4713-8793-90761ecbfd26\",\"type\":\"ResetTool\"},{\"attributes\":{\"line_alpha\":{\"value\":0.1},\"line_color\":{\"value\":\"#1f77b4\"},\"x\":{\"field\":\"x\"},\"y\":{\"field\":\"y\"}},\"id\":\"eb76f682-2df5-4b49-a6ef-7be0379e8ddb\",\"type\":\"Line\"},{\"attributes\":{\"callback\":null,\"column_names\":[\"y\",\"x\"],\"data\":{\"x\":[0,1,2,3,4,5,6,7,8,9,10,11,12,13,14,15,16,17,18,19,20,21,22,23,24,25,26,27,28,29,30,31,32,33,34,35,36,37,38,39,40,41,42,43,44,45,46,47,48,49,50,51,52,53,54,55,56,57,58,59,60,61,62,63,64,65,66,67,68,69,70,71,72,73,74,75,76,77,78,79,80,81,82,83,84,85,86,87,88,89,90,91,92,93,94,95,96,97,98,99,100,101,102,103,104,105,106,107,108,109,110,111,112,113,114,115,116,117,118,119,120,121,122,123,124,125,126,127,128,129,130,131,132,133,134,135,136,137,138,139,140,141,142,143,144,145,146,147,148,149,150,151,152,153,154,155,156,157,158,159,160,161,162,163,164,165,166,167,168,169,170,171,172,173,174,175,176,177,178,179,180,181,182,183,184,185,186,187,188,189,190,191,192,193,194,195,196,197,198,199,200,201,202,203,204,205,206,207,208,209,210,211,212,213,214,215,216,217,218,219,220,221,222,223,224,225,226,227,228,229,230,231,232,233,234,235,236,237,238,239,240,241,242,243,244,245,246,247,248,249,250,251,252,253,254,255,256,257,258,259,260,261,262,263,264,265,266,267,268,269,270,271,272,273,274,275,276,277,278,279,280,281,282,283,284,285,286,287,288,289,290,291,292,293,294,295,296,297,298,299,300,301,302,303,304,305,306,307,308,309,310,311,312,313,314,315,316,317,318,319,320,321,322,323,324,325,326,327,328,329,330,331,332,333,334,335,336,337,338,339,340,341,342,343,344,345,346,347,348,349,350,351,352,353,354,355,356,357,358,359,360,361,362,363,364,365,366,367,368,369,370,371,372,373,374,375,376,377,378,379,380,381,382,383,384,385,386,387,388,389,390,391,392,393,394,395,396,397,398,399,400,401,402,403,404,405,406,407,408,409,410,411,412,413,414,415,416,417,418,419,420,421,422,423,424,425,426,427,428,429,430,431,432,433,434,435,436,437,438,439,440,441,442,443,444,445,446,447,448,449,450,451,452,453,454,455,456,457,458,459,460,461,462,463,464,465,466,467,468,469,470,471,472,473,474,475,476,477,478,479,480,481,482,483,484,485,486,487,488,489,490,491,492,493,494,495,496,497,498,499,500,501,502,503,504,505,506,507,508,509,510,511,512,513,514,515,516,517,518,519,520,521,522,523,524,525,526,527,528,529,530,531,532,533,534,535,536,537,538,539,540,541,542,543,544,545,546,547,548,549,550,551,552,553,554,555,556,557,558,559,560,561,562,563,564,565,566,567,568,569,570,571,572,573,574,575,576,577,578,579,580,581,582,583,584,585,586,587,588,589,590,591,592,593,594,595,596,597,598,599,600,601,602,603,604,605,606,607,608,609,610,611,612,613,614,615,616,617,618,619,620,621,622,623,624,625,626,627,628,629,630,631,632,633,634,635,636,637,638,639,640,641,642,643,644,645,646,647,648,649,650,651,652,653,654,655,656,657,658,659,660,661,662,663,664,665,666,667,668,669,670,671,672,673,674,675,676,677,678,679,680,681,682,683,684,685,686,687,688,689,690,691,692,693,694,695,696,697,698,699,700,701,702,703,704,705,706,707,708,709,710,711,712,713,714,715,716,717,718,719,720,721,722,723,724,725,726,727,728,729,730,731,732,733,734,735,736,737,738,739,740,741,742,743,744,745,746,747,748,749,750,751,752,753,754,755,756,757,758,759,760,761,762,763,764,765,766,767,768,769,770,771,772,773,774,775,776,777,778,779,780,781,782,783,784,785,786,787,788,789,790,791,792,793,794,795,796,797,798,799,800,801,802,803,804,805,806,807,808,809,810,811,812,813,814,815,816,817,818,819,820,821,822,823,824,825,826,827,828,829,830,831,832,833,834,835,836,837,838,839,840,841,842,843,844,845,846,847,848,849,850,851,852,853,854,855,856,857,858,859,860,861,862,863,864,865,866,867,868,869,870,871,872,873,874,875,876,877,878,879,880,881,882,883,884,885,886,887,888,889,890,891,892,893,894,895,896,897,898,899,900,901,902,903,904,905,906,907,908,909,910,911,912,913,914,915,916,917,918,919,920,921,922,923,924,925,926,927,928,929,930,931,932,933,934,935,936,937,938,939,940,941,942,943,944,945,946,947,948,949,950,951,952,953,954,955,956,957,958,959,960,961,962,963,964,965,966,967,968,969,970,971,972,973,974,975,976,977,978,979,980,981,982,983,984,985,986,987,988,989,990,991,992,993,994,995,996,997,998,999,1000,1001,1002,1003,1004,1005,1006,1007,1008,1009,1010,1011,1012,1013,1014,1015,1016,1017,1018,1019,1020,1021,1022,1023,1024,1025,1026,1027,1028,1029,1030,1031,1032,1033,1034,1035,1036,1037,1038,1039,1040,1041,1042,1043,1044,1045,1046,1047,1048,1049,1050,1051,1052,1053,1054,1055,1056,1057,1058,1059,1060,1061,1062,1063,1064,1065,1066,1067,1068,1069,1070,1071,1072,1073,1074,1075,1076,1077,1078,1079,1080,1081,1082,1083,1084,1085,1086,1087,1088,1089,1090,1091,1092,1093,1094,1095,1096,1097,1098,1099,1100,1101,1102,1103,1104,1105,1106,1107,1108,1109,1110,1111,1112,1113,1114,1115,1116,1117,1118,1119,1120,1121,1122,1123,1124,1125,1126,1127,1128,1129,1130,1131,1132,1133,1134,1135,1136,1137,1138,1139,1140,1141,1142,1143,1144,1145,1146,1147,1148,1149,1150,1151,1152,1153,1154,1155,1156,1157,1158,1159,1160,1161,1162,1163,1164,1165,1166,1167,1168,1169,1170,1171,1172,1173,1174,1175,1176,1177,1178,1179,1180,1181,1182,1183,1184,1185,1186,1187,1188,1189,1190,1191,1192,1193,1194,1195,1196,1197,1198,1199,1200,1201,1202,1203,1204,1205,1206,1207,1208,1209,1210,1211,1212,1213,1214,1215,1216,1217,1218,1219,1220,1221,1222,1223,1224,1225,1226,1227,1228,1229,1230,1231,1232,1233,1234,1235,1236,1237,1238,1239,1240,1241,1242,1243,1244,1245,1246,1247,1248,1249,1250,1251,1252,1253,1254,1255,1256,1257,1258,1259,1260,1261,1262,1263,1264,1265,1266,1267,1268,1269,1270,1271,1272,1273,1274,1275,1276,1277,1278,1279,1280,1281,1282,1283,1284,1285,1286,1287,1288,1289,1290,1291,1292,1293,1294,1295,1296,1297,1298,1299,1300,1301,1302,1303,1304,1305,1306,1307,1308,1309,1310,1311,1312,1313,1314,1315,1316,1317,1318,1319,1320,1321,1322,1323,1324,1325,1326,1327,1328,1329,1330,1331,1332,1333,1334,1335,1336,1337,1338,1339,1340,1341,1342,1343,1344,1345,1346,1347,1348,1349,1350,1351,1352,1353,1354,1355,1356,1357,1358,1359,1360,1361,1362,1363,1364,1365,1366,1367,1368,1369,1370,1371,1372,1373,1374,1375,1376,1377,1378,1379,1380,1381,1382,1383,1384,1385,1386,1387,1388,1389,1390,1391,1392,1393,1394,1395,1396,1397,1398,1399,1400,1401,1402,1403,1404,1405,1406,1407,1408,1409,1410,1411,1412,1413,1414,1415,1416,1417,1418,1419,1420,1421,1422,1423,1424,1425,1426,1427,1428,1429,1430,1431,1432,1433,1434,1435,1436,1437,1438,1439,1440,1441,1442,1443,1444,1445,1446,1447,1448,1449,1450,1451,1452,1453,1454,1455,1456,1457,1458,1459,1460,1461,1462,1463,1464,1465,1466,1467,1468,1469,1470,1471,1472,1473,1474,1475,1476,1477,1478,1479,1480,1481,1482,1483,1484,1485,1486,1487,1488,1489,1490,1491,1492,1493,1494,1495,1496,1497,1498,1499,1500,1501,1502,1503,1504,1505,1506,1507,1508,1509,1510,1511,1512,1513,1514,1515,1516,1517,1518,1519,1520,1521,1522,1523,1524,1525,1526,1527,1528,1529,1530,1531,1532,1533,1534,1535,1536,1537,1538,1539,1540,1541,1542,1543,1544,1545,1546,1547,1548,1549,1550,1551,1552,1553,1554,1555,1556,1557,1558,1559,1560,1561,1562,1563,1564,1565,1566,1567,1568,1569,1570,1571,1572,1573,1574,1575,1576,1577,1578,1579,1580,1581,1582,1583,1584,1585,1586,1587,1588,1589,1590,1591,1592,1593,1594,1595,1596,1597,1598,1599,1600,1601,1602,1603,1604,1605,1606,1607,1608,1609,1610,1611,1612,1613,1614,1615,1616,1617,1618,1619,1620,1621,1622,1623,1624,1625,1626,1627,1628,1629,1630,1631,1632,1633,1634,1635,1636,1637,1638,1639,1640,1641,1642,1643,1644,1645,1646,1647,1648,1649,1650,1651,1652,1653,1654,1655,1656,1657,1658,1659,1660,1661,1662,1663,1664,1665,1666,1667,1668,1669,1670,1671,1672,1673,1674,1675,1676,1677,1678,1679,1680,1681,1682,1683,1684,1685,1686,1687,1688,1689,1690,1691,1692,1693,1694,1695,1696,1697,1698,1699,1700,1701,1702,1703,1704,1705,1706,1707,1708,1709,1710,1711,1712,1713,1714,1715,1716,1717,1718,1719,1720,1721,1722,1723,1724,1725,1726,1727,1728,1729,1730,1731,1732,1733,1734,1735,1736,1737,1738,1739,1740,1741,1742,1743,1744,1745,1746,1747,1748,1749,1750,1751,1752,1753,1754,1755,1756,1757,1758,1759,1760,1761,1762,1763,1764,1765,1766,1767,1768,1769,1770,1771,1772,1773,1774,1775,1776,1777,1778,1779,1780,1781,1782,1783,1784,1785,1786,1787,1788,1789,1790,1791,1792,1793,1794,1795,1796,1797,1798,1799,1800,1801,1802,1803,1804,1805,1806,1807,1808,1809,1810,1811,1812,1813,1814,1815,1816,1817,1818,1819,1820,1821,1822,1823,1824,1825,1826,1827,1828,1829,1830,1831,1832,1833,1834,1835,1836,1837,1838,1839,1840,1841,1842,1843,1844,1845,1846,1847,1848,1849,1850,1851,1852,1853,1854,1855,1856,1857,1858,1859,1860,1861,1862,1863,1864,1865,1866,1867,1868,1869,1870,1871,1872,1873,1874,1875,1876,1877,1878,1879,1880,1881,1882,1883,1884,1885,1886,1887,1888,1889,1890,1891,1892,1893,1894,1895,1896,1897,1898,1899,1900,1901,1902,1903,1904,1905,1906,1907,1908,1909,1910,1911,1912,1913,1914,1915,1916,1917,1918,1919,1920,1921,1922,1923,1924,1925,1926,1927,1928,1929,1930,1931,1932,1933,1934,1935,1936,1937,1938,1939,1940,1941,1942,1943,1944,1945,1946,1947,1948,1949,1950,1951,1952,1953,1954,1955,1956,1957,1958,1959,1960,1961,1962,1963,1964,1965,1966,1967,1968,1969,1970,1971,1972,1973,1974,1975,1976,1977,1978,1979,1980,1981,1982,1983,1984,1985,1986,1987,1988,1989,1990,1991,1992,1993,1994,1995,1996,1997,1998,1999,2000,2001,2002,2003,2004,2005,2006,2007,2008,2009,2010,2011,2012,2013,2014,2015,2016,2017,2018,2019,2020,2021,2022,2023,2024,2025,2026,2027,2028,2029,2030,2031,2032,2033,2034,2035,2036,2037,2038,2039,2040,2041,2042,2043,2044,2045,2046,2047,2048,2049,2050,2051,2052,2053,2054,2055,2056,2057,2058,2059,2060,2061,2062,2063,2064,2065,2066,2067,2068,2069,2070,2071,2072,2073,2074,2075,2076,2077,2078,2079,2080,2081,2082,2083,2084,2085,2086,2087,2088,2089,2090,2091,2092,2093,2094,2095,2096,2097,2098,2099,2100,2101,2102,2103,2104,2105,2106,2107,2108,2109,2110,2111,2112,2113,2114,2115,2116,2117,2118,2119,2120,2121,2122,2123,2124,2125,2126,2127,2128,2129,2130,2131,2132,2133,2134,2135,2136,2137,2138,2139,2140,2141,2142,2143,2144,2145,2146,2147,2148,2149,2150,2151,2152,2153,2154,2155,2156,2157,2158,2159,2160,2161,2162,2163,2164,2165,2166,2167,2168,2169,2170,2171,2172,2173,2174,2175,2176,2177,2178,2179,2180,2181,2182,2183,2184,2185,2186,2187,2188,2189,2190,2191,2192,2193,2194,2195,2196,2197,2198,2199,2200,2201,2202,2203,2204,2205,2206,2207,2208,2209,2210,2211,2212,2213,2214,2215,2216,2217,2218,2219,2220,2221,2222,2223,2224,2225,2226,2227,2228,2229,2230,2231,2232,2233,2234,2235,2236,2237,2238,2239,2240,2241,2242,2243,2244,2245,2246,2247,2248,2249,2250,2251,2252,2253,2254,2255,2256,2257,2258,2259,2260,2261,2262,2263,2264,2265,2266,2267,2268,2269,2270,2271,2272,2273,2274,2275,2276,2277,2278,2279,2280,2281,2282,2283,2284,2285,2286,2287,2288,2289,2290,2291,2292,2293,2294,2295,2296,2297,2298,2299,2300,2301,2302,2303,2304,2305,2306,2307,2308,2309,2310,2311,2312,2313,2314,2315,2316,2317,2318,2319,2320,2321,2322,2323,2324,2325,2326,2327,2328,2329,2330,2331,2332,2333,2334,2335,2336,2337,2338,2339,2340,2341,2342,2343,2344,2345,2346,2347,2348,2349,2350,2351,2352,2353,2354,2355,2356,2357,2358,2359,2360,2361,2362,2363,2364,2365,2366,2367,2368,2369,2370,2371,2372,2373,2374,2375,2376,2377,2378,2379,2380,2381,2382,2383,2384,2385,2386,2387,2388,2389,2390,2391,2392,2393,2394,2395,2396,2397,2398,2399,2400,2401,2402,2403,2404,2405,2406,2407,2408,2409,2410,2411,2412,2413,2414,2415,2416,2417,2418,2419,2420,2421,2422,2423,2424,2425,2426,2427,2428,2429,2430,2431,2432,2433,2434,2435,2436,2437,2438,2439,2440,2441,2442,2443,2444,2445,2446,2447,2448,2449,2450,2451,2452,2453,2454,2455,2456,2457,2458,2459,2460,2461,2462,2463,2464,2465,2466,2467,2468,2469,2470,2471,2472,2473,2474,2475,2476,2477,2478,2479,2480,2481,2482,2483,2484,2485,2486,2487,2488,2489,2490,2491,2492,2493,2494,2495,2496,2497,2498,2499,2500,2501,2502,2503,2504,2505,2506,2507,2508,2509,2510,2511,2512,2513,2514,2515,2516,2517,2518,2519,2520,2521,2522,2523,2524,2525,2526,2527,2528,2529,2530,2531,2532,2533,2534,2535,2536,2537,2538,2539,2540,2541,2542,2543,2544,2545,2546,2547,2548,2549,2550,2551,2552,2553,2554,2555,2556,2557,2558,2559,2560,2561,2562,2563,2564,2565,2566,2567,2568,2569,2570,2571,2572,2573,2574,2575,2576,2577,2578,2579,2580,2581,2582,2583,2584,2585,2586,2587,2588,2589,2590,2591,2592,2593,2594,2595,2596,2597,2598,2599,2600,2601,2602,2603,2604,2605,2606,2607,2608,2609,2610,2611,2612,2613,2614,2615,2616,2617,2618,2619,2620,2621,2622,2623,2624,2625,2626,2627,2628,2629,2630,2631,2632,2633,2634,2635,2636,2637,2638,2639,2640,2641,2642,2643,2644,2645,2646,2647,2648,2649,2650,2651,2652,2653,2654,2655,2656,2657,2658,2659,2660,2661,2662,2663,2664,2665,2666,2667,2668,2669,2670,2671,2672,2673,2674,2675,2676,2677,2678,2679,2680,2681,2682,2683,2684,2685,2686,2687,2688,2689,2690,2691,2692,2693,2694,2695,2696,2697,2698,2699,2700,2701,2702,2703,2704,2705,2706,2707,2708,2709,2710,2711,2712,2713,2714,2715,2716,2717,2718,2719,2720,2721,2722,2723,2724,2725,2726,2727,2728,2729,2730,2731,2732,2733,2734,2735,2736,2737,2738,2739,2740,2741,2742,2743,2744,2745,2746,2747,2748,2749,2750,2751,2752,2753,2754,2755,2756,2757,2758,2759,2760,2761,2762,2763,2764,2765,2766,2767,2768,2769,2770,2771,2772,2773,2774,2775,2776,2777,2778,2779,2780,2781,2782,2783,2784,2785,2786,2787,2788,2789,2790,2791,2792,2793,2794,2795,2796,2797,2798,2799,2800,2801,2802,2803,2804,2805,2806,2807,2808,2809,2810,2811,2812,2813,2814,2815,2816,2817,2818,2819,2820,2821,2822,2823,2824,2825,2826,2827,2828,2829,2830,2831,2832,2833,2834,2835,2836,2837,2838,2839,2840,2841,2842,2843,2844,2845,2846,2847,2848,2849,2850,2851,2852,2853,2854,2855,2856,2857,2858,2859,2860,2861,2862,2863,2864,2865,2866,2867,2868,2869,2870,2871,2872,2873,2874,2875,2876,2877,2878,2879,2880,2881,2882,2883,2884,2885,2886,2887,2888,2889,2890,2891,2892,2893,2894,2895,2896,2897,2898,2899,2900,2901,2902,2903,2904,2905,2906,2907,2908,2909,2910,2911,2912,2913,2914,2915,2916,2917,2918,2919,2920,2921,2922,2923,2924,2925,2926,2927,2928,2929,2930,2931,2932,2933,2934,2935,2936,2937,2938,2939,2940,2941,2942,2943,2944,2945,2946,2947,2948,2949,2950,2951,2952,2953,2954,2955,2956,2957,2958,2959,2960,2961,2962,2963,2964,2965,2966,2967,2968,2969,2970,2971,2972,2973,2974,2975,2976,2977,2978,2979,2980,2981,2982,2983,2984,2985,2986,2987,2988,2989,2990,2991,2992,2993,2994,2995,2996,2997,2998,2999,3000,3001,3002,3003,3004,3005,3006,3007,3008,3009,3010,3011,3012,3013,3014,3015,3016,3017,3018,3019,3020,3021,3022,3023,3024,3025,3026,3027,3028,3029,3030,3031,3032,3033,3034,3035,3036,3037,3038,3039,3040,3041,3042,3043,3044,3045,3046,3047,3048,3049,3050,3051,3052,3053,3054,3055,3056,3057,3058,3059,3060,3061,3062,3063,3064,3065,3066,3067,3068,3069,3070,3071,3072,3073,3074,3075,3076,3077,3078,3079,3080,3081,3082,3083,3084,3085,3086,3087,3088,3089,3090,3091,3092,3093,3094,3095,3096,3097,3098,3099,3100,3101,3102,3103,3104,3105,3106,3107,3108,3109,3110,3111,3112,3113,3114,3115,3116,3117,3118,3119,3120,3121,3122,3123,3124,3125,3126,3127,3128,3129,3130,3131,3132,3133,3134,3135,3136,3137,3138,3139,3140,3141,3142,3143,3144,3145,3146,3147,3148,3149,3150,3151,3152,3153,3154,3155,3156,3157,3158,3159,3160,3161,3162,3163,3164,3165,3166,3167,3168,3169,3170,3171,3172,3173,3174,3175,3176,3177,3178,3179,3180,3181,3182,3183,3184,3185,3186,3187,3188,3189,3190,3191,3192,3193,3194,3195,3196,3197,3198,3199,3200,3201,3202,3203,3204,3205,3206,3207,3208,3209,3210,3211,3212,3213,3214,3215,3216,3217,3218,3219,3220,3221,3222,3223,3224,3225,3226,3227,3228,3229,3230,3231,3232,3233,3234,3235,3236,3237,3238,3239,3240,3241,3242,3243,3244,3245,3246,3247,3248,3249,3250,3251,3252,3253,3254,3255,3256,3257,3258,3259,3260,3261,3262,3263,3264,3265,3266,3267,3268,3269,3270,3271,3272,3273,3274,3275,3276,3277,3278,3279,3280,3281,3282,3283,3284,3285,3286,3287,3288,3289,3290,3291,3292,3293,3294,3295,3296,3297,3298,3299,3300,3301,3302,3303,3304,3305,3306,3307,3308,3309,3310,3311,3312,3313,3314,3315,3316,3317,3318,3319,3320,3321,3322,3323,3324,3325,3326,3327,3328,3329,3330,3331,3332,3333,3334,3335,3336,3337,3338,3339,3340,3341,3342,3343,3344,3345,3346,3347,3348,3349,3350,3351,3352,3353,3354,3355,3356,3357,3358,3359,3360,3361,3362,3363,3364,3365,3366,3367,3368,3369,3370,3371,3372,3373,3374,3375,3376,3377,3378,3379,3380,3381,3382,3383,3384,3385,3386,3387,3388,3389,3390,3391,3392,3393,3394,3395,3396,3397,3398,3399,3400,3401,3402,3403,3404,3405,3406,3407,3408,3409,3410,3411,3412,3413,3414,3415,3416,3417,3418,3419,3420,3421,3422,3423,3424,3425,3426,3427,3428,3429,3430,3431,3432,3433,3434,3435,3436,3437,3438,3439,3440,3441,3442,3443,3444,3445,3446,3447,3448,3449,3450,3451,3452,3453,3454,3455,3456,3457,3458,3459,3460,3461,3462,3463,3464,3465,3466,3467,3468,3469,3470,3471,3472,3473,3474,3475,3476,3477,3478,3479,3480,3481,3482,3483,3484,3485,3486,3487,3488,3489,3490,3491,3492,3493,3494,3495,3496,3497,3498,3499,3500,3501,3502,3503,3504,3505,3506,3507,3508,3509,3510,3511,3512,3513,3514,3515,3516,3517,3518,3519,3520,3521,3522,3523,3524,3525,3526,3527,3528,3529,3530,3531,3532,3533,3534,3535,3536,3537,3538,3539,3540,3541,3542,3543,3544,3545,3546,3547,3548,3549,3550,3551,3552,3553,3554,3555,3556,3557,3558,3559,3560,3561,3562,3563,3564,3565,3566,3567,3568,3569,3570,3571,3572,3573,3574,3575,3576,3577,3578,3579,3580,3581,3582,3583,3584,3585,3586,3587,3588,3589,3590,3591,3592,3593,3594,3595,3596,3597,3598,3599,3600,3601,3602,3603,3604,3605,3606,3607,3608,3609,3610,3611,3612,3613,3614,3615,3616,3617,3618,3619,3620,3621,3622,3623,3624,3625,3626,3627,3628,3629,3630,3631,3632,3633,3634,3635,3636,3637,3638,3639,3640,3641,3642,3643,3644,3645,3646,3647,3648,3649,3650,3651,3652,3653,3654,3655,3656,3657,3658,3659,3660,3661,3662,3663,3664,3665,3666,3667,3668,3669,3670,3671,3672,3673,3674,3675,3676,3677,3678,3679,3680,3681,3682,3683,3684,3685,3686,3687,3688,3689,3690,3691,3692,3693,3694,3695,3696,3697,3698,3699,3700,3701,3702,3703,3704,3705,3706,3707,3708,3709,3710,3711,3712,3713,3714,3715,3716,3717,3718,3719,3720,3721,3722,3723,3724,3725,3726,3727,3728,3729,3730,3731,3732,3733,3734,3735,3736,3737,3738,3739,3740,3741,3742,3743,3744,3745,3746,3747,3748,3749,3750,3751,3752,3753,3754,3755,3756,3757,3758,3759,3760,3761,3762,3763,3764,3765,3766,3767,3768,3769,3770,3771,3772,3773,3774,3775,3776,3777,3778,3779,3780,3781,3782,3783,3784,3785,3786,3787,3788,3789,3790,3791,3792,3793,3794,3795,3796,3797,3798,3799,3800,3801,3802,3803,3804,3805,3806,3807,3808,3809,3810,3811,3812,3813,3814,3815,3816,3817,3818,3819,3820,3821,3822,3823,3824,3825,3826,3827,3828,3829,3830,3831,3832,3833,3834,3835,3836,3837,3838,3839,3840,3841,3842,3843,3844,3845,3846,3847,3848,3849,3850,3851,3852,3853,3854,3855,3856,3857,3858,3859,3860,3861,3862,3863,3864,3865,3866,3867,3868,3869,3870,3871,3872,3873,3874,3875,3876,3877,3878,3879,3880,3881,3882,3883,3884,3885,3886,3887,3888,3889,3890,3891,3892,3893,3894,3895,3896,3897,3898,3899,3900,3901,3902,3903,3904,3905,3906,3907,3908,3909,3910,3911,3912,3913,3914,3915,3916,3917,3918,3919,3920,3921,3922,3923,3924,3925,3926,3927,3928,3929,3930,3931,3932,3933,3934,3935,3936,3937,3938,3939,3940,3941,3942,3943,3944,3945,3946,3947,3948,3949,3950,3951,3952,3953,3954,3955,3956,3957,3958,3959,3960,3961,3962,3963,3964,3965,3966,3967,3968,3969,3970,3971,3972,3973,3974,3975,3976,3977,3978,3979,3980,3981,3982,3983,3984,3985,3986,3987,3988,3989,3990,3991,3992,3993,3994,3995,3996,3997,3998,3999,4000,4001,4002,4003,4004,4005,4006,4007,4008,4009,4010,4011,4012,4013,4014,4015,4016,4017,4018,4019,4020,4021,4022,4023,4024,4025,4026,4027,4028,4029,4030,4031,4032,4033,4034,4035,4036,4037,4038,4039,4040,4041,4042,4043,4044,4045,4046,4047,4048,4049,4050,4051,4052,4053,4054,4055,4056,4057,4058,4059,4060,4061,4062,4063,4064,4065,4066,4067,4068,4069,4070,4071,4072,4073,4074,4075,4076,4077,4078,4079,4080,4081,4082,4083,4084,4085,4086,4087,4088,4089,4090,4091,4092,4093,4094,4095,4096,4097,4098,4099,4100,4101,4102,4103,4104,4105,4106,4107,4108,4109,4110,4111,4112,4113,4114,4115,4116,4117,4118,4119,4120,4121,4122,4123,4124,4125,4126,4127,4128,4129,4130,4131,4132,4133,4134,4135,4136,4137,4138,4139,4140,4141,4142,4143,4144,4145,4146,4147,4148,4149,4150,4151,4152,4153,4154,4155,4156,4157,4158,4159,4160,4161,4162,4163,4164,4165,4166,4167,4168,4169,4170,4171,4172,4173,4174,4175,4176,4177,4178,4179,4180,4181,4182,4183,4184,4185,4186,4187,4188,4189,4190,4191,4192,4193,4194,4195,4196,4197,4198,4199,4200,4201,4202,4203,4204,4205,4206,4207,4208,4209,4210,4211,4212,4213,4214,4215,4216,4217,4218,4219,4220,4221,4222,4223,4224,4225,4226,4227,4228,4229,4230,4231,4232,4233,4234,4235,4236,4237,4238,4239,4240,4241,4242,4243,4244,4245,4246,4247,4248,4249,4250,4251,4252,4253,4254,4255,4256,4257,4258,4259,4260,4261,4262,4263,4264,4265,4266,4267,4268,4269,4270,4271,4272,4273,4274,4275,4276,4277,4278,4279,4280,4281,4282,4283,4284,4285,4286,4287,4288,4289,4290,4291,4292,4293,4294,4295,4296,4297,4298,4299,4300,4301,4302,4303,4304,4305,4306,4307,4308,4309,4310,4311,4312,4313,4314,4315,4316,4317,4318,4319,4320,4321,4322,4323,4324,4325,4326,4327,4328,4329,4330,4331,4332,4333,4334,4335,4336,4337,4338,4339,4340,4341,4342,4343,4344,4345,4346,4347,4348,4349,4350,4351,4352,4353,4354,4355,4356,4357,4358,4359,4360,4361,4362,4363,4364,4365,4366,4367,4368,4369,4370,4371,4372,4373,4374,4375,4376,4377,4378,4379,4380,4381,4382,4383,4384,4385,4386,4387,4388,4389,4390,4391,4392,4393,4394,4395,4396,4397,4398,4399,4400,4401,4402,4403,4404,4405,4406,4407,4408,4409,4410,4411,4412,4413,4414,4415,4416,4417,4418,4419,4420,4421,4422,4423,4424,4425,4426,4427,4428,4429,4430,4431,4432,4433,4434,4435,4436,4437,4438,4439,4440,4441,4442,4443,4444,4445,4446,4447,4448,4449,4450,4451,4452,4453,4454,4455,4456,4457,4458,4459,4460,4461,4462,4463,4464,4465,4466,4467,4468,4469,4470,4471,4472,4473,4474,4475,4476,4477,4478,4479,4480,4481,4482,4483,4484,4485,4486,4487,4488,4489,4490,4491,4492,4493,4494,4495,4496,4497,4498,4499,4500,4501,4502,4503,4504,4505,4506,4507,4508,4509,4510,4511,4512,4513,4514,4515,4516,4517,4518,4519,4520,4521,4522,4523,4524,4525,4526,4527,4528,4529,4530,4531,4532,4533,4534,4535,4536,4537,4538,4539,4540,4541,4542,4543,4544,4545,4546,4547,4548,4549,4550,4551,4552,4553,4554,4555,4556,4557,4558,4559,4560,4561,4562,4563,4564,4565,4566,4567,4568,4569,4570,4571,4572,4573,4574,4575,4576,4577,4578,4579,4580,4581,4582,4583,4584,4585,4586,4587,4588,4589,4590,4591,4592,4593,4594,4595,4596,4597,4598,4599,4600,4601,4602,4603,4604,4605,4606,4607,4608,4609,4610,4611,4612,4613,4614,4615,4616,4617,4618,4619,4620,4621,4622,4623,4624,4625,4626,4627,4628,4629,4630,4631,4632,4633,4634,4635,4636,4637,4638,4639,4640,4641,4642,4643,4644,4645,4646,4647,4648,4649,4650,4651,4652,4653,4654,4655,4656,4657,4658,4659,4660,4661,4662,4663,4664,4665,4666,4667,4668,4669,4670,4671,4672,4673,4674,4675,4676,4677,4678,4679,4680,4681,4682,4683,4684,4685,4686,4687,4688,4689,4690,4691,4692,4693,4694,4695,4696,4697,4698,4699,4700,4701,4702,4703,4704,4705,4706,4707,4708,4709,4710,4711,4712,4713,4714,4715,4716,4717,4718,4719,4720,4721,4722,4723,4724,4725,4726,4727,4728,4729,4730,4731,4732,4733,4734,4735,4736,4737,4738,4739,4740,4741,4742,4743,4744,4745,4746,4747,4748,4749,4750,4751,4752,4753,4754,4755,4756,4757,4758,4759,4760,4761,4762,4763,4764,4765,4766,4767,4768,4769,4770,4771,4772,4773,4774,4775,4776,4777,4778,4779,4780,4781,4782,4783,4784,4785,4786,4787,4788,4789,4790,4791,4792,4793,4794,4795,4796,4797,4798,4799,4800,4801,4802,4803,4804,4805,4806,4807,4808,4809,4810,4811,4812,4813,4814,4815,4816,4817,4818,4819,4820,4821,4822,4823,4824,4825,4826,4827,4828,4829,4830,4831,4832,4833,4834,4835,4836,4837,4838,4839,4840,4841,4842,4843,4844,4845,4846,4847,4848,4849,4850,4851,4852,4853,4854,4855,4856,4857,4858,4859,4860,4861,4862,4863,4864,4865,4866,4867,4868,4869,4870,4871,4872,4873,4874,4875,4876,4877,4878,4879,4880,4881,4882,4883,4884,4885,4886,4887,4888,4889,4890,4891,4892,4893,4894,4895,4896,4897,4898,4899,4900,4901,4902,4903,4904,4905,4906,4907,4908,4909,4910,4911,4912,4913,4914,4915,4916,4917,4918,4919,4920,4921,4922,4923,4924,4925,4926,4927,4928,4929,4930,4931,4932,4933,4934,4935,4936,4937,4938,4939,4940,4941,4942,4943,4944,4945,4946,4947,4948,4949,4950,4951,4952,4953,4954,4955,4956,4957,4958,4959,4960,4961,4962,4963,4964,4965,4966,4967,4968,4969,4970,4971,4972,4973,4974,4975,4976,4977,4978,4979,4980,4981,4982,4983,4984,4985,4986,4987,4988,4989,4990,4991,4992,4993,4994,4995,4996,4997,4998,4999,5000,5001,5002,5003,5004,5005,5006,5007,5008,5009,5010,5011,5012,5013,5014,5015,5016,5017,5018,5019,5020,5021,5022,5023,5024,5025,5026,5027,5028,5029,5030,5031,5032,5033,5034,5035,5036,5037,5038,5039,5040,5041,5042,5043,5044,5045,5046,5047,5048,5049,5050,5051,5052,5053,5054,5055,5056,5057,5058,5059,5060,5061,5062,5063,5064,5065,5066,5067,5068,5069,5070,5071,5072,5073,5074,5075,5076,5077,5078,5079,5080,5081,5082,5083,5084,5085,5086,5087,5088,5089,5090,5091,5092,5093,5094,5095,5096,5097,5098,5099,5100,5101,5102,5103,5104,5105,5106,5107,5108,5109,5110,5111,5112,5113,5114,5115,5116,5117,5118,5119,5120,5121,5122,5123,5124,5125,5126,5127,5128,5129,5130,5131,5132,5133,5134,5135,5136,5137,5138,5139,5140,5141,5142,5143,5144,5145,5146,5147,5148,5149,5150,5151,5152,5153,5154,5155,5156,5157,5158,5159,5160,5161,5162,5163,5164,5165,5166,5167,5168,5169,5170,5171,5172,5173,5174,5175,5176,5177,5178,5179,5180,5181,5182,5183,5184,5185,5186,5187,5188,5189,5190,5191,5192,5193,5194,5195,5196,5197,5198,5199,5200,5201,5202,5203,5204,5205,5206,5207,5208,5209,5210,5211,5212,5213,5214,5215,5216,5217,5218,5219,5220,5221,5222,5223,5224,5225,5226,5227,5228,5229,5230,5231,5232,5233,5234,5235,5236,5237,5238,5239,5240,5241,5242,5243,5244,5245,5246,5247,5248,5249,5250,5251,5252,5253,5254,5255,5256,5257,5258,5259,5260,5261,5262,5263,5264,5265,5266,5267,5268,5269,5270,5271,5272,5273,5274,5275,5276,5277,5278,5279,5280,5281,5282,5283,5284,5285,5286,5287,5288,5289,5290,5291,5292,5293,5294,5295,5296,5297,5298,5299,5300,5301,5302,5303,5304,5305,5306,5307,5308,5309,5310,5311,5312,5313,5314,5315,5316,5317,5318,5319,5320,5321,5322,5323,5324,5325,5326,5327,5328,5329,5330,5331,5332,5333,5334,5335,5336,5337,5338,5339,5340,5341,5342,5343,5344,5345,5346,5347,5348,5349,5350,5351,5352,5353,5354,5355,5356,5357,5358,5359,5360,5361,5362,5363,5364,5365,5366,5367,5368,5369,5370,5371,5372,5373,5374,5375,5376,5377,5378,5379,5380,5381,5382,5383,5384,5385,5386,5387,5388,5389,5390,5391,5392,5393,5394,5395,5396,5397,5398,5399,5400,5401,5402,5403,5404,5405,5406,5407,5408,5409,5410,5411,5412,5413,5414,5415,5416,5417,5418,5419,5420,5421,5422,5423,5424,5425,5426,5427,5428,5429,5430,5431,5432,5433,5434,5435,5436,5437,5438,5439,5440,5441,5442,5443,5444,5445,5446,5447,5448,5449,5450,5451,5452,5453,5454,5455,5456,5457,5458,5459,5460,5461,5462,5463,5464,5465,5466,5467,5468,5469,5470,5471,5472,5473,5474,5475,5476,5477,5478,5479,5480,5481,5482,5483,5484,5485,5486,5487,5488,5489,5490,5491,5492,5493,5494,5495,5496,5497,5498,5499,5500,5501,5502,5503,5504,5505,5506,5507,5508,5509,5510,5511,5512,5513,5514,5515,5516,5517,5518,5519,5520,5521,5522,5523,5524,5525,5526,5527,5528,5529,5530,5531,5532,5533,5534,5535,5536,5537,5538,5539,5540,5541,5542,5543,5544,5545,5546,5547,5548,5549,5550,5551,5552,5553,5554,5555,5556,5557,5558,5559,5560,5561,5562,5563,5564,5565,5566,5567,5568,5569,5570,5571,5572,5573,5574,5575,5576,5577,5578,5579,5580,5581,5582,5583,5584,5585,5586,5587,5588,5589,5590,5591,5592,5593,5594,5595,5596,5597,5598,5599,5600,5601,5602,5603,5604,5605,5606,5607,5608,5609,5610,5611,5612,5613,5614,5615,5616,5617,5618,5619,5620,5621,5622,5623,5624,5625,5626,5627,5628,5629,5630,5631,5632,5633,5634,5635,5636,5637,5638,5639,5640,5641,5642,5643,5644,5645,5646,5647,5648,5649,5650,5651,5652,5653,5654,5655,5656,5657,5658,5659,5660,5661,5662,5663,5664,5665,5666,5667,5668,5669,5670,5671,5672,5673,5674,5675,5676,5677,5678,5679,5680,5681,5682,5683,5684,5685,5686,5687,5688,5689,5690,5691,5692,5693,5694,5695,5696,5697,5698,5699,5700,5701,5702,5703,5704,5705,5706,5707,5708,5709,5710,5711,5712,5713,5714,5715,5716,5717,5718,5719,5720,5721,5722,5723,5724,5725,5726,5727,5728,5729,5730,5731,5732,5733,5734,5735,5736,5737,5738,5739,5740,5741,5742,5743,5744,5745,5746,5747,5748,5749,5750,5751,5752,5753,5754,5755,5756,5757,5758,5759,5760,5761,5762,5763,5764,5765,5766,5767,5768,5769,5770,5771,5772,5773,5774,5775,5776,5777,5778,5779,5780,5781,5782,5783,5784,5785,5786,5787,5788,5789,5790,5791,5792,5793,5794,5795,5796,5797,5798,5799,5800,5801,5802,5803,5804,5805,5806,5807,5808,5809,5810,5811,5812,5813,5814,5815,5816,5817,5818,5819,5820,5821,5822,5823,5824,5825,5826,5827,5828,5829,5830,5831,5832,5833,5834,5835,5836,5837,5838,5839,5840,5841,5842,5843,5844,5845,5846,5847,5848,5849,5850,5851,5852,5853,5854,5855,5856,5857,5858,5859,5860,5861,5862,5863,5864,5865,5866,5867,5868,5869,5870,5871,5872,5873,5874,5875,5876,5877,5878,5879,5880,5881,5882,5883,5884,5885,5886,5887,5888,5889,5890,5891,5892,5893,5894,5895,5896,5897,5898,5899,5900,5901,5902,5903,5904,5905,5906,5907,5908,5909,5910,5911,5912,5913,5914,5915,5916,5917,5918,5919,5920,5921,5922,5923,5924,5925,5926,5927,5928,5929,5930,5931,5932,5933,5934,5935,5936,5937,5938,5939,5940,5941,5942,5943,5944,5945,5946,5947,5948,5949,5950,5951,5952,5953,5954,5955,5956,5957,5958,5959,5960,5961,5962,5963,5964,5965,5966,5967,5968,5969,5970,5971,5972,5973,5974,5975,5976,5977,5978,5979,5980,5981,5982,5983,5984,5985,5986,5987,5988,5989,5990,5991,5992,5993,5994,5995,5996,5997,5998,5999,6000,6001,6002,6003,6004,6005,6006,6007,6008,6009,6010,6011,6012,6013,6014,6015,6016,6017,6018,6019,6020,6021,6022,6023,6024,6025,6026,6027,6028,6029,6030,6031,6032,6033,6034,6035,6036,6037,6038,6039,6040,6041,6042,6043,6044,6045,6046,6047,6048,6049,6050,6051,6052,6053,6054,6055,6056,6057,6058,6059,6060,6061,6062,6063,6064,6065,6066,6067,6068,6069,6070,6071,6072,6073,6074,6075,6076,6077,6078,6079,6080,6081,6082,6083,6084,6085,6086,6087,6088,6089,6090,6091,6092,6093,6094,6095,6096,6097,6098,6099,6100,6101,6102,6103,6104,6105,6106,6107,6108,6109,6110,6111,6112,6113,6114,6115,6116,6117,6118,6119,6120,6121,6122,6123,6124,6125,6126,6127,6128,6129,6130,6131,6132,6133,6134,6135,6136,6137,6138,6139,6140,6141,6142,6143,6144,6145,6146,6147,6148,6149,6150,6151,6152,6153,6154,6155,6156,6157,6158,6159,6160,6161,6162,6163,6164,6165,6166,6167,6168,6169,6170,6171,6172,6173,6174,6175,6176,6177,6178,6179,6180,6181,6182,6183,6184,6185,6186,6187,6188,6189,6190,6191,6192,6193,6194,6195,6196,6197,6198,6199,6200,6201,6202,6203,6204,6205,6206,6207,6208,6209,6210,6211,6212,6213,6214,6215,6216,6217,6218,6219,6220,6221,6222,6223,6224,6225,6226,6227,6228,6229,6230,6231,6232,6233,6234,6235,6236,6237,6238,6239,6240,6241,6242,6243,6244,6245,6246,6247,6248,6249,6250,6251,6252,6253,6254,6255,6256,6257,6258,6259,6260,6261,6262,6263,6264,6265,6266,6267,6268,6269,6270,6271,6272,6273,6274,6275,6276,6277,6278,6279,6280,6281,6282,6283,6284,6285,6286,6287,6288,6289,6290,6291,6292,6293,6294,6295,6296,6297,6298,6299,6300,6301,6302,6303,6304,6305,6306,6307,6308,6309,6310,6311,6312,6313,6314,6315,6316,6317,6318,6319,6320,6321,6322,6323,6324,6325,6326,6327,6328,6329,6330,6331,6332,6333,6334,6335,6336,6337,6338,6339,6340,6341,6342,6343,6344,6345,6346,6347,6348,6349,6350,6351,6352,6353,6354,6355,6356,6357,6358,6359,6360,6361,6362,6363,6364,6365,6366,6367,6368,6369,6370,6371,6372,6373,6374,6375,6376,6377,6378,6379,6380,6381,6382,6383,6384,6385,6386,6387,6388,6389,6390,6391,6392,6393,6394,6395,6396,6397,6398,6399,6400,6401,6402,6403,6404,6405,6406,6407,6408,6409,6410,6411,6412,6413,6414,6415,6416,6417,6418,6419,6420,6421,6422,6423,6424,6425,6426,6427,6428,6429,6430,6431,6432,6433,6434,6435,6436,6437,6438,6439,6440,6441,6442,6443,6444,6445,6446,6447,6448,6449,6450,6451,6452,6453,6454,6455,6456,6457,6458,6459,6460,6461,6462,6463,6464,6465,6466,6467,6468,6469,6470,6471,6472,6473,6474,6475,6476,6477,6478,6479,6480,6481,6482,6483,6484,6485,6486,6487,6488,6489,6490,6491,6492,6493,6494,6495,6496,6497,6498,6499,6500,6501,6502,6503,6504,6505,6506,6507,6508,6509,6510,6511,6512,6513,6514,6515,6516,6517,6518,6519,6520,6521,6522,6523,6524,6525,6526,6527,6528,6529,6530,6531,6532,6533,6534,6535,6536,6537,6538,6539,6540,6541,6542,6543,6544,6545,6546,6547,6548,6549,6550,6551,6552,6553,6554,6555,6556,6557,6558,6559,6560,6561,6562,6563,6564,6565,6566,6567,6568,6569,6570,6571,6572,6573,6574,6575,6576,6577,6578,6579,6580,6581,6582,6583,6584,6585,6586,6587,6588,6589,6590,6591,6592,6593,6594,6595,6596,6597,6598,6599,6600,6601,6602,6603,6604,6605,6606,6607,6608,6609,6610,6611,6612,6613,6614,6615,6616,6617,6618,6619,6620,6621,6622,6623,6624,6625,6626,6627,6628,6629,6630,6631,6632,6633,6634,6635,6636,6637,6638,6639,6640,6641,6642,6643,6644,6645,6646,6647,6648,6649,6650,6651,6652,6653,6654,6655,6656,6657,6658,6659,6660,6661,6662,6663,6664,6665,6666,6667,6668,6669,6670,6671,6672,6673,6674,6675,6676,6677,6678,6679,6680,6681,6682,6683,6684,6685,6686,6687,6688,6689,6690,6691,6692,6693,6694,6695,6696,6697,6698,6699,6700,6701,6702,6703,6704,6705,6706,6707,6708,6709,6710,6711,6712,6713,6714,6715,6716,6717,6718,6719,6720,6721,6722,6723,6724,6725,6726,6727,6728,6729,6730,6731,6732,6733,6734,6735,6736,6737,6738,6739,6740,6741,6742,6743,6744,6745,6746,6747,6748,6749,6750,6751,6752,6753,6754,6755,6756,6757,6758,6759,6760,6761,6762,6763,6764,6765,6766,6767,6768,6769,6770,6771,6772,6773,6774,6775,6776,6777,6778,6779,6780,6781,6782,6783,6784,6785,6786,6787,6788,6789,6790,6791,6792,6793,6794,6795,6796,6797,6798,6799,6800,6801,6802,6803,6804,6805,6806,6807,6808,6809,6810,6811,6812,6813,6814,6815,6816,6817,6818,6819,6820,6821,6822,6823,6824,6825,6826,6827,6828,6829,6830,6831,6832,6833,6834,6835,6836,6837,6838,6839,6840,6841,6842,6843,6844,6845,6846,6847,6848,6849,6850,6851,6852,6853,6854,6855,6856,6857,6858,6859,6860,6861,6862,6863,6864,6865,6866,6867,6868,6869,6870,6871,6872,6873,6874,6875,6876,6877,6878,6879,6880,6881,6882,6883,6884,6885,6886,6887,6888,6889,6890,6891,6892,6893,6894,6895,6896,6897,6898,6899,6900,6901,6902,6903,6904,6905,6906,6907,6908,6909,6910,6911,6912,6913,6914,6915,6916,6917,6918,6919,6920,6921,6922,6923,6924,6925,6926,6927,6928,6929,6930,6931,6932,6933,6934,6935,6936,6937,6938,6939,6940,6941,6942,6943,6944,6945,6946,6947,6948,6949,6950,6951,6952,6953,6954,6955,6956,6957,6958,6959,6960,6961,6962,6963,6964,6965,6966,6967,6968,6969,6970,6971,6972,6973,6974,6975,6976,6977,6978,6979,6980,6981,6982,6983,6984,6985,6986,6987,6988,6989,6990,6991,6992,6993,6994,6995,6996,6997,6998,6999,7000,7001,7002,7003,7004,7005,7006,7007,7008,7009,7010,7011,7012,7013,7014,7015,7016,7017,7018,7019,7020,7021,7022,7023,7024,7025,7026,7027,7028,7029,7030,7031,7032,7033,7034,7035,7036,7037,7038,7039,7040,7041,7042,7043,7044,7045,7046,7047,7048,7049,7050,7051,7052,7053,7054,7055,7056,7057,7058,7059,7060,7061,7062,7063,7064,7065,7066,7067,7068,7069,7070,7071,7072,7073,7074,7075,7076,7077,7078,7079,7080,7081,7082,7083,7084,7085,7086,7087,7088,7089,7090,7091,7092,7093,7094,7095,7096,7097,7098,7099,7100,7101,7102,7103,7104,7105,7106,7107,7108,7109,7110,7111,7112,7113,7114,7115,7116,7117,7118,7119,7120,7121,7122,7123,7124,7125,7126,7127,7128,7129,7130,7131,7132,7133,7134,7135,7136,7137,7138,7139,7140,7141,7142,7143,7144,7145,7146,7147,7148,7149,7150,7151,7152,7153,7154,7155,7156,7157,7158,7159,7160,7161,7162,7163,7164,7165,7166,7167,7168,7169,7170,7171,7172,7173,7174,7175,7176,7177,7178,7179,7180,7181,7182,7183,7184,7185,7186,7187,7188,7189,7190,7191,7192,7193,7194,7195,7196,7197,7198,7199,7200,7201,7202,7203,7204,7205,7206,7207,7208,7209,7210,7211,7212,7213,7214,7215,7216,7217,7218,7219,7220,7221,7222,7223,7224,7225,7226,7227,7228,7229,7230,7231,7232,7233,7234,7235,7236,7237,7238,7239,7240,7241,7242,7243,7244,7245,7246,7247,7248,7249,7250,7251,7252,7253,7254,7255,7256,7257,7258,7259,7260,7261,7262,7263,7264,7265,7266,7267,7268,7269,7270,7271,7272,7273,7274,7275,7276,7277,7278,7279,7280,7281,7282,7283,7284,7285,7286,7287,7288,7289,7290,7291,7292,7293,7294,7295,7296,7297,7298,7299,7300,7301,7302,7303,7304,7305,7306,7307,7308,7309,7310,7311,7312,7313,7314,7315,7316,7317,7318,7319,7320,7321,7322,7323,7324,7325,7326,7327,7328,7329,7330,7331,7332,7333,7334,7335,7336,7337,7338,7339,7340,7341,7342,7343,7344,7345,7346,7347,7348,7349,7350,7351,7352,7353,7354,7355,7356,7357,7358,7359,7360,7361,7362,7363,7364,7365,7366,7367,7368,7369,7370,7371,7372,7373,7374,7375,7376,7377,7378,7379,7380,7381,7382,7383,7384,7385,7386,7387,7388,7389,7390,7391,7392,7393,7394,7395,7396,7397,7398,7399,7400,7401,7402,7403,7404,7405,7406,7407,7408,7409,7410,7411,7412,7413,7414,7415,7416,7417,7418,7419,7420,7421,7422,7423,7424,7425,7426,7427,7428,7429,7430,7431,7432,7433,7434,7435,7436,7437,7438,7439,7440,7441,7442,7443,7444,7445,7446,7447,7448,7449,7450,7451,7452,7453,7454,7455,7456,7457,7458,7459,7460,7461,7462,7463,7464,7465,7466,7467,7468,7469,7470,7471,7472,7473,7474,7475,7476,7477,7478,7479,7480,7481,7482,7483,7484,7485,7486,7487,7488,7489,7490,7491,7492,7493,7494,7495,7496,7497,7498,7499,7500,7501,7502,7503,7504,7505,7506,7507,7508,7509,7510,7511,7512,7513,7514,7515,7516,7517,7518,7519,7520,7521,7522,7523,7524,7525,7526,7527,7528,7529,7530,7531,7532,7533,7534,7535,7536,7537,7538,7539,7540,7541,7542,7543,7544,7545,7546,7547,7548,7549,7550,7551,7552,7553,7554,7555,7556,7557,7558,7559,7560,7561,7562,7563,7564,7565,7566,7567,7568,7569,7570,7571,7572,7573,7574,7575,7576,7577,7578,7579,7580,7581,7582,7583,7584,7585,7586,7587,7588,7589,7590,7591,7592,7593,7594,7595,7596,7597,7598,7599,7600,7601,7602,7603,7604,7605,7606,7607,7608,7609,7610,7611,7612,7613,7614,7615,7616,7617,7618,7619,7620,7621,7622,7623,7624,7625,7626,7627,7628,7629,7630,7631,7632,7633,7634,7635,7636,7637,7638,7639,7640,7641,7642,7643,7644,7645,7646,7647,7648,7649,7650,7651,7652,7653,7654,7655,7656,7657,7658,7659,7660,7661,7662,7663,7664,7665,7666,7667,7668,7669,7670,7671,7672,7673,7674,7675,7676,7677,7678,7679,7680,7681,7682,7683,7684,7685,7686,7687,7688,7689,7690,7691,7692,7693,7694,7695,7696,7697,7698,7699,7700,7701,7702,7703,7704,7705,7706,7707,7708,7709,7710,7711,7712,7713,7714,7715,7716,7717,7718,7719,7720,7721,7722,7723,7724,7725,7726,7727,7728,7729,7730,7731,7732,7733,7734,7735,7736,7737,7738,7739,7740,7741,7742,7743,7744,7745,7746,7747,7748,7749,7750,7751,7752,7753,7754,7755,7756,7757,7758,7759,7760,7761,7762,7763,7764,7765,7766,7767,7768,7769,7770,7771,7772,7773,7774,7775,7776,7777,7778,7779,7780,7781,7782,7783,7784,7785,7786,7787,7788,7789,7790,7791,7792,7793,7794,7795,7796,7797,7798,7799,7800,7801,7802,7803,7804,7805,7806,7807,7808,7809,7810,7811,7812,7813,7814,7815,7816,7817,7818,7819,7820,7821,7822,7823,7824,7825,7826,7827,7828,7829,7830,7831,7832,7833,7834,7835,7836,7837,7838,7839,7840,7841,7842,7843,7844,7845,7846,7847,7848,7849,7850,7851,7852,7853,7854,7855,7856,7857,7858,7859,7860,7861,7862,7863,7864,7865,7866,7867,7868,7869,7870,7871,7872,7873,7874,7875,7876,7877,7878,7879,7880,7881,7882,7883,7884,7885,7886,7887,7888,7889,7890,7891,7892,7893,7894,7895,7896,7897,7898,7899,7900,7901,7902,7903,7904,7905,7906,7907,7908,7909,7910,7911,7912,7913,7914,7915,7916,7917,7918,7919,7920,7921,7922,7923,7924,7925,7926,7927,7928,7929,7930,7931,7932,7933,7934,7935,7936,7937,7938,7939,7940,7941,7942,7943,7944,7945,7946,7947,7948,7949,7950,7951,7952,7953,7954,7955,7956,7957,7958,7959,7960,7961,7962,7963,7964,7965,7966,7967,7968,7969,7970,7971,7972,7973,7974,7975,7976,7977,7978,7979,7980,7981,7982,7983,7984,7985,7986,7987,7988,7989,7990,7991,7992,7993,7994,7995,7996,7997,7998,7999,8000,8001,8002,8003,8004,8005,8006,8007,8008,8009,8010,8011,8012,8013,8014,8015,8016,8017,8018,8019,8020,8021,8022,8023,8024,8025,8026,8027,8028,8029,8030,8031,8032,8033,8034,8035,8036,8037,8038,8039,8040,8041,8042,8043,8044,8045,8046,8047,8048,8049,8050,8051,8052,8053,8054,8055,8056,8057,8058,8059,8060,8061,8062,8063,8064,8065,8066,8067,8068,8069,8070,8071,8072,8073,8074,8075,8076,8077,8078,8079,8080,8081,8082,8083,8084,8085,8086,8087,8088,8089,8090,8091,8092,8093,8094,8095,8096,8097,8098,8099,8100,8101,8102,8103,8104,8105,8106,8107,8108,8109,8110,8111,8112,8113,8114,8115,8116,8117,8118,8119,8120,8121,8122,8123,8124,8125,8126,8127,8128,8129,8130,8131,8132,8133,8134,8135,8136,8137,8138,8139,8140,8141,8142,8143,8144,8145,8146,8147,8148,8149,8150,8151,8152,8153,8154,8155,8156,8157,8158,8159,8160,8161,8162,8163,8164,8165,8166,8167,8168,8169,8170,8171,8172,8173,8174,8175,8176,8177,8178,8179,8180,8181,8182,8183,8184,8185,8186,8187,8188,8189,8190,8191,8192,8193,8194,8195,8196,8197,8198,8199,8200,8201,8202,8203,8204,8205,8206,8207,8208,8209,8210,8211,8212,8213,8214,8215,8216,8217,8218,8219,8220,8221,8222,8223,8224,8225,8226,8227,8228,8229,8230,8231,8232,8233,8234,8235,8236,8237,8238,8239,8240,8241,8242,8243,8244,8245,8246,8247,8248,8249,8250,8251,8252,8253,8254,8255,8256,8257,8258,8259,8260,8261,8262,8263,8264,8265,8266,8267,8268,8269,8270,8271,8272,8273,8274,8275,8276,8277,8278,8279,8280,8281,8282,8283,8284,8285,8286,8287,8288,8289,8290,8291,8292,8293,8294,8295,8296,8297,8298,8299,8300,8301,8302,8303,8304,8305,8306,8307,8308,8309,8310,8311,8312,8313,8314,8315,8316,8317,8318,8319,8320,8321,8322,8323,8324,8325,8326,8327,8328,8329,8330,8331,8332,8333,8334,8335,8336,8337,8338,8339,8340,8341,8342,8343,8344,8345,8346,8347,8348,8349,8350,8351,8352,8353,8354,8355,8356,8357,8358,8359,8360,8361,8362,8363,8364,8365,8366,8367,8368,8369,8370,8371,8372,8373,8374,8375,8376,8377,8378,8379,8380,8381,8382,8383,8384,8385,8386,8387,8388,8389,8390,8391,8392,8393,8394,8395,8396,8397,8398,8399,8400,8401,8402,8403,8404,8405,8406,8407,8408,8409,8410,8411,8412,8413,8414,8415,8416,8417,8418,8419,8420,8421,8422,8423,8424,8425,8426,8427,8428,8429,8430,8431,8432,8433,8434,8435,8436,8437,8438,8439,8440,8441,8442,8443,8444,8445,8446,8447,8448,8449,8450,8451,8452,8453,8454,8455,8456,8457,8458,8459,8460,8461,8462,8463,8464,8465,8466,8467,8468,8469,8470,8471,8472,8473,8474,8475,8476,8477,8478,8479,8480,8481,8482,8483,8484,8485,8486,8487,8488,8489,8490,8491,8492,8493,8494,8495,8496,8497,8498,8499,8500,8501,8502,8503,8504,8505,8506,8507,8508,8509,8510,8511,8512,8513,8514,8515,8516,8517,8518,8519,8520,8521,8522,8523,8524,8525,8526,8527,8528,8529,8530,8531,8532,8533,8534,8535,8536,8537,8538,8539,8540,8541,8542,8543,8544,8545,8546,8547,8548,8549,8550,8551,8552,8553,8554,8555,8556,8557,8558,8559,8560,8561,8562,8563,8564,8565,8566,8567,8568,8569,8570,8571,8572,8573,8574,8575,8576,8577,8578,8579,8580,8581,8582,8583,8584,8585,8586,8587,8588,8589,8590,8591,8592,8593,8594,8595,8596,8597,8598,8599,8600,8601,8602,8603,8604,8605,8606,8607,8608,8609,8610,8611,8612,8613,8614,8615,8616,8617,8618,8619,8620,8621,8622,8623,8624,8625,8626,8627,8628,8629,8630,8631,8632,8633,8634,8635,8636,8637,8638,8639,8640,8641,8642,8643,8644,8645,8646,8647,8648,8649,8650,8651,8652,8653,8654,8655,8656,8657,8658,8659,8660,8661,8662,8663,8664,8665,8666,8667,8668,8669,8670,8671,8672,8673,8674,8675,8676,8677,8678,8679,8680,8681,8682,8683,8684,8685,8686,8687,8688,8689,8690,8691,8692,8693,8694,8695,8696,8697,8698,8699,8700,8701,8702,8703,8704,8705,8706,8707,8708,8709,8710,8711,8712,8713,8714,8715,8716,8717,8718,8719,8720,8721,8722,8723,8724,8725,8726,8727,8728,8729,8730,8731,8732,8733,8734,8735,8736,8737,8738,8739,8740,8741,8742,8743,8744,8745,8746,8747,8748,8749,8750,8751,8752,8753,8754,8755,8756,8757,8758,8759,8760,8761,8762,8763,8764,8765,8766,8767,8768,8769,8770,8771,8772,8773,8774,8775,8776,8777],\"y\":[34.094725000000004,34.16858333333333,34.84469166666667,35.95695,35.51850833333333,36.07464166666667,36.882299999999994,41.45825833333334,39.49449166666667,38.317625,39.36065,39.58680833333333,39.35605,37.59074166666667,35.36620833333333,35.398508333333325,34.38548333333333,33.162458333333326,39.98833333333334,34.67163333333333,30.97948333333333,31.014083333333332,31.224100000000004,31.330233333333336,31.542525,31.473283333333328,33.04246666666666,32.65015833333333,32.26710833333333,35.13314166666667,42.41590833333333,56.67915833333334,56.72761666666667,57.28375,59.36289166666666,46.97341666666666,40.8583,40.131400000000006,43.982775000000004,39.72755833333333,39.632941666666675,46.761125,48.334891666666664,47.432633333333335,44.75814166666666,35.21853333333333,28.736508333333337,27.940383333333333,27.944991666666667,28.443424999999994,28.856483333333333,30.005666666666666,30.275666666666663,30.01258333333333,32.21863333333334,36.71848333333333,42.076699999999995,50.746341666666666,49.285650000000004,45.85423333333333,44.88966666666666,45.473466666666674,44.504308333333334,40.74752500000001,39.23373333333334,44.06124166666667,44.4766,45.323483333333336,45.268116666666664,35.83465,28.60956666666667,28.217274999999997,27.405,24.35666666666667,21.993683333333326,22.9352,25.53816666666667,27.176550000000002,30.11413333333333,31.1364,40.15215833333334,44.324299999999994,50.192524999999996,42.24053333333333,40.65291666666667,38.37070833333333,37.72689166666667,36.870749999999994,37.38765833333333,45.23348333333334,44.575825,44.88044166666666,45.101949999999995,35.83235833333333,29.75645,31.332525000000004,33.58245,30.79025,22.462141666666668,22.092924999999997,25.150483333333337,26.216616666666667,30.227208333333333,31.835566666666665,41.485958333333336,49.073350000000005,52.50704166666666,45.83115000000001,42.019000000000005,37.82379166666667,38.317633333333326,37.724575,41.87593333333333,47.45570000000001,45.411183333333334,45.275025,45.79655833333334,35.590050000000005,28.618816666666664,27.62884166666667,26.742724999999997,23.502866666666666,22.706733333333332,23.214416666666665,23.55825833333333,22.556766666666665,26.163524999999996,27.91268333333333,37.754583333333336,43.703558333333326,48.05105833333332,42.32362500000001,41.5575,40.371383333333334,37.54919999999999,39.46219166666666,41.90593333333334,48.579499999999996,46.698808333333325,54.477725,47.31495,38.63145833333334,30.084133333333337,28.701858333333334,28.406500000000005,25.851991666666667,23.276716666666662,23.302100000000006,23.842091666666665,24.266675000000003,34.9347,34.069358333333334,46.451908333333336,51.318625,52.202441666666665,48.04414166666666,47.305716666666676,44.658908333333336,41.42365833333333,43.5605,47.06344166666667,47.9357,46.03884166666666,46.63650833333333,45.90039166666667,37.74996666666667,29.449550000000002,27.938058333333334,27.598866666666666,23.869775,21.864475,22.090616666666666,25.155100000000004,24.723583333333337,25.701999999999998,27.878074999999995,39.96294166666666,38.63146666666667,37.64841666666666,40.228316666666665,45.42039166666666,40.77521666666667,37.299975,35.74926666666667,40.041383333333336,35.190850000000005,28.923416666666665,29.479533333333332,29.85105833333333,29.32723333333333,29.56721666666667,29.78413333333333,29.179558333333336,26.818875000000002,26.853491666666667,28.694966666666673,30.543341666666663,31.04409166666667,40.020633333333336,42.235933333333335,52.39394999999999,57.862950000000005,56.591475,48.34641666666667,44.326625,42.08592500000001,38.866825,37.798424999999995,41.70055833333333,47.66799166666666,48.27489166666667,46.1173,48.48259166666666,36.836175,29.8372,28.97646666666667,28.464183333333335,27.058883333333338,25.67664166666667,32.29481666666666,33.16014166666667,29.057241666666666,34.61625,38.13763333333333,53.30776666666666,56.044575,50.67940833333333,44.74198333333334,44.391225,41.77900833333333,41.693650000000005,42.14131666666667,48.835658333333335,55.968425,48.94409999999999,47.69801666666666,50.342524999999995,37.964558333333336,30.305658333333337,30.208725000000005,28.625716666666666,27.391158333333337,25.365083333333335,26.486591666666666,27.045033333333333,28.055741666666663,31.58405833333333,32.97323333333333,43.731241666666676,52.474725,55.79305,50.81325833333333,44.735058333333335,42.87745,38.797608333333336,40.02064166666667,42.662816666666664,52.20243333333334,49.09640833333333,52.46548333333334,50.695575,48.729516666666676,38.55761666666667,34.415483333333334,35.56235833333333,32.72169999999999,32.347874999999995,39.559108333333334,37.14305833333333,33.31245833333333,42.05824166666667,43.373574999999995,59.59364166666668,55.998416666666664,61.63126666666667,53.298525000000005,50.25483333333333,48.11337499999999,44.538900000000005,40.918299999999995,43.098966666666676,51.15709999999999,50.619416666666666,50.259441666666675,50.46019999999999,41.40979999999999,34.36010833333333,35.5739,39.748324999999994,33.52706666666666,33.12785,34.48240833333333,37.50535000000001,36.47155833333333,35.93158333333333,37.766108333333335,49.58331666666667,57.71528333333334,60.253641666666674,52.70086666666666,48.45489999999999,41.483650000000004,41.70518333333333,40.49138333333334,40.193708333333326,48.037233333333326,50.27327500000001,50.48789166666666,49.85329166666667,39.95601666666666,31.247174999999995,30.231808333333333,31.593283333333332,30.601033333333334,33.94936666666666,38.60145000000001,36.59845833333333,34.4224,36.97691666666666,38.6453,50.68633333333333,56.65609166666667,61.631266666666676,52.12166666666667,46.09650833333333,43.4128,40.96673333333334,39.95603333333333,40.60445833333333,46.44266666666667,46.68496666666666,46.15884166666667,47.41187500000001,36.31925833333333,30.351799999999997,30.289500000000004,30.35643333333334,27.36576666666667,27.47191666666667,26.655041666666673,28.071908333333337,27.75114166666667,27.961141666666663,24.931258333333332,33.229375,31.48715,33.300925,35.12160833333334,38.633766666666666,34.775475,35.26699166666666,35.48619166666666,36.342325,35.12161666666667,30.035666666666668,31.9902,33.53398333333333,31.579449999999998,30.827183333333334,30.416441666666667,30.31028333333334,28.26805,27.86883333333333,30.70486666666667,31.983274999999995,35.509275,42.72745,37.6415,50.8248,56.22456666666667,62.016641666666665,52.98009166666666,53.377,50.90325833333335,47.30110000000001,47.248025000000005,45.89115833333333,50.797108333333334,51.62783333333334,53.13699166666667,58.49985,49.50946666666667,39.037591666666664,37.669183333333336,38.70531666666667,35.800041666666665,34.837783333333334,35.082383333333325,35.23466666666666,44.64275,49.841766666666665,44.331224999999996,55.026916666666665,62.47816666666666,62.72736666666666,51.63936666666666,50.04250833333334,47.868775,46.56035000000001,47.40955833333334,44.17890833333333,50.25251666666666,55.100758333333324,53.446225,50.374808333333334,40.659850000000006,33.450925,34.19395833333333,33.732425,30.181058333333336,29.424149999999997,29.04339166666667,31.773274999999998,32.12404166666666,32.7771,33.82705,44.471983333333334,56.78300833333335,51.69245833333333,43.648175,40.507533333333335,40.01833333333333,40.625225,39.441408333333335,43.837408333333336,52.41010833333333,56.09993333333333,47.53187499999999,46.352675000000005,36.773849999999996,30.146449999999998,29.29955,28.697258333333338,25.231241666666666,21.7514,21.779083333333332,24.774366666666666,24.693591666666666,26.23736666666667,26.906550000000006,33.14168333333334,34.87238333333334,41.10520833333334,37.276891666666664,37.214591666666664,37.62996666666667,38.08456666666667,42.06746666666667,46.37344166666666,47.92183333333333,45.55655833333333,45.771166666666666,52.58086666666666,43.03895833333332,29.569533333333336,27.767283333333328,26.899649999999998,24.084366666666668,23.627458333333333,21.956774999999997,22.019074999999997,22.522125000000003,31.948666666666664,26.99886666666667,30.65178333333333,33.875525,38.23688333333334,38.428374999999996,36.54540000000001,36.06081666666667,36.86615833333333,36.79,40.62292500000001,45.92575833333334,44.96581666666666,44.70966666666667,45.22886666666667,34.68546666666666,26.311216666666667,26.42889166666667,25.82430833333333,22.494433333333337,20.85835833333333,20.507608333333334,20.376058333333333,20.401441666666667,23.44286666666667,24.257466666666662,29.58798333333333,37.92765000000001,42.912058333333334,41.39366666666666,40.426775,39.092958333333335,39.51295833333333,38.89223333333333,44.62659166666666,46.3873,52.297025,55.832275,50.14175833333334,36.84538333333334,28.902641666666664,27.400383333333334,26.906575,22.591383333333336,21.054491666666664,23.3021,24.275900000000004,24.702816666666667,26.72196666666667,28.838033333333332,38.31069166666666,36.0285,34.740849999999995,38.65915,41.356725000000004,40.45678333333333,38.93606666666666,37.54228333333334,38.582991666666665,35.675441666666664,31.55405,32.53478333333333,32.968608333333336,33.298608333333334,33.19015833333333,31.574841666666668,29.83490833333333,26.733491666666666,28.616491666666672,29.950291666666672,24.85510833333333,24.488208333333333,30.054125000000003,30.854858333333336,38.753766666666664,41.60825,45.351175000000005,47.218025000000004,43.75662500000001,43.225883333333336,42.73668333333333,43.989683333333325,45.83347499999999,52.48165,52.82318333333333,48.27030833333334,47.160341666666675,38.167633333333335,31.918675000000004,28.881866666666667,28.74571666666667,23.292866666666665,21.81831666666667,23.262874999999998,22.67675,22.076758333333334,27.566525,29.703383333333335,39.051449999999996,44.64735833333334,49.05718333333332,46.5419,45.577324999999995,41.47443333333334,38.88529166666667,39.04911666666667,38.88531666666667,46.07345833333333,50.259433333333334,46.318066666666674,45.884241666666675,37.156908333333334,30.691016666666666,30.610250000000004,29.973366666666667,27.601158333333334,24.273591666666672,23.565175,23.763625,25.429691666666667,28.38575,28.071899999999996,35.368525,41.85055833333333,44.84812499999999,45.20580833333333,42.86820833333334,37.221500000000006,37.964575,37.27921666666666,38.225325000000005,43.805083333333336,48.54026666666667,47.06111666666666,46.583425,36.62385,26.211983333333333,25.402016666666665,28.561125,22.32829166666666,25.030491666666666,23.472875000000002,20.772983333333332,21.190649999999998,26.214283333333338,28.955699999999997,35.142374999999994,40.392141666666674,48.037216666666666,44.48121666666666,43.645875,38.449149999999996,40.26060833333333,38.90145833333334,41.56903333333334,47.372625,49.493316666666665,53.709291666666665,48.31875,37.88149166666667,28.842650000000003,27.169633333333334,26.941174999999998,24.845891666666663,23.5121,25.999683333333333,26.445050000000005,26.89503333333333,30.688716666666668,33.46245833333334,33.31014166666667,39.39989166666667,47.27110000000001,42.49667500000001,40.99674166666667,40.738283333333335,38.536858333333335,39.09759999999999,41.00136666666667,47.596475000000005,48.39950000000001,48.835641666666675,47.84108333333333,41.50901666666667,30.693325000000005,30.301033333333333,30.331033333333334,30.252575000000004,32.3825,29.636441666666666,30.913183333333333,30.657816666666665,34.88516666666667,35.825183333333335,43.441275,55.425300000000014,55.94534166666667,53.28007500000001,48.82411666666667,44.354308333333336,41.167516666666664,39.69065,40.36444166666666,47.73260833333333,47.73261666666667,48.41105000000001,49.02717499999999,38.190725,30.6241,28.521874999999998,28.307283333333334,24.875883333333334,23.417475,23.565166666666666,25.22894166666667,26.235075000000005,27.827291666666667,30.4118,36.41155,34.92775833333334,34.29548333333334,37.966883333333335,42.69975,39.08143333333333,34.90238333333334,33.411683333333336,33.58935833333333,30.48103333333334,26.994258333333335,27.698091666666667,27.97266666666667,28.7711,29.382616666666664,28.15959166666667,27.552699999999998,24.615108333333335,28.704183333333333,33.33320833333333,30.910241666666664,26.629658333333335,31.616375,39.43451666666667,47.294174999999996,42.04669166666667,45.32115833333333,44.53659166666666,42.046708333333335,37.96225833333334,37.103833333333334,38.59222499999999,40.63215,43.724325,45.04887500000001,45.05350000000001,44.43275,35.354675,27.89883333333334,28.134199999999996,26.735808333333335,24.442066666666665,22.307533333333335,22.71365833333334,23.729016666666666,27.45806666666667,31.115624999999998,32.10326666666666,36.17156666666667,40.80290833333334,47.55494166666666,40.87676666666666,39.84063333333334,37.58150833333333,36.499233333333336,36.833841666666665,35.30159166666667,44.01508333333334,46.24421666666667,52.93163333333333,53.23395,36.72076666666666,28.8634,28.097291666666667,26.541958333333337,23.588233333333335,21.42601666666667,21.469875000000002,22.293691666666664,23.336716666666664,27.107325000000003,27.326541666666667,34.86085,41.33596666666667,43.82354166666667,39.561416666666666,38.908366666666666,37.92070833333334,36.118491666666664,35.031616666666665,39.030674999999995,44.89890833333334,44.243541666666665,44.501974999999995,44.99579166666667,33.82243333333334,27.455775,24.935883333333337,24.71434166666667,21.437583333333336,21.41679166666667,19.346883333333334,22.965191666666666,27.926524999999998,24.619749999999996,28.662650000000003,40.062175,37.17998333333333,42.90051666666667,41.352108333333334,37.8515,37.76841666666666,36.942299999999996,37.216908333333336,37.553808333333336,48.01415833333334,46.65496666666667,46.26265833333334,45.80347499999999,37.89763333333334,28.348816666666668,27.43960833333333,26.793499999999995,24.345133333333326,22.13676666666667,26.788883333333334,30.007983333333332,30.127966666666666,30.146424999999997,31.385616666666667,34.74085833333333,38.53686666666666,44.72120833333333,42.235925,39.56604166666666,38.69376666666667,37.83764166666667,36.86615833333333,37.346133333333334,43.92046666666666,45.0281,44.77659166666666,46.071149999999996,36.64000833333333,27.040400000000005,27.407316666666663,26.131208333333337,24.040533333333332,21.99599166666667,22.192141666666668,26.008908333333334,29.11494166666667,31.67405833333333,32.27634166666667,41.910558333333334,43.25588333333334,53.92389166666667,50.935566666666666,44.351975,39.51066666666667,37.97149166666667,37.18690833333334,36.17848333333333,40.84444166666667,44.07738333333332,43.57895833333333,43.58355,34.60470833333333,27.984225000000006,27.584999999999997,28.08113333333333,24.07975,23.020574999999997,23.66209166666667,26.345816666666668,28.52188333333333,28.82188333333333,37.32998333333334,40.80060833333334,36.56847500000001,36.376925,38.49070833333334,40.399075,40.62291666666666,35.79080833333333,33.42090833333334,32.389425,27.686533333333333,25.91660833333333,26.696575000000006,27.956533333333336,28.90494166666667,28.508049999999997,28.685708333333334,29.569533333333336,26.401200000000003,23.669016666666664,26.239675000000002,29.78644999999999,30.457975000000005,35.83695833333333,43.97123333333334,48.82871666666666,50.77865833333333,50.30329166666667,44.83198333333333,41.73286666666667,40.58367499999999,38.40531666666667,35.84158333333334,36.50618333333333,43.10818333333333,46.65035833333334,45.018875,45.741175,36.68385833333333,28.671875000000004,27.520375,27.605774999999994,25.637383333333336,24.02206666666666,23.742841666666667,27.100408333333334,27.178858333333334,33.43705,42.021325,44.024316666666664,41.94979166666666,44.48813333333333,42.261316666666666,42.25438333333333,40.70599166666667,39.45295000000001,39.44141666666667,38.848375,42.30976666666667,45.64425,45.58655833333333,45.31656666666667,36.28924166666667,28.494199999999996,27.411925,26.99195,23.06673333333333,21.241408333333332,21.370649999999998,21.871391666666668,22.734424999999998,25.18049166666667,26.622733333333333,39.81525833333333,48.678716666666666,48.0349,45.64654166666667,39.32373333333333,39.21759166666667,41.557491666666664,42.99280000000001,44.261983333333326,50.78094166666667,50.17865,49.62715833333334,50.19483333333333,35.49773333333332,27.26193333333333,26.65505,31.147941666666664,25.023574999999997,19.593799999999998,20.029933333333332,21.409883333333337,24.181299999999997,24.317458333333335,25.870458333333332,31.70405,36.31924166666667,45.45039166666667,42.365141666666666,39.716024999999995,39.189891666666675,36.776158333333335,35.90388333333333,39.079141666666665,43.3205,49.56253333333333,45.212725,43.81894166666666,35.34084166666667,27.561925000000006,27.834216666666666,31.23560833333333,23.202874999999995,19.598408333333335,19.84763333333333,21.578316666666666,33.05631666666667,35.74928333333333,26.163533333333334,29.239550000000005,33.12323333333333,40.26293333333333,38.04995,37.91150833333333,38.846075,37.42689166666667,37.19845,37.49151666666666,42.778191666666665,43.193575,44.05892500000001,46.90650833333333,33.903191666666665,29.504916666666663,27.118858333333336,24.84125,21.4491,19.928383333333336,20.403766666666666,20.761433333333333,25.932750000000002,30.467191666666665,27.94960833333333,34.013975,43.175125,53.628525,46.562675000000006,42.155166666666666,36.833841666666665,38.246100000000006,37.85610833333334,37.359975000000006,39.94679166666667,43.57201666666666,41.91055,45.1112,37.83763333333333,27.684225,26.078133333333337,25.251999999999995,21.7514,20.03685833333334,24.45360833333333,27.068091666666664,19.95376666666667,24.820491666666666,21.910625,26.869641666666666,26.634283333333332,26.091999999999995,28.990325,34.724700000000006,36.30769999999999,34.87238333333334,34.43394166666667,42.89359166666666,39.642183333333335,31.17331666666667,29.61339166666667,31.865583333333333,28.41343333333333,29.481850000000005,33.23860833333334,30.515658333333334,24.52743333333333,20.708366666666667,25.651241666666664,29.749516666666675,25.485083333333336,29.811833333333336,31.803291666666667,36.28232499999999,38.855291666666666,41.305966666666656,41.01059166666666,35.99619166666666,36.00310833333334,35.95466666666666,35.483916666666666,39.50833333333333,40.78215,44.61505833333333,44.031225,44.54120833333332,36.118491666666664,28.111125,26.412750000000003,25.145875,22.111375,19.563791666666667,20.083008333333332,20.371466666666667,20.509908333333332,24.737425,27.42578333333333,36.32154166666667,41.29443333333333,44.34969166666667,44.202,42.14131666666667,41.767491666666665,38.529925,36.44618333333334,39.98831666666666,43.964333333333336,45.07888333333333,44.5643,45.212725,35.69620833333334,30.065675,29.691841666666672,27.995733333333334,23.86745833333333,21.615233333333336,22.210608333333337,24.497441666666663,36.40233333333333,33.26399166666666,33.01015,36.487716666666664,38.709925000000005,42.14823333333333,40.242158333333336,41.45135,40.22600833333333,37.32305,36.64694166666667,37.38766666666667,41.188275,44.238924999999995,45.09274166666666,45.14350833333333,35.292366666666666,28.131899999999998,26.920416666666668,26.271983333333335,22.030625,19.432266666666667,19.7161,19.98146666666667,20.798358333333336,26.975791666666666,28.279575000000005,32.18635,38.22764166666666,44.79506666666666,41.6821,40.20525,35.733116666666675,35.345441666666666,35.21621666666666,37.49151666666666,41.359024999999995,44.86428333333334,46.085,44.873525,34.62315,28.217275000000004,27.481158333333337,25.97198333333333,22.065224999999998,18.9546,19.589183333333335,19.843025,20.244541666666667,23.715166666666665,25.9143,29.883375,35.3339,41.12134999999999,37.83765833333333,37.68304166666667,36.35156666666666,36.82230833333333,36.14616666666666,35.518525000000004,38.94760833333333,43.885866666666665,44.85736666666667,45.245025,34.82624166666667,27.252700000000004,26.0966,26.248891666666665,23.07598333333333,20.722216666666665,21.019883333333336,21.479083333333335,21.55294166666667,24.813575,25.72278333333333,30.69331666666666,40.24446666666666,57.752191666666675,57.01146666666667,45.397325,43.70124166666667,43.31818333333333,41.84824166666667,47.644925,53.25239166666666,56.531475,52.60396666666667,46.687275,34.334725,28.784958333333336,27.2781,24.947408333333332,21.848325,20.507608333333334,19.73685833333333,22.849791666666665,22.992883333333335,23.523625,25.61893333333333,31.307149999999993,31.999425000000002,31.3533,36.559241666666665,40.99444166666667,41.40058333333334,36.831525000000006,34.54933333333333,34.872400000000006,31.145616666666665,31.201008333333334,29.426441666666662,29.77951666666667,28.990316666666672,29.403383333333327,29.223408333333335,28.214966666666665,25.374325,23.484399999999997,25.699699999999996,32.18865,36.533858333333335,43.117425,40.41754166666667,40.230608333333336,45.97653333333333,54.54925833333334,43.79354999999999,42.815149999999996,39.162200000000006,40.082950000000004,39.425275000000006,39.432208333333335,41.79286666666667,47.77415833333333,55.63151666666666,53.72544166666666,34.766241666666666,28.581875,28.75265,32.42634166666667,30.11411666666667,23.380558333333337,31.68561666666667,23.572091666666665,20.752200000000002,27.09348333333334,25.198958333333334,33.03785833333334,33.416291666666666,38.41224999999999,38.80683333333334,38.343016666666664,38.998349999999995,38.56224166666667,38.54376666666666,44.045075,44.23661666666667,44.878125000000004,44.797358333333335,44.49045833333333,37.07845,27.926524999999998,27.584983333333337,25.692774999999997,22.750599999999995,19.344575000000003,22.485200000000003,21.99139166666667,23.131341666666668,25.68353333333334,25.9489,29.447225,35.71465,39.236066666666666,37.752266666666664,38.562241666666665,37.70841666666666,36.08386666666667,36.217725,36.72999166666666,36.988458333333334,45.752700000000004,44.19278333333333,43.92968333333334,33.197075,27.005799999999997,37.51459166666666,30.326425000000004,22.254450000000002,22.459824999999995,19.877625000000002,20.96450833333333,23.59516666666667,27.003483333333335,27.441933333333335,29.86951666666667,38.30148333333333,44.148925,43.08972500000001,41.502116666666666,38.79298333333333,36.01925833333333,36.081583333333334,36.97922500000001,37.588433333333334,42.37436666666667,44.85041666666666,44.60119166666667,35.18160833333333,26.809658333333335,27.63115,25.92583333333333,23.703608333333335,20.950666666666667,20.918358333333334,21.492941666666667,22.80135,28.106508333333327,29.052624999999995,31.662525000000002,37.163833333333336,41.714416666666665,37.7015,36.18771666666667,36.314625,36.07925833333333,36.203875000000004,35.375458333333334,35.59695833333334,45.007349999999995,45.397333333333336,44.9035,35.20929166666666,25.79199166666667,26.032000000000007,26.588124999999994,23.1775,20.15454166666667,20.46144166666667,20.91835,21.20911666666667,24.33129166666667,38.384550000000004,44.13045833333334,48.49180833333333,51.40860833333334,47.264174999999994,49.952525,48.16875833333333,48.10183333333334,45.635,42.31208333333334,41.562108333333335,48.353375,48.27029166666666,48.69719166666667,39.18297499999999,31.265616666666663,30.730249999999998,29.742608333333333,25.54739166666667,29.671083333333332,37.08999166666667,29.468,25.58660833333333,26.364275000000003,27.141949999999998,34.710858333333334,35.77235833333334,37.71304166666666,39.78294999999999,43.9274,40.47521666666666,40.676008333333336,40.006800000000005,34.32318333333333,27.543458333333334,27.178866666666664,26.973475000000004,27.243475,27.402691666666666,27.169641666666664,27.578075000000002,26.528125,23.073641666666663,22.413675,23.911316666666668,26.271966666666668,27.15116666666667,31.051016666666666,35.81619166666666,39.64913333333333,46.50266666666667,48.406441666666666,44.03123333333334,43.24895833333333,42.374383333333334,38.90835833333333,36.626174999999996,36.66539166666667,43.657399999999996,46.18654166666667,46.32037499999999,46.63189166666667,36.38155,26.07814166666667,24.922050000000002,33.40938333333333,34.30471666666667,25.851991666666667,25.4551,30.16490833333334,23.147499999999997,32.09865,38.225316666666664,29.041074999999996,42.37208333333333,47.70263333333333,43.85124999999999,44.317375,43.64356666666668,40.15678333333334,37.68995833333334,36.92154166666667,41.049825,48.323366666666665,51.763974999999995,51.51246666666666,35.114675,29.9549,30.370275000000003,26.846558333333334,27.448849999999997,25.08355,21.056816666666666,26.807341666666662,34.572408333333335,35.264683333333345,28.448041666666665,38.92915833333334,48.930258333333335,47.222633333333334,42.856683333333336,43.06665,46.17960833333333,46.84188333333333,42.595908333333334,47.250341666666664,42.642050000000005,54.02773333333332,58.08449166666667,48.99718333333334,37.874575,29.375691666666665,28.175741666666664,27.361166666666662,23.802849999999996,21.356791666666666,21.37988333333333,23.599791666666665,25.360474999999997,28.9811,30.490250000000003,37.673808333333334,44.22045833333334,49.68254166666666,46.85572500000001,45.29578333333333,44.44198333333333,41.38211666666667,41.550558333333335,42.22439166666667,43.06664999999999,58.44450833333334,50.33559166666666,48.75489166666667,36.450783333333334,39.704499999999996,40.70138333333333,29.719508333333334,24.084374999999994,20.436066666666665,20.920675000000003,21.43986666666667,24.432816666666668,28.418024999999997,29.304158333333334,34.50779166666666,41.26441666666667,47.56184999999999,43.53510833333333,43.530499999999996,42.415908333333334,38.64068333333333,39.381425,40.193691666666666,39.64681666666666,47.878008333333334,47.87339166666667,49.361775,36.1508,27.05888333333333,27.275783333333337,26.966574999999995,25.88891666666667,23.643625,23.664374999999996,23.6344,24.008233333333337,26.871950000000002,24.668200000000002,27.176549999999995,36.72308333333333,43.76818333333333,41.942858333333334,39.93295,38.026866666666656,39.2245,39.215275000000005,43.33204166666667,46.85110833333334,46.412666666666674,43.29280833333334,43.424333333333344,32.80246666666667,25.55893333333333,25.35125833333333,24.596666666666675,20.62528333333334,18.802291666666665,19.037666666666667,19.162274999999998,20.378375000000002,21.259891666666668,20.68299166666667,28.577275,28.858800000000002,26.55350833333333,31.092550000000003,35.88080833333333,31.736374999999995,32.306341666666675,32.274025,32.28095,25.498933333333337,23.892849999999996,24.896641666666667,25.436608333333336,25.448174999999996,24.647433333333336,25.593558333333334,24.421274999999998,20.98528333333333,19.028433333333336,19.042283333333337,20.456833333333332,20.346066666666665,23.405933333333326,25.282016666666664,33.072449999999996,34.4478,38.60375,39.201433333333334,37.2492,36.67463333333333,38.11457500000001,37.14075833333334,36.559225,38.60377499999999,43.42203333333334,45.621166666666674,43.869708333333335,32.71940833333333,24.485891666666664,23.735941666666672,23.078266666666668,18.8623,16.743916666666667,16.536233333333332,17.35310833333333,17.535433333333334,21.075266666666664,20.246858333333332,24.197450000000003,31.21025,37.60458333333333,38.92451666666667,38.832216666666675,37.454575,39.759875,50.374791666666674,48.609500000000004,39.981399999999994,47.866475,51.429375,57.70143333333334,40.380624999999995,30.065683333333336,28.136508333333335,25.37431666666667,22.838275,20.089941666666665,20.60681666666667,23.855925000000003,24.38436666666667,27.711925000000004,29.191091666666665,34.634699999999995,37.05998333333334,43.38049999999999,39.799099999999996,37.58149999999999,37.509966666666664,35.003925,35.71696666666667,34.9393,35.430816666666665,43.177416666666666,45.85885,44.31275,33.61935833333333,26.038916666666665,26.59041666666667,25.614325000000008,23.332091666666667,20.43605833333333,25.41354166666667,28.863408333333336,29.468000000000004,26.83734166666667,27.917308333333335,40.498308333333334,41.37289166666667,42.23593333333334,41.36826666666666,37.025375,35.202374999999996,35.56699166666667,35.14698333333333,35.62465833333332,35.89465,43.4428,44.086625,45.194275000000005,33.884724999999996,26.408116666666672,24.95665,24.056675,22.014441666666666,20.221466666666668,26.88810833333333,23.872075,21.056808333333333,23.79131666666667,23.2721,26.957341666666668,33.483200000000004,37.83072500000001,35.59466666666666,35.020075,36.453091666666666,37.18460833333334,37.19152499999999,38.054566666666666,38.84145833333333,43.018199999999986,44.17893333333333,43.09204166666666,34.13626666666667,25.436625000000003,23.25133333333333,22.591358333333336,19.76225,17.604658333333333,17.777725,18.308466666666664,19.081508333333336,22.5129,20.496075,26.412741666666665,31.88174166666666,35.95695,36.903074999999994,35.91311666666666,35.903866666666666,37.006908333333335,38.5507,37.909175,37.75689166666667,43.24896666666666,43.91585,42.35362500000001,32.59478333333333,23.521325,23.041341666666668,21.617549999999998,18.333849999999998,16.400083333333335,17.108499999999996,17.198516666666663,17.080825000000004,20.276858333333333,21.169883333333335,20.274516666666667,22.725208333333338,26.14044166666667,30.979491666666664,31.404075000000006,31.408683333333332,31.620966666666664,32.050200000000004,23.154416666666666,18.583066666666667,24.23436666666667,23.80055,23.149791666666662,22.86135,22.73443333333333,22.055991666666667,19.049208333333333,19.023816666666665,19.363033333333338,19.21764166666667,20.200708333333335,20.899891666666665,24.370516666666663,26.65965,31.99943333333334,36.028483333333334,35.60159166666667,34.900074999999994,35.95235,36.36539166666666,37.214600000000004,37.49150833333333,39.6122,37.32075,43.31355833333333,43.89508333333333,32.396341666666665,25.360466666666667,23.872066666666665,22.053700000000003,19.15075,19.021516666666667,19.12305,19.155350000000002,19.549958333333336,19.976858333333336,19.981475,23.726691666666664,26.278908333333334,35.29236666666667,34.399341666666665,34.45933333333333,34.521633333333334,35.050075,35.18159166666667,35.35929166666666,37.74765,38.80915000000001,43.73125833333333,43.58815833333333,35.04545833333333,26.343508333333332,24.58283333333333,21.79755833333333,18.686916666666665,18.666133333333335,18.730758333333338,19.129966666666665,19.337650000000004,19.986091666666667,20.703741666666662,22.508300000000002,26.659658333333336,37.41535833333334,36.049258333333334,36.808466666666654,36.59845833333333,34.98315833333333,34.89315,35.17006666666666,35.691583333333334,37.23766666666666,42.98589166666667,42.69513333333334,32.172491666666666,24.86435,23.438266666666667,21.525258333333337,18.804591666666663,18.368458333333336,18.887666666666664,19.34456666666667,19.762241666666664,20.059925,20.1684,22.367516666666663,27.97038333333334,35.75156666666667,35.05700833333334,35.576208333333334,35.58773333333334,35.841566666666665,35.620041666666665,36.39078333333334,35.68926666666666,35.3339,41.77900833333333,42.861291666666666,33.44629166666667,24.896641666666664,23.941308333333335,21.97061666666666,18.84613333333333,18.966116666666665,18.899200000000004,19.199183333333334,19.432258333333333,20.052999999999997,20.431449999999998,21.539083333333338,25.921225000000003,34.51240000000001,35.10545833333333,34.96929166666667,35.996175,36.34234166666666,35.804658333333336,35.15853333333333,35.42621666666667,37.11997499999999,41.645175,41.71901666666666,32.661725,24.742041666666665,23.627475,22.309833333333334,19.0815,19.11381666666667,19.086116666666666,19.509391666666666,19.70225,19.819949999999995,18.601541666666666,23.228266666666666,28.496491666666667,36.286950000000004,35.398516666666666,36.171575000000004,35.58773333333333,36.951525000000004,37.680733333333336,42.15055,35.947716666666665,36.87768333333334,43.722033333333336,42.674366666666664,32.22096666666666,25.208183333333334,24.462816666666665,23.269791666666666,20.31145833333333,20.362233333333332,20.46145833333333,23.832866666666664,21.068366666666666,20.61605833333333,22.58213333333333,32.46556666666667,24.179008333333332,22.09755,27.16501666666667,32.904016666666664,32.0802,33.033233333333335,33.54783333333334,35.354683333333334,25.242791666666662,20.265299999999996,31.738675,35.19315000000001,27.684224999999998,31.851750000000006,29.54415,24.414374999999996,25.62815833333333,27.57579166666667,27.035791666666668,24.80666666666667,27.811133333333334,32.20250833333333,29.52799166666667,42.54975833333334,54.24695833333334,46.59957500000001,40.918291666666654,39.50833333333333,38.66608333333333,39.307575,37.809958333333334,38.49531666666667,39.23374166666667,39.02605833333333,42.76206666666667,46.18884166666666,36.79,30.53180833333333,28.429574999999996,25.861225,23.170575,30.670266666666663,30.57795833333333,28.56804166666667,24.50436666666667,25.713541666666668,27.96806666666666,37.36459166666667,45.030425,46.23960833333334,43.48201666666666,44.40969166666667,39.547575,36.349241666666664,37.0923,35.836941666666654,34.81931666666667,34.29779166666667,38.686841666666666,42.088241666666676,32.225591666666666,25.824308333333335,24.84589166666667,25.198941666666666,22.962891666666668,22.58445,22.646758333333334,22.385966666666665,22.572916666666668,23.1521,23.135966666666665,25.877366666666664,30.711791666666667,36.169250000000005,36.612325,37.65535833333334,37.87456666666666,37.147675,36.89384999999999,37.07844166666667,36.42771666666667,35.32928333333333,40.11294999999999,42.406675,31.72481666666666,25.891225000000006,24.015150000000002,22.390608333333333,19.688408333333335,19.561491666666665,20.226074999999998,20.394524999999998,20.69451666666667,21.204491666666666,21.329108333333334,21.829841666666667,27.402716666666663,31.999416666666672,31.874816666666664,32.44710833333334,32.2925,33.20169166666667,35.322383333333335,34.971625,38.46298333333333,40.84444166666667,43.191250000000004,44.71429166666667,32.63633333333333,25.300483333333332,24.0013,23.145191666666665,19.8061,19.083808333333334,18.850733333333334,18.636124999999996,18.643066666666666,19.129966666666665,18.91535,20.717591666666667,27.317324999999997,35.6385,35.991566666666664,36.50385000000001,37.655341666666665,38.03378333333334,36.65385,37.80533333333333,37.89534166666667,37.11075833333333,40.66213333333333,43.33433333333334,31.9579,23.825941666666665,23.320566666666664,22.15523333333333,19.284558333333333,18.8023,18.880750000000003,19.176141666666666,19.723016666666666,20.362225000000002,19.54765,22.584441666666667,27.285008333333334,34.445491666666676,37.3692,38.799924999999995,38.486075,40.253708333333336,40.897533333333335,40.46600833333333,39.56835,39.06298333333333,41.91979166666666,45.466550000000005,31.685600000000004,24.80435,23.297483333333332,21.682158333333334,17.394675,15.451658333333333,15.497824999999999,15.560116666666667,15.93164166666667,14.937075,17.223899999999997,17.39235833333333,18.343075000000002,21.483708333333336,26.638891666666666,33.36783333333333,34.86315833333333,35.123916666666666,35.37545,35.857733333333336,24.476675,16.215483333333335,20.76145,23.29285833333333,22.868283333333334,22.445983333333334,22.457516666666663,21.506800000000002,17.865391666666664,15.516266666666667,15.553200000000002,15.839341666666668,15.77935,19.030725,20.22608333333333,21.22295,29.424149999999997,35.080058333333334,35.599266666666665,35.97772500000001,35.952341666666676,35.137766666666664,35.36159166666666,35.509283333333336,35.44698333333334,37.025375000000004,39.08835833333333,42.46666666666667,31.72020833333333,24.412050000000004,23.468249999999998,22.499066666666668,19.441491666666664,17.260816666666667,17.7108,18.086941666666668,18.943050000000003,21.79525,21.479108333333333,25.482783333333334,30.34026666666667,34.960074999999996,35.53929166666667,35.557750000000006,35.79310833333333,35.99155,35.77235,36.863841666666666,36.94923333333333,37.11536666666667,39.746025,43.38740833333333,31.383291666666665,24.508975000000003,24.13515,22.563683333333334,18.894591666666663,16.280091666666664,16.22008333333334,16.946975,17.26543333333333,19.690708333333333,20.410683333333335,19.679183333333334,27.20194166666667,34.267808333333335,34.93930833333333,35.54156666666667,37.82840833333333,36.6377,38.23455,35.88080833333334,35.23466666666666,35.14236666666667,42.342075,41.8344,32.97324166666666,24.69128333333333,23.182116666666662,21.65909166666667,18.45615,16.102416666666667,18.068466666666666,17.8977,18.200008333333333,24.052058333333335,21.633699999999994,24.649733333333334,28.976466666666667,36.46463333333333,36.942299999999996,36.416175,34.463950000000004,35.063925000000005,35.03624166666666,34.98085833333334,35.68926666666666,38.46300833333333,43.558175000000006,41.11905,32.117124999999994,24.781291666666664,23.49365,22.226758333333333,18.765358333333335,15.848574999999999,16.563925,16.77853333333334,17.334658333333334,20.438366666666667,21.082183333333333,23.48670833333333,28.824183333333334,35.393899999999995,35.147,35.91311666666667,35.825425,36.46233333333334,37.12920833333334,37.92995,37.13383333333333,37.0623,40.03448333333333,43.05973333333333,31.50329166666667,23.498241666666672,22.570583333333335,21.444491666666668,18.056933333333333,15.504724999999999,15.440116666666666,15.467824999999998,15.807033333333335,18.963816666666666,17.800791666666665,19.416108333333334,24.61051666666666,35.53466666666667,35.998491666666666,37.44766666666667,38.75376666666667,39.03761666666667,40.399075,41.015191666666674,40.313691666666664,39.86140833333334,44.30584166666666,46.313449999999996,35.174675,26.348124999999996,24.33820833333333,23.059816666666663,18.99844166666667,17.136208333333332,16.665466666666667,16.9516,16.123175,16.300841666666667,18.146933333333333,18.679991666666666,18.483833333333333,20.16378333333333,25.3974,31.5033,32.486349999999995,32.634016666666675,32.18405,31.907116666666663,23.86978333333333,18.924591666666668,19.6538,25.272791666666667,24.01054166666667,23.848991666666663,23.606700000000004,22.59828333333333,21.6037,17.994625000000003,25.12278333333333,24.647425000000002,25.995058333333333,23.332125,24.977425,28.434191666666667,30.91716666666667,36.42308333333333,35.67543333333334,34.729325,35.03621666666667,35.25545,36.11618333333333,35.54620833333333,35.31775833333334,37.60459166666667,38.223016666666666,42.53130000000001,31.487150000000003,24.063600000000005,22.889033333333334,22.38829166666667,19.443808333333333,17.258508333333335,17.477724999999996,17.84926666666667,18.726133333333333,21.638333333333332,21.338341666666665,26.74735,29.96645,35.58774166666666,34.18011666666667,34.35315833333334,35.264675,36.676925000000004,37.44074166666667,38.19070833333334,38.46071666666666,40.034475,42.67669166666667,44.612758333333325,32.25326666666666,23.19825833333333,22.70905833333333,21.529866666666667,18.17000833333333,15.751633333333332,15.850891666666667,15.809341666666667,16.33084166666666,19.716083333333334,19.434575000000002,20.549125,26.770408333333336,35.527750000000005,36.621550000000006,37.71765,37.37844166666667,37.39921666666666,36.87539166666666,37.10844166666667,36.621541666666666,36.13464166666667,37.42227499999999,42.62591666666667,31.939441666666667,23.31364166666667,22.725216666666668,21.806775,18.4723,15.975483333333335,16.231641666666665,16.5247,16.990824999999997,20.590666666666667,20.066841666666665,23.50979166666667,28.411150000000003,35.37081666666666,34.52395,34.544716666666666,34.544725,35.827733333333335,36.418475,36.99075,38.53915833333334,39.33065833333334,39.84755833333333,44.06123333333333,33.379375,24.059,22.882108333333335,21.956783333333334,18.472291666666667,26.578891666666664,24.423591666666663,16.53624166666667,17.793874999999996,31.5102,28.10190833333333,23.729,29.761050000000008,36.584624999999996,37.371525,36.589241666666666,36.00080833333333,35.763124999999995,35.553133333333335,35.989275,35.643116666666664,35.340825,36.337725,43.424350000000004,33.84782499999999,24.656666666666666,24.208991666666673,23.410566666666664,19.85686666666667,17.941566666666667,18.31769166666667,18.529974999999997,19.081508333333336,22.206,20.343775,27.938058333333334,34.90929166666667,41.419033333333324,38.48378333333334,35.74004166666666,36.090808333333335,36.6677,36.70693333333333,36.85460833333334,37.496116666666666,37.31383333333333,38.34993333333333,44.07045833333333,33.34245833333333,24.783575000000003,22.877499999999998,21.848325000000003,17.927708333333335,16.319308333333336,16.503933333333332,16.637758333333334,16.981591666666663,16.981600000000004,17.909266666666664,18.407683333333335,18.451525,18.949983333333336,19.1092,19.794558333333335,20.01839166666667,19.21535833333333,19.759941666666666,19.778408333333335,16.469316666666668,15.765500000000001,16.796991666666667,23.85593333333333,22.635216666666665,22.28215833333333,21.98215833333333,21.153750000000002,17.934625,15.790866666666668,15.430883333333334,15.539358333333332,16.20855,19.843025,19.404591666666665,22.54521666666666,26.888099999999998,33.85935,35.77003333333334,36.73921666666667,40.436008333333334,42.23594166666667,41.55058333333333,42.09055,42.268233333333335,40.38985833333333,39.688341666666666,45.27271666666666,32.28788333333333,23.779766666666664,23.080566666666666,22.090616666666666,18.55768333333333,15.867041666666665,16.146266666666666,16.340083333333332,16.538541666666664,20.027641666666664,18.38461666666667,21.169891666666665,27.176558333333332,36.46462499999999,37.88380833333333,39.60526666666666,40.81675,41.51595833333334,42.332841666666674,43.27435,43.30435,42.68590833333332,41.57134166666666,46.35730000000001,32.65708333333334,24.01053333333334,23.348249999999997,21.843700000000002,18.01771666666667,15.564733333333335,15.913200000000002,15.760875,15.927016666666667,19.13225833333333,17.263125000000002,19.942241666666664,27.391175000000004,38.87144166666666,39.079125,40.36446666666667,41.289808333333326,42.05130833333333,42.14823333333333,41.64055833333333,40.613683333333334,40.528308333333335,43.36433333333332,42.25439166666666,30.531791666666667,23.472858333333335,22.89595,21.649866666666664,18.040775,15.620116666666666,15.820858333333334,15.631658333333334,15.961633333333333,19.45534166666667,19.441491666666668,21.312966666666668,26.172749999999997,34.18933333333333,35.67081666666667,36.52,36.33309166666667,36.095425,36.919200000000004,36.656166666666664,36.296175000000005,37.994566666666664,38.24149166666667,42.5613,31.969425,24.222825,23.528266666666667,22.03753333333333,18.368466666666666,15.714725,16.1901,16.492366666666666,16.416241666666668,19.822249999999997,18.377691666666664,20.263,28.281891666666667,35.22774999999999,35.87388333333333,36.50154166666666,37.80996666666666,37.26305833333333,36.854616666666665,37.189216666666674,36.926141666666666,36.125416666666666,37.64610833333334,43.19820000000001,32.710166666666666,24.31515,22.826733333333333,21.68449166666667,18.156166666666667,16.176250000000003,16.164708333333333,16.575458333333334,16.868525,20.136083333333332,17.00005833333333,20.671441666666666,26.742725000000007,34.230866666666664,34.19395,36.148483333333324,37.73149166666666,38.08686666666667,38.55300833333334,38.42838333333332,37.6092,37.72227499999999,39.52680833333333,42.95128333333333,32.255575,24.218225,22.395208333333333,21.181416666666667,17.290825,15.391666666666667,15.299358333333332,15.479358333333332,15.827816666666664,15.647808333333332,15.627033333333332,17.572349999999997,20.223775,21.14913333333333,25.614316666666667,31.447916666666668,31.918666666666667,32.984775,32.869383333333325,32.34556666666666,24.873575,17.10850833333333,17.678483333333336,24.4836,24.035899999999998,23.332108333333334,22.739050000000002,21.509108333333334,18.716916666666666,15.813958333333334,16.351625,16.68854166666667,17.413116666666667,20.304550000000003,19.833791666666666,22.519833333333334,27.379625,34.445474999999995,34.473175000000005,35.673116666666665,37.31381666666666,37.72456666666667,39.7368,38.11918333333333,39.8614,38.71454166666667,38.99144999999999,44.075075000000005,31.39945,23.756691666666665,22.778275000000004,22.199074999999997,18.354625000000002,15.382433333333331,15.414741666666666,15.5832,15.747041666666666,19.420725,17.976174999999998,20.163766666666668,26.881183333333336,34.877,36.08156666666667,37.32765833333334,37.939175,39.04221666666667,39.316808333333334,40.064483333333335,39.39295833333333,40.025233333333325,40.58830833333334,45.39503333333332,33.20860833333334,24.257458333333336,22.990575000000003,21.642933333333332,18.486158333333336,15.69856666666667,15.645499999999998,15.606283333333332,15.567041666666666,19.146133333333335,18.626908333333336,20.168383333333335,26.205049999999996,35.15391666666667,36.63999999999999,36.3977,37.59995833333333,38.587608333333336,38.51839999999999,37.69457499999999,38.758383333333335,38.35454166666667,38.56221666666667,44.12123333333333,33.54320833333333,25.937358333333336,24.799733333333336,22.981350000000003,19.028433333333336,16.372383333333335,16.201633333333334,16.118566666666666,16.441625,19.300741666666664,18.080008333333335,21.654475,28.00729166666667,35.093916666666665,34.918549999999996,35.804649999999995,36.19923333333333,37.04383333333333,37.30920833333333,37.95993333333333,39.815266666666666,38.922225,39.93294166666667,44.068158333333336,34.2447,24.776658333333334,23.934391666666667,21.975233333333332,18.437675000000002,15.853183333333334,15.763183333333332,15.857791666666666,15.880883333333335,18.996133333333333,18.359233333333332,19.937616666666667,27.478866666666665,38.01531666666666,38.22994166666667,40.51906666666666,41.99132500000001,42.042075000000004,41.79516666666667,43.56741666666667,41.84594166666667,40.16600833333334,40.655233333333335,46.31575000000001,34.990075,24.940483333333333,24.20668333333333,22.955975,18.776899999999998,16.199333333333335,15.661666666666667,15.440116666666666,15.977800000000002,18.910741666666667,16.492399999999996,21.19989166666667,29.578766666666663,40.61829166666667,41.42135,44.0197,45.840399999999995,47.3011,47.03572499999999,47.01958333333332,45.8427,46.195750000000004,45.584241666666664,47.74415833333334,36.37000833333333,24.928949999999997,23.84208333333333,22.773658333333334,18.952291666666667,16.833908333333333,16.60545,16.45546666666667,16.337783333333334,15.668574999999999,16.118541666666665,18.48154166666667,22.748283333333337,27.379625,31.907133333333338,41.155966666666664,41.94976666666667,42.62130833333334,43.50510833333333,43.88585833333334,29.184158333333333,20.51223333333333,19.621491666666667,25.81045833333334,26.11736666666667,26.42889166666667,25.40895,23.23517500000001,19.552274999999998,17.87464166666667,17.625433333333337,16.732366666666667,16.446225,19.439183333333332,18.449233333333332,24.25514166666667,31.78481666666667,41.72363333333332,43.38048333333332,44.9058,46.41036666666667,47.74646666666666,48.76410833333333,48.06721666666667,46.24653333333334,45.759625,46.06653333333333,48.54951666666667,35.599291666666666,25.408933333333334,24.328983333333337,22.762125,18.924583333333334,16.275466666666667,16.083933333333334,16.229341666666667,16.467008333333332,19.96760833333333,17.713108333333334,24.049766666666667,29.082625000000004,40.38985,42.93743333333333,43.95046666666667,44.204299999999996,45.68346666666667,46.06885,45.731925,44.998116666666675,43.632025,47.13033333333334,47.69801666666667,33.836266666666674,25.877366666666664,25.129716666666667,23.034425,19.123041666666666,16.15086666666667,16.012416666666667,15.966258333333334,16.06779166666667,19.24305,17.558491666666672,22.526749999999996,28.992625,41.091358333333325,41.92901666666667,43.60433333333333,44.012750000000004,44.529675000000005,45.18733333333333,45.01889166666667,45.157333333333334,44.08199166666666,44.195075,48.3949,34.26318333333333,26.251191666666667,24.799725,23.61361666666667,19.494558333333334,16.621608333333334,16.681591666666666,16.57315,16.762375000000002,20.24915,20.15455,24.042833333333334,31.427149999999997,41.73748333333333,43.004358333333336,42.288999999999994,43.58355,42.61206666666667,41.22058333333333,40.110616666666665,41.09366666666667,38.79299166666667,44.73505,43.27895833333333,33.199375,23.932066666666667,23.41518333333333,22.120616666666667,18.65690833333333,16.169316666666667,16.3447,16.367774999999998,16.626225,19.919183333333333,18.045391666666667,24.072833333333335,30.051816666666667,37.78458333333333,37.18459166666667,37.93685833333333,36.448483333333336,35.86004166666667,36.665391666666665,37.45690833333334,36.750766666666664,35.60158333333333,35.751583333333336,41.70055833333333,32.837091666666666,23.692108333333337,23.117499999999996,22.127533333333336,18.56230833333333,16.1647,16.167016666666665,16.372383333333335,17.094666666666665,19.53610833333333,16.30315,21.968316666666666,28.051125,35.8808,35.707725,35.686975,36.52231666666666,37.23536666666666,37.925333333333334,38.105316666666674,37.58381666666667,36.803866666666664,36.97229166666667,44.28969166666667,31.704058333333332,24.520525000000003,23.156725000000005,21.81830833333333,17.503125,15.763183333333332,15.8555,15.610875000000002,16.423158333333333,16.222408333333338,16.363166666666668,19.72995,22.390583333333336,23.775158333333337,29.10109166666666,34.343941666666666,35.303916666666666,35.17238333333333,35.14236666666667,35.50466666666667,25.9443,18.287691666666664,17.154675,22.660608333333332,24.245900000000002,23.101341666666666,22.595983333333333,21.73294166666666,18.336166666666667,15.647800000000002,15.400883333333333,15.973175,16.17855833333333,18.72153333333333,17.63925833333333,21.80908333333333,28.187300000000004,36.713841666666674,37.177675,37.80072500000001,38.84145833333333,38.67761666666666,39.27759166666667,39.6376,39.30064166666667,38.79528333333334,42.8382,46.202675,33.801674999999996,24.08899166666667,23.159025,21.903683333333333,17.955408333333335,15.05706666666667,15.350124999999998,15.121666666666668,15.516275000000002,19.453033333333334,18.864583333333332,23.405941666666664,28.960333333333335,36.2108,37.14074166666666,36.856925,38.465325,39.065275,39.59835833333333,40.179858333333335,39.62373333333333,38.458391666666664,38.779149999999994,43.419725,32.257875000000006,23.698999999999998,22.949049999999996,22.206,18.103091666666668,15.527808333333333,15.530108333333336,15.410125,15.79780833333333,18.963833333333334,18.663825,22.321358333333333,28.748016666666672,35.779266666666665,36.07002500000001,36.84308333333333,37.249191666666675,38.4607,38.60608333333333,39.58680833333333,39.79216666666667,38.9776,38.38225833333333,41.97285833333333,32.44247500000001,23.821300000000004,22.838275,21.682158333333334,17.992325,15.712408333333334,15.523199999999997,15.530116666666666,15.698566666666666,18.915358333333334,18.128483333333335,20.262983333333334,26.195825,36.185399999999994,38.301474999999996,38.82069166666667,39.11143333333334,38.966049999999996,38.80913333333333,38.22530833333333,39.600633333333334,40.17293333333333,40.35985,42.26360833333333,33.882416666666664,24.31052500000001,22.92826666666667,21.834474999999998,18.160766666666664,15.435508333333333,15.541666666666666,15.497808333333333,16.047033333333335,19.06535833333333,17.810016666666666,22.561366666666668,28.86340833333333,36.688475,38.241474999999994,39.54528333333334,39.69295833333333,42.282091666666666,42.201325,41.78593333333333,40.62523333333333,41.28980833333333,40.08524166666667,43.98046666666667,35.50235833333333,26.156583333333334,24.015149999999995,22.575208333333336,18.608449999999998,16.183175000000002,15.548583333333335,15.809333333333333,16.0378,19.406875000000003,17.597749999999998,22.339825,29.278783333333333,35.92233333333333,35.79775833333333,35.624675,37.49611666666667,37.20536666666667,37.597658333333335,37.66919166666667,37.02766666666666,36.829224999999994,37.47074166666667,40.52599166666666,32.50941666666667,25.162016666666663,23.235183333333335,21.663708333333336,17.51695833333333,15.832408333333333,16.033166666666666,15.940866666666667,15.811641666666665,15.013216666666667,15.747033333333334,19.056125,20.066866666666666,23.44288333333333,25.98121666666667,33.25246666666666,34.187025,34.63471666666667,35.036225,34.89546666666667,25.044341666666668,17.84465,16.967749999999995,20.844508333333334,23.212091666666666,22.182924999999997,22.321383333333333,21.379875,17.768491666666666,15.230125000000001,15.518600000000001,15.467799999999999,15.96625,18.483841666666667,17.932308333333335,21.765250000000005,27.928841666666667,35.38699166666667,36.41154999999999,38.458391666666664,38.87835833333334,39.277575,39.683725,41.562108333333335,41.94979166666667,41.00598333333333,39.87295833333334,43.79586666666666,34.034733333333335,24.423591666666667,22.845208333333336,21.670625,18.14,15.117058333333333,15.216291666666665,15.315516666666666,15.760891666666664,17.943866666666665,17.043900000000004,22.351366666666664,30.130274999999997,38.02686666666667,38.96145,40.1614,40.821374999999996,42.45283333333334,43.33434166666667,43.14050833333334,43.996624999999995,43.56741666666667,43.103583333333326,45.47348333333334,34.10626666666666,25.418166666666664,24.174383333333335,23.096725000000003,19.60995,17.036991666666665,16.884666666666668,17.03005,17.33928333333333,19.50609166666667,18.160775,22.625983333333334,30.861783333333335,39.64910833333334,41.765166666666666,43.782025,44.62429166666667,45.98576666666667,46.26728333333333,45.905,44.848125,43.53510833333333,43.84200833333333,45.35349166666666,37.163824999999996,26.59274166666667,24.478983333333332,23.17289166666667,19.339949999999998,16.693150000000003,16.457783333333335,16.298541666666665,16.197016666666666,17.966941666666667,17.159291666666668,20.876825,28.861083333333337,36.25694166666667,34.81469166666667,36.176175,37.1869,37.99686666666666,38.88068333333333,40.01141666666667,41.04750833333333,39.64910833333334,39.203741666666666,41.640566666666665,32.996316666666665,24.026683333333335,22.877508333333328,21.695999999999998,18.188466666666667,15.62935,15.963950000000002,15.820875000000001,16.227016666666668,18.047708333333333,17.182350000000003,21.352199999999996,27.063491666666664,35.843875000000004,36.949216666666665,38.532225000000004,38.606075,39.53835,40.971383333333335,41.37981666666667,42.870524999999994,40.768283333333336,39.40911666666667,42.803599999999996,35.10314999999999,24.69588333333333,22.974416666666666,21.716783333333336,17.985400000000002,15.17245,15.359350000000001,15.39626666666667,15.717033333333333,17.657716666666666,16.097775,21.799858333333333,30.3841,38.331475000000005,38.919908333333325,39.769108333333335,40.530625,42.199,42.868216666666676,41.746716666666664,42.039775,41.63363333333334,40.93674166666667,43.659699999999994,34.256274999999995,25.148175,22.833658333333336,21.34296666666667,17.27005,15.287808333333333,15.20244166666667,15.343208333333331,15.17705,13.660958333333335,14.203241666666669,16.868525,21.3291,24.24360833333333,28.24266666666667,37.81458333333334,39.741425,39.72064166666666,39.6468,39.76909166666666,28.20804166666667,20.68068333333333,19.164574999999996,22.11830833333333,24.548199999999998,24.248208333333327,23.433633333333333,22.0237,18.573849999999997,15.71011666666667,15.384741666666669,15.571666666666665,15.578575,17.339283333333334,17.29080833333333,22.321366666666666,30.83408333333333,39.254508333333334,43.375875,45.37426666666667,46.075783333333334,45.335025,46.19805833333333,47.52032500000001,47.00110833333333,45.88424166666667,44.804275,47.762616666666666,36.4877,26.112758333333336,23.88591666666667,22.609825,18.9569,16.01239166666667,15.707799999999999,15.675500000000001,15.827791666666668,17.28389166666667,16.697766666666666,23.318258333333333,31.157166666666665,41.57364166666667,43.041266666666665,45.471183333333336,47.234175,47.917225,48.76871666666667,48.31644166666666,48.11798333333332,45.838074999999996,45.335025,47.677233333333334,35.963875,25.540466666666664,23.733616666666666,22.45290833333333,19.058425,16.167025,15.93395833333333,15.627041666666665,15.910850000000002,18.151549999999997,17.36695,23.281325,31.27716666666667,42.27284166666666,42.98126666666667,43.67355,45.1481,46.26960833333333,46.99418333333333,47.40955833333334,47.635683333333326,45.997299999999996,44.80427499999999,47.14186666666666,36.305408333333325,26.025058333333334,24.21360833333333,23.2398,19.240724999999998,16.917,16.653916666666664,16.273175,16.448541666666667,18.57153333333333,18.763049999999996,23.64825,29.871825,40.73138333333333,42.73438333333334,43.682775,43.546641666666666,43.59509166666667,43.17050833333334,45.62809166666668,43.83278333333333,42.80358333333333,42.39975833333333,46.16115,34.56778333333333,26.541983333333334,24.912808333333334,22.321366666666666,18.396133333333335,15.897016666666666,15.530116666666666,15.442425,15.749341666666668,19.086125,16.109325000000002,21.232183333333335,27.35886666666667,36.01926666666667,36.5754,36.84308333333333,38.476850000000006,39.05375833333334,39.67679166666667,40.19830833333333,40.306775,40.456775,40.52601666666666,44.96351666666666,34.27473333333333,25.118183333333334,23.232874999999996,22.07445833333334,18.343066666666665,15.6409,15.546275000000001,15.426283333333332,15.730891666666666,17.034675,16.07240833333334,20.766058333333334,29.491075000000006,38.234550000000006,39.89604166666667,40.657516666666666,40.65983333333334,41.5621,42.06746666666667,42.600525000000005,41.62670833333333,40.85599166666667,39.73679166666666,42.82436666666666,33.38397500000001,24.90819166666667,23.629791666666666,22.353675,18.07539166666667,16.280091666666664,15.957033333333333,15.873941666666667,15.777033333333335,13.737108333333337,15.444716666666666,18.509216666666667,21.69601666666667,23.523633333333333,28.298050000000003,37.26998333333333,38.873758333333335,38.924524999999996,38.878375,40.286025,28.925716666666673,20.588358333333336,23.389791666666664,23.599783333333335,25.175866666666668,24.836641666666665,24.192841666666666,22.803666666666672,19.277649999999998,16.270866666666667,15.887808333333332,15.802425,16.34700833333333,17.750033333333334,18.583075,25.115866666666665,33.40935833333333,42.67668333333334,45.39503333333332,47.64724166666667,48.23335833333332,49.11719166666666,49.35255000000001,47.68416666666667,48.65796666666666,47.421091666666676,46.90419166666666,49.590225,35.90387499999999,27.808841666666666,25.94661666666666,24.0936,20.646058333333333,18.050025,17.505416666666665,17.124675,17.249291666666664,21.026816666666665,18.370783333333332,22.37675,30.868708333333334,41.66825,41.114425,40.91135833333333,41.68210833333334,41.18595833333334,41.17905833333334,41.95439166666667,41.94285833333334,41.14905,40.60908333333333,41.905933333333344,34.57470833333334,24.62896666666666,23.396708333333333,21.91985,18.347691666666666,15.867033333333334,15.797783333333333,15.79319166666667,15.680108333333331,17.706183333333335,15.940858333333336,21.186041666666668,28.25880833333333,35.67541666666666,36.33076666666667,37.05999166666667,37.47534166666666,38.583,39.05144166666667,39.143750000000004,39.217575000000004,38.57147499999999,38.043025,40.745216666666664,33.03093333333334,23.763625000000005,22.139083333333332,21.220666666666663,17.699250000000003,15.393974999999998,15.103200000000001,15.357050000000001,15.597024999999997,18.816125000000003,17.544658333333334,21.557549999999996,29.174941666666673,36.8223,36.492308333333334,37.177675,37.872258333333335,38.899150000000006,38.846066666666665,38.80453333333333,39.08604166666667,38.00609166666667,38.88068333333333,43.650475,32.477091666666674,23.922825,22.898275,20.616075,17.420041666666666,14.913991666666668,14.881683333333333,14.916283333333332,15.193208333333333,18.495375,17.6785,20.91143333333333,30.00106666666667,36.18771666666667,37.07843333333333,38.11686666666666,38.83915833333333,39.7645,40.311391666666665,40.11062499999999,40.108325,39.65603333333333,43.938925000000005,45.12966666666667,33.462450000000004,23.9044,22.487525,20.994491666666665,17.750033333333334,15.015533333333332,15.243991666666668,15.012125,15.276283333333332,18.28076666666667,15.663966666666665,19.519949999999998,26.611191666666667,34.727,35.11466666666666,36.053866666666664,35.84389166666666,36.00310833333334,35.37313333333333,35.72159166666666,35.42621666666666,34.966991666666665,37.7592,41.01750833333333,30.928691666666662,23.779775,22.34445,21.14680833333333,17.009275,15.183966666666668,15.174741666666664,15.250883333333332,15.315516666666667,15.444733333333332,15.123974999999996,17.6508,19.9884,21.4468,26.54659166666667,31.680983333333334,32.00403333333333,31.750200000000003,31.49638333333333,31.364841666666667,22.902891666666672,16.506233333333334,15.945483333333334,22.46675,22.489833333333337,22.157541666666663,21.947533333333336,20.69911666666667,17.491566666666667,14.973991666666668,14.937066666666666,15.1263,15.516258333333333,16.203941666666665,16.97928333333333,19.3215,26.461208333333335,35.22776666666666,36.6723,37.69920833333333,38.220699999999994,39.58449166666667,39.91908333333333,39.794491666666666,40.36215833333333,40.08986666666667,40.06678333333333,41.90593333333333,33.52245,24.688983333333336,22.875183333333336,21.56679166666667,17.480025,14.943975,14.900158333333335,14.817066666666667,15.23475,15.917791666666664,16.78775833333333,22.247533333333333,29.320308333333333,36.85921666666666,38.954541666666664,41.09136666666667,43.565099999999994,44.04506666666666,43.885866666666665,43.968925000000006,43.608941666666674,42.651275,42.93280833333333,43.638941666666675,34.943925,26.14045,24.605908333333332,22.766758333333332,18.6523,15.977791666666668,15.8001,15.359358333333333,15.96164166666667,17.745408333333334,17.00006666666667,20.73146666666667,28.77110833333333,38.811441666666674,40.73598333333333,42.02360833333333,42.63281666666667,43.11050833333332,42.757441666666665,42.82205833333333,43.320483333333335,42.46438333333334,41.42596666666666,43.740491666666664,35.246225,25.584308333333336,24.181299999999997,22.729825,18.299225,15.68705,15.357041666666666,15.204758333333332,15.384741666666665,16.111633333333337,16.845450000000003,23.011341666666667,31.505608333333328,40.19370833333333,42.49668333333333,43.29511666666667,44.40275833333333,45.535791666666675,45.17810833333334,45.847316666666664,45.52886666666668,45.286575000000006,44.96580833333332,45.46194166666667,35.45851666666667,25.94430833333333,24.040533333333332,22.729825,18.843841666666666,16.035475,15.370883333333332,15.098616666666665,15.4609,17.473116666666666,16.628533333333333,22.489824999999996,31.348699999999997,43.12896666666666,44.91735833333333,45.5727,46.71728333333334,47.55263333333334,48.60259166666666,49.47253333333333,48.86795833333333,46.874208333333335,46.749583333333334,47.282624999999996,37.63457499999999,26.671191666666672,24.66819166666667,22.840575,19.206116666666667,16.42545833333333,16.160100000000003,15.629350000000002,15.719333333333331,17.72695,17.28618333333333,21.456025,30.63333333333333,43.8443,45.64886666666667,46.4265,46.28805833333333,48.27259166666666,49.761,48.77333333333333,48.36260000000001,47.227241666666664,46.34574999999999,47.0288,36.46693333333334,26.786575,24.78125833333333,23.110575,18.919975,16.928516666666667,16.628541666666667,16.086258333333333,16.053941666666667,14.692475,17.16850833333333,22.427525,24.548216666666665,26.62965833333334,31.35330833333333,42.10900833333334,43.971250000000005,43.207425,43.685091666666665,43.88354999999999,29.35030833333333,22.815200000000004,21.456025,21.430633333333333,26.678116666666664,25.61199166666667,24.543583333333334,23.212100000000003,19.683808333333335,17.06466666666667,16.8593,16.75315,16.84315,17.826174999999996,19.9284,28.821883333333336,35.061616666666666,45.47578333333333,47.379558333333335,48.14566666666667,49.045633333333335,50.487875,50.01943333333333,49.957141666666665,50.582508333333344,50.05405833333334,49.68945,48.72489166666667,37.03460833333333,26.56273333333333,24.19745,22.759816666666666,18.913058333333336,15.758566666666667,15.802433333333331,15.543958333333336,15.770116666666667,16.55009166666667,16.681608333333333,20.193766666666665,26.71735,37.549208333333326,37.65765833333334,38.62455,36.704625,35.264675,36.796924999999995,36.1808,35.128525,34.14779166666666,35.58773333333333,41.51135,31.925575,23.313641666666665,22.681366666666666,21.518324999999994,18.188466666666667,15.922424999999999,16.0378,15.818566666666669,15.943175000000002,16.755458333333337,18.038475,21.012958333333334,28.106525,34.803175,35.080075,35.90618333333333,36.83845,37.52150833333334,38.65454166666667,38.80683333333334,38.493,38.331475,38.105325,37.023041666666664,32.1425,22.939791666666665,21.73755833333333,20.839900000000004,17.14314166666667,14.943983333333335,15.036290909090907,15.036290909090907,8.159666666666666,9.03885,9.6042,13.183275,26.048141666666663,35.112383333333334,36.143866666666675,36.35848333333333,40.20294166666667,39.51528333333333,41.197525000000006,41.84363333333333,41.20444166666667,40.62753333333334,39.351433333333325,38.61300833333333,31.94865833333333,21.979841666666662,20.33915,19.060741666666665,16.134708333333332,15.368591666666667,15.262441666666666,15.290133333333337,15.142449999999998,15.624733333333333,13.487891666666664,18.001549999999998,27.374999999999996,37.484575,38.486075,39.014525,39.42758333333334,41.564408333333326,40.9806,38.85760833333333,39.046816666666665,38.816066666666664,43.034349999999996,44.354291666666676,31.914050000000003,21.001433333333335,19.889166666666664,18.290008333333336,14.893233333333333,14.272491666666667,14.233249999999998,14.177866666666667,14.307099999999998,13.300983333333333,12.064116666666669,16.280091666666667,23.97361666666667,32.200183333333335,32.99169166666667,33.44629166666667,34.21010833333333,34.56778333333333,33.430141666666664,34.09240833333333,33.73245,33.305524999999996,37.553824999999996,38.753775,30.10489166666667,21.2368,20.528375,19.501491666666663,16.208550000000002,15.973183333333333,15.726283333333335,15.631650000000002,15.873958333333333,13.5848,12.754074999999998,15.7055,17.270041666666668,18.255391666666668,23.050591666666666,30.174108333333333,31.48483333333333,31.42946666666667,31.897900000000003,32.14250833333333,21.910633333333337,14.519400000000003,12.899458333333333,13.4579,19.90070833333333,19.750708333333336,18.866883333333334,17.805408333333332,14.754766666666667,14.602475,14.526308333333334,14.673991666666664,14.849375,13.044850000000002,13.746341666666666,19.903008333333332,27.347316666666668,35.25776666666666,37.539975,39.2176,39.34450833333333,40.47754166666667,40.722150000000006,41.23674166666667,41.73056666666667,40.54215,39.85681666666666,39.18296666666666,32.06405833333333,22.1529,20.91835,18.919991666666668,15.015541666666666,12.317941666666668,12.006425,12.050266666666667,12.488716666666669,14.011725,13.259450000000001,19.759933333333333,27.042708333333337,36.346941666666666,38.460708333333336,40.93904166666666,41.218275,42.358241666666665,42.92128333333333,43.546625,43.70585833333333,43.38741666666667,43.26047500000001,43.29049166666666,33.35396666666666,23.401325,21.451400000000003,19.96764166666667,15.645483333333333,13.093300000000001,12.996391666666666,12.675624999999998,13.358675,14.547091666666667,15.135533333333333,21.017574999999997,28.736483333333336,36.10925,40.56753333333333,41.33596666666667,41.873625,42.64897500000001,41.8621,41.43058333333334,42.12976666666667,41.0706,39.76448333333333,37.38074166666667,32.195575,22.554441666666666,20.664541666666665,19.1092,14.92090833333333,12.428708333333335,11.969474999999997,12.084866666666665,12.274108333333336,13.850191666666667,12.943316666666663,19.023833333333332,27.30809166666667,37.33228333333333,39.584500000000006,40.295224999999995,41.08674166666667,41.85978333333333,42.47131666666666,42.838208333333334,42.517450000000004,41.49750000000001,41.834408333333336,39.56603333333333,32.5371,22.261374999999997,21.285275000000002,19.575333333333337,15.223208333333332,12.421783333333332,11.985641666666668,12.082583333333332,12.207199999999998,12.860216666666666,13.921725000000002,18.04309166666667,26.717341666666666,34.099333333333334,35.37775,36.49463333333333,37.625341666666664,39.70909999999999,40.33678333333334,41.31058333333333,41.02444166666667,40.65754166666667,41.19751666666666,38.90375000000001,33.34015,22.298299999999998,20.673750000000002,18.85075,14.74785,12.147183333333333,12.126433333333331,11.608116666666666,12.396408333333333,12.878683333333335,13.605583333333335,19.59380833333333,28.31650833333333,36.619225,38.77914166666667,40.54215000000001,40.82599166666667,42.44361666666667,42.27976666666667,43.03435833333333,43.46587499999999,42.79435833333334,41.74440833333333,41.176750000000006,33.99089166666667,22.916741666666667,21.19525,19.5961,14.897841666666665,12.864858333333332,12.691774999999998,12.19795,12.004108333333335,9.615758333333334,11.870266666666666,17.163891666666668,20.212225,22.66751666666666,28.334975,36.16695000000001,37.676116666666665,39.332975,39.09990833333334,40.858275,28.538033333333335,20.666833333333333,18.841516666666667,19.291508333333336,24.765133333333328,23.872083333333336,22.85905,21.638316666666665,17.830791666666666,15.213983333333333,14.427100000000003,14.330183333333336,14.168633333333332,14.796308333333334,15.220891666666667,22.129841666666668,31.221774999999997,39.07221666666667,39.38834166666666,40.036775,40.004475000000006,41.181358333333336,41.564416666666666,43.15665833333335,42.91896666666667,41.259816666666666,39.15298333333333,37.76380833333334,30.43949166666667,21.87600833333333,19.923783333333336,18.587683333333334,14.934775,12.391783333333334,12.412549999999998,12.292558333333337,12.657158333333333,13.354049999999999,12.777158333333333,17.558508333333336,25.22200833333334,33.797041666666665,44.86428333333333,40.45906666666666,39.58680833333334,37.35996666666666,37.046141666666664,38.54606666666667,37.890724999999996,37.01845,36.75305833333333,35.460816666666666,29.267225,23.228250000000003,20.8999,18.619983333333334,14.630166666666666,12.200266666666666,12.161025,12.613316666666668,12.735608333333333,13.137141666666666,13.273274999999998,19.485341666666667,25.840458333333334,33.058600000000006,34.646233333333335,36.515391666666666,37.394575,38.583,38.89451666666666,42.388225,42.60284166666667,40.32753333333334,39.524499999999996,39.30758333333333,32.059425,21.368333333333336,20.011491666666668,18.876125,14.828616666666667,12.149500000000002,12.09641666666667,11.918733333333334,12.43795,13.317133333333336,13.234066666666665,20.348391666666664,29.654899999999998,39.10682499999999,41.312891666666665,42.89129166666666,43.63663333333333,45.31425000000001,47.822633333333336,43.115125,42.801275000000004,42.662816666666664,42.62130833333334,43.00665,35.176991666666666,24.386666666666667,22.46444166666667,21.024516666666667,17.053125,14.454775,14.122483333333335,13.857108333333334,13.824808333333335,14.699374999999998,15.617808333333336,19.291508333333333,32.62479166666667,43.83048333333334,45.03043333333333,46.04345,52.12397500000001,53.29622499999999,54.74540833333333,55.46767499999999,55.02924166666667,47.32646666666667,46.29728333333333,45.63041666666667,35.968491666666665,24.1213,22.432141666666666,20.8999,17.461575,15.103216666666668,14.097108333333331,13.852491666666667,14.32325,14.800916666666666,15.578583333333333,22.039833333333334,31.540216666666662,40.92751666666666,41.82516666666667,43.12668333333334,45.32580833333333,46.26960833333333,48.302600000000005,48.651033333333324,48.325675,47.631075,46.7865,46.07345833333334,35.599283333333325,24.412050000000004,22.877508333333335,21.760616666666667,17.528499999999998,14.759391666666668,14.327858333333333,14.51939166666667,14.196325,11.461825,13.594058333333335,20.34606666666667,23.613633333333336,24.663583333333335,32.029424999999996,40.9852,42.242858333333324,43.20281666666667,44.25969166666667,45.63501666666667,29.92028333333333,22.14369166666667,21.89215833333333,22.065224999999998,26.06199166666667,24.375141666666668,23.202858333333328,21.71909166666666,17.8908,14.971691666666665,14.535533333333333,14.710933333333331,14.519374999999998,15.421675,18.903816666666668,27.421166666666664,35.77465833333334,44.66121666666667,44.737366666666674,46.105758333333334,47.79261666666667,49.27871666666667,49.67560833333334,50.59633333333334,50.813275000000004,49.606391666666674,48.27720833333334,46.97572500000001,36.33308333333333,24.615125000000003,23.002116666666666,21.88985,18.00616666666667,14.870149999999997,14.983216666666669,15.165508333333333,15.327049999999998,16.134716666666666,16.083941666666664,20.82375,28.50110833333333,40.89521666666667,41.15135,41.17442500000001,41.97978333333332,42.68590833333334,43.06435833333334,42.3836,40.97829166666667,40.63215,40.36215833333333,39.434525,33.16245833333333,23.283625,21.003741666666667,19.642258333333334,15.700874999999996,13.130225000000001,13.040225000000001,13.111758333333334,13.501733333333332,13.65175,13.427900000000001,21.532175,29.410299999999996,38.25071666666666,40.45215833333333,41.361358333333335,42.07209166666666,43.52586666666665,44.06815,44.97273333333334,45.33271666666666,44.79274999999999,44.15584166666667,44.12121666666666,36.00310833333333,24.144383333333334,22.355999999999998,20.676066666666664,17.036974999999998,14.371708333333336,13.873266666666666,13.584825000000002,13.501741666666668,14.923225000000002,14.357850000000001,21.00835,32.7771,41.767491666666665,43.30204166666667,45.80578333333333,47.01726666666667,49.30179166666667,49.816374999999994,49.172558333333335,48.272600000000004,47.59646666666666,46.991883333333334,46.15191666666667,34.581624999999995,24.022075,22.074458333333336,20.759116666666667,17.323133333333335,14.258625,14.037091666666667,14.29555,14.170950000000003,14.697075,15.2209,23.433624999999996,32.87170833333334,42.78743333333333,43.46355833333333,46.11268333333334,47.02880833333334,47.48108333333334,48.145691666666664,49.087183333333336,48.39028333333332,47.9103,46.08729166666666,45.766541666666676,35.350058333333344,24.252825,22.81520833333333,21.086825,17.05313333333333,14.323258333333333,14.085574999999999,13.354058333333333,13.790183333333333,15.068591666666665,15.287825000000003,22.229108333333333,30.310266666666667,42.78053333333333,44.21584166666668,45.37195833333333,45.98345833333334,47.12803333333334,49.32486666666666,50.506341666666664,49.726391666666665,49.557925000000004,48.201075,46.65958333333333,36.794608333333336,25.16894166666667,23.44055,21.31064166666667,17.02775,15.100900000000001,14.140949999999998,14.0648,14.630158333333332,12.421783333333332,15.128591666666667,22.563683333333334,25.577383333333334,26.828100000000003,31.68099166666667,41.58289166666666,42.96280833333333,43.66662499999999,43.588175,45.01425833333334,30.434874999999995,20.782191666666666,18.871525,18.9246,25.05588333333333,24.268975,22.979024999999996,21.97985,18.11925,14.680925,14.154791666666668,14.724758333333336,14.618616666666668,15.534741666666667,17.343883333333334,26.278908333333334,34.42933333333334,43.27664166666667,44.864275,46.55805,47.79954166666667,48.461841666666665,49.604074999999995,50.35175833333333,50.87094166666666,50.43020833333333,48.50335833333333,46.860350000000004,37.069225,24.958966666666672,23.35056666666667,22.462133333333338,18.39385833333333,15.06859166666667,15.160908333333333,15.08705,14.888599999999999,16.84775,17.625408333333333,29.507233333333335,36.27079166666667,44.70505,45.127349999999986,45.24733333333333,46.36420833333333,46.35730000000001,46.31115,47.28495000000001,47.34264166666667,46.56035,44.905833333333334,43.46356666666667,35.400825000000005,26.094283333333333,24.292066666666667,21.98908333333333,18.010791666666666,15.27859166666667,14.590925,14.533233333333335,15.073216666666667,15.910883333333336,16.637766666666664,22.45520833333333,31.136391666666672,40.11985833333334,43.168191666666665,43.242049999999985,44.2597,44.88735,46.057291666666664,46.35036666666667,46.920350000000006,35.30851666666667,27.181183333333333,28.64188333333333,26.511975000000003,23.574391666666667,22.08600833333334,21.594483333333333,17.883866666666666,14.634766666666666,14.572466666666665,15.170124999999999,15.285508333333334,18.419225,17.653116666666666,25.77815,32.82785833333333,40.076,40.10370833333334,41.09596666666666,41.70979166666667,44.13738333333333,44.116608333333325,44.042766666666665,42.14361666666667,41.8944,42.946666666666665,42.111308333333334,34.193975,23.643649999999997,22.492125,21.1099,17.018516666666667,14.19171666666667,14.106341666666665,13.840958333333331,13.707116666666666,14.729383333333336,15.243983333333333,22.238291666666665,31.8702,43.209741666666666,45.441183333333335,46.28114166666666,47.711841666666665,49.147166666666664,50.08405833333333,50.483275,50.35173333333333,48.353366666666666,45.521950000000004,44.282758333333334,36.27311666666667,24.024375000000003,22.053683333333336,20.752208333333332,17.436191666666666,14.639391666666667,13.98865,13.972491666666665,14.565533333333335,16.494675,15.460891666666663,23.332108333333334,32.1748,43.78200833333333,46.78419166666668,48.33720833333333,49.46793333333333,50.663275000000006,51.803216666666664,52.28780833333334,51.40400833333334,50.042516666666664,48.66027500000001,48.81950833333334,37.13845,25.99045,23.999008333333332,22.10444166666667,18.290000000000003,16.282391666666665,15.594725000000004,15.024758333333336,15.232441666666666,14.025583333333332,14.697083333333333,21.723699999999997,24.308216666666667,28.374208333333332,34.13164166666666,43.105875,45.30733333333333,46.5996,47.93337499999999,46.8119,33.44399166666667,27.079633333333334,24.418975000000003,25.210483333333332,26.938883333333337,25.89584166666666,25.141241666666662,22.83135,19.1969,15.691649999999997,15.227825000000001,14.733975000000001,15.160900000000003,17.304658333333332,18.137716666666662,26.50274166666667,34.348575000000004,45.03503333333333,46.76344166666667,48.01184166666666,50.021750000000004,51.85167499999999,53.06775833333334,50.10944166666667,44.71196666666666,44.62428333333333,44.638133333333336,43.25588333333332,38.00148333333333,25.24049166666667,23.65285,22.515208333333334,18.103091666666668,15.615499999999997,15.273966666666668,14.872441666666665,14.847074999999998,16.702383333333334,17.743100000000002,22.342141666666667,33.307833333333335,46.181925,46.447291666666665,48.49874166666667,51.20785833333333,52.22549166666666,53.27315000000001,53.35391666666667,50.259449999999994,50.444050000000004,49.79099166666666,49.32716666666667,39.40910833333333,27.981908333333337,25.554299999999998,23.569775000000003,20.147616666666664,16.723141666666667,15.730875000000005,15.869341666666665,16.030858333333335,17.143133333333335,17.5285,25.415849999999995,35.11700833333334,44.917325000000005,44.23660833333333,44.79735833333333,45.171191666666665,46.327283333333334,49.71715833333334,49.202558333333336,48.86564166666667,49.50946666666667,48.77796666666668,47.236491666666666,38.608383333333336,27.178875,25.11355,22.85905,18.075391666666665,15.357058333333333,15.230133333333333,14.784766666666664,14.514783333333334,16.19009166666667,16.852366666666665,24.677425,33.617041666666665,43.85585833333334,46.04576666666666,49.124083333333324,51.60245833333334,53.785441666666664,53.38852500000001,46.11960833333333,45.78039166666667,46.234991666666666,45.741166666666665,45.10195833333333,39.9791,27.543458333333334,24.862033333333333,23.219033333333332,20.117625,16.976975,16.270841666666666,15.975491666666668,16.614683333333332,18.636133333333333,17.662333333333333,23.387491666666666,36.3654,48.48258333333334,48.29799166666667,47.448783333333324,48.314116666666656,48.00951666666666,47.695699999999995,45.81040833333333,45.180416666666666,44.497366666666665,45.40424166666666,48.572583333333334,36.16000833333333,23.978233333333336,22.28906666666667,21.213716666666667,17.1339,14.477866666666666,14.95785,15.0109,15.040916666666666,19.189958333333333,18.020016666666667,23.528249999999996,31.918675000000004,41.792874999999995,44.901199999999996,46.90419166666667,46.029608333333336,46.232683333333334,43.373558333333335,43.45663333333334,41.857483333333334,42.96281666666667,46.50496666666666,49.33180000000001,35.78158333333334,24.46281666666667,22.870583333333332,21.137566666666668,16.951608333333333,14.177874999999998,14.009416666666667,14.210191666666669,14.007125000000002,12.260250000000001,13.656350000000002,19.305341666666667,24.082075000000003,26.7612,32.991708333333335,41.137499999999996,42.0167,43.40356666666667,43.5605,43.438183333333335,28.148058333333328,21.176800000000004,20.07838333333333,22.092924999999997,24.310525000000002,23.43824166666667,22.642133333333334,21.239108333333334,17.648491666666665,14.955533333333333,14.733991666666666,14.784775000000003,14.556308333333334,18.39845,20.879133333333336,27.384241666666668,35.16775833333333,45.00273333333333,44.268925,46.149616666666674,46.94110833333334,45.88423333333333,44.40275833333334,47.39801666666667,47.25495,47.0288,42.312075,43.45201666666667,33.64243333333334,23.81208333333333,22.254441666666665,20.726816666666668,16.30545833333333,13.762491666666667,13.799416666666666,14.224025,13.700208333333334,15.359366666666666,15.350116666666665,24.47899166666667,33.990883333333336,43.539725000000004,45.31425000000001,46.61805000000001,46.763425000000005,47.63109166666666,49.68254166666666,47.907999999999994,47.967999999999996,46.64113333333333,45.983466666666665,44.995808333333336,35.77004999999999,25.489699999999996,23.258266666666668,21.075258333333334,17.385425,14.678624999999997,14.710924999999998,14.198633333333333,14.484775,16.337774999999997,16.282408333333333,25.115875,32.763241666666666,46.14960833333333,46.19807500000001,45.86809166666668,47.80645833333333,49.01104166666667,49.384858333333334,50.3056,49.359474999999996,46.853433333333335,46.364225,47.808775,37.823791666666665,25.41355,23.692075000000003,22.2937,17.846941666666666,14.61631666666667,14.655549999999998,14.20325833333333,14.38555833333333,17.016208333333335,16.974675,24.7628,34.943925,44.848133333333344,45.487316666666665,49.27409166666666,50.79709166666667,51.28401666666667,51.84244166666667,51.893224999999994,50.28020833333333,48.36259166666667,47.96566666666667,51.943975,35.95005,26.33428333333333,23.66209166666667,22.487508333333334,19.494566666666667,16.545466666666666,15.857800000000003,15.751649999999998,15.827799999999998,19.273025,17.819266666666667,26.025049999999997,34.68776666666666,46.54881666666666,47.852608333333336,47.561858333333326,49.467925,49.98713333333333,49.449466666666666,50.31944166666667,50.39097499999999,49.19331666666667,49.338699999999996,48.76181666666667,38.760666666666665,27.12810833333333,24.682041666666667,23.193641666666668,20.048391666666667,16.107008333333336,15.020141666666666,14.914000000000001,15.959316666666671,18.659233333333333,16.755458333333333,25.18508333333334,33.28939166666667,43.09434166666667,44.71427500000001,45.69500833333334,47.88260833333334,48.52410833333334,49.627158333333334,49.42640000000001,49.211800000000004,48.83795833333335,48.120308333333334,49.024875,37.38998333333334,26.733491666666662,24.347441666666665,23.313641666666665,19.427641666666666,16.113941666666665,15.603958333333333,14.888608333333332,15.490883333333331,14.964774999999998,14.701683333333335,22.245225,24.91973333333333,29.239558333333335,34.618541666666665,41.51825833333334,39.62371666666667,40.103716666666664,42.249766666666666,42.978975,28.184983333333335,22.621358333333333,20.7199,21.666016666666668,25.462000000000003,24.232066666666668,23.290566666666663,21.712175000000002,17.378516666666666,14.540158333333332,14.680925,14.669375000000002,14.637075000000001,17.283883333333335,18.638450000000002,26.41965833333333,34.002425,45.07425,46.627266666666664,48.46873333333334,48.76642499999999,48.25183333333333,48.88640833333333,49.260241666666666,48.208,46.65035833333334,46.740358333333326,48.007225,38.16072499999999,25.088174999999996,23.28825833333333,21.626766666666665,18.043091666666665,15.8855,15.340875000000002,14.854,15.183966666666668,19.1715,17.819241666666667,24.841275,34.032441666666664,44.76044166666667,44.16045,44.25046666666666,43.901999999999994,44.402775,47.09110833333333,47.434933333333326,46.839575,45.935,45.335024999999995,46.85804999999999,36.448483333333336,26.7312,23.37825833333333,22.023691666666664,18.624608333333338,15.532441666666669,14.710916666666668,14.632466666666668,14.851683333333334,16.946975,17.23774166666667,23.729008333333336,33.40938333333333,43.92970833333333,45.821958333333335,45.369633333333326,47.03572499999999,48.729508333333335,49.191025,49.497908333333335,48.50795833333334,46.51883333333334,46.46573333333334,46.95035833333333,37.203066666666665,25.526624999999996,22.905191666666667,21.62449166666666,18.188475,15.373183333333335,14.662475,14.138633333333331,14.530925000000002,16.75775,16.314700000000002,24.222825,34.63238333333333,43.680475,45.67195,47.03110833333334,49.274100000000004,51.46630833333333,51.63245,52.267041666666664,51.63014999999999,50.43019999999999,48.82873333333334,51.166325,38.92220833333332,25.886608333333328,23.72209166666667,22.171383333333328,19.455341666666666,17.115433333333332,16.476241666666667,15.682433333333334,15.982416666666667,20.085325,18.241533333333333,26.435824999999998,36.5408,49.58100000000001,49.477166666666676,49.38717499999999,49.562549999999995,50.80404166666667,52.087050000000005,51.64400833333334,51.840133333333334,49.793325,48.865649999999995,49.47716666666667,36.785391666666676,24.742024999999995,22.360591666666668,21.075275,17.57464166666667,14.690158333333335,14.198633333333333,14.161725000000002,14.17555,17.00005833333333,15.509341666666671,20.588383333333333,32.705558333333336,44.02200833333333,47.07724999999999,48.461808333333344,49.07794166666667,50.73941666666667,51.2494,51.64399166666667,51.558608333333346,50.89631666666667,48.978725000000004,49.37333333333333,36.868475,26.22123333333333,23.567475,21.562174999999996,17.20544166666667,14.821691666666668,14.512466666666668,14.150183333333336,14.194025000000002,13.414066666666665,14.500933333333334,22.046775,25.76891666666667,27.08425,34.025508333333335,42.69745,43.30896666666666,44.393525000000004,46.10807500000001,46.43114166666666,30.035674999999998,21.273741666666666,19.30073333333333,21.62215833333333,25.755083333333335,24.10515,22.912116666666666,21.919858333333337,18.047716666666666,14.662474999999999,14.122475000000001,14.205558333333334,14.514775,16.753141666666668,17.706183333333332,26.952725,35.4862,44.88043333333332,46.73343333333333,49.391783333333336,50.03099166666667,51.60705833333333,51.71553333333333,50.990941666666664,50.79941666666667,49.874066666666664,48.39489166666666,48.976425000000006,36.40924999999999,24.767416666666666,23.006716666666666,21.63371666666667,17.61155833333333,15.103216666666667,15.527833333333335,15.39396666666667,15.509341666666666,18.30848333333333,18.6477,27.153475,35.827724999999994,45.42271666666667,45.8704,46.562675000000006,47.65646666666667,49.34793333333334,51.752458333333344,50.921708333333335,50.13253333333333,49.894825,50.10714166666666,49.07793333333334,37.15229166666667,26.502725,23.61130833333333,21.69830833333333,17.763866666666665,15.290141666666669,14.953233333333335,14.800916666666666,15.137833333333331,18.78613333333334,17.775416666666665,25.886616666666672,34.30703333333333,42.946658333333325,44.83659166666666,46.96188333333333,48.039516666666664,48.895641666666656,50.658649999999994,49.544075,48.75718333333334,47.15571666666667,46.87649166666666,48.77566666666667,37.228441666666676,25.279700000000002,22.395216666666666,20.216858333333338,16.619308333333336,13.926341666666668,13.633275,13.527125,13.707108333333336,16.423166666666663,16.637783333333335,25.31663333333333,33.5986,41.99361666666666,44.047383333333336,45.291175,46.01345,47.381866666666674,48.95334166666667,48.551808333333334,47.617241666666665,46.251133333333335,45.729616666666665,47.53415833333333,35.83465833333333,26.55581666666667,23.5167,21.04989166666667,17.300049999999995,14.643999999999998,14.341708333333335,13.859416666666666,14.117866666666666,17.150066666666667,16.15778333333333,23.029808333333335,33.54783333333334,41.721325,43.23741666666666,44.17199166666666,46.20268333333334,47.17418333333333,47.04263333333333,46.22114166666666,45.909633333333346,45.3904,45.127358333333326,47.07035,35.929275,24.130533333333336,21.894475,20.78680833333333,17.011600000000005,13.824800000000002,13.462525,13.005616666666668,13.31713333333333,16.1624,13.944791666666667,18.696133333333336,30.62411666666667,41.03828333333333,42.72745833333334,44.97275,46.16116666666667,47.155716666666656,48.021074999999996,48.90255,48.6072,46.78881666666667,45.91885833333333,47.37031666666667,36.09079166666667,24.866641666666666,22.189841666666666,21.176799999999997,16.619316666666666,14.180183333333332,14.087875000000002,13.912491666666668,13.545583333333333,13.213291666666663,14.076333333333332,19.556883333333335,22.141366666666666,25.462025,32.59478333333333,43.09896666666666,45.441183333333335,46.694208333333336,47.64724166666667,47.70494166666666,31.724833333333336,22.563666666666666,20.860674999999997,24.211275,26.214291666666668,24.92203333333333,24.001291666666663,22.591358333333332,19.093041666666668,16.427775,16.508533333333332,16.356233333333332,15.555508333333334,18.716916666666666,19.699949999999998,28.842650000000003,37.20074999999999,45.971916666666665,47.65646666666666,48.219533333333324,49.44945833333333,50.619433333333326,51.092475,51.62554166666666,49.43562500000001,47.42339166666667,46.96649166666666,49.19101666666668,37.865341666666666,25.847391666666663,22.914416666666668,21.834483333333328,18.029249999999998,14.964750000000004,14.164033333333334,14.584008333333331,14.297849999999999,17.341583333333332,15.603966666666665,24.36360833333333,31.85403333333333,40.37831666666666,43.505091666666665,44.693508333333334,48.203358333333334,51.02554166666666,52.48165,46.537275,46.24652500000001,46.40112500000001,45.07426666666667,48.20336666666666,39.83833333333333,28.422666666666668,25.74123333333334,24.220533333333332,20.237608333333338,17.976183333333335,16.73930833333333,16.171633333333336,15.767791666666668,19.543041666666667,17.646175,22.87058333333333,35.036233333333335,45.26349166666666,46.96650833333333,49.32486666666667,51.95089166666667,51.74089999999999,51.97859166666666,51.80553333333333,51.45016666666666,48.28413333333333,48.371825,52.527808333333326,36.36770833333333,26.13120833333333,24.559741666666667,22.805966666666666,19.069991666666663,15.670875,15.567050000000002,15.237050000000004,15.440116666666666,18.437708333333333,16.799308333333332,24.444366666666667,35.9639,45.19194166666667,47.46031666666667,49.011025,50.760175000000004,51.69707499999999,52.567041666666675,52.9247,51.39939166666667,51.240141666666666,49.359474999999996,51.58169166666667,37.611491666666666,26.724249999999998,24.232066666666668,22.150608333333334,18.557675,15.606275000000004,15.033983333333332,14.985516666666669,15.06169166666667,18.90845,17.593116666666663,23.782083333333336,34.79855,44.87814166666667,45.70193333333333,47.27110833333334,49.26485,50.990941666666664,45.058116666666656,43.32281666666666,46.509591666666665,46.93420833333334,45.18735,50.58710833333334,37.867650000000005,27.335775,22.82671666666667,22.337525,21.4791,21.799866666666663,21.072974999999996,21.144508333333338,21.414491666666667,22.399841666666664,24.215908333333335,27.068091666666664,33.91242499999999,43.57895,46.638825,47.19724166666668,48.994875,50.24559166666666,50.90325833333333,50.91940833333334,49.809450000000005,49.20946666666668,47.97260000000001,45.47347500000001,36.870775,25.15279166666667,23.159025,22.688275,22.37445,22.062916666666666,21.3614,21.504491666666667,20.837574999999998,20.8676,21.989091666666667,26.052750000000003,29.576475,31.45250833333333,34.21241666666666,43.029741666666666,44.97735,46.5696,47.35186666666667,47.21341666666667,33.99781666666667,25.05356666666667,23.835158333333336,27.864225,25.72045833333333,24.298991666666666,23.8513,23.186733333333333,22.556758333333335,22.332924999999992,21.43295,21.684466666666665,21.262199999999996,21.28063333333333,24.889725,30.001050000000003,40.69213333333333,46.6019,44.483533333333334,46.14728333333333,47.89415833333334,49.00870833333334,49.42178333333334,49.00870833333334,48.600275,48.438750000000006,47.02882499999999,44.89428333333333,31.650991666666666,26.592724999999998,22.87751666666667,22.25906666666667,21.986766666666664,21.5068,21.541408333333333,21.529866666666667,21.366016666666667,22.37215,24.478975000000002,31.715600000000006,40.131391666666666,44.580450000000006,46.26499166666667,47.66339166666666,48.55183333333333,49.887908333333336,50.31711666666667,50.13944999999999,49.89714166666668,49.01794999999999,47.926449999999996,52.11936666666667,43.88123333333334,27.058866666666663,23.74748333333333,23.099025,22.418283333333335,22.766750000000002,22.231375,21.67985,21.08218333333333,22.44135833333333,23.64363333333333,19.62841666666667,31.09715833333333,44.67505,45.009658333333334,45.53117500000001,46.089625000000005,46.140391666666666,47.421099999999996,47.87799999999999,47.633383333333335,46.521125000000005,46.05038333333334,50.04713333333333,36.09310833333333,25.547391666666666,23.56516666666667,21.573716666666666,17.196191666666667,14.164016666666667,13.928650000000003,13.974791666666667,13.656341666666668,17.7131,16.6793,21.400649999999995,30.224891666666668,40.38985,42.61897499999999,44.82735,46.76804166666667,49.763308333333335,50.36789166666665,51.0348,50.87555833333332,49.1564,47.714175000000004,52.271658333333335,37.50998333333333,27.225025,23.25134166666666,22.295991666666666,18.876133333333332,15.331658333333335,15.073208333333332,15.105533333333339,15.384733333333335,18.573841666666667,16.66085,24.3336,31.371766666666662,42.85666666666666,44.322,45.831175,47.93799166666667,49.322558333333326,49.66408333333334,50.144066666666674,49.44254166666666,48.66950833333333,46.44728333333334,51.59553333333333,37.713025,25.939691666666665,24.07744166666667,21.696016666666665,17.768475000000002,14.583999999999998,14.113258333333334,13.534058333333332,13.674816666666667,17.930016666666663,15.031658333333333,20.408375,30.374875,40.327525,42.24977500000001,44.81580833333334,46.15423333333333,47.637991666666665,48.4249,49.338699999999996,48.35104166666667,47.47187499999999,47.296483333333335,51.475541666666665,37.20305833333334,25.886625000000006,22.7298,20.67373333333333,16.640083333333333,14.189425000000002,13.778649999999999,13.824800000000002,14.004808333333331,13.557125,13.840958333333333,17.330025000000003,20.756824999999996,23.10365,32.193275,38.32685833333334,40.84905,41.39595833333333,41.72133333333333,40.92753333333332,27.700374999999998,22.612125000000002,20.558375,25.38586666666667,23.382875000000002,22.683666666666667,22.835975,21.342966666666666,17.126983333333335,14.604775000000002,15.003999999999998,14.837833333333336,14.304775,17.8931,18.22539166666667,26.036599999999996,34.191658333333336,42.907450000000004,44.619674999999994,45.265791666666665,47.51571666666666,47.656483333333334,48.66950833333334,48.74335833333334,48.23567500000001,47.12803333333333,46.13115,50.14635833333333,35.675425,24.598983333333333,22.240608333333327,20.496066666666664,17.154658333333334,14.706299999999999,13.942491666666667,13.522508333333334,13.739424999999997,17.9554,15.541666666666666,21.848308333333335,31.676374999999993,41.76055833333333,44.50429166666667,46.34344166666668,47.511091666666665,49.50023333333334,47.87800000000001,48.13875000000001,46.061925,46.05731666666666,45.125033333333334,48.796425,35.55775,25.665100000000006,23.920550000000002,21.308325,17.348499999999998,14.316333333333334,14.140950000000002,14.22401666666667,14.258633333333334,17.443125000000002,16.30548333333333,21.479091666666665,29.904133333333334,41.15828333333334,43.07588333333334,44.29890833333334,46.08270000000001,48.05798333333333,49.29255833333334,49.09178333333333,48.390299999999996,47.333416666666665,45.815,49.35715833333333,35.257758333333335,25.685850000000002,23.85823333333333,21.942933333333333,18.287691666666664,15.6178,15.382433333333333,14.526324999999998,14.009416666666667,17.932325000000002,15.991624999999999,20.119933333333332,30.804091666666675,40.99443333333333,44.10275833333333,45.2404,47.57801666666666,48.981024999999995,49.00641666666667,49.477174999999995,47.81799999999999,46.654966666666674,46.39650833333334,50.372499999999995,36.69768333333332,27.321933333333337,25.155108333333335,22.556741666666667,18.35000833333333,15.347824999999998,14.992458333333333,14.470933333333337,14.554008333333334,18.578441666666667,16.838516666666663,22.727508333333333,31.997124999999993,41.659025,41.862100000000005,43.16126666666667,43.59279999999999,45.5127,46.19344999999999,46.13345833333333,44.67044166666667,43.57664166666667,42.65128333333333,46.306533333333334,32.839400000000005,23.373641666666668,21.582950000000007,19.972266666666666,16.250091666666666,13.393291666666665,13.236358333333333,12.917924999999999,13.268683333333335,16.637774999999998,14.837850000000001,19.529191666666666,29.63644166666667,38.14223333333333,42.23823333333333,42.831275000000005,43.51203333333333,45.25887499999999,48.02799166666667,47.25263333333333,47.37725,44.86660833333334,46.79575,50.559416666666664,33.60319166666667,24.665891666666667,22.2383,21.109883333333332,16.61238333333333,14.166316666666665,14.31863333333333,14.436333333333335,14.344008333333333,14.293241666666669,15.837033333333338,20.86295833333333,23.555925000000002,26.56965,30.764858333333333,41.797475,43.692025,44.07508333333333,44.61275,44.061225,30.028750000000002,21.068341666666665,19.819925,25.055874999999997,24.788191666666666,23.147491666666667,22.263675000000006,21.252958333333332,17.853883333333332,14.332475000000002,14.637075000000003,14.983216666666666,14.729391666666666,17.39235833333333,18.444608333333335,25.727391666666666,35.84849166666667,45.065025,46.35499166666667,46.954958333333344,48.86103333333333,49.936375,50.15559999999999,50.25251666666667,49.497925,47.310325,46.80959166666667,52.46779999999998,36.44615833333333,25.355858333333334,22.7252,21.557550000000006,17.6485,14.648616666666669,14.678616666666668,15.080125,15.003983333333336,18.38,16.344708333333333,24.502049999999997,34.60240833333333,45.54270833333333,45.78501666666666,46.509583333333346,47.873383333333344,49.01333333333334,50.47173333333333,50.62865,48.98333333333333,48.61180833333333,46.68496666666667,53.60544166666667,36.843091666666666,25.768924999999996,23.902075,22.6583,18.336158333333334,15.174741666666664,15.068616666666669,14.895541666666666,14.955533333333335,18.137708333333332,17.43850833333333,24.042841666666664,33.70475833333333,44.61505,46.31113333333334,47.291866666666664,46.846516666666666,48.078766666666674,48.72718333333333,49.44946666666667,48.47566666666666,47.94951666666666,46.498058333333326,49.975608333333334,37.041516666666666,25.04895,22.125233333333338,20.9922,17.369283333333332,14.812458333333334,14.214791666666668,13.647125000000003,14.397091666666668,17.690025,17.297733333333333,20.925275000000003,29.27185,38.098425,41.23905,43.712783333333334,44.61043333333334,46.02961666666666,49.0341,49.90406666666666,49.451775,48.58643333333333,48.018766666666664,53.773900000000005,39.766825000000004,27.481149999999996,25.621233333333336,23.634383333333332,20.1107,16.390866666666668,16.31470833333334,16.725458333333332,16.870825,19.679174999999997,18.940749999999998,25.36740833333333,35.943108333333335,45.281958333333336,47.00342499999999,46.915725,47.880291666666665,47.626458333333325,48.17106666666666,49.19793333333333,48.960266666666655,47.71646666666667,49.091791666666666,52.69164166666667,37.60228333333333,25.10433333333333,22.67905833333333,21.421408333333332,17.583883333333336,14.766308333333335,15.03860833333333,15.08936666666667,14.920916666666665,19.404575,18.440008333333335,21.76755,31.459450000000004,42.162083333333335,43.08971666666667,45.34426666666666,46.784183333333324,47.83878333333334,47.584925,46.627283333333345,46.95265,47.864149999999995,43.75663333333333,46.458825,36.82,25.173558333333332,21.412158333333334,20.445308333333333,16.250075,14.247099999999998,13.663266666666665,13.44635833333333,13.312524999999999,13.026375000000002,13.660975,16.23163333333333,20.650675000000003,25.33740833333333,33.185525,39.97909166666666,40.55368333333333,41.05674166666666,42.00748333333334,41.873625,29.488766666666667,20.059941666666667,19.68610833333333,25.081258333333338,23.6344,22.515199999999997,22.203675,20.955291666666664,16.970066666666668,14.230933333333333,13.935566666666665,13.610208333333333,13.840958333333333,16.63546666666667,16.137024999999998,19.24533333333333,28.685716666666664,40.46370833333334,43.362033333333336,42.90513333333334,44.181225000000005,45.63500833333333,45.83115833333333,46.53496666666667,46.01345833333334,45.023516666666666,44.928891666666665,48.49413333333333,34.99008333333334,24.50205,21.878308333333333,20.523750000000003,16.820058333333336,14.04633333333333,13.81095,13.737108333333333,14.436324999999997,17.489266666666666,16.741599999999995,20.507599999999993,30.102575,40.957525000000004,42.29822500000001,43.5951,42.785133333333334,45.22194166666666,45.314249999999994,46.324983333333336,45.339633333333325,43.93430833333334,45.44348333333334,48.97871666666668,36.12540833333333,26.156608333333338,22.43676666666667,20.542225,17.05083333333333,13.972491666666665,13.787883333333333,13.626350000000002,13.907883333333332,16.79005833333333,15.726266666666668,18.733075,29.747208333333333,41.66364166666667,43.251250000000006,42.268225,44.012783333333324,46.274233333333335,46.398824999999995,46.41728333333333,46.29036666666667,46.07577499999999,46.39882500000001,49.403308333333335,35.204675,24.412075,23.1129,20.766058333333334,17.304666666666666,14.563224999999997,14.524008333333333,13.86405,14.069408333333335,17.443116666666665,16.628541666666667,20.290699999999998,29.12185,39.487591666666674,41.594408333333334,40.85830833333333,40.55599166666667,40.19368333333333,42.74820833333333,43.994325,42.628216666666674,40.904450000000004,43.952783333333336,48.77334999999999,34.45701666666667,23.470558333333333,21.839074999999998,20.558358333333334,16.746225,14.200941666666665,13.480966666666667,13.386358333333334,13.695575,16.847758333333335,15.723941666666667,19.18535,27.585025,37.86765833333334,41.465183333333336,43.70816666666666,43.0528,43.50970833333334,45.228883333333336,46.401125,45.84269166666667,42.94898333333333,44.169691666666665,47.421083333333335,34.6947,24.245908333333333,21.829858333333334,19.743799999999997,16.259316666666667,13.753275,13.238683333333332,13.162525,13.330975,16.374691666666667,14.514775,19.824558333333332,28.738791666666668,36.49693333333333,40.21217499999999,44.0797,42.773583333333335,45.256566666666664,45.56348333333333,45.3835,44.86198333333334,43.902025,46.04576666666667,47.13265833333333,33.09092499999999,23.761325,21.684474999999996,20.567600000000002,15.957025,13.914799999999998,13.432524999999998,13.543275,13.34253333333333,12.915616666666667,13.552516666666667,16.093175,20.67605,25.976599999999994,33.17400833333334,39.607575000000004,40.336775,40.56520833333333,41.91979166666666,42.91205,30.397958333333335,20.770666666666667,21.439875,25.425091666666663,24.338224999999998,23.1844,22.974433333333334,21.783708333333333,18.27385,15.262433333333332,15.156308333333333,15.389358333333332,14.943991666666667,18.24615833333333,21.573708333333332,23.835158333333336,31.63945,40.62060833333333,42.498999999999995,43.883558333333326,44.64275,45.49193333333333,45.847316666666664,45.64654166666668,44.88275833333333,43.170500000000004,43.599716666666666,45.83808333333332,34.491625,24.273583333333335,22.6006,20.76604166666667,17.027758333333335,14.304783333333331,13.880183333333335,13.827125,14.44785833333333,18.779224999999997,17.260816666666667,20.754508333333334,28.923416666666668,38.843775,40.147558333333336,42.41824166666667,42.51515,41.60365,42.34438333333333,42.29130000000001,42.15055833333334,40.482175,42.57975833333333,44.27121666666667,31.549449999999997,24.322058333333334,22.616733333333332,20.295299999999997,16.427783333333334,13.570974999999999,13.469433333333335,13.5225,13.734808333333334,17.034683333333334,15.63626666666667,18.721516666666666,30.497175,35.80696666666667,38.250724999999996,39.21066666666666,41.686725,42.00516666666666,41.629016666666665,42.443616666666664,40.77059166666667,39.44141666666666,41.63826666666667,44.49969166666667,32.730941666666666,21.889858333333333,20.710666666666665,19.303025,15.726258333333334,12.81408333333333,12.643324999999999,12.555616666666666,12.922541666666667,16.23395,14.835558333333333,16.746241666666666,25.6097,38.013025000000006,40.860600000000005,44.03583333333333,44.95426666666666,43.029741666666666,44.01738333333333,44.612758333333325,44.162775,43.188958333333325,45.256566666666664,46.9365,33.5386,23.94360833333333,22.582150000000002,20.586066666666667,16.713916666666663,13.940183333333332,13.76019166666667,13.817891666666666,13.972499999999998,17.4708,15.691641666666664,20.726825,29.00415833333334,37.743050000000004,41.40288333333333,44.471983333333334,43.747391666666665,46.10115,46.061925,46.40343333333333,46.498066666666666,46.51190833333334,47.834149999999994,48.52644166666666,33.57320833333333,23.62975833333333,22.441366666666667,20.507591666666666,16.822366666666664,14.443241666666665,14.242474999999999,14.161724999999999,14.053266666666666,17.660033333333335,16.215466666666664,18.714608333333334,29.654916666666665,41.4698,43.966625,44.232,45.5058,46.075775,46.64111666666667,45.960375,45.002725,44.06124166666667,47.241099999999996,48.226441666666666,33.8755,24.571283333333337,22.060625,20.7799,16.66315833333333,14.83554166666667,14.104016666666666,13.753291666666664,13.501733333333332,13.46711666666667,14.367091666666667,16.847741666666668,20.821425,23.22826666666667,31.2933,37.46150833333333,38.78144999999999,40.302183333333325,41.834399999999995,40.95521666666667,27.543466666666664,21.165274999999998,24.213600000000003,25.298175,24.07975833333333,22.08369166666667,21.266783333333333,20.110691666666668,16.531616666666668,13.594058333333335,13.393283333333335,13.344816666666667,13.303291666666667,16.4393,16.540833333333335,18.7792,25.418158333333334,38.705308333333335,39.06066666666667,42.67899166666666,42.54515,43.025133333333336,43.54435,43.62973333333333,42.69745833333332,41.12365833333333,44.28738333333333,45.31655833333334,32.67095,23.636691666666668,21.661408333333338,19.637641666666664,16.162391666666668,13.326366666666667,12.950233333333335,12.964083333333335,13.213299999999998,16.985341666666667,16.466108333333334,18.336158333333334,28.44803333333333,40.046025,39.12530833333332,43.357425,43.94125,42.47821666666667,43.066675000000004,44.6889,44.086625000000005,43.038975,44.25969166666667,44.72581666666667,32.70094166666666,23.94361666666667,21.991366666666668,20.419908333333332,16.8593,14.205549999999997,13.658658333333333,13.637883333333335,13.603283333333335,17.09005833333333,16.420849999999998,20.380683333333334,29.96873333333333,38.14917500000001,40.89290833333334,43.059733333333334,43.458958333333335,42.29590833333333,42.35593333333333,43.685100000000006,43.65048333333334,41.218291666666666,45.127341666666666,47.644933333333334,33.127833333333335,23.597475,21.278341666666673,19.57071666666667,15.938566666666665,13.014833333333334,12.878691666666667,12.878683333333333,12.980225000000003,16.250083333333333,15.479366666666666,17.724658333333334,26.994250000000005,35.90389166666667,38.55760833333334,40.68291666666667,43.32511666666667,45.196574999999996,43.892775,43.74509166666667,43.19356666666667,42.13900833333333,44.87583333333333,46.73111666666666,33.32398333333333,23.812083333333334,22.14829166666667,20.297616666666666,16.850066666666667,14.353258333333335,13.974808333333334,13.760191666666666,13.815575,17.16158333333333,16.238541666666666,17.537716666666665,26.63195833333333,37.006908333333335,41.42595,43.662025,44.328900000000004,44.48121666666666,44.105091666666674,44.86890833333333,42.70206666666667,42.02825000000001,45.425025000000005,45.41580833333333,32.20480833333333,23.35285,21.679850000000002,19.704566666666665,16.049325,13.580199999999998,13.132516666666666,12.892533333333333,13.234066666666665,16.905441666666665,15.673191666666668,17.625416666666666,26.85811666666667,36.713841666666674,41.608275,43.9897,42.568216666666665,44.358916666666666,44.96118333333334,44.87121666666667,45.00734166666666,44.285075,47.995675,47.97492499999999,34.56778333333333,24.245908333333333,21.366041666666664,20.09454166666666,15.936258333333333,13.605591666666667,13.74635,13.109441666666667,13.12098333333333,13.24098333333333,15.077825000000002,16.03549166666667,20.371458333333333,21.474491666666665,26.881183333333336,37.064600000000006,37.27229166666667,38.85299166666667,39.150675,38.29225,26.451966666666674,19.035358333333335,22.402141666666665,22.164458333333332,21.67986666666667,21.269116666666665,20.599908333333328,19.356108333333335,16.067783333333335,13.49020833333333,13.386358333333334,13.187899999999999,13.637891666666667,16.646991666666665,17.939241666666668,21.16988333333333,29.204941666666667,38.945299999999996,39.87756666666666,40.675983333333335,41.075208333333336,40.915974999999996,40.927524999999996,41.03828333333333,40.91598333333333,40.519074999999994,45.53115833333334,45.63731666666667,33.767050000000005,22.545216666666665,20.588366666666666,19.406883333333333,15.811625,13.118675000000001,13.047116666666668,13.021758333333333,13.137141666666666,16.29624166666667,16.612366666666667,19.300724999999996,27.17425833333333,37.486891666666665,38.79992500000001,41.60826666666667,41.42365,41.105216666666664,40.71521666666667,41.022108333333335,40.95520833333334,39.755266666666664,44.85274166666667,44.46505833333333,32.54403333333334,24.926658333333325,22.16446666666667,20.05760833333333,16.68391666666667,13.762500000000001,13.531741666666669,13.635583333333331,13.880183333333335,16.656225,16.506233333333338,19.552266666666668,27.901133333333334,38.61069166666667,40.83521666666667,42.801275000000004,42.702075,41.882866666666665,43.332033333333335,42.85205833333333,42.9882,40.978275,45.736549999999994,45.46885,32.59017500000001,23.198249999999998,21.509091666666666,19.616866666666667,16.29625,13.64710833333333,13.229441666666666,13.176358333333333,13.300983333333333,16.427766666666667,16.137024999999998,19.173816666666664,29.2257,38.79069166666667,42.15515833333333,44.62889166666667,43.12203333333334,43.44278333333333,44.02200833333334,44.441975000000006,43.876625,41.50673333333334,46.01115833333333,45.385799999999996,33.04707499999999,22.930575,21.479108333333333,20.018391666666663,16.48085,13.573275,13.342516666666667,13.192533333333332,13.2802,16.540841666666662,16.4024,18.246149999999997,27.744208333333336,39.302974999999996,42.482841666666666,45.09504166666667,44.30121666666667,45.33271666666667,45.805775000000004,46.417275,45.09963333333332,43.087425,47.40955833333334,47.01035000000001,33.78780833333333,24.109758333333332,21.839091666666665,20.436075,16.81315,13.861733333333335,13.714041666666665,13.820191666666666,13.880191666666667,17.216958333333334,16.681616666666667,18.133075,27.033483333333333,40.03908333333333,42.466683333333336,44.33583333333333,41.8667,42.53359999999999,44.121225,43.83048333333334,43.352808333333336,41.55979166666667,46.60649999999999,46.19805833333333,32.117108333333334,23.149800000000003,21.16756666666667,19.856858333333335,15.707816666666664,13.704808333333334,13.16713333333333,13.395591666666666,12.998675,12.650258333333333,13.866358333333332,16.43470833333333,19.469191666666667,22.547524999999997,27.815750000000005,38.59915833333333,40.406016666666666,39.84294166666667,40.230624999999996,40.129083333333334,27.494983333333334,18.816133333333333,23.475174999999997,23.477475000000002,22.621375,21.852925,21.003733333333333,20.03685833333333,16.462383333333335,13.527116666666666,12.92023333333333,13.11175,12.934066666666666,16.707,16.900833333333335,19.43455833333333,29.680283333333335,36.575375,41.1952,43.79355,44.33123333333333,43.788941666666666,43.87201666666667,44.36815000000001,43.12665833333333,42.129774999999995,47.61955833333334,45.71346666666667,31.240225,22.547516666666667,21.119125,19.552249999999997,15.65243333333333,13.051758333333334,12.913283333333334,12.876391666666668,13.148675000000003,16.187791666666666,16.003183333333336,20.20763333333333,27.725783333333336,38.84836666666667,42.002875,43.00435833333333,41.675174999999996,43.145125,42.842825000000005,42.960508333333344,42.415933333333335,40.76598333333334,47.62646666666666,47.68646666666666,34.436258333333335,23.657475,22.194450000000003,20.85835,16.9239,13.947108333333334,13.517908333333333,14.057874999999997,13.995566666666669,16.570833333333336,16.432375,19.796858333333333,30.25488333333334,36.503841666666666,36.713841666666674,37.433808333333324,37.88610833333333,38.952208333333324,40.05985833333333,40.03216666666666,39.09990833333334,38.44685833333333,44.00123333333334,42.12976666666666,30.58948333333333,22.72520833333333,20.447591666666668,18.899216666666668,15.601650000000005,12.881008333333332,12.816383333333333,13.123291666666667,13.420966666666665,16.928524999999997,17.634641666666667,22.965191666666666,29.292624999999997,34.6047,31.93942499999999,34.037041666666674,37.83071666666667,38.19762500000001,39.681425,39.402191666666674,39.45066666666667,39.46911666666667,45.00503333333333,43.851225,32.04095833333333,21.183733333333336,20.161458333333332,18.977675,15.435508333333333,12.712533333333335,13.058683333333333,12.98485,13.416366666666667,16.64238333333333,17.4639,19.72995,25.72276666666666,33.261675000000004,33.469366666666666,35.363899999999994,37.281508333333335,38.040725,39.47143333333333,39.71603333333333,38.26685,39.63064166666667,43.97354166666667,41.34980833333333,30.979458333333337,22.072141666666667,20.805275,19.136891666666667,15.606283333333332,13.148658333333332,13.139441666666665,13.400191666666665,14.270175,17.641558333333332,17.11775,26.052733333333336,32.40324999999999,37.629975,33.94473333333334,32.684775,35.73775,36.85460833333334,38.239175,38.04304166666667,38.86221666666666,40.01140833333333,44.153533333333336,41.95900000000001,30.63565000000001,22.33983333333333,24.285124999999997,19.478416666666664,15.211666666666668,13.439441666666667,13.32405,13.808658333333334,13.75328333333333,15.267058333333331,16.9262,25.78509166666667,27.467325000000002,28.849566666666664,27.26194166666666,33.111691666666665,33.197066666666665,34.373958333333334,34.747791666666664,35.27851666666667,25.302783333333334,18.146933333333333,22.762124999999997,22.77828333333333,20.862975000000002,20.447591666666664,20.249149999999997,19.171508333333332,15.777041666666669,13.123291666666667,13.132516666666666,13.252525000000004,13.838641666666668,16.8293,18.421533333333333,21.19755833333333,25.840466666666668,32.17710833333334,34.941624999999995,36.90999166666667,38.056875,39.26835833333333,41.619808333333324,40.544450000000005,38.356858333333335,40.918274999999994,45.67655,44.527375,32.687083333333334,21.81830833333333,20.805283333333332,19.305341666666667,15.670899999999998,13.081766666666667,13.049458333333332,13.097899999999997,13.658658333333333,16.753158333333335,16.69545,18.83921666666667,26.595049999999997,30.77870833333333,37.355358333333335,36.656166666666664,37.754574999999996,38.67761666666667,40.01369999999999,40.7729,40.06216666666666,41.218275,45.67192500000001,44.20890833333334,33.53168333333334,25.295875,23.807466666666667,20.807591666666664,16.035466666666668,13.005608333333335,13.270983333333332,13.427900000000001,13.667891666666664,16.949283333333334,16.933141666666668,19.069975000000003,25.231258333333333,31.53559166666666,37.66688333333333,36.100024999999995,37.73149999999999,39.06528333333333,42.24285,41.51827500000001,39.31450833333333,39.545275,43.46356666666667,42.75974166666666,32.850925,23.0898,21.299116666666663,19.769183333333334,16.314708333333332,12.761000000000001,12.68715,12.786383333333331,13.04945,16.427766666666667,16.063175,16.35853333333333,24.852816666666666,34.888533333333335,36.298475,38.62455,41.029050000000005,41.566725,41.022124999999996,40.55368333333333,40.212158333333335,41.4398,44.31507500000001,42.990500000000004,30.007991666666666,22.219841666666667,21.333724999999998,19.861483333333336,16.420849999999998,12.904074999999999,12.728699999999998,12.691766666666664,12.908700000000001,16.160099999999996,16.566225,16.80159166666667,25.995083333333337,35.223133333333344,39.074516666666675,41.01521666666666,41.917475,43.40125833333334,42.13900833333333,42.53590833333333,41.05444166666666,42.24745833333333,46.27883333333333,45.06041666666666,32.184041666666666,23.004433333333335,22.33984166666666,20.36684166666667,15.654716666666666,13.217908333333334,12.860225000000002,13.005608333333337,13.090991666666667,16.50623333333333,16.653924999999997,17.842333333333332,25.923525,35.393908333333336,35.94542499999999,36.635375,36.460024999999995,37.46151666666666,38.15609166666667,38.73761666666666,38.43300833333333,44.271224999999994,45.15734166666667,44.20431666666667,32.830175000000004,21.518325,20.173000000000002,18.880741666666665,14.750141666666666,12.871766666666666,13.03560833333333,12.871758333333332,12.862533333333333,12.539475000000001,14.182483333333336,15.606258333333335,16.492375,20.821433333333335,26.186600000000002,33.79705,34.71776666666667,37.500733333333336,36.85,35.62004166666666,23.63439166666667,19.637649999999997,22.796733333333332,22.448283333333332,21.41679166666667,20.544525,19.976858333333336,18.786141666666662,15.451666666666668,12.862533333333332,12.966391666666668,12.786391666666667,13.238683333333334,16.118558333333336,17.083141666666666,20.800658333333335,26.4012,35.3316,37.380741666666665,38.74914166666667,40.10370833333334,40.184475,39.01683333333333,38.69839166666667,39.90756666666667,42.89359166666667,46.078066666666665,44.709666666666664,31.655591666666666,21.35911666666667,20.389916666666664,19.369966666666667,15.862425,12.961766666666668,12.936391666666665,12.897150000000002,13.506358333333331,16.893908333333332,16.854674999999997,21.23219166666667,29.108016666666668,37.00461666666667,38.760691666666666,38.596849999999996,37.768408333333326,37.12229166666666,37.440725,38.299175,37.96918333333333,39.921416666666666,44.40274999999999,45.309625000000004,32.200175,22.979041666666664,22.002908333333334,19.37225833333333,16.017008333333333,13.545583333333335,13.612524999999998,13.866349999999999,14.224024999999997,17.189275,17.27695833333333,20.350675,26.59504166666667,33.56399166666667,33.46244166666667,32.984766666666665,32.248650000000005,38.1861,37.433816666666665,37.08769166666667,36.59848333333333,39.61678333333333,38.532250000000005,38.58761666666666,28.459574999999997,20.867583333333332,20.087625000000003,19.157675,15.779333333333334,13.208666666666668,13.215583333333333,13.614808333333334,13.984049999999998,17.152366666666666,18.116933333333336,25.060491666666667,29.63875833333333,34.5101,31.314074999999992,35.296975,38.1261,37.68535,37.89533333333332,37.49150833333333,38.21147499999999,40.99906666666667,43.61585,42.8705,29.821066666666667,20.131466666666665,20.694525000000002,18.961516666666668,21.257575,15.294733333333333,13.6748,13.746341666666666,14.07864166666667,17.48465833333333,17.77311666666667,19.586875,26.24659166666667,32.864775,34.567775000000005,37.32998333333334,38.74223333333333,40.23755833333333,40.33214999999999,39.935249999999996,39.718333333333334,45.639625,44.400441666666666,43.9597,34.47316666666667,20.579158333333336,19.492266666666666,18.463075,15.040925,12.4587,12.421799999999998,12.47715833333333,12.797933333333333,15.998575000000002,15.223208333333332,17.685433333333336,25.766616666666668,35.3593,36.508475,37.22614166666667,36.780766666666665,37.56073333333333,37.623025000000005,38.22764166666667,37.80764166666667,40.216791666666666,43.49125833333333,43.00898333333333,32.758625,24.499733333333335,23.152108333333334,21.926783333333333,17.60695833333333,15.860099999999997,15.910866666666665,15.800108333333336,14.161725000000002,12.396399999999998,14.669374999999997,16.635450000000002,16.270858333333333,18.479208333333336,20.777591666666666,29.69645,32.93170833333333,32.7171,32.73554999999999,32.8094,24.502041666666667,22.73904166666667,23.562858333333335,20.85375,19.780708333333337,19.432266666666667,19.406874999999996,18.292308333333335,15.140141666666665,12.664083333333336,12.484099999999998,12.737924999999999,13.044824999999998,16.077025,17.036983333333332,20.069158333333338,26.456591666666665,35.37545,32.9317,32.57171666666667,33.326299999999996,33.243225,31.95788333333333,31.969433333333328,32.377875,37.874575,37.96225833333334,38.48146666666666,28.985716666666665,20.48221666666667,19.796866666666666,18.74920833333334,15.2855,12.834850000000003,12.897174999999999,12.991758333333335,13.506374999999997,16.31008333333333,16.150858333333336,21.059116666666664,26.75655833333333,34.74085,32.38710833333333,33.76936666666667,35.60159166666667,32.83476666666667,33.674749999999996,31.863275,31.111008333333334,36.33309166666667,40.35985,39.21297500000001,32.12635,24.01745,23.786716666666663,22.64674166666667,19.443808333333333,17.459283333333335,17.2862,17.387733333333333,17.902308333333334,20.544541666666664,20.613758333333333,25.081258333333334,31.217166666666667,36.49691666666667,32.71478333333334,31.54483333333334,32.64325,31.644066666666664,32.280966666666664,31.63714166666666,31.98556666666667,35.841575,38.366099999999996,38.486091666666674,29.569524999999995,20.952975,22.104466666666664,23.512100000000004,26.283516666666667,18.585375000000003,13.810966666666667,14.893225000000001,14.23325,19.03305,18.93613333333333,21.504475000000003,28.254216666666665,34.02780833333333,33.94241666666667,33.52012499999999,33.374766666666666,32.807075000000005,32.58555833333333,32.654783333333334,32.97785833333333,39.035266666666665,39.69988333333334,38.38916666666666,36.74155,33.790124999999996,29.68030833333333,20.237616666666668,16.460091666666667,14.300166666666668,14.194016666666668,15.128591666666667,15.534725000000002,18.949983333333332,19.51996666666667,24.573566666666665,35.3639,36.293866666666666,33.8778,34.90006666666666,34.91393333333333,34.71776666666667,33.497074999999995,32.027116666666664,32.61555833333333,36.85689166666667,38.82990833333333,38.774541666666664,29.906433333333336,22.842875000000003,21.269116666666665,21.121425,16.586991666666666,13.852500000000001,14.733991666666666,14.117874999999998,15.052458333333332,18.51385,18.02231666666667,22.263675000000003,25.891224999999995,33.29860833333334,33.3286,34.039350000000006,34.214733333333335,34.14780833333333,34.70624166666666,35.42390833333334,41.721333333333334,40.59753333333333,40.417525,41.79286666666666,30.702550000000006,21.788316666666663,20.147616666666668,19.249950000000002,15.043224999999998,12.449466666666668,13.118691666666669,12.631783333333333,13.453283333333337,12.701,14.814758333333335,18.463075,20.468374999999998,19.305350000000004,23.68286666666667,28.70186666666667,30.08411666666666,30.62180833333333,32.05943333333334,31.623299999999997,23.81900833333333,21.795258333333337,20.7199,20.662208333333332,20.19838333333333,19.432275,19.496875000000003,18.730766666666668,14.847075000000002,12.567158333333333,12.502558333333333,12.431016666666665,13.894033333333333,15.903950000000002,18.368475,20.433758333333337,25.637391666666662,31.759441666666664,33.245525,34.413175,35.44698333333333,36.25693333333333,35.51389166666667,35.643125,36.08156666666666,39.196825,40.35294166666667,40.21678333333334,28.729566666666667,20.957575000000002,19.62148333333333,18.536916666666666,15.093975,12.435641666666667,12.341025,13.243283333333336,12.788699999999999,16.658533333333335,16.706991666666667,18.17695,22.02830833333333,30.776408333333336,31.729433333333333,33.46475,35.689275,36.658475,36.37463333333333,36.273075,36.563858333333336,39.75525,40.91599166666666,40.062175,29.419541666666664,21.220641666666666,19.568408333333334,18.382308333333334,15.315516666666666,12.781791666666669,12.594850000000001,13.570974999999999,13.086375000000002,17.12004166666667,16.432383333333334,17.168499999999998,22.305224999999997,31.500983333333334,31.530991666666665,32.90631666666666,36.00541666666666,36.78539166666667,36.92845,36.5177,37.06229166666666,43.73817499999999,43.062041666666666,41.9221,29.52799166666667,20.230691666666665,19.457649999999997,18.744608333333336,14.997066666666669,12.3664,12.7587,12.373316666666668,12.89485,16.370083333333334,15.527808333333335,17.904641666666667,23.602083333333336,32.65708333333333,32.306325,32.52325833333334,32.772483333333334,32.97323333333333,33.70475833333334,33.53397499999999,33.57321666666666,40.41061666666666,40.27215,40.06215833333333,29.795675000000006,20.835283333333333,20.062250000000002,19.4138,15.297058333333334,13.07945,13.056375000000001,13.418666666666667,13.566341666666666,17.334666666666667,17.30005,21.241416666666666,26.075825,31.58175833333333,31.870199999999997,32.07556666666667,32.795541666666665,33.146300000000004,33.49015000000001,33.99318333333334,34.25857499999999,39.5245,38.795291666666664,38.08455000000001,30.619483333333335,21.165275000000005,20.32529166666667,19.750708333333332,15.802425000000001,13.370208333333336,13.296383333333337,13.635583333333335,13.801725,18.010783333333336,16.644683333333337,19.586866666666666,24.31051666666666,32.19096666666666,31.27253333333333,31.833275,32.463258333333336,33.93549166666667,35.696191666666664,35.156233333333326,34.367016666666665,39.323725,40.18678333333333,38.89221666666667,29.915666666666667,21.585250000000002,20.041474999999995,19.462258333333335,14.7986,13.148674999999999,12.694083333333333,13.178683333333334,13.030991666666667,13.305600000000004,13.534058333333334,14.500908333333333,14.962425000000001,16.448533333333334,18.940749999999998,22.415983333333333,28.925725,30.001058333333333,31.046400000000002,31.510208333333335,32.2302,28.381116666666667,23.763633333333335,23.235166666666668,22.88905,22.616758333333333,22.263683333333333,20.436075000000002,19.485325,15.670891666666664,13.469433333333335,12.961775000000001,13.921725,14.157108333333335,17.6808,18.23,20.419916666666662,26.163525000000003,32.43786666666667,32.834775,33.42783333333333,34.2655,35.218525,34.86315000000001,35.500041666666654,41.17444166666666,41.76979166666667,41.17673333333333,39.9491,28.865716666666668,21.049875,20.592975,19.593799999999998,16.093175000000002,13.141741666666666,13.677124999999998,13.060983333333334,14.164024999999997,17.03005,17.673866666666665,19.54765,23.385183333333334,31.563299999999998,32.73093333333333,33.60320833333333,34.667008333333335,36.16003333333334,36.13464166666667,36.856925,41.86670833333334,41.57365,41.75134166666666,40.93215,29.357225,21.836766666666662,21.114500000000003,19.750716666666666,16.03085833333333,14.143241666666668,13.540966666666664,14.510166666666665,14.16865,17.93463333333333,16.280083333333334,18.6223,24.843575000000005,31.31176666666666,32.18635833333333,35.56235,36.739225,36.79691666666667,36.130008333333336,36.27078333333334,41.185966666666666,40.90213333333333,40.588300000000004,40.43831666666667,29.078000000000003,21.22525,20.906833333333335,19.98839166666667,15.968558333333334,12.597158333333331,12.677941666666667,12.777166666666668,13.026366666666668,16.476233333333337,16.653908333333334,18.230008333333334,23.761308333333336,32.1102,32.91786666666667,31.750216666666663,33.335541666666664,33.319375,34.02780833333333,34.81931666666667,41.32905,39.912166666666664,39.75756666666667,39.33065,29.19801666666667,21.707558333333335,21.43295,20.173008333333332,16.716216666666664,25.189716666666666,21.744474999999998,15.119366666666664,17.3462,17.04620833333333,17.913866666666667,18.5046,27.05195,32.79555,33.3863,34.29089166666666,33.23629166666666,34.9047,32.850925,35.37773333333333,42.598216666666666,38.931441666666665,39.97909166666667,39.736799999999995,32.33171666666667,22.77598333333334,21.90601666666667,20.969108333333335,16.808525,14.768616666666665,15.040908333333329,14.881683333333335,15.474733333333331,19.723008333333333,20.592966666666666,34.55855833333333,54.93925000000001,56.09074166666668,43.823550000000004,38.283008333333335,39.40219166666667,36.06541666666667,34.42933333333333,38.716833333333334,48.117983333333335,51.078633333333336,47.47185833333334,43.10128333333333,39.23835833333334,35.45390833333333,25.20586666666667,28.533424999999998,23.84436666666666,19.796850000000003,23.306708333333333,21.945225000000004,21.227566666666664,30.289491666666674,29.31800833333334,35.67774166666667,40.86290833333334,38.65221666666666,41.899016666666675,41.27364166666667,37.426899999999996,38.27840833333334,33.677058333333335,35.41466666666667,32.43325833333333,26.8858,26.781949999999995,26.357358333333337,25.591241666666665,24.6382,24.153608333333327,22.651358333333334,18.970741666666665,16.37239166666667,16.446241666666666,16.831591666666665,18.06616666666667,22.316758333333336,24.661275,39.157608333333336,56.426216666666676,57.212216666666656,46.26036666666667,40.920591666666674,39.561416666666666,39.5868,37.98534166666667,37.87456666666667,44.169691666666665,41.3129,45.89576666666667,48.67181666666667,33.25936666666667,25.039708333333337,24.820508333333333,22.122925,18.059225,15.541649999999997,15.541674999999998,15.70780833333333,16.065491666666667,19.679175,22.469066666666667,28.000366666666668,36.494625000000006,39.35835,37.17535833333333,37.44305,36.785383333333336,35.13315,35.17236666666666,36.695391666666666,41.430575,39.91218333333334,40.258316666666666,40.048325,32.18171666666667,24.518208333333334,23.971308333333337,22.727508333333333,19.333033333333336,16.903133333333333,17.318499999999997,16.778533333333336,17.020825,19.879941666666664,21.649849999999997,24.421274999999998,30.640249999999998,35.37545,34.085499999999996,34.701625,34.57470833333334,34.997,35.05466666666666,40.56984166666667,41.783649999999994,40.687533333333334,40.172925,40.17294166666667,30.80870833333333,22.732133333333334,22.542908333333333,21.689083333333333,17.505433333333333,15.735483333333333,21.843700000000002,18.763058333333337,15.908574999999999,19.681483333333336,21.072975,22.762124999999997,28.392658333333333,36.27770833333334,33.268625,33.23169166666667,32.26250000000001,35.40083333333333,37.59303333333333,40.18216666666667,40.06216666666666,39.75525833333334,40.3414,39.66295833333333,30.71409166666666,23.438258333333327,22.727508333333333,21.47910833333333,20.770683333333334,18.4423,18.769983333333336,18.825374999999998,19.651474999999998,23.145183333333335,25.990466666666663,32.81861666666667,46.498050000000006,45.898083333333346,42.039791666666666,40.25139166666666,38.176874999999995,38.121475,39.12298333333334,41.10059999999999,41.449025,41.402883333333335,40.97366666666667,40.98059999999999,33.679366666666674,23.25825,21.852925,20.590666666666664,19.674566666666667,17.934641666666668,17.934641666666664,18.11923333333333,18.234624999999998,21.839075000000005,22.395233333333334,23.682858333333332,30.490274999999997,38.17916666666667,37.8815,39.390658333333334,39.699875,38.79530833333333,39.29374166666667,41.578250000000004,42.540525,41.15826666666667,41.414425,41.34980000000001,32.10096666666667,22.36751666666667,21.209125,20.32529166666667,18.998433333333335,17.198508333333333,17.300058333333336,17.249275,17.5908,17.743100000000002,20.459141666666667,23.484399999999997,22.649058333333333,25.263558333333332,28.494208333333336,35.098524999999995,34.851616666666665,35.003899999999994,35.75159166666667,38.74454166666667,31.637125,25.905074999999997,23.76595,23.67361666666667,22.436775,22.519825,22.847508333333334,21.37986666666667,20.27685,17.94386666666667,18.239241666666665,18.460758333333334,18.666141666666668,22.34906666666667,25.399716666666663,26.779641666666667,28.332666666666668,33.16016666666667,33.70473333333333,33.905516666666664,33.7532,34.53548333333333,34.230875,40.21216666666667,42.40669166666667,41.354425,40.576758333333345,40.45215,30.157983333333334,23.43133333333333,22.452908333333337,20.64375,16.58468333333333,14.143250000000002,14.016349999999997,14.277091666666665,14.586316666666669,17.916175,18.506925,19.612266666666667,26.687358333333332,35.95464166666667,34.31165,34.200874999999996,34.88160833333333,34.761608333333335,34.814683333333335,40.18215833333333,43.61125833333333,40.955216666666665,41.273666666666664,41.432875,31.86096666666667,23.742858333333334,23.006725000000003,21.156033333333333,16.670075,14.085558333333333,14.113266666666668,14.090175000000002,14.27016666666667,17.609250000000003,18.026925,19.575325000000003,24.822808333333338,33.47399166666667,34.41550833333333,35.85543333333333,35.65696666666667,35.20699166666667,36.36309166666666,42.33746666666666,43.184333333333335,42.65358333333333,42.51051666666667,42.07438333333334,34.31625833333333,33.374741666666665,26.412758333333333,24.931250000000002,25.03510833333333,18.818450000000002,16.2893,15.486283333333335,16.483158333333332,19.277649999999998,20.316075,23.516716666666667,27.441925,24.340525,23.514416666666673,22.766758333333332,21.795241666666666,22.593675,21.402941666666667,21.04065833333333,27.358850000000004,27.61039166666667,27.642691666666664,28.17343333333333,26.66195833333334,25.051258333333326,29.470316666666672,34.78008333333333,35.16545833333334,35.860033333333334,36.58001666666667,35.433125,37.606883333333336,41.36825833333333,42.43899166666667,41.347500000000004,44.1466,41.73056666666667,42.08594166666667,42.26824166666667,42.554391666666675,42.03055,43.029741666666666,42.80591666666667,43.30665,41.79517499999999,41.739808333333336,41.509025,34.58393333333333,26.41043333333333,23.830541666666665,23.309041666666662,22.782891666666668,22.775966666666665,23.19825,23.214416666666665,23.135958333333335,24.34283333333333,29.62029166666667,38.227624999999996,41.079816666666666,40.34139166666667,39.44372500000001,40.26294166666667,40.51908333333333,41.06135833333334,41.76979166666667,42.89820833333334,42.60745000000001,41.80671666666667,41.862091666666664,41.402875,32.599399999999996,21.869075,21.264508333333335,21.359108333333328,20.745283333333333,20.872191666666666,21.18835,21.218341666666664,21.294483333333332,21.40295,21.640625000000004,24.412058333333334,24.541283333333336,24.382066666666663,29.42646666666667,37.40613333333334,38.03148333333334,37.346125,37.22614166666667,39.76679166666666,34.01626666666667,25.178183333333337,23.892841666666666,23.2675,23.553641666666667,23.486708333333336,23.124416666666672,23.064425,22.750583333333335,22.900583333333334,22.794416666666667,23.232874999999996,23.235174999999998,24.465125,29.0988,26.48659166666667,31.431766666666665,34.82855,35.790816666666665,34.19165,33.67013333333333,34.297791666666676,34.528549999999996,35.45621666666666,41.78594999999999,40.597525,40.948275,40.581375,31.127158333333337,22.912116666666662,23.036733333333334,22.122933333333336,18.576158333333336,16.340075000000002,16.423166666666667,17.076216666666667,17.90694166666667,21.90369166666667,25.083566666666673,35.356991666666666,41.01981666666667,41.781325,38.352241666666664,38.65224166666667,35.53004166666666,34.556250000000006,34.70393333333333,37.43613333333333,42.52206666666667,41.93593333333333,41.83441666666666,41.90361666666667,32.31326666666667,25.515091666666674,24.769725000000005,23.096725000000003,19.836100000000002,17.30235,17.59540833333333,17.64618333333333,18.456149999999997,21.929100000000002,22.974424999999997,29.684900000000003,33.13939166666666,37.87226666666667,36.60769166666667,37.38073333333333,37.92764999999999,33.381699999999995,33.545525,37.269975,40.66215,39.02375000000001,39.75064166666666,40.02295833333333,29.80028333333334,21.78601666666667,21.169883333333335,19.524566666666665,17.456958333333333,17.551566666666663,14.191725000000003,14.482458333333334,15.398583333333335,23.011350000000004,22.595983333333326,20.445291666666666,26.659658333333336,32.19789166666667,32.454024999999994,33.21323333333334,34.115491666666664,33.25245833333333,32.85554166666667,36.49463333333333,41.44210833333333,40.62060833333333,40.768283333333336,40.91829166666667,30.97255833333333,21.945224999999997,21.017591666666664,20.182233333333333,16.460091666666663,13.937883333333334,13.764816666666666,14.4017,14.953208333333334,17.957716666666666,18.673066666666667,19.727633333333337,26.431191666666667,34.34394166666666,33.80627500000001,34.54470833333334,35.24851666666667,35.6362,38.571466666666666,42.265908333333336,41.56671666666666,39.71604166666667,40.498308333333334,39.84294166666667,31.950958333333332,22.865949999999998,21.882925,19.979166666666668,16.510841666666668,14.134016666666668,14.537850000000004,14.387858333333334,15.204766666666666,19.003041666666665,17.985416666666662,21.075275,24.99819166666666,32.574025,33.354,34.69470833333333,34.67163333333334,34.9924,34.851625,41.109808333333326,41.8944,41.024433333333334,40.11755,40.32524166666666,32.504775,21.90139166666667,21.686783333333334,20.119925000000002,16.012416666666663,13.981725000000003,13.967891666666667,14.060166666666667,14.577091666666668,14.88861666666667,16.418541666666666,20.756825000000003,19.898400000000002,22.665216666666666,30.63796666666667,38.17915833333334,36.84538333333333,35.10084166666667,39.06296666666667,40.79599166666666,31.752525000000006,24.12590833333333,23.724383333333336,26.69888333333333,32.564791666666665,27.4027,25.5197,23.339033333333337,18.640758333333334,16.723141666666667,16.443933333333334,17.369258333333335,18.94536666666667,22.189849999999996,24.829733333333333,34.937,38.46531666666666,42.162074999999994,41.55056666666667,40.442933333333336,38.426091666666665,35.21621666666667,36.109249999999996,38.509166666666665,42.85205,41.01521666666667,41.15596666666667,41.0106,32.29711666666667,24.206675,23.862841666666668,22.53136666666667,19.646866666666668,17.477716666666666,17.6485,17.900025000000003,18.518466666666665,21.682166666666664,24.4582,46.48421666666667,39.57526666666666,41.57594166666667,40.112925,40.387525,40.06909166666667,36.11619166666667,37.782275000000006,43.39434166666666,44.040474999999994,42.61668333333333,42.53590833333333,42.38824166666667,31.784808333333334,23.345958333333332,22.593675,21.038358333333335,17.77541666666667,15.4355,15.087066666666667,15.417058333333332,16.20855,19.54765833333333,19.404575,25.194316666666666,30.679483333333337,36.02388333333334,35.250841666666666,35.39160833333334,35.71696666666666,36.36308333333333,35.333925,36.840775,42.25899999999999,41.04520833333333,40.576775000000005,40.17293333333333,32.67785833333333,22.660591666666665,21.846,20.233008333333334,16.794683333333335,15.269341666666667,14.440941666666665,14.323241666666666,14.962449999999999,18.435383333333334,20.05069166666667,22.0814,26.345816666666664,32.730941666666666,32.63633333333333,33.0794,33.448591666666665,33.926275,34.692408333333326,42.346691666666665,42.132075,40.95059166666667,44.146608333333326,46.414975,33.43707499999999,24.735125,23.805149999999998,22.946725,18.820733333333333,15.546266666666666,15.83705,15.770116666666667,16.183175000000002,20.281458333333337,21.453716666666665,28.311883333333338,34.256274999999995,39.07913333333333,39.22452500000001,37.572275,36.13925833333333,35.40313333333334,35.082375,38.696083333333334,41.929016666666676,41.783641666666675,41.331358333333334,41.024425,32.47479166666667,22.80365833333333,22.55905833333333,21.010666666666665,18.220766666666666,15.456266666666664,15.398583333333335,15.153991666666665,16.702366666666666,21.402941666666667,20.699141666666666,33.190149999999996,47.340325,41.62441666666666,37.70381666666666,37.48458333333333,37.888408333333324,38.227624999999996,37.500733333333336,40.795975,46.364225,45.365033333333336,45.62116666666666,48.89795833333334,50.877874999999996,38.87605833333333,33.550133333333335,22.879816666666667,18.5346,16.319325,16.937741666666664,16.997758333333334,27.280400000000004,32.682475000000004,34.18933333333334,39.309891666666665,32.848625,33.887049999999995,39.03529166666667,43.701241666666675,43.70816666666666,40.70138333333333,32.70094166666667,36.884616666666666,35.209291666666665,29.230316666666667,28.420366666666666,27.665783333333327,25.24741666666667,24.372833333333332,24.275891666666666,22.877508333333335,19.47150833333333,20.24223333333333,31.646375000000003,31.84250833333333,27.513458333333336,27.518083333333333,31.38100833333333,44.81580833333334,42.215158333333335,47.033424999999994,44.947358333333334,41.776725,41.63363333333333,39.96295,36.06079166666667,39.27757499999999,47.587241666666664,48.491825,46.70575,46.10808333333333,35.200075000000005,29.329541666666668,31.159475000000004,29.391858333333335,18.384608333333333,15.255516666666665,15.447041666666669,15.638583333333335,17.7731,24.605908333333332,22.58213333333333,30.091049999999996,35.01775833333334,40.316008333333336,40.02986666666667,39.60756666666666,35.78389166666667,34.56778333333333,35.564658333333334,38.21378333333333,42.870516666666674,40.84905833333333,42.31899166666667,53.326225,41.85055833333333,24.398225,24.42128333333333,22.63980833333333,18.827675000000003,15.832416666666667,17.15235,16.217783333333333,22.995175000000003,23.232883333333334,19.706883333333334,24.4559,30.545650000000006,35.28544166666667,34.19165,34.0532,34.341641666666675,33.628591666666665,34.99700833333333,38.64529999999999,43.94354166666667,43.74279166666667,43.985074999999995,47.947224999999996,36.99769166666667,24.372816666666665,23.733625,28.10190833333333,18.52306666666666,15.968549999999999,16.02163333333333,22.462141666666668,18.463083333333334,20.445308333333337,21.292191666666668,29.031858333333332,32.97784166666666,38.40069166666667,34.990075,33.59399166666667,32.75631666666667,32.91555,33.78319166666666,36.82000833333333,41.41903333333334,43.19820833333333,42.57051666666667,42.060541666666666,32.080191666666664,29.052633333333333,22.84058333333333,20.320674999999998,16.96081666666667,14.676308333333333,20.369149999999998,28.983408333333333,16.540850000000002,19.178425,20.592991666666666,25.136633333333332,28.921116666666663,35.543891666666674,34.817,35.36620833333333,36.30540833333334,36.653841666666665,40.53753333333333,47.75569166666666,49.264858333333336,45.247350000000004,48.95333333333334,54.45926666666667,39.7414,25.48278333333333,23.318258333333333,21.929091666666668,19.9284,15.486274999999997,15.613191666666667,15.061666666666667,18.123866666666668,21.153733333333328,24.58974166666667,40.52599166666666,41.64518333333334,41.27596666666667,37.179975000000006,36.730025000000005,37.37383333333334,37.018449999999994,36.57079166666667,38.972966666666665,44.028924999999994,42.958191666666664,42.76435,42.009775,37.23074166666667,26.680425,23.23056666666667,22.23368333333333,17.870025000000002,16.344691666666666,16.660841666666666,21.984458333333333,31.678675,22.402149999999995,18.47921666666667,31.692508333333336,35.783899999999996,35.970800000000004,38.820675,37.085366666666665,36.19694166666666,33.18555,34.86776666666666,38.029175,43.11050833333334,43.11973333333333,32.79785833333333,26.274299999999997,24.87126666666667,25.369699999999998,25.690475000000003,29.278775,29.908749999999998,17.514658333333337,17.911558333333335,17.31619166666667,17.773108333333337,26.627350000000003,26.878875000000004,42.23361666666666,56.524566666666665,55.41,46.83265,38.37300833333333,37.42458333333333,36.15310833333333,36.98845,40.779833333333336,44.038149999999995,45.08118333333332,44.608133333333335,43.71508333333333,42.17361666666667,33.563975000000006,26.890416666666667,25.822000000000003,21.956766666666667,19.893775,19.833783333333333,20.406058333333334,20.79145,31.337149999999998,31.821741666666668,42.93744999999999,50.22714166666666,47.338008333333335,42.554383333333334,41.601350000000004,41.01059166666666,36.82230833333334,38.373,40.22370833333333,45.411183333333334,43.230491666666666,44.22506666666667,43.3228,42.44823333333333,34.122425,27.72575,26.539658333333332,23.09441666666667,21.730625000000003,26.449675,24.478974999999995,27.079649999999997,28.736483333333336,28.249583333333334,45.028108333333336,48.491825000000006,47.19725833333333,49.89484166666667,48.584108333333326,43.90201666666666,38.66839166666667,38.01764166666666,44.331208333333336,47.294183333333336,45.367333333333335,45.865775000000006,46.654975,52.80932500000001,47.32648333333333,34.436258333333335,27.864208333333334,24.160524999999996,23.604375,31.385616666666664,33.97703333333333,28.159583333333334,28.524191666666667,31.46405833333333,49.11485833333334,54.52849166666666,53.54083333333333,48.60949166666666,45.683458333333334,45.07426666666667,43.98739166666667,40.92751666666666,44.6889,47.993383333333334,44.69580833333333,45.270416666666655,45.14118333333332,43.558183333333325,42.309758333333335,34.99006666666666,35.14468333333334,27.956525000000003,22.856725,22.997500000000002,29.989516666666663,29.16801666666667,35.917725,35.825425,48.44105833333333,56.847624999999994,52.37551666666666,44.06354166666667,42.76206666666667,39.293741666666655,35.48621666666667,35.29235833333333,39.242974999999994,43.47973333333334,42.201325,43.188958333333325,43.21896666666666,40.265224999999994,32.87399166666667,25.623541666666664,23.46364166666667,20.33223333333333,17.625425000000003,18.022325000000002,24.626666666666665,27.275774999999996,32.7794,27.60116666666666,40.369075,50.222500000000004,46.170358333333326,43.996625,43.15665833333333,41.33365,40.595225,40.43368333333333,43.754325,43.79125,44.24815,42.72053333333333,52.458574999999996,54.64618333333333,42.16900833333334,27.97498333333333,23.90899166666667,26.438125,28.35574166666667,20.018400000000003,20.611449999999998,19.00766666666667,20.00685,21.315241666666665,30.843316666666663,38.65455,37.56304166666667,34.64855,34.18933333333333,32.901700000000005,33.36091666666667,33.78551666666667,38.0338,39.54295,39.7391,46.01115000000001,48.12028333333333,33.67243333333334,31.016400000000004,29.936449999999997,24.356666666666666,20.119933333333332,21.626783333333332,26.784274999999997,18.880758333333333,21.707549999999998,29.121858333333336,32.567083333333336,45.32119166666667,39.88218333333334,39.38374166666667,39.84294166666667,38.81608333333333,39.57295,39.953725000000006,39.046825,40.16138333333333,60.41285833333334,52.123983333333335,38.391483333333326,30.686408333333333,29.774908333333332,27.871133333333333,27.848066666666668,27.07965,23.909008333333333,20.219149999999996,21.419116666666667,20.93218333333333,22.503675,26.30196666666667,29.551074999999997,39.81525,37.72226666666668,35.72388333333334,34.078558333333326,33.36553333333334,33.538608333333336,33.04938333333334,28.761875,30.564116666666667,38.225325,38.72378333333333,37.80072500000001,38.04301666666667,32.67094166666667,30.042583333333337,29.438,28.288816666666666,24.504375,21.99139166666666,21.502183333333335,21.086816666666664,34.210125,46.966499999999996,48.79872500000001,45.9073,53.96083333333334,43.30895000000001,40.89981666666666,41.16981666666667,40.70830833333334,40.962133333333334,45.106575000000014,53.388533333333335,50.411750000000005,47.236491666666666,50.630958333333325,46.470358333333344,43.530499999999996,41.75363333333333,34.655475,32.525558333333336,29.02724166666667,23.839766666666662,26.52580833333333,33.07476666666667,26.49813333333333,27.894224999999995,34.782375,39.17143333333333,43.08509999999999,50.210975,44.97043333333334,40.72675,40.327549999999995,36.24539166666666,36.321558333333336,42.90051666666667,46.92958333333334,52.93164166666667,46.51419166666667,46.91110833333334,43.11974166666666,36.83615,30.091049999999996,26.878883333333334,22.655983333333328,22.480583333333332,26.151983333333334,29.532591666666672,22.9975,23.816708333333334,25.325874999999996,34.782383333333335,42.12515833333334,50.02636666666667,45.83808333333334,43.26971666666666,43.01129166666667,39.369899999999994,38.6407,40.31368333333334,46.74496666666666,45.378874999999994,46.91342500000001,45.041958333333326,38.17915833333333,28.242683333333332,27.764975000000007,27.098083333333335,24.99125833333333,31.840199999999996,35.68235,26.495808333333333,24.21129166666667,28.15035,31.071783333333332,45.61654166666667,48.891041666666666,54.38311666666666,51.971675000000005,46.3896,43.655091666666664,45.47578333333334,42.210541666666664,45.965,54.468491666666665,52.29935833333334,46.31805833333334,51.58400833333334,43.613566666666664,30.963308333333334,29.338766666666668,28.097308333333334,35.17928333333334,36.533858333333335,36.19925833333333,34.484716666666664,30.85716666666667,25.881991666666664,26.56505,39.5845,51.05324166666667,44.88966666666666,48.886425,49.7356,41.57134166666666,41.75363333333333,41.970549999999996,39.78065,39.38605,34.687775,39.49681666666667,44.855050000000006,42.76435,36.250016666666674,34.88624166666667,32.426325,29.14725,30.132575000000003,26.92271666666667,22.893675,23.869775,33.0263,46.804966666666665,55.37999166666666,59.11138333333334,53.93314166666667,48.13874999999999,44.102775,45.03273333333334,49.17486666666665,48.29565833333333,49.774841666666674,56.6561]}},\"id\":\"eb56d14b-9104-4b82-904f-4e15a26bbc2b\",\"type\":\"ColumnDataSource\"},{\"attributes\":{\"line_alpha\":{\"value\":0.1},\"line_color\":{\"value\":\"#1f77b4\"},\"x\":{\"field\":\"x\"},\"y\":{\"field\":\"y\"}},\"id\":\"c57fbe30-00c2-4c13-beaf-fea56973ece3\",\"type\":\"Line\"},{\"attributes\":{\"callback\":null},\"id\":\"6e52c804-6ff6-40a4-85b7-2d589aa409e5\",\"type\":\"DataRange1d\"},{\"attributes\":{},\"id\":\"fd7f914a-67ea-4355-8029-71d7ec3f7849\",\"type\":\"ToolEvents\"},{\"attributes\":{\"below\":[{\"id\":\"d092c4a6-d656-4e32-8b2b-25d88e649913\",\"type\":\"LinearAxis\"}],\"left\":[{\"id\":\"d3fdc8f3-70b3-4a6d-bd93-7100d1339927\",\"type\":\"LinearAxis\"}],\"renderers\":[{\"id\":\"d092c4a6-d656-4e32-8b2b-25d88e649913\",\"type\":\"LinearAxis\"},{\"id\":\"5b5b54d8-5a59-41a2-867d-b140cf6f8a54\",\"type\":\"Grid\"},{\"id\":\"d3fdc8f3-70b3-4a6d-bd93-7100d1339927\",\"type\":\"LinearAxis\"},{\"id\":\"9d06b223-4157-446c-9d14-1189d330a462\",\"type\":\"Grid\"},{\"id\":\"bc2e49ff-7090-4993-a145-d86bf8ef6b58\",\"type\":\"BoxAnnotation\"},{\"id\":\"d5d3af59-862c-471e-b26a-69f3e74f4164\",\"type\":\"Legend\"},{\"id\":\"706394c2-c89f-46c5-82ca-295ec3b3ac63\",\"type\":\"GlyphRenderer\"},{\"id\":\"b9e47051-973d-4005-b40d-6a53ad04630d\",\"type\":\"GlyphRenderer\"}],\"tool_events\":{\"id\":\"fd7f914a-67ea-4355-8029-71d7ec3f7849\",\"type\":\"ToolEvents\"},\"tools\":[{\"id\":\"7ccf965b-2c26-4f82-816c-99e5e4b4b7bb\",\"type\":\"PanTool\"},{\"id\":\"2f779267-785e-49b8-b4ca-2f876d892d79\",\"type\":\"WheelZoomTool\"},{\"id\":\"107659f7-eda3-456c-b1b9-de243d9a580f\",\"type\":\"BoxZoomTool\"},{\"id\":\"709ec10c-ee99-440c-8a22-6fffef5d97a7\",\"type\":\"PreviewSaveTool\"},{\"id\":\"c671cfff-eeca-4f0c-97fc-21cf28aeab0f\",\"type\":\"ResizeTool\"},{\"id\":\"51c405c4-aa1e-4713-8793-90761ecbfd26\",\"type\":\"ResetTool\"},{\"id\":\"7b45c4e6-3976-4afd-919a-6d2bb978ae61\",\"type\":\"HelpTool\"}],\"x_range\":{\"id\":\"6e52c804-6ff6-40a4-85b7-2d589aa409e5\",\"type\":\"DataRange1d\"},\"y_range\":{\"id\":\"151174d0-4c27-45f3-ac08-6faa9aa9b54b\",\"type\":\"Range1d\"}},\"id\":\"a8092d24-9325-4be3-a889-62f56a142c7f\",\"subtype\":\"Figure\",\"type\":\"Plot\"},{\"attributes\":{},\"id\":\"6502e450-e4bd-4cc4-bb5c-e4d66d364853\",\"type\":\"BasicTicker\"},{\"attributes\":{\"plot\":{\"id\":\"a8092d24-9325-4be3-a889-62f56a142c7f\",\"subtype\":\"Figure\",\"type\":\"Plot\"}},\"id\":\"7b45c4e6-3976-4afd-919a-6d2bb978ae61\",\"type\":\"HelpTool\"},{\"attributes\":{\"formatter\":{\"id\":\"0da5f596-2fce-4ef7-9c32-e6945070a023\",\"type\":\"BasicTickFormatter\"},\"plot\":{\"id\":\"a8092d24-9325-4be3-a889-62f56a142c7f\",\"subtype\":\"Figure\",\"type\":\"Plot\"},\"ticker\":{\"id\":\"36cba388-47ec-4810-8802-dae65578f2c9\",\"type\":\"BasicTicker\"}},\"id\":\"d092c4a6-d656-4e32-8b2b-25d88e649913\",\"type\":\"LinearAxis\"},{\"attributes\":{\"line_color\":{\"value\":\"navy\"},\"x\":{\"field\":\"x\"},\"y\":{\"field\":\"y\"}},\"id\":\"20c07e81-3564-483e-826d-949a7e13c423\",\"type\":\"Line\"},{\"attributes\":{},\"id\":\"0da5f596-2fce-4ef7-9c32-e6945070a023\",\"type\":\"BasicTickFormatter\"},{\"attributes\":{\"data_source\":{\"id\":\"bfd1a519-9c80-414a-9722-45c58af54f4b\",\"type\":\"ColumnDataSource\"},\"glyph\":{\"id\":\"50ead699-a577-4a62-8637-eb2b671ba3d8\",\"type\":\"Line\"},\"hover_glyph\":null,\"nonselection_glyph\":{\"id\":\"eb76f682-2df5-4b49-a6ef-7be0379e8ddb\",\"type\":\"Line\"},\"selection_glyph\":null},\"id\":\"706394c2-c89f-46c5-82ca-295ec3b3ac63\",\"type\":\"GlyphRenderer\"},{\"attributes\":{\"data_source\":{\"id\":\"eb56d14b-9104-4b82-904f-4e15a26bbc2b\",\"type\":\"ColumnDataSource\"},\"glyph\":{\"id\":\"20c07e81-3564-483e-826d-949a7e13c423\",\"type\":\"Line\"},\"hover_glyph\":null,\"nonselection_glyph\":{\"id\":\"c57fbe30-00c2-4c13-beaf-fea56973ece3\",\"type\":\"Line\"},\"selection_glyph\":null},\"id\":\"b9e47051-973d-4005-b40d-6a53ad04630d\",\"type\":\"GlyphRenderer\"},{\"attributes\":{},\"id\":\"36cba388-47ec-4810-8802-dae65578f2c9\",\"type\":\"BasicTicker\"},{\"attributes\":{\"dimension\":1,\"plot\":{\"id\":\"a8092d24-9325-4be3-a889-62f56a142c7f\",\"subtype\":\"Figure\",\"type\":\"Plot\"},\"ticker\":{\"id\":\"6502e450-e4bd-4cc4-bb5c-e4d66d364853\",\"type\":\"BasicTicker\"}},\"id\":\"9d06b223-4157-446c-9d14-1189d330a462\",\"type\":\"Grid\"},{\"attributes\":{},\"id\":\"09b55652-c052-436c-bb96-a5a0314830e2\",\"type\":\"BasicTickFormatter\"},{\"attributes\":{\"callback\":null,\"column_names\":[\"y\",\"x\"],\"data\":{\"x\":[0,1,2,3,4,5,6,7,8,9,10,11,12,13,14,15,16,17,18,19,20,21,22,23,24,25,26,27,28,29,30,31,32,33,34,35,36,37,38,39,40,41,42,43,44,45,46,47,48,49,50,51,52,53,54,55,56,57,58,59,60,61,62,63,64,65,66,67,68,69,70,71,72,73,74,75,76,77,78,79,80,81,82,83,84,85,86,87,88,89,90,91,92,93,94,95,96,97,98,99,100,101,102,103,104,105,106,107,108,109,110,111,112,113,114,115,116,117,118,119,120,121,122,123,124,125,126,127,128,129,130,131,132,133,134,135,136,137,138,139,140,141,142,143,144,145,146,147,148,149,150,151,152,153,154,155,156,157,158,159,160,161,162,163,164,165,166,167,168,169,170,171,172,173,174,175,176,177,178,179,180,181,182,183,184,185,186,187,188,189,190,191,192,193,194,195,196,197,198,199,200,201,202,203,204,205,206,207,208,209,210,211,212,213,214,215,216,217,218,219,220,221,222,223,224,225,226,227,228,229,230,231,232,233,234,235,236,237,238,239,240,241,242,243,244,245,246,247,248,249,250,251,252,253,254,255,256,257,258,259,260,261,262,263,264,265,266,267,268,269,270,271,272,273,274,275,276,277,278,279,280,281,282,283,284,285,286,287,288,289,290,291,292,293,294,295,296,297,298,299,300,301,302,303,304,305,306,307,308,309,310,311,312,313,314,315,316,317,318,319,320,321,322,323,324,325,326,327,328,329,330,331,332,333,334,335,336,337,338,339,340,341,342,343,344,345,346,347,348,349,350,351,352,353,354,355,356,357,358,359,360,361,362,363,364,365,366,367,368,369,370,371,372,373,374,375,376,377,378,379,380,381,382,383,384,385,386,387,388,389,390,391,392,393,394,395,396,397,398,399,400,401,402,403,404,405,406,407,408,409,410,411,412,413,414,415,416,417,418,419,420,421,422,423,424,425,426,427,428,429,430,431,432,433,434,435,436,437,438,439,440,441,442,443,444,445,446,447,448,449,450,451,452,453,454,455,456,457,458,459,460,461,462,463,464,465,466,467,468,469,470,471,472,473,474,475,476,477,478,479,480,481,482,483,484,485,486,487,488,489,490,491,492,493,494,495,496,497,498,499,500,501,502,503,504,505,506,507,508,509,510,511,512,513,514,515,516,517,518,519,520,521,522,523,524,525,526,527,528,529,530,531,532,533,534,535,536,537,538,539,540,541,542,543,544,545,546,547,548,549,550,551,552,553,554,555,556,557,558,559,560,561,562,563,564,565,566,567,568,569,570,571,572,573,574,575,576,577,578,579,580,581,582,583,584,585,586,587,588,589,590,591,592,593,594,595,596,597,598,599,600,601,602,603,604,605,606,607,608,609,610,611,612,613,614,615,616,617,618,619,620,621,622,623,624,625,626,627,628,629,630,631,632,633,634,635,636,637,638,639,640,641,642,643,644,645,646,647,648,649,650,651,652,653,654,655,656,657,658,659,660,661,662,663,664,665,666,667,668,669,670,671,672,673,674,675,676,677,678,679,680,681,682,683,684,685,686,687,688,689,690,691,692,693,694,695,696,697,698,699,700,701,702,703,704,705,706,707,708,709,710,711,712,713,714,715,716,717,718,719,720,721,722,723,724,725,726,727,728,729,730,731,732,733,734,735,736,737,738,739,740,741,742,743,744,745,746,747,748,749,750,751,752,753,754,755,756,757,758,759,760,761,762,763,764,765,766,767,768,769,770,771,772,773,774,775,776,777,778,779,780,781,782,783,784,785,786,787,788,789,790,791,792,793,794,795,796,797,798,799,800,801,802,803,804,805,806,807,808,809,810,811,812,813,814,815,816,817,818,819,820,821,822,823,824,825,826,827,828,829,830,831,832,833,834,835,836,837,838,839,840,841,842,843,844,845,846,847,848,849,850,851,852,853,854,855,856,857,858,859,860,861,862,863,864,865,866,867,868,869,870,871,872,873,874,875,876,877,878,879,880,881,882,883,884,885,886,887,888,889,890,891,892,893,894,895,896,897,898,899,900,901,902,903,904,905,906,907,908,909,910,911,912,913,914,915,916,917,918,919,920,921,922,923,924,925,926,927,928,929,930,931,932,933,934,935,936,937,938,939,940,941,942,943,944,945,946,947,948,949,950,951,952,953,954,955,956,957,958,959,960,961,962,963,964,965,966,967,968,969,970,971,972,973,974,975,976,977,978,979,980,981,982,983,984,985,986,987,988,989,990,991,992,993,994,995,996,997,998,999,1000,1001,1002,1003,1004,1005,1006,1007,1008,1009,1010,1011,1012,1013,1014,1015,1016,1017,1018,1019,1020,1021,1022,1023,1024,1025,1026,1027,1028,1029,1030,1031,1032,1033,1034,1035,1036,1037,1038,1039,1040,1041,1042,1043,1044,1045,1046,1047,1048,1049,1050,1051,1052,1053,1054,1055,1056,1057,1058,1059,1060,1061,1062,1063,1064,1065,1066,1067,1068,1069,1070,1071,1072,1073,1074,1075,1076,1077,1078,1079,1080,1081,1082,1083,1084,1085,1086,1087,1088,1089,1090,1091,1092,1093,1094,1095,1096,1097,1098,1099,1100,1101,1102,1103,1104,1105,1106,1107,1108,1109,1110,1111,1112,1113,1114,1115,1116,1117,1118,1119,1120,1121,1122,1123,1124,1125,1126,1127,1128,1129,1130,1131,1132,1133,1134,1135,1136,1137,1138,1139,1140,1141,1142,1143,1144,1145,1146,1147,1148,1149,1150,1151,1152,1153,1154,1155,1156,1157,1158,1159,1160,1161,1162,1163,1164,1165,1166,1167,1168,1169,1170,1171,1172,1173,1174,1175,1176,1177,1178,1179,1180,1181,1182,1183,1184,1185,1186,1187,1188,1189,1190,1191,1192,1193,1194,1195,1196,1197,1198,1199,1200,1201,1202,1203,1204,1205,1206,1207,1208,1209,1210,1211,1212,1213,1214,1215,1216,1217,1218,1219,1220,1221,1222,1223,1224,1225,1226,1227,1228,1229,1230,1231,1232,1233,1234,1235,1236,1237,1238,1239,1240,1241,1242,1243,1244,1245,1246,1247,1248,1249,1250,1251,1252,1253,1254,1255,1256,1257,1258,1259,1260,1261,1262,1263,1264,1265,1266,1267,1268,1269,1270,1271,1272,1273,1274,1275,1276,1277,1278,1279,1280,1281,1282,1283,1284,1285,1286,1287,1288,1289,1290,1291,1292,1293,1294,1295,1296,1297,1298,1299,1300,1301,1302,1303,1304,1305,1306,1307,1308,1309,1310,1311,1312,1313,1314,1315,1316,1317,1318,1319,1320,1321,1322,1323,1324,1325,1326,1327,1328,1329,1330,1331,1332,1333,1334,1335,1336,1337,1338,1339,1340,1341,1342,1343,1344,1345,1346,1347,1348,1349,1350,1351,1352,1353,1354,1355,1356,1357,1358,1359,1360,1361,1362,1363,1364,1365,1366,1367,1368,1369,1370,1371,1372,1373,1374,1375,1376,1377,1378,1379,1380,1381,1382,1383,1384,1385,1386,1387,1388,1389,1390,1391,1392,1393,1394,1395,1396,1397,1398,1399,1400,1401,1402,1403,1404,1405,1406,1407,1408,1409,1410,1411,1412,1413,1414,1415,1416,1417,1418,1419,1420,1421,1422,1423,1424,1425,1426,1427,1428,1429,1430,1431,1432,1433,1434,1435,1436,1437,1438,1439,1440,1441,1442,1443,1444,1445,1446,1447,1448,1449,1450,1451,1452,1453,1454,1455,1456,1457,1458,1459,1460,1461,1462,1463,1464,1465,1466,1467,1468,1469,1470,1471,1472,1473,1474,1475,1476,1477,1478,1479,1480,1481,1482,1483,1484,1485,1486,1487,1488,1489,1490,1491,1492,1493,1494,1495,1496,1497,1498,1499,1500,1501,1502,1503,1504,1505,1506,1507,1508,1509,1510,1511,1512,1513,1514,1515,1516,1517,1518,1519,1520,1521,1522,1523,1524,1525,1526,1527,1528,1529,1530,1531,1532,1533,1534,1535,1536,1537,1538,1539,1540,1541,1542,1543,1544,1545,1546,1547,1548,1549,1550,1551,1552,1553,1554,1555,1556,1557,1558,1559,1560,1561,1562,1563,1564,1565,1566,1567,1568,1569,1570,1571,1572,1573,1574,1575,1576,1577,1578,1579,1580,1581,1582,1583,1584,1585,1586,1587,1588,1589,1590,1591,1592,1593,1594,1595,1596,1597,1598,1599,1600,1601,1602,1603,1604,1605,1606,1607,1608,1609,1610,1611,1612,1613,1614,1615,1616,1617,1618,1619,1620,1621,1622,1623,1624,1625,1626,1627,1628,1629,1630,1631,1632,1633,1634,1635,1636,1637,1638,1639,1640,1641,1642,1643,1644,1645,1646,1647,1648,1649,1650,1651,1652,1653,1654,1655,1656,1657,1658,1659,1660,1661,1662,1663,1664,1665,1666,1667,1668,1669,1670,1671,1672,1673,1674,1675,1676,1677,1678,1679,1680,1681,1682,1683,1684,1685,1686,1687,1688,1689,1690,1691,1692,1693,1694,1695,1696,1697,1698,1699,1700,1701,1702,1703,1704,1705,1706,1707,1708,1709,1710,1711,1712,1713,1714,1715,1716,1717,1718,1719,1720,1721,1722,1723,1724,1725,1726,1727,1728,1729,1730,1731,1732,1733,1734,1735,1736,1737,1738,1739,1740,1741,1742,1743,1744,1745,1746,1747,1748,1749,1750,1751,1752,1753,1754,1755,1756,1757,1758,1759,1760,1761,1762,1763,1764,1765,1766,1767,1768,1769,1770,1771,1772,1773,1774,1775,1776,1777,1778,1779,1780,1781,1782,1783,1784,1785,1786,1787,1788,1789,1790,1791,1792,1793,1794,1795,1796,1797,1798,1799,1800,1801,1802,1803,1804,1805,1806,1807,1808,1809,1810,1811,1812,1813,1814,1815,1816,1817,1818,1819,1820,1821,1822,1823,1824,1825,1826,1827,1828,1829,1830,1831,1832,1833,1834,1835,1836,1837,1838,1839,1840,1841,1842,1843,1844,1845,1846,1847,1848,1849,1850,1851,1852,1853,1854,1855,1856,1857,1858,1859,1860,1861,1862,1863,1864,1865,1866,1867,1868,1869,1870,1871,1872,1873,1874,1875,1876,1877,1878,1879,1880,1881,1882,1883,1884,1885,1886,1887,1888,1889,1890,1891,1892,1893,1894,1895,1896,1897,1898,1899,1900,1901,1902,1903,1904,1905,1906,1907,1908,1909,1910,1911,1912,1913,1914,1915,1916,1917,1918,1919,1920,1921,1922,1923,1924,1925,1926,1927,1928,1929,1930,1931,1932,1933,1934,1935,1936,1937,1938,1939,1940,1941,1942,1943,1944,1945,1946,1947,1948,1949,1950,1951,1952,1953,1954,1955,1956,1957,1958,1959,1960,1961,1962,1963,1964,1965,1966,1967,1968,1969,1970,1971,1972,1973,1974,1975,1976,1977,1978,1979,1980,1981,1982,1983,1984,1985,1986,1987,1988,1989,1990,1991,1992,1993,1994,1995,1996,1997,1998,1999,2000,2001,2002,2003,2004,2005,2006,2007,2008,2009,2010,2011,2012,2013,2014,2015,2016,2017,2018,2019,2020,2021,2022,2023,2024,2025,2026,2027,2028,2029,2030,2031,2032,2033,2034,2035,2036,2037,2038,2039,2040,2041,2042,2043,2044,2045,2046,2047,2048,2049,2050,2051,2052,2053,2054,2055,2056,2057,2058,2059,2060,2061,2062,2063,2064,2065,2066,2067,2068,2069,2070,2071,2072,2073,2074,2075,2076,2077,2078,2079,2080,2081,2082,2083,2084,2085,2086,2087,2088,2089,2090,2091,2092,2093,2094,2095,2096,2097,2098,2099,2100,2101,2102,2103,2104,2105,2106,2107,2108,2109,2110,2111,2112,2113,2114,2115,2116,2117,2118,2119,2120,2121,2122,2123,2124,2125,2126,2127,2128,2129,2130,2131,2132,2133,2134,2135,2136,2137,2138,2139,2140,2141,2142,2143,2144,2145,2146,2147,2148,2149,2150,2151,2152,2153,2154,2155,2156,2157,2158,2159,2160,2161,2162,2163,2164,2165,2166,2167,2168,2169,2170,2171,2172,2173,2174,2175,2176,2177,2178,2179,2180,2181,2182,2183,2184,2185,2186,2187,2188,2189,2190,2191,2192,2193,2194,2195,2196,2197,2198,2199,2200,2201,2202,2203,2204,2205,2206,2207,2208,2209,2210,2211,2212,2213,2214,2215,2216,2217,2218,2219,2220,2221,2222,2223,2224,2225,2226,2227,2228,2229,2230,2231,2232,2233,2234,2235,2236,2237,2238,2239,2240,2241,2242,2243,2244,2245,2246,2247,2248,2249,2250,2251,2252,2253,2254,2255,2256,2257,2258,2259,2260,2261,2262,2263,2264,2265,2266,2267,2268,2269,2270,2271,2272,2273,2274,2275,2276,2277,2278,2279,2280,2281,2282,2283,2284,2285,2286,2287,2288,2289,2290,2291,2292,2293,2294,2295,2296,2297,2298,2299,2300,2301,2302,2303,2304,2305,2306,2307,2308,2309,2310,2311,2312,2313,2314,2315,2316,2317,2318,2319,2320,2321,2322,2323,2324,2325,2326,2327,2328,2329,2330,2331,2332,2333,2334,2335,2336,2337,2338,2339,2340,2341,2342,2343,2344,2345,2346,2347,2348,2349,2350,2351,2352,2353,2354,2355,2356,2357,2358,2359,2360,2361,2362,2363,2364,2365,2366,2367,2368,2369,2370,2371,2372,2373,2374,2375,2376,2377,2378,2379,2380,2381,2382,2383,2384,2385,2386,2387,2388,2389,2390,2391,2392,2393,2394,2395,2396,2397,2398,2399,2400,2401,2402,2403,2404,2405,2406,2407,2408,2409,2410,2411,2412,2413,2414,2415,2416,2417,2418,2419,2420,2421,2422,2423,2424,2425,2426,2427,2428,2429,2430,2431,2432,2433,2434,2435,2436,2437,2438,2439,2440,2441,2442,2443,2444,2445,2446,2447,2448,2449,2450,2451,2452,2453,2454,2455,2456,2457,2458,2459,2460,2461,2462,2463,2464,2465,2466,2467,2468,2469,2470,2471,2472,2473,2474,2475,2476,2477,2478,2479,2480,2481,2482,2483,2484,2485,2486,2487,2488,2489,2490,2491,2492,2493,2494,2495,2496,2497,2498,2499,2500,2501,2502,2503,2504,2505,2506,2507,2508,2509,2510,2511,2512,2513,2514,2515,2516,2517,2518,2519,2520,2521,2522,2523,2524,2525,2526,2527,2528,2529,2530,2531,2532,2533,2534,2535,2536,2537,2538,2539,2540,2541,2542,2543,2544,2545,2546,2547,2548,2549,2550,2551,2552,2553,2554,2555,2556,2557,2558,2559,2560,2561,2562,2563,2564,2565,2566,2567,2568,2569,2570,2571,2572,2573,2574,2575,2576,2577,2578,2579,2580,2581,2582,2583,2584,2585,2586,2587,2588,2589,2590,2591,2592,2593,2594,2595,2596,2597,2598,2599,2600,2601,2602,2603,2604,2605,2606,2607,2608,2609,2610,2611,2612,2613,2614,2615,2616,2617,2618,2619,2620,2621,2622,2623,2624,2625,2626,2627,2628,2629,2630,2631,2632,2633,2634,2635,2636,2637,2638,2639,2640,2641,2642,2643,2644,2645,2646,2647,2648,2649,2650,2651,2652,2653,2654,2655,2656,2657,2658,2659,2660,2661,2662,2663,2664,2665,2666,2667,2668,2669,2670,2671,2672,2673,2674,2675,2676,2677,2678,2679,2680,2681,2682,2683,2684,2685,2686,2687,2688,2689,2690,2691,2692,2693,2694,2695,2696,2697,2698,2699,2700,2701,2702,2703,2704,2705,2706,2707,2708,2709,2710,2711,2712,2713,2714,2715,2716,2717,2718,2719,2720,2721,2722,2723,2724,2725,2726,2727,2728,2729,2730,2731,2732,2733,2734,2735,2736,2737,2738,2739,2740,2741,2742,2743,2744,2745,2746,2747,2748,2749,2750,2751,2752,2753,2754,2755,2756,2757,2758,2759,2760,2761,2762,2763,2764,2765,2766,2767,2768,2769,2770,2771,2772,2773,2774,2775,2776,2777,2778,2779,2780,2781,2782,2783,2784,2785,2786,2787,2788,2789,2790,2791,2792,2793,2794,2795,2796,2797,2798,2799,2800,2801,2802,2803,2804,2805,2806,2807,2808,2809,2810,2811,2812,2813,2814,2815,2816,2817,2818,2819,2820,2821,2822,2823,2824,2825,2826,2827,2828,2829,2830,2831,2832,2833,2834,2835,2836,2837,2838,2839,2840,2841,2842,2843,2844,2845,2846,2847,2848,2849,2850,2851,2852,2853,2854,2855,2856,2857,2858,2859,2860,2861,2862,2863,2864,2865,2866,2867,2868,2869,2870,2871,2872,2873,2874,2875,2876,2877,2878,2879,2880,2881,2882,2883,2884,2885,2886,2887,2888,2889,2890,2891,2892,2893,2894,2895,2896,2897,2898,2899,2900,2901,2902,2903,2904,2905,2906,2907,2908,2909,2910,2911,2912,2913,2914,2915,2916,2917,2918,2919,2920,2921,2922,2923,2924,2925,2926,2927,2928,2929,2930,2931,2932,2933,2934,2935,2936,2937,2938,2939,2940,2941,2942,2943,2944,2945,2946,2947,2948,2949,2950,2951,2952,2953,2954,2955,2956,2957,2958,2959,2960,2961,2962,2963,2964,2965,2966,2967,2968,2969,2970,2971,2972,2973,2974,2975,2976,2977,2978,2979,2980,2981,2982,2983,2984,2985,2986,2987,2988,2989,2990,2991,2992,2993,2994,2995,2996,2997,2998,2999,3000,3001,3002,3003,3004,3005,3006,3007,3008,3009,3010,3011,3012,3013,3014,3015,3016,3017,3018,3019,3020,3021,3022,3023,3024,3025,3026,3027,3028,3029,3030,3031,3032,3033,3034,3035,3036,3037,3038,3039,3040,3041,3042,3043,3044,3045,3046,3047,3048,3049,3050,3051,3052,3053,3054,3055,3056,3057,3058,3059,3060,3061,3062,3063,3064,3065,3066,3067,3068,3069,3070,3071,3072,3073,3074,3075,3076,3077,3078,3079,3080,3081,3082,3083,3084,3085,3086,3087,3088,3089,3090,3091,3092,3093,3094,3095,3096,3097,3098,3099,3100,3101,3102,3103,3104,3105,3106,3107,3108,3109,3110,3111,3112,3113,3114,3115,3116,3117,3118,3119,3120,3121,3122,3123,3124,3125,3126,3127,3128,3129,3130,3131,3132,3133,3134,3135,3136,3137,3138,3139,3140,3141,3142,3143,3144,3145,3146,3147,3148,3149,3150,3151,3152,3153,3154,3155,3156,3157,3158,3159,3160,3161,3162,3163,3164,3165,3166,3167,3168,3169,3170,3171,3172,3173,3174,3175,3176,3177,3178,3179,3180,3181,3182,3183,3184,3185,3186,3187,3188,3189,3190,3191,3192,3193,3194,3195,3196,3197,3198,3199,3200,3201,3202,3203,3204,3205,3206,3207,3208,3209,3210,3211,3212,3213,3214,3215,3216,3217,3218,3219,3220,3221,3222,3223,3224,3225,3226,3227,3228,3229,3230,3231,3232,3233,3234,3235,3236,3237,3238,3239,3240,3241,3242,3243,3244,3245,3246,3247,3248,3249,3250,3251,3252,3253,3254,3255,3256,3257,3258,3259,3260,3261,3262,3263,3264,3265,3266,3267,3268,3269,3270,3271,3272,3273,3274,3275,3276,3277,3278,3279,3280,3281,3282,3283,3284,3285,3286,3287,3288,3289,3290,3291,3292,3293,3294,3295,3296,3297,3298,3299,3300,3301,3302,3303,3304,3305,3306,3307,3308,3309,3310,3311,3312,3313,3314,3315,3316,3317,3318,3319,3320,3321,3322,3323,3324,3325,3326,3327,3328,3329,3330,3331,3332,3333,3334,3335,3336,3337,3338,3339,3340,3341,3342,3343,3344,3345,3346,3347,3348,3349,3350,3351,3352,3353,3354,3355,3356,3357,3358,3359,3360,3361,3362,3363,3364,3365,3366,3367,3368,3369,3370,3371,3372,3373,3374,3375,3376,3377,3378,3379,3380,3381,3382,3383,3384,3385,3386,3387,3388,3389,3390,3391,3392,3393,3394,3395,3396,3397,3398,3399,3400,3401,3402,3403,3404,3405,3406,3407,3408,3409,3410,3411,3412,3413,3414,3415,3416,3417,3418,3419,3420,3421,3422,3423,3424,3425,3426,3427,3428,3429,3430,3431,3432,3433,3434,3435,3436,3437,3438,3439,3440,3441,3442,3443,3444,3445,3446,3447,3448,3449,3450,3451,3452,3453,3454,3455,3456,3457,3458,3459,3460,3461,3462,3463,3464,3465,3466,3467,3468,3469,3470,3471,3472,3473,3474,3475,3476,3477,3478,3479,3480,3481,3482,3483,3484,3485,3486,3487,3488,3489,3490,3491,3492,3493,3494,3495,3496,3497,3498,3499,3500,3501,3502,3503,3504,3505,3506,3507,3508,3509,3510,3511,3512,3513,3514,3515,3516,3517,3518,3519,3520,3521,3522,3523,3524,3525,3526,3527,3528,3529,3530,3531,3532,3533,3534,3535,3536,3537,3538,3539,3540,3541,3542,3543,3544,3545,3546,3547,3548,3549,3550,3551,3552,3553,3554,3555,3556,3557,3558,3559,3560,3561,3562,3563,3564,3565,3566,3567,3568,3569,3570,3571,3572,3573,3574,3575,3576,3577,3578,3579,3580,3581,3582,3583,3584,3585,3586,3587,3588,3589,3590,3591,3592,3593,3594,3595,3596,3597,3598,3599,3600,3601,3602,3603,3604,3605,3606,3607,3608,3609,3610,3611,3612,3613,3614,3615,3616,3617,3618,3619,3620,3621,3622,3623,3624,3625,3626,3627,3628,3629,3630,3631,3632,3633,3634,3635,3636,3637,3638,3639,3640,3641,3642,3643,3644,3645,3646,3647,3648,3649,3650,3651,3652,3653,3654,3655,3656,3657,3658,3659,3660,3661,3662,3663,3664,3665,3666,3667,3668,3669,3670,3671,3672,3673,3674,3675,3676,3677,3678,3679,3680,3681,3682,3683,3684,3685,3686,3687,3688,3689,3690,3691,3692,3693,3694,3695,3696,3697,3698,3699,3700,3701,3702,3703,3704,3705,3706,3707,3708,3709,3710,3711,3712,3713,3714,3715,3716,3717,3718,3719,3720,3721,3722,3723,3724,3725,3726,3727,3728,3729,3730,3731,3732,3733,3734,3735,3736,3737,3738,3739,3740,3741,3742,3743,3744,3745,3746,3747,3748,3749,3750,3751,3752,3753,3754,3755,3756,3757,3758,3759,3760,3761,3762,3763,3764,3765,3766,3767,3768,3769,3770,3771,3772,3773,3774,3775,3776,3777,3778,3779,3780,3781,3782,3783,3784,3785,3786,3787,3788,3789,3790,3791,3792,3793,3794,3795,3796,3797,3798,3799,3800,3801,3802,3803,3804,3805,3806,3807,3808,3809,3810,3811,3812,3813,3814,3815,3816,3817,3818,3819,3820,3821,3822,3823,3824,3825,3826,3827,3828,3829,3830,3831,3832,3833,3834,3835,3836,3837,3838,3839,3840,3841,3842,3843,3844,3845,3846,3847,3848,3849,3850,3851,3852,3853,3854,3855,3856,3857,3858,3859,3860,3861,3862,3863,3864,3865,3866,3867,3868,3869,3870,3871,3872,3873,3874,3875,3876,3877,3878,3879,3880,3881,3882,3883,3884,3885,3886,3887,3888,3889,3890,3891,3892,3893,3894,3895,3896,3897,3898,3899,3900,3901,3902,3903,3904,3905,3906,3907,3908,3909,3910,3911,3912,3913,3914,3915,3916,3917,3918,3919,3920,3921,3922,3923,3924,3925,3926,3927,3928,3929,3930,3931,3932,3933,3934,3935,3936,3937,3938,3939,3940,3941,3942,3943,3944,3945,3946,3947,3948,3949,3950,3951,3952,3953,3954,3955,3956,3957,3958,3959,3960,3961,3962,3963,3964,3965,3966,3967,3968,3969,3970,3971,3972,3973,3974,3975,3976,3977,3978,3979,3980,3981,3982,3983,3984,3985,3986,3987,3988,3989,3990,3991,3992,3993,3994,3995,3996,3997,3998,3999,4000,4001,4002,4003,4004,4005,4006,4007,4008,4009,4010,4011,4012,4013,4014,4015,4016,4017,4018,4019,4020,4021,4022,4023,4024,4025,4026,4027,4028,4029,4030,4031,4032,4033,4034,4035,4036,4037,4038,4039,4040,4041,4042,4043,4044,4045,4046,4047,4048,4049,4050,4051,4052,4053,4054,4055,4056,4057,4058,4059,4060,4061,4062,4063,4064,4065,4066,4067,4068,4069,4070,4071,4072,4073,4074,4075,4076,4077,4078,4079,4080,4081,4082,4083,4084,4085,4086,4087,4088,4089,4090,4091,4092,4093,4094,4095,4096,4097,4098,4099,4100,4101,4102,4103,4104,4105,4106,4107,4108,4109,4110,4111,4112,4113,4114,4115,4116,4117,4118,4119,4120,4121,4122,4123,4124,4125,4126,4127,4128,4129,4130,4131,4132,4133,4134,4135,4136,4137,4138,4139,4140,4141,4142,4143,4144,4145,4146,4147,4148,4149,4150,4151,4152,4153,4154,4155,4156,4157,4158,4159,4160,4161,4162,4163,4164,4165,4166,4167,4168,4169,4170,4171,4172,4173,4174,4175,4176,4177,4178,4179,4180,4181,4182,4183,4184,4185,4186,4187,4188,4189,4190,4191,4192,4193,4194,4195,4196,4197,4198,4199,4200,4201,4202,4203,4204,4205,4206,4207,4208,4209,4210,4211,4212,4213,4214,4215,4216,4217,4218,4219,4220,4221,4222,4223,4224,4225,4226,4227,4228,4229,4230,4231,4232,4233,4234,4235,4236,4237,4238,4239,4240,4241,4242,4243,4244,4245,4246,4247,4248,4249,4250,4251,4252,4253,4254,4255,4256,4257,4258,4259,4260,4261,4262,4263,4264,4265,4266,4267,4268,4269,4270,4271,4272,4273,4274,4275,4276,4277,4278,4279,4280,4281,4282,4283,4284,4285,4286,4287,4288,4289,4290,4291,4292,4293,4294,4295,4296,4297,4298,4299,4300,4301,4302,4303,4304,4305,4306,4307,4308,4309,4310,4311,4312,4313,4314,4315,4316,4317,4318,4319,4320,4321,4322,4323,4324,4325,4326,4327,4328,4329,4330,4331,4332,4333,4334,4335,4336,4337,4338,4339,4340,4341,4342,4343,4344,4345,4346,4347,4348,4349,4350,4351,4352,4353,4354,4355,4356,4357,4358,4359,4360,4361,4362,4363,4364,4365,4366,4367,4368,4369,4370,4371,4372,4373,4374,4375,4376,4377,4378,4379,4380,4381,4382,4383,4384,4385,4386,4387,4388,4389,4390,4391,4392,4393,4394,4395,4396,4397,4398,4399,4400,4401,4402,4403,4404,4405,4406,4407,4408,4409,4410,4411,4412,4413,4414,4415,4416,4417,4418,4419,4420,4421,4422,4423,4424,4425,4426,4427,4428,4429,4430,4431,4432,4433,4434,4435,4436,4437,4438,4439,4440,4441,4442,4443,4444,4445,4446,4447,4448,4449,4450,4451,4452,4453,4454,4455,4456,4457,4458,4459,4460,4461,4462,4463,4464,4465,4466,4467,4468,4469,4470,4471,4472,4473,4474,4475,4476,4477,4478,4479,4480,4481,4482,4483,4484,4485,4486,4487,4488,4489,4490,4491,4492,4493,4494,4495,4496,4497,4498,4499,4500,4501,4502,4503,4504,4505,4506,4507,4508,4509,4510,4511,4512,4513,4514,4515,4516,4517,4518,4519,4520,4521,4522,4523,4524,4525,4526,4527,4528,4529,4530,4531,4532,4533,4534,4535,4536,4537,4538,4539,4540,4541,4542,4543,4544,4545,4546,4547,4548,4549,4550,4551,4552,4553,4554,4555,4556,4557,4558,4559,4560,4561,4562,4563,4564,4565,4566,4567,4568,4569,4570,4571,4572,4573,4574,4575,4576,4577,4578,4579,4580,4581,4582,4583,4584,4585,4586,4587,4588,4589,4590,4591,4592,4593,4594,4595,4596,4597,4598,4599,4600,4601,4602,4603,4604,4605,4606,4607,4608,4609,4610,4611,4612,4613,4614,4615,4616,4617,4618,4619,4620,4621,4622,4623,4624,4625,4626,4627,4628,4629,4630,4631,4632,4633,4634,4635,4636,4637,4638,4639,4640,4641,4642,4643,4644,4645,4646,4647,4648,4649,4650,4651,4652,4653,4654,4655,4656,4657,4658,4659,4660,4661,4662,4663,4664,4665,4666,4667,4668,4669,4670,4671,4672,4673,4674,4675,4676,4677,4678,4679,4680,4681,4682,4683,4684,4685,4686,4687,4688,4689,4690,4691,4692,4693,4694,4695,4696,4697,4698,4699,4700,4701,4702,4703,4704,4705,4706,4707,4708,4709,4710,4711,4712,4713,4714,4715,4716,4717,4718,4719,4720,4721,4722,4723,4724,4725,4726,4727,4728,4729,4730,4731,4732,4733,4734,4735,4736,4737,4738,4739,4740,4741,4742,4743,4744,4745,4746,4747,4748,4749,4750,4751,4752,4753,4754,4755,4756,4757,4758,4759,4760,4761,4762,4763,4764,4765,4766,4767,4768,4769,4770,4771,4772,4773,4774,4775,4776,4777,4778,4779,4780,4781,4782,4783,4784,4785,4786,4787,4788,4789,4790,4791,4792,4793,4794,4795,4796,4797,4798,4799,4800,4801,4802,4803,4804,4805,4806,4807,4808,4809,4810,4811,4812,4813,4814,4815,4816,4817,4818,4819,4820,4821,4822,4823,4824,4825,4826,4827,4828,4829,4830,4831,4832,4833,4834,4835,4836,4837,4838,4839,4840,4841,4842,4843,4844,4845,4846,4847,4848,4849,4850,4851,4852,4853,4854,4855,4856,4857,4858,4859,4860,4861,4862,4863,4864,4865,4866,4867,4868,4869,4870,4871,4872,4873,4874,4875,4876,4877,4878,4879,4880,4881,4882,4883,4884,4885,4886,4887,4888,4889,4890,4891,4892,4893,4894,4895,4896,4897,4898,4899,4900,4901,4902,4903,4904,4905,4906,4907,4908,4909,4910,4911,4912,4913,4914,4915,4916,4917,4918,4919,4920,4921,4922,4923,4924,4925,4926,4927,4928,4929,4930,4931,4932,4933,4934,4935,4936,4937,4938,4939,4940,4941,4942,4943,4944,4945,4946,4947,4948,4949,4950,4951,4952,4953,4954,4955,4956,4957,4958,4959,4960,4961,4962,4963,4964,4965,4966,4967,4968,4969,4970,4971,4972,4973,4974,4975,4976,4977,4978,4979,4980,4981,4982,4983,4984,4985,4986,4987,4988,4989,4990,4991,4992,4993,4994,4995,4996,4997,4998,4999,5000,5001,5002,5003,5004,5005,5006,5007,5008,5009,5010,5011,5012,5013,5014,5015,5016,5017,5018,5019,5020,5021,5022,5023,5024,5025,5026,5027,5028,5029,5030,5031,5032,5033,5034,5035,5036,5037,5038,5039,5040,5041,5042,5043,5044,5045,5046,5047,5048,5049,5050,5051,5052,5053,5054,5055,5056,5057,5058,5059,5060,5061,5062,5063,5064,5065,5066,5067,5068,5069,5070,5071,5072,5073,5074,5075,5076,5077,5078,5079,5080,5081,5082,5083,5084,5085,5086,5087,5088,5089,5090,5091,5092,5093,5094,5095,5096,5097,5098,5099,5100,5101,5102,5103,5104,5105,5106,5107,5108,5109,5110,5111,5112,5113,5114,5115,5116,5117,5118,5119,5120,5121,5122,5123,5124,5125,5126,5127,5128,5129,5130,5131,5132,5133,5134,5135,5136,5137,5138,5139,5140,5141,5142,5143,5144,5145,5146,5147,5148,5149,5150,5151,5152,5153,5154,5155,5156,5157,5158,5159,5160,5161,5162,5163,5164,5165,5166,5167,5168,5169,5170,5171,5172,5173,5174,5175,5176,5177,5178,5179,5180,5181,5182,5183,5184,5185,5186,5187,5188,5189,5190,5191,5192,5193,5194,5195,5196,5197,5198,5199,5200,5201,5202,5203,5204,5205,5206,5207,5208,5209,5210,5211,5212,5213,5214,5215,5216,5217,5218,5219,5220,5221,5222,5223,5224,5225,5226,5227,5228,5229,5230,5231,5232,5233,5234,5235,5236,5237,5238,5239,5240,5241,5242,5243,5244,5245,5246,5247,5248,5249,5250,5251,5252,5253,5254,5255,5256,5257,5258,5259,5260,5261,5262,5263,5264,5265,5266,5267,5268,5269,5270,5271,5272,5273,5274,5275,5276,5277,5278,5279,5280,5281,5282,5283,5284,5285,5286,5287,5288,5289,5290,5291,5292,5293,5294,5295,5296,5297,5298,5299,5300,5301,5302,5303,5304,5305,5306,5307,5308,5309,5310,5311,5312,5313,5314,5315,5316,5317,5318,5319,5320,5321,5322,5323,5324,5325,5326,5327,5328,5329,5330,5331,5332,5333,5334,5335,5336,5337,5338,5339,5340,5341,5342,5343,5344,5345,5346,5347,5348,5349,5350,5351,5352,5353,5354,5355,5356,5357,5358,5359,5360,5361,5362,5363,5364,5365,5366,5367,5368,5369,5370,5371,5372,5373,5374,5375,5376,5377,5378,5379,5380,5381,5382,5383,5384,5385,5386,5387,5388,5389,5390,5391,5392,5393,5394,5395,5396,5397,5398,5399,5400,5401,5402,5403,5404,5405,5406,5407,5408,5409,5410,5411,5412,5413,5414,5415,5416,5417,5418,5419,5420,5421,5422,5423,5424,5425,5426,5427,5428,5429,5430,5431,5432,5433,5434,5435,5436,5437,5438,5439,5440,5441,5442,5443,5444,5445,5446,5447,5448,5449,5450,5451,5452,5453,5454,5455,5456,5457,5458,5459,5460,5461,5462,5463,5464,5465,5466,5467,5468,5469,5470,5471,5472,5473,5474,5475,5476,5477,5478,5479,5480,5481,5482,5483,5484,5485,5486,5487,5488,5489,5490,5491,5492,5493,5494,5495,5496,5497,5498,5499,5500,5501,5502,5503,5504,5505,5506,5507,5508,5509,5510,5511,5512,5513,5514,5515,5516,5517,5518,5519,5520,5521,5522,5523,5524,5525,5526,5527,5528,5529,5530,5531,5532,5533,5534,5535,5536,5537,5538,5539,5540,5541,5542,5543,5544,5545,5546,5547,5548,5549,5550,5551,5552,5553,5554,5555,5556,5557,5558,5559,5560,5561,5562,5563,5564,5565,5566,5567,5568,5569,5570,5571,5572,5573,5574,5575,5576,5577,5578,5579,5580,5581,5582,5583,5584,5585,5586,5587,5588,5589,5590,5591,5592,5593,5594,5595,5596,5597,5598,5599,5600,5601,5602,5603,5604,5605,5606,5607,5608,5609,5610,5611,5612,5613,5614,5615,5616,5617,5618,5619,5620,5621,5622,5623,5624,5625,5626,5627,5628,5629,5630,5631,5632,5633,5634,5635,5636,5637,5638,5639,5640,5641,5642,5643,5644,5645,5646,5647,5648,5649,5650,5651,5652,5653,5654,5655,5656,5657,5658,5659,5660,5661,5662,5663,5664,5665,5666,5667,5668,5669,5670,5671,5672,5673,5674,5675,5676,5677,5678,5679,5680,5681,5682,5683,5684,5685,5686,5687,5688,5689,5690,5691,5692,5693,5694,5695,5696,5697,5698,5699,5700,5701,5702,5703,5704,5705,5706,5707,5708,5709,5710,5711,5712,5713,5714,5715,5716,5717,5718,5719,5720,5721,5722,5723,5724,5725,5726,5727,5728,5729,5730,5731,5732,5733,5734,5735,5736,5737,5738,5739,5740,5741,5742,5743,5744,5745,5746,5747,5748,5749,5750,5751,5752,5753,5754,5755,5756,5757,5758,5759,5760,5761,5762,5763,5764,5765,5766,5767,5768,5769,5770,5771,5772,5773,5774,5775,5776,5777,5778,5779,5780,5781,5782,5783,5784,5785,5786,5787,5788,5789,5790,5791,5792,5793,5794,5795,5796,5797,5798,5799,5800,5801,5802,5803,5804,5805,5806,5807,5808,5809,5810,5811,5812,5813,5814,5815,5816,5817,5818,5819,5820,5821,5822,5823,5824,5825,5826,5827,5828,5829,5830,5831,5832,5833,5834,5835,5836,5837,5838,5839,5840,5841,5842,5843,5844,5845,5846,5847,5848,5849,5850,5851,5852,5853,5854,5855,5856,5857,5858,5859,5860,5861,5862,5863,5864,5865,5866,5867,5868,5869,5870,5871,5872,5873,5874,5875,5876,5877,5878,5879,5880,5881,5882,5883,5884,5885,5886,5887,5888,5889,5890,5891,5892,5893,5894,5895,5896,5897,5898,5899,5900,5901,5902,5903,5904,5905,5906,5907,5908,5909,5910,5911,5912,5913,5914,5915,5916,5917,5918,5919,5920,5921,5922,5923,5924,5925,5926,5927,5928,5929,5930,5931,5932,5933,5934,5935,5936,5937,5938,5939,5940,5941,5942,5943,5944,5945,5946,5947,5948,5949,5950,5951,5952,5953,5954,5955,5956,5957,5958,5959,5960,5961,5962,5963,5964,5965,5966,5967,5968,5969,5970,5971,5972,5973,5974,5975,5976,5977,5978,5979,5980,5981,5982,5983,5984,5985,5986,5987,5988,5989,5990,5991,5992,5993,5994,5995,5996,5997,5998,5999,6000,6001,6002,6003,6004,6005,6006,6007,6008,6009,6010,6011,6012,6013,6014,6015,6016,6017,6018,6019,6020,6021,6022,6023,6024,6025,6026,6027,6028,6029,6030,6031,6032,6033,6034,6035,6036,6037,6038,6039,6040,6041,6042,6043,6044,6045,6046,6047,6048,6049,6050,6051,6052,6053,6054,6055,6056,6057,6058,6059,6060,6061,6062,6063,6064,6065,6066,6067,6068,6069,6070,6071,6072,6073,6074,6075,6076,6077,6078,6079,6080,6081,6082,6083,6084,6085,6086,6087,6088,6089,6090,6091,6092,6093,6094,6095,6096,6097,6098,6099,6100,6101,6102,6103,6104,6105,6106,6107,6108,6109,6110,6111,6112,6113,6114,6115,6116,6117,6118,6119,6120,6121,6122,6123,6124,6125,6126,6127,6128,6129,6130,6131,6132,6133,6134,6135,6136,6137,6138,6139,6140,6141,6142,6143,6144,6145,6146,6147,6148,6149,6150,6151,6152,6153,6154,6155,6156,6157,6158,6159,6160,6161,6162,6163,6164,6165,6166,6167,6168,6169,6170,6171,6172,6173,6174,6175,6176,6177,6178,6179,6180,6181,6182,6183,6184,6185,6186,6187,6188,6189,6190,6191,6192,6193,6194,6195,6196,6197,6198,6199,6200,6201,6202,6203,6204,6205,6206,6207,6208,6209,6210,6211,6212,6213,6214,6215,6216,6217,6218,6219,6220,6221,6222,6223,6224,6225,6226,6227,6228,6229,6230,6231,6232,6233,6234,6235,6236,6237,6238,6239,6240,6241,6242,6243,6244,6245,6246,6247,6248,6249,6250,6251,6252,6253,6254,6255,6256,6257,6258,6259,6260,6261,6262,6263,6264,6265,6266,6267,6268,6269,6270,6271,6272,6273,6274,6275,6276,6277,6278,6279,6280,6281,6282,6283,6284,6285,6286,6287,6288,6289,6290,6291,6292,6293,6294,6295,6296,6297,6298,6299,6300,6301,6302,6303,6304,6305,6306,6307,6308,6309,6310,6311,6312,6313,6314,6315,6316,6317,6318,6319,6320,6321,6322,6323,6324,6325,6326,6327,6328,6329,6330,6331,6332,6333,6334,6335,6336,6337,6338,6339,6340,6341,6342,6343,6344,6345,6346,6347,6348,6349,6350,6351,6352,6353,6354,6355,6356,6357,6358,6359,6360,6361,6362,6363,6364,6365,6366,6367,6368,6369,6370,6371,6372,6373,6374,6375,6376,6377,6378,6379,6380,6381,6382,6383,6384,6385,6386,6387,6388,6389,6390,6391,6392,6393,6394,6395,6396,6397,6398,6399,6400,6401,6402,6403,6404,6405,6406,6407,6408,6409,6410,6411,6412,6413,6414,6415,6416,6417,6418,6419,6420,6421,6422,6423,6424,6425,6426,6427,6428,6429,6430,6431,6432,6433,6434,6435,6436,6437,6438,6439,6440,6441,6442,6443,6444,6445,6446,6447,6448,6449,6450,6451,6452,6453,6454,6455,6456,6457,6458,6459,6460,6461,6462,6463,6464,6465,6466,6467,6468,6469,6470,6471,6472,6473,6474,6475,6476,6477,6478,6479,6480,6481,6482,6483,6484,6485,6486,6487,6488,6489,6490,6491,6492,6493,6494,6495,6496,6497,6498,6499,6500,6501,6502,6503,6504,6505,6506,6507,6508,6509,6510,6511,6512,6513,6514,6515,6516,6517,6518,6519,6520,6521,6522,6523,6524,6525,6526,6527,6528,6529,6530,6531,6532,6533,6534,6535,6536,6537,6538,6539,6540,6541,6542,6543,6544,6545,6546,6547,6548,6549,6550,6551,6552,6553,6554,6555,6556,6557,6558,6559,6560,6561,6562,6563,6564,6565,6566,6567,6568,6569,6570,6571,6572,6573,6574,6575,6576,6577,6578,6579,6580,6581,6582,6583,6584,6585,6586,6587,6588,6589,6590,6591,6592,6593,6594,6595,6596,6597,6598,6599,6600,6601,6602,6603,6604,6605,6606,6607,6608,6609,6610,6611,6612,6613,6614,6615,6616,6617,6618,6619,6620,6621,6622,6623,6624,6625,6626,6627,6628,6629,6630,6631,6632,6633,6634,6635,6636,6637,6638,6639,6640,6641,6642,6643,6644,6645,6646,6647,6648,6649,6650,6651,6652,6653,6654,6655,6656,6657,6658,6659,6660,6661,6662,6663,6664,6665,6666,6667,6668,6669,6670,6671,6672,6673,6674,6675,6676,6677,6678,6679,6680,6681,6682,6683,6684,6685,6686,6687,6688,6689,6690,6691,6692,6693,6694,6695,6696,6697,6698,6699,6700,6701,6702,6703,6704,6705,6706,6707,6708,6709,6710,6711,6712,6713,6714,6715,6716,6717,6718,6719,6720,6721,6722,6723,6724,6725,6726,6727,6728,6729,6730,6731,6732,6733,6734,6735,6736,6737,6738,6739,6740,6741,6742,6743,6744,6745,6746,6747,6748,6749,6750,6751,6752,6753,6754,6755,6756,6757,6758,6759,6760,6761,6762,6763,6764,6765,6766,6767,6768,6769,6770,6771,6772,6773,6774,6775,6776,6777,6778,6779,6780,6781,6782,6783,6784,6785,6786,6787,6788,6789,6790,6791,6792,6793,6794,6795,6796,6797,6798,6799,6800,6801,6802,6803,6804,6805,6806,6807,6808,6809,6810,6811,6812,6813,6814,6815,6816,6817,6818,6819,6820,6821,6822,6823,6824,6825,6826,6827,6828,6829,6830,6831,6832,6833,6834,6835,6836,6837,6838,6839,6840,6841,6842,6843,6844,6845,6846,6847,6848,6849,6850,6851,6852,6853,6854,6855,6856,6857,6858,6859,6860,6861,6862,6863,6864,6865,6866,6867,6868,6869,6870,6871,6872,6873,6874,6875,6876,6877,6878,6879,6880,6881,6882,6883,6884,6885,6886,6887,6888,6889,6890,6891,6892,6893,6894,6895,6896,6897,6898,6899,6900,6901,6902,6903,6904,6905,6906,6907,6908,6909,6910,6911,6912,6913,6914,6915,6916,6917,6918,6919,6920,6921,6922,6923,6924,6925,6926,6927,6928,6929,6930,6931,6932,6933,6934,6935,6936,6937,6938,6939,6940,6941,6942,6943,6944,6945,6946,6947,6948,6949,6950,6951,6952,6953,6954,6955,6956,6957,6958,6959,6960,6961,6962,6963,6964,6965,6966,6967,6968,6969,6970,6971,6972,6973,6974,6975,6976,6977,6978,6979,6980,6981,6982,6983,6984,6985,6986,6987,6988,6989,6990,6991,6992,6993,6994,6995,6996,6997,6998,6999,7000,7001,7002,7003,7004,7005,7006,7007,7008,7009,7010,7011,7012,7013,7014,7015,7016,7017,7018,7019,7020,7021,7022,7023,7024,7025,7026,7027,7028,7029,7030,7031,7032,7033,7034,7035,7036,7037,7038,7039,7040,7041,7042,7043,7044,7045,7046,7047,7048,7049,7050,7051,7052,7053,7054,7055,7056,7057,7058,7059,7060,7061,7062,7063,7064,7065,7066,7067,7068,7069,7070,7071,7072,7073,7074,7075,7076,7077,7078,7079,7080,7081,7082,7083,7084,7085,7086,7087,7088,7089,7090,7091,7092,7093,7094,7095,7096,7097,7098,7099,7100,7101,7102,7103,7104,7105,7106,7107,7108,7109,7110,7111,7112,7113,7114,7115,7116,7117,7118,7119,7120,7121,7122,7123,7124,7125,7126,7127,7128,7129,7130,7131,7132,7133,7134,7135,7136,7137,7138,7139,7140,7141,7142,7143,7144,7145,7146,7147,7148,7149,7150,7151,7152,7153,7154,7155,7156,7157,7158,7159,7160,7161,7162,7163,7164,7165,7166,7167,7168,7169,7170,7171,7172,7173,7174,7175,7176,7177,7178,7179,7180,7181,7182,7183,7184,7185,7186,7187,7188,7189,7190,7191,7192,7193,7194,7195,7196,7197,7198,7199,7200,7201,7202,7203,7204,7205,7206,7207,7208,7209,7210,7211,7212,7213,7214,7215,7216,7217,7218,7219,7220,7221,7222,7223,7224,7225,7226,7227,7228,7229,7230,7231,7232,7233,7234,7235,7236,7237,7238,7239,7240,7241,7242,7243,7244,7245,7246,7247,7248,7249,7250,7251,7252,7253,7254,7255,7256,7257,7258,7259,7260,7261,7262,7263,7264,7265,7266,7267,7268,7269,7270,7271,7272,7273,7274,7275,7276,7277,7278,7279,7280,7281,7282,7283,7284,7285,7286,7287,7288,7289,7290,7291,7292,7293,7294,7295,7296,7297,7298,7299,7300,7301,7302,7303,7304,7305,7306,7307,7308,7309,7310,7311,7312,7313,7314,7315,7316,7317,7318,7319,7320,7321,7322,7323,7324,7325,7326,7327,7328,7329,7330,7331,7332,7333,7334,7335,7336,7337,7338,7339,7340,7341,7342,7343,7344,7345,7346,7347,7348,7349,7350,7351,7352,7353,7354,7355,7356,7357,7358,7359,7360,7361,7362,7363,7364,7365,7366,7367,7368,7369,7370,7371,7372,7373,7374,7375,7376,7377,7378,7379,7380,7381,7382,7383,7384,7385,7386,7387,7388,7389,7390,7391,7392,7393,7394,7395,7396,7397,7398,7399,7400,7401,7402,7403,7404,7405,7406,7407,7408,7409,7410,7411,7412,7413,7414,7415,7416,7417,7418,7419,7420,7421,7422,7423,7424,7425,7426,7427,7428,7429,7430,7431,7432,7433,7434,7435,7436,7437,7438,7439,7440,7441,7442,7443,7444,7445,7446,7447,7448,7449,7450,7451,7452,7453,7454,7455,7456,7457,7458,7459,7460,7461,7462,7463,7464,7465,7466,7467,7468,7469,7470,7471,7472,7473,7474,7475,7476,7477,7478,7479,7480,7481,7482,7483,7484,7485,7486,7487,7488,7489,7490,7491,7492,7493,7494,7495,7496,7497,7498,7499,7500,7501,7502,7503,7504,7505,7506,7507,7508,7509,7510,7511,7512,7513,7514,7515,7516,7517,7518,7519,7520,7521,7522,7523,7524,7525,7526,7527,7528,7529,7530,7531,7532,7533,7534,7535,7536,7537,7538,7539,7540,7541,7542,7543,7544,7545,7546,7547,7548,7549,7550,7551,7552,7553,7554,7555,7556,7557,7558,7559,7560,7561,7562,7563,7564,7565,7566,7567,7568,7569,7570,7571,7572,7573,7574,7575,7576,7577,7578,7579,7580,7581,7582,7583,7584,7585,7586,7587,7588,7589,7590,7591,7592,7593,7594,7595,7596,7597,7598,7599,7600,7601,7602,7603,7604,7605,7606,7607,7608,7609,7610,7611,7612,7613,7614,7615,7616,7617,7618,7619,7620,7621,7622,7623,7624,7625,7626,7627,7628,7629,7630,7631,7632,7633,7634,7635,7636,7637,7638,7639,7640,7641,7642,7643,7644,7645,7646,7647,7648,7649,7650,7651,7652,7653,7654,7655,7656,7657,7658,7659,7660,7661,7662,7663,7664,7665,7666,7667,7668,7669,7670,7671,7672,7673,7674,7675,7676,7677,7678,7679,7680,7681,7682,7683,7684,7685,7686,7687,7688,7689,7690,7691,7692,7693,7694,7695,7696,7697,7698,7699,7700,7701,7702,7703,7704,7705,7706,7707,7708,7709,7710,7711,7712,7713,7714,7715,7716,7717,7718,7719,7720,7721,7722,7723,7724,7725,7726,7727,7728,7729,7730,7731,7732,7733,7734,7735,7736,7737,7738,7739,7740,7741,7742,7743,7744,7745,7746,7747,7748,7749,7750,7751,7752,7753,7754,7755,7756,7757,7758,7759,7760,7761,7762,7763,7764,7765,7766,7767,7768,7769,7770,7771,7772,7773,7774,7775,7776,7777,7778,7779,7780,7781,7782,7783,7784,7785,7786,7787,7788,7789,7790,7791,7792,7793,7794,7795,7796,7797,7798,7799,7800,7801,7802,7803,7804,7805,7806,7807,7808,7809,7810,7811,7812,7813,7814,7815,7816,7817,7818,7819,7820,7821,7822,7823,7824,7825,7826,7827,7828,7829,7830,7831,7832,7833,7834,7835,7836,7837,7838,7839,7840,7841,7842,7843,7844,7845,7846,7847,7848,7849,7850,7851,7852,7853,7854,7855,7856,7857,7858,7859,7860,7861,7862,7863,7864,7865,7866,7867,7868,7869,7870,7871,7872,7873,7874,7875,7876,7877,7878,7879,7880,7881,7882,7883,7884,7885,7886,7887,7888,7889,7890,7891,7892,7893,7894,7895,7896,7897,7898,7899,7900,7901,7902,7903,7904,7905,7906,7907,7908,7909,7910,7911,7912,7913,7914,7915,7916,7917,7918,7919,7920,7921,7922,7923,7924,7925,7926,7927,7928,7929,7930,7931,7932,7933,7934,7935,7936,7937,7938,7939,7940,7941,7942,7943,7944,7945,7946,7947,7948,7949,7950,7951,7952,7953,7954,7955,7956,7957,7958,7959,7960,7961,7962,7963,7964,7965,7966,7967,7968,7969,7970,7971,7972,7973,7974,7975,7976,7977,7978,7979,7980,7981,7982,7983,7984,7985,7986,7987,7988,7989,7990,7991,7992,7993,7994,7995,7996,7997,7998,7999,8000,8001,8002,8003,8004,8005,8006,8007,8008,8009,8010,8011,8012,8013,8014,8015,8016,8017,8018,8019,8020,8021,8022,8023,8024,8025,8026,8027,8028,8029,8030,8031,8032,8033,8034,8035,8036,8037,8038,8039,8040,8041,8042,8043,8044,8045,8046,8047,8048,8049,8050,8051,8052,8053,8054,8055,8056,8057,8058,8059,8060,8061,8062,8063,8064,8065,8066,8067,8068,8069,8070,8071,8072,8073,8074,8075,8076,8077,8078,8079,8080,8081,8082,8083,8084,8085,8086,8087,8088,8089,8090,8091,8092,8093,8094,8095,8096,8097,8098,8099,8100,8101,8102,8103,8104,8105,8106,8107,8108,8109,8110,8111,8112,8113,8114,8115,8116,8117,8118,8119,8120,8121,8122,8123,8124,8125,8126,8127,8128,8129,8130,8131,8132,8133,8134,8135,8136,8137,8138,8139,8140,8141,8142,8143,8144,8145,8146,8147,8148,8149,8150,8151,8152,8153,8154,8155,8156,8157,8158,8159,8160,8161,8162,8163,8164,8165,8166,8167,8168,8169,8170,8171,8172,8173,8174,8175,8176,8177,8178,8179,8180,8181,8182,8183,8184,8185,8186,8187,8188,8189,8190,8191,8192,8193,8194,8195,8196,8197,8198,8199,8200,8201,8202,8203,8204,8205,8206,8207,8208,8209,8210,8211,8212,8213,8214,8215,8216,8217,8218,8219,8220,8221,8222,8223,8224,8225,8226,8227,8228,8229,8230,8231,8232,8233,8234,8235,8236,8237,8238,8239,8240,8241,8242,8243,8244,8245,8246,8247,8248,8249,8250,8251,8252,8253,8254,8255,8256,8257,8258,8259,8260,8261,8262,8263,8264,8265,8266,8267,8268,8269,8270,8271,8272,8273,8274,8275,8276,8277,8278,8279,8280,8281,8282,8283,8284,8285,8286,8287,8288,8289,8290,8291,8292,8293,8294,8295,8296,8297,8298,8299,8300,8301,8302,8303,8304,8305,8306,8307,8308,8309,8310,8311,8312,8313,8314,8315,8316,8317,8318,8319,8320,8321,8322,8323,8324,8325,8326,8327,8328,8329,8330,8331,8332,8333,8334,8335,8336,8337,8338,8339,8340,8341,8342,8343,8344,8345,8346,8347,8348,8349,8350,8351,8352,8353,8354,8355,8356,8357,8358,8359,8360,8361,8362,8363,8364,8365,8366,8367,8368,8369,8370,8371,8372,8373,8374,8375,8376,8377,8378,8379,8380,8381,8382,8383,8384,8385,8386,8387,8388,8389,8390,8391,8392,8393,8394,8395,8396,8397,8398,8399,8400,8401,8402,8403,8404,8405,8406,8407,8408,8409,8410,8411,8412,8413,8414,8415,8416,8417,8418,8419,8420,8421,8422,8423,8424,8425,8426,8427,8428,8429,8430,8431,8432,8433,8434,8435,8436,8437,8438,8439,8440,8441,8442,8443,8444,8445,8446,8447,8448,8449,8450,8451,8452,8453,8454,8455,8456,8457,8458,8459,8460,8461,8462,8463,8464,8465,8466,8467,8468,8469,8470,8471,8472,8473,8474,8475,8476,8477,8478,8479,8480,8481,8482,8483,8484,8485,8486,8487,8488,8489,8490,8491,8492,8493,8494,8495,8496,8497,8498,8499,8500,8501,8502,8503,8504,8505,8506,8507,8508,8509,8510,8511,8512,8513,8514,8515,8516,8517,8518,8519,8520,8521,8522,8523,8524,8525,8526,8527,8528,8529,8530,8531,8532,8533,8534,8535,8536,8537,8538,8539,8540,8541,8542,8543,8544,8545,8546,8547,8548,8549,8550,8551,8552,8553,8554,8555,8556,8557,8558,8559,8560,8561,8562,8563,8564,8565,8566,8567,8568,8569,8570,8571,8572,8573,8574,8575,8576,8577,8578,8579,8580,8581,8582,8583,8584,8585,8586,8587,8588,8589,8590,8591,8592,8593,8594,8595,8596,8597,8598,8599,8600,8601,8602,8603,8604,8605,8606,8607,8608,8609,8610,8611,8612,8613,8614,8615,8616,8617,8618,8619,8620,8621,8622,8623,8624,8625,8626,8627,8628,8629,8630,8631,8632,8633,8634,8635,8636,8637,8638,8639,8640,8641,8642,8643,8644,8645,8646,8647,8648,8649,8650,8651,8652,8653,8654,8655,8656,8657,8658,8659,8660,8661,8662,8663,8664,8665,8666,8667,8668,8669,8670,8671,8672,8673,8674,8675,8676,8677,8678,8679,8680,8681,8682,8683,8684,8685,8686,8687,8688,8689,8690,8691,8692,8693,8694,8695,8696,8697,8698,8699,8700,8701,8702,8703,8704,8705,8706,8707,8708,8709,8710,8711,8712,8713,8714,8715,8716,8717,8718,8719,8720,8721,8722,8723,8724,8725,8726,8727,8728,8729,8730,8731,8732,8733,8734,8735,8736,8737,8738,8739,8740,8741,8742,8743,8744,8745,8746,8747,8748,8749,8750,8751,8752,8753,8754,8755,8756,8757,8758,8759,8760,8761,8762,8763,8764,8765,8766,8767,8768,8769,8770,8771,8772,8773,8774,8775,8776,8777],\"y\":[24.467312383333372,23.38418158333337,24.148704500000022,22.66394053333334,25.370521316666583,25.473100199999845,27.761376966666575,29.36037924999993,43.97558538333313,38.90342899999966,38.04367023333314,39.9759863000002,43.373757616666694,40.17726848333318,38.0339152966667,38.02876624333337,35.53077669999991,32.81364966666663,31.009585983333487,30.282937379166572,30.61557123749998,30.074678700000018,30.59857364999985,30.834595733333263,33.255995472222196,32.074813917222386,29.51768650944456,31.241243640000054,31.032870974444506,29.284581910555687,40.919169518055554,41.81549646666679,50.565877933333475,53.856630372222185,47.77220441666658,44.76985012029752,43.32302909166695,41.99074264999978,40.40934829349195,38.46007743666685,41.94408095500011,44.67932576833301,49.86472160357164,45.841785366587565,46.60126839750007,36.285507994999996,28.103717757460263,28.08199551111123,27.787701083333225,27.161612116666625,26.45659068999998,25.304998799999904,25.896748699999936,25.887559744444413,30.31289243333319,34.37861242611098,45.079467833333155,44.517926116666516,49.1034514444445,44.48504862499999,42.72905983822745,39.972134235912584,39.57767796551577,40.179089725185186,45.22551072388891,47.01811505999978,48.15397213138873,49.36980279987012,49.710877676653496,36.9049847118055,29.537486411111125,28.526321483333334,28.459772083333274,25.2795841833333,23.81957930555547,23.604673016666695,27.562850233333172,28.378926894444547,30.99229216063499,32.32449545277793,37.369601070833355,43.16504340555544,48.66111957777796,45.01991959511908,42.634463888888824,38.49910649999985,38.71603193333332,39.234156616746084,42.30321913240074,50.88345139722191,50.664724044166576,48.67190259833329,47.64723199353168,36.327290583888725,27.20679003333324,28.183204016666632,28.37320038333347,24.533420183333213,25.568105016666593,23.38548994999999,21.789335506666774,21.775540526666685,26.9307306333333,27.838414133333313,32.9326395166665,42.4929585666665,40.70353381666668,38.79203100000006,38.64192706051594,38.09336288888912,38.56589933333351,40.807831933333595,40.71250246499997,49.68652828333346,50.11329235916679,51.650543816666755,51.31115750000009,37.58458315000017,28.929999422222284,28.05511878333327,27.358149116666645,23.905602233333237,22.500627566666623,22.290189116666674,22.713831966666664,23.7381140277777,30.570815883333385,31.364898980000056,37.73773956666657,41.820269966666814,51.36518928333343,43.53083824722217,41.275848719047616,40.40094309166663,40.21905772916662,40.08548945000007,41.495110783333395,49.36023666666649,50.16200210833322,48.51106390111111,47.96650139083321,38.05666834166684,29.34939590000019,27.788384850000135,27.27125825000005,22.69179411666668,22.239718566666603,25.37913714305552,26.47935526027773,31.88065375833324,32.525033779523795,34.34329679361109,43.59927166071433,49.630242533333465,58.100911727777685,51.2963065999998,45.4677203055554,42.62290098333315,41.04129901666667,40.94867786666673,41.90294878333326,48.00387588361106,48.357402309444495,49.358615097500085,48.66321438333303,39.38620845000004,31.72524051666661,31.054642216666622,28.229817800000003,32.96497825000025,34.48956413333344,35.71473641666661,35.222749666666495,35.64028559999989,37.145754241666765,38.59156826333332,42.12370918333327,38.68439394999982,35.39263623333338,38.208645349999955,40.709425366666665,40.07481604166679,38.25137146583337,36.755920244583365,37.14215293333333,34.74288135666653,34.69441512138898,33.053789684999806,31.20347603166643,31.313972636666637,31.280504166666528,30.938046616666618,32.05781248333344,31.924126400000038,32.36544236666661,29.887004383333277,32.91225255,34.492850077777945,36.84017222555557,37.83383913333328,52.73449261666679,42.31005862777781,46.903316258333405,44.668552883333454,42.34240364277796,40.72898367499998,40.68554901825402,39.48460461349208,40.4500290463889,45.37714055261899,45.37161951277803,46.16735642019852,45.04671220738087,35.590981401527806,29.345587055555473,29.268271016666723,26.861714949999865,26.362143016666572,26.956485399999874,28.067277016666615,27.59883919999988,24.646214798333286,29.292232413888986,30.871325582500074,38.92989176666665,48.06732218333332,47.24589582472237,45.71727984722198,42.61157953095219,40.86557413611095,40.31359853333323,40.122779935515815,39.47780052888883,45.20184628499999,47.443675613888814,49.75651566388902,46.53863219977514,35.81080717812176,29.224233383333317,28.17604158333328,27.55639776666659,25.820415766666585,26.022577083333235,28.39195474166668,25.41010607777775,27.608186866666706,30.467534144444315,36.397026445833276,51.67066351746012,55.54728964999982,58.33557608333313,53.89171193333308,49.72582159999971,47.798365733333284,46.61871554999986,46.6904630833332,45.24603505000022,51.53896270000033,52.654624466666995,52.345380816666854,51.48388155000027,43.29551166666667,35.06768795,34.42006406666654,39.14530103333332,34.07704244999998,30.260250733333493,30.019727800000087,30.15399191666657,31.231195640277637,33.74977020694449,33.05671845555566,43.24753236666673,52.635317236111135,51.10015751666682,46.673736083333196,44.52446914999985,41.73255900555548,39.68995573888888,39.85296801666656,41.23695585000015,50.018722606666536,50.53211912888882,51.12717732888895,51.10099971857151,41.55435674444442,33.171345216666644,32.40562645,30.982681433333404,27.181925283333225,25.130586733333296,25.834870511111085,24.992477695555593,31.692000936111203,37.60997863027786,31.289065166666752,44.06785785555531,44.157338285833355,48.716972555555856,46.31185986666665,46.8880268874998,42.78900604999989,41.29851647499988,40.73990249999993,41.45802941666675,49.30519771249997,47.84019478055566,49.08788930833347,47.3613926933333,37.55814883333327,29.605570200000113,28.67038571666674,26.535211666666594,24.553786591666636,23.57377120833327,25.369460200000024,25.224423258333328,22.52987934166673,28.252418433333375,28.65144491944441,35.19111088333336,44.29872731666674,45.50704292500013,43.81353551500013,42.39859126944434,41.75757670833343,41.18170388333337,41.13499585000007,43.27733373333347,47.353216198055655,50.873079799999886,52.11412712222225,50.6092152113494,36.60688492944438,27.718872327777763,27.63722221666672,28.160504933333318,27.27780984999993,30.031272799999773,23.31638967777783,30.70762119999997,27.68585681666655,31.122441708333227,29.029981533333356,39.874179400000116,33.201255169999946,32.772592166666605,35.36455261666654,40.4521231333332,38.680062166666566,34.86557531666688,34.092884816666796,34.054033566666604,29.69064616666683,32.28667239666663,33.29092091111102,32.7909909666665,32.35271441666646,29.322034900000112,29.312664500000167,28.899560044444513,25.69273646111108,26.734009166666578,25.311990777777723,28.16179869000002,31.889060583333343,42.58982067777745,48.24549079999973,51.990506419841374,54.063642411110955,56.28072123115095,51.34812326666633,48.51712863333302,46.73345440000008,45.71770535333335,46.75006820000001,46.27132481666671,50.640283375000166,51.20118863611124,49.62489656388877,50.95245356000008,39.48101163472223,33.621705233333316,33.28308746666654,32.13717918611118,31.777979519444457,31.714985736111128,32.589544125000025,32.379534636111146,32.7150524755556,38.1929262017857,41.97264251805541,51.49963491289672,52.9542626333333,57.761662683333235,51.661429899999895,46.27733723333311,43.48640875833328,40.75436492500011,40.97429022499999,45.65341571666648,52.14288121666663,51.88547538333336,52.367923016666666,52.605348700000064,43.876793149999955,35.70100426666685,35.20704476666668,35.62128609583328,33.751663466666564,33.58052991249982,33.734451379166515,24.30983500972228,27.21516044940488,29.57819831138893,31.4957479201854,44.978590825000175,51.58679486111114,56.59057113055547,46.179300326388855,44.494957252222,41.12607431805547,39.59942624857144,39.38810496662692,40.22147796523804,46.150193933333284,46.85668818888896,46.666627467777836,48.58211259444466,36.73099834472231,29.887207957777743,28.678817316666613,31.061025649999962,25.73655976666657,23.347013899999872,22.84785260428565,22.41564028222219,23.3282762544444,30.151478650000033,29.56735641666669,34.337655883333184,41.7542001499999,49.271963416666836,45.29247135000031,42.07743948531754,38.15487660555528,38.20034278333338,37.958290050000066,40.88978083333314,46.90644933333322,47.02723745000022,49.113487833333515,46.39528231666637,35.54894731015879,33.937988966666595,33.79500754999987,27.38545720000004,23.779060166666472,22.75024949999983,23.021795016666463,23.379120849999843,23.143872399999903,26.402353866666495,27.992481849999876,36.27732231666663,39.127723249999804,48.86425525000007,43.41669946666675,42.21803076190467,39.36230112678584,39.7288393666669,39.425637176666775,40.333952693749936,46.25242779999994,47.95787594097229,49.49890370111112,51.24035851666677,37.645609630555555,29.915319775079315,29.2708515166668,31.177350091666547,27.737715066666624,26.414661666666657,25.317483133333376,28.506227816666684,29.029011104166685,33.028563520833316,33.47485145888895,45.28384411666687,48.60314203333351,55.084636183333664,46.0254449833332,44.051365993055526,42.414816399999914,40.821996341666704,40.8664213223414,41.13788710833351,48.08359717777776,46.75850286666664,45.997972796666794,48.05945108722225,36.8241348380555,28.97014483333331,28.658515783333243,28.14088194999991,26.62984499999984,25.07775873333318,25.650206766666557,24.776264801666674,28.32582378333355,26.55695441666665,26.280387983333394,36.524206633333485,31.397894325833395,32.192165103055586,35.44320285833328,41.194962283333055,40.31446608333329,37.565834526666684,36.64150536666655,35.098004616666685,33.48673448611136,36.34908345785709,31.647722682856976,32.666694627857055,31.366439839523803,29.815778249999855,29.01685109999992,29.036666483333352,28.25862538000007,27.927084683333355,29.247034024999962,29.656633037777883,31.469528323134977,34.563188169246025,36.94156754027781,48.68189930666638,52.2130756833332,56.36429845000045,46.875821307698445,41.02549936150787,38.95067167999995,37.957023073333325,37.628407890873014,41.74764223861121,48.8017578344444,50.87519234500002,50.56897809166666,50.33135109694443,38.64316102353178,30.89396071666681,30.3744934166668,28.093860983333478,27.280264983333236,24.887476633333353,27.29198707916661,28.406813216666578,27.034484463889008,33.709152980555494,33.45381802194458,45.82310513749985,43.62971359166687,49.64277157337296,46.46571395833318,47.76324164861104,46.46729219999983,45.307478183333274,45.293745843333326,44.56695900999995,50.494113572222176,48.95798993888892,51.71598934999985,51.15497241388881,40.956796744444354,32.05869046666664,31.209447899999965,30.161017125277834,26.70884012206356,26.369969538730263,27.06251119428578,32.54625341055556,32.093165508426026,32.59014850833338,33.43559813888883,39.28316343888878,44.71022893333331,49.90668393333346,42.17921792499996,40.950727463888626,38.681539683333234,38.43932614999988,38.330121512777666,40.274886354801424,45.76749601583327,46.107942063888956,47.04505799111137,46.77313119166668,36.18312529793658,29.77976283333354,30.04279259999995,29.445735333333356,26.164722383333288,23.174001683333415,23.051297400000106,24.807305116666576,25.692414441666596,30.6183752416667,32.74914270952386,43.6908236250001,45.06393190000008,47.273775400000204,43.63678996083347,40.99881467916665,38.51587546666668,37.915368391666675,37.715996458333215,40.130179040833184,45.59889298999991,46.75189637000005,45.79126744583342,47.79978241861114,36.07207565666676,28.963315068888942,29.67820153333329,28.431446650000055,23.987786208333322,23.95685695999993,32.98012972541668,25.59366514444437,30.972434155555458,34.676160108333214,33.59635006777773,39.434729722222265,55.800674700000215,59.656856200000014,52.831385666666314,49.225811408333236,46.50212570000025,42.66553996666668,41.73087226666672,42.34777043333345,48.77393635888874,49.96843466666685,50.76584431666671,50.207605033333536,41.8438773833333,33.23648424999995,33.13868509999989,34.42310369999996,34.334233516666785,29.467865633333428,34.280695833333276,34.61805519999981,34.889746433333244,32.915471683333244,39.579095366666756,48.04497146666651,50.1276929166667,53.02122836666701,47.60621779999982,47.74264521666666,44.630138266666584,43.484954433333165,42.9128264833332,43.743787816666575,48.610206077777654,48.23795143999991,49.85978575000007,46.704557494444224,38.328989606944404,29.650393266666754,28.884921566666712,27.844028174999984,24.979884216666665,24.483972883333404,23.908914800000076,25.86087316666674,25.99011420000003,28.76169450416658,31.380680772500135,41.22416223333342,30.524495016666783,30.12439386666647,31.235633133333096,37.0970850999998,35.33264980000005,34.92660528333346,35.05779401666677,35.38749323333333,27.880503333333415,24.435896116666633,24.94264043333321,25.48800353333334,24.69447688333343,28.801029633333517,28.109540366666742,28.34273446666669,28.416243083333242,28.03917393333323,30.11388278333328,29.810066550000013,29.813588523333333,30.66275308611118,33.65177338555576,38.44997937698403,50.25911129999974,53.56948823222242,47.293961856666854,44.00498095833346,42.49326776527756,40.61715268777771,39.03496636888896,41.37766687916675,46.54726418833364,47.797775516666796,46.89064551488118,46.938028480793626,36.21441347166668,28.616968264444385,27.987324833333265,28.126112116666743,28.250202950000027,28.313617166666717,29.217557216666627,27.988514833333404,28.898642136666727,30.226950883333156,32.121767783333446,39.69494715388896,47.88133032916639,49.98717906849209,46.429574991666534,43.31422308261905,42.30742434845228,41.487420982499906,41.213912613055534,42.12091502373016,46.640743256666454,45.97376882222224,46.38033771952372,47.30280718670619,36.30310689436523,28.937880188888993,29.19334665000009,27.63362060369038,27.21377004166685,23.53218492499992,23.00288268333328,24.86333908777774,26.799803885000003,29.56481151166666,28.835491016111074,37.113138024444176,45.50300916583356,46.180195876111306,43.21713227797611,39.89311857638871,39.649899644444524,40.515574933333305,39.42121798297605,39.91904214527769,42.99315719999995,45.91734205833321,46.79576699166656,45.362478268253994,36.43420530027777,27.01484003333336,26.501092466666556,26.17637100833347,23.19555225000009,21.76035660277778,22.256880149999976,23.687445183333264,29.683869433333363,31.22435827222219,28.15231045305562,34.08864686365077,39.0714736508334,44.905214173888936,41.557196818333615,40.15153012722239,38.56491939166671,36.654172866666805,36.71159020107132,38.43768616666666,42.03953724027775,45.001657333333384,45.71719225833291,45.554269516666544,35.19698311757932,28.084085723333345,29.052163183333363,26.605690343333286,22.798845738888907,21.20650681166666,20.68402781666662,21.990160466666598,23.5929423333333,26.085439931944506,27.268112788888917,33.92622894472228,36.86429658317462,41.021134068730134,38.26098164142866,37.28213725166683,36.961020083333544,37.256007878333314,37.075941183333256,37.93190183333324,38.15036974999996,45.15562132500027,45.18009602083346,45.18492842777789,36.15766854722223,29.889306533333517,29.321076700000045,25.953988585833333,22.012791600000057,20.448022846666667,20.52371891194449,23.21380491388898,25.4599971722223,26.751584711111075,29.774362577777808,32.84119335333326,41.113511558055684,54.51026419444441,51.991864436111236,43.84965570416683,42.49384915250009,42.19165513472226,42.242222433333424,43.08057336666673,46.5175553405554,46.60135875000002,45.95980966666679,46.32039206000011,37.21511585555554,29.363754483333437,27.69851448333321,25.83011245000004,24.86675270833334,25.23120375666661,26.442967206944328,24.661732241666602,23.26658235,26.255179800000047,26.39301615000001,31.354589766666585,31.104787300000076,34.70082263333336,38.853667983333466,41.318480666666616,40.33296396666642,39.80200126333313,35.104997988333196,35.32750133000002,30.692426474999994,31.028428771111233,30.637556083333404,31.012492833333507,31.031595083333244,28.016787233333346,27.69718526666652,26.63871045000002,23.959725716666586,23.07801833333322,23.092636652777717,24.97824151507939,27.0128676944444,37.48511939126993,39.68654316944431,39.745762522222265,43.96001302750004,51.08158915416627,44.06231919166651,42.202723549999924,39.87244074999999,39.84426099999998,38.94688018333334,39.33993046666668,45.6227064519445,48.465038766666844,49.22979835555565,51.81557255277775,36.080998835972146,28.25447171666663,28.459142316666664,29.547178362500187,26.096921230833424,23.5101265183334,24.29210448658732,24.781365352777815,25.542246,29.841800779801538,31.579958693055648,37.72389167468242,47.78402743333337,47.404088560555415,45.32729753388876,41.59663250369046,39.93667805555574,39.70638371888896,39.850464213055595,40.79237209916663,40.730337774999946,45.235243000000146,46.215695383333475,47.21275480000019,35.82999243361109,29.13287228333336,28.456958400000005,27.725769562499966,23.8813931333333,22.427995708333302,23.018249408333276,25.120208450000014,28.22947524999997,34.117488100000116,36.58494630999999,39.99135157999998,46.25141279916669,43.76948678361115,41.46614337837308,41.03784412916655,40.19623098333323,37.941554468015966,37.87007240555548,38.16095694,41.831894727222426,47.843723733333526,48.89183946666684,48.57171183333351,35.1159205177778,29.396046866666694,28.56479183333328,29.24470220833321,22.31044356666668,20.136426216666596,20.902541463333296,21.338902433333377,24.05199615000008,26.74122135833316,28.442693850000087,32.637714914523805,37.81078066249979,43.69648736666678,42.693419891111276,40.3512952516668,38.710458716666764,36.93436955833341,37.01124344347231,36.876889860416796,44.75458302944431,45.1508982527779,45.38819605833354,45.326685716666766,34.84763038940468,27.88804690000003,27.127311816666584,28.37204409999984,22.77162805000002,20.473803714999963,20.601044317103117,21.274693370634964,22.3981932777778,25.740693083333447,29.220684660000003,38.129581494999925,36.62607309277777,42.425167111111065,39.308178233333116,40.16585377750004,38.985296069999954,37.635501927777774,37.353378530555446,37.56112086666641,39.52573183638881,43.69728783333351,44.37112948333334,44.60991105000009,35.68573268055558,27.198898183333302,27.183688099999834,27.35623569999997,23.273840037499937,21.341577294047557,22.12758462559516,21.852821384722223,22.242111033333387,25.356803650000167,25.696762600000145,31.916083599999812,44.85207370000012,51.953841349999855,48.952305566666794,42.57724107500008,39.97300173333333,38.27208456666666,37.7709258666666,38.40734978333326,42.44576981388888,45.03735076666656,44.4931039499998,44.465306533333184,39.56944775000007,28.940567333333277,27.454503933333147,27.77249898333322,25.16242073333334,25.34843958333331,25.580590483333292,26.06721828333321,27.19315648333317,30.03209026666664,32.26834601666646,37.06003361666666,35.4310735166667,35.67828746666666,38.117012916666795,42.64009010000014,40.92836656666661,37.49545007571422,35.41609011666666,34.69653103333345,29.781018720833266,26.76629773333319,26.94796568333328,27.60627745000006,27.615477450000007,27.609627450000072,28.69143794999996,28.32119230000004,27.354864979166862,23.939596933333227,25.14149028888878,30.297919150000027,31.350139925000214,32.1329179841668,33.481797848055585,39.418340425000004,42.89223427416676,46.155397580674546,42.10951720222219,39.70524449499978,39.77672085833343,38.59201760257948,37.234627156044944,37.544534292857186,43.62650268333334,45.62464806666645,45.76705153888873,46.677234166666686,36.38344913408735,28.812092300000177,27.583912516666604,30.35646582000011,28.158457866666826,25.623359885555548,29.83236813333354,28.464550822222403,26.023552066666586,31.836051196944435,37.47633033194441,37.225696842222234,39.1888068750792,45.94828521416707,42.9701092819443,43.19724422083318,41.02669362222216,38.40159385555539,37.90800837126947,37.59746381305548,42.07524361666645,45.44011701666662,49.04656862777808,46.78327887777786,35.48557520662721,29.506197716666716,29.001664266666683,26.78206874999989,23.09027353333335,23.513688819166713,22.5992532958333,22.939962249999887,26.749884783333318,31.610413022222144,30.444657466666598,34.38133772750005,39.5914800405554,45.141232010555505,43.327069162777796,39.75599282444449,39.10642457666673,37.86177239500015,37.569517248492204,38.26472086777787,45.86175063305555,47.37077438333361,47.25587256666682,46.307565933333564,35.26065586458343,27.512744250000033,27.172574416666652,28.306061284999863,23.782016466666633,20.508629049880973,20.5086498668254,21.868112525000107,23.10659213333348,25.07071309999989,26.81378978333335,32.49393648166679,38.38885153480143,43.68366007055585,41.33209385416659,38.6625950375002,38.01162948888875,37.82480824182542,36.32359504611115,38.2084995427777,43.81782459166671,46.549864556944335,46.0379422333331,45.44189662944453,35.31794198888892,29.11930696666671,27.46141535,28.69092941666668,24.146850199999978,21.151564113888867,22.939982395833304,22.128775283333386,23.903377472222296,30.436616099999977,31.779943791111148,31.853272466666546,35.02720225305565,41.59838314333304,40.89503023083356,38.93146360000006,37.56025010500012,37.26639980694458,36.210990999999794,36.91409333333342,40.60330878182528,45.625388352777804,45.437916679166634,45.479209866666714,35.7340852641667,27.523911700000138,26.972324683333312,26.17521876666663,23.27680081666658,20.427792183333366,20.67563186666656,22.153242749999993,23.658776800000055,29.172071505555706,30.84316204999995,35.32564239166662,39.7886377775001,49.069946755952415,46.043068391666814,41.507190291666774,39.418138494166804,40.57702301000012,39.87830523638889,38.266698927777796,43.443312092222044,48.09610053333313,46.48729768333332,46.64077092777769,37.14965020079359,29.6579065500002,27.895891550000137,25.88442270833334,27.58120456666663,27.94830518333326,28.404734266666576,28.59364260000006,28.198397000000057,29.837887684920688,31.59095080119064,38.25473392166655,38.57282579999988,36.00365613333327,39.01943355000002,40.251988166666614,38.06485248333337,35.90755463666675,35.66433331249991,37.874343447023655,31.93500603333339,26.943411925000145,29.577084650000124,30.017831716666674,29.55438643571417,29.033592577777767,28.969646449999853,28.039525937500017,25.678063066666613,22.339591066666525,24.115085627777663,28.076471683333363,24.8377483333333,32.018004100992044,37.27570274126993,42.59701604277782,45.74714489480148,48.65267122500012,44.34077655666675,41.96891133333329,40.6331329500001,38.8903992500002,38.83671694583348,39.68407143750014,43.450261800000156,46.86343510000002,47.768709416666596,45.99076176944425,36.283521452465784,28.437326466666644,27.481046316666625,26.663263425000093,23.704546683333298,23.400790783333306,21.994898716666558,25.474817000000108,28.347997916666653,29.434892866666623,35.138108516666776,31.804985091269547,42.141373760277645,45.560801021666734,42.23559847499993,39.35861713611113,38.64142624166694,38.71133235000007,37.112268214166534,38.398821485833345,43.199253086666545,49.7369075055553,46.19818942880939,46.87770665555557,36.61828407111117,29.27378985000002,29.06199451666659,28.21774256499993,25.400072400000024,24.053570133333217,23.828298166666585,26.1294599499999,27.036694316666622,28.899640826388975,30.18271015305561,37.69158207249989,39.391220249999854,45.19951648253983,44.077558702777786,45.49291175583354,46.814325513888875,46.897412266666784,45.351729041666616,46.47877665833322,43.70862946666653,52.04031949999967,53.97211586666683,50.27945767777767,37.474212903889004,29.025970166666685,28.217090966666515,26.38320964999997,23.252733083333258,21.771094656666612,22.47141506666662,26.45303223333324,25.02476406666669,27.236018883333415,28.319242423889023,37.175327894722045,36.392389629444416,43.87319661666651,41.48713826777773,39.77762676833331,39.957739866666714,40.138695580555506,40.27973890000002,40.6385939333334,44.70692241944453,44.83461644444455,44.86353743333339,45.63575695000008,37.5321579483333,31.891025949999964,30.84023614999989,27.40296352499988,23.86395169166666,22.076834550555564,21.506176004166672,23.641208650000017,28.130094000000145,29.63806285000001,28.89656963999985,30.920953816666536,38.51077410388888,43.28439243055544,39.40445695000021,39.68004673333329,38.545631700000115,36.62430772805562,36.3542257972223,37.14392474999996,43.1354249833332,48.23918558333358,48.94076488333327,45.585834900000066,35.10097291972227,29.245204016666715,28.88389811666671,27.863186716666608,23.218462266666783,20.755549050000113,21.09762439999992,21.901475116666646,28.365315700000128,28.32544985000001,27.08072153888896,37.29831615333309,39.78461106222231,42.225111560912644,39.74193425833329,38.74265904999994,38.46670664444441,37.965455841666554,40.67387500833322,41.10735530555551,47.14821126805533,51.55855166944421,50.86819161111096,48.831488344444516,35.95848903611125,28.72185208333345,28.143757099999874,26.444699316666686,23.204201015833306,21.58443460448411,21.548163058611138,22.976872800000006,23.127938555555538,25.918007688888917,29.659790916666644,32.91488412333323,35.916339666666744,37.673533183333326,38.01125198333334,39.61263830000001,38.70952441666673,36.009036267500015,35.30613738583333,35.9482920666666,30.689414473611176,29.20503117678574,28.558650950119027,28.83890003071437,28.372050415555492,30.23567608333337,30.115478399999972,28.977690716666697,25.097378466666697,24.185184983333368,24.812630397777813,26.889798361111048,29.905394663888806,37.08682672400798,42.15869879027786,46.317320466666665,48.12608274722196,49.76411598333341,43.69862730626984,40.96293256908731,38.63225504861135,36.714796081944634,37.66839513666678,37.9382687865873,41.97223996666648,46.69238776666673,45.11860505000001,45.41416966666663,36.219911867222336,27.69265050000001,26.526436900000018,26.54459724603176,23.45560308194457,21.615408910277832,23.805876422777857,24.94069970198423,26.97479559583343,29.60089105444446,27.32552926111096,34.74339159111095,36.38165377777776,43.99253997777766,42.95631222222228,41.71375690000014,38.84728345000008,38.53582724166671,37.48494330800255,39.5345220018516,46.01600181111099,44.9112630816666,44.98859811111117,45.100970594444384,35.83340100378967,29.43458393333332,28.75194136666667,27.50071426666657,23.18390249999998,21.58908033333323,21.422984116666605,22.44418076555543,28.32148106888893,28.78068153999992,29.053311072777834,34.868646552222,40.7922204233334,43.57878662750033,38.97380140000002,38.85244969583324,38.04009306666671,36.22889347666669,35.6154691388891,38.033068433333554,45.342286933333035,45.10248223333334,44.58072963333324,44.27605639999997,35.883233531666896,28.181654755555794,28.183968050000153,21.77484808333325,18.819454633333446,18.612054466666674,18.560450950000025,19.28928782777779,23.19061420000011,24.463087130555575,24.382059654166696,34.49353448333337,38.99166115503952,44.05914423333314,40.68200894166673,38.022752525000016,36.979808366666724,35.830441733333444,35.64084355000016,35.853703550000134,45.76830139599219,43.202834550000304,43.66825177499999,43.79283922777781,33.82309738944441,26.66434665,26.298198216666623,24.808492616666715,21.66514173333335,20.50286993333338,22.309265233333385,23.279341772222256,27.665871716666775,27.482413400000148,31.386363660000104,33.25452691047622,36.23963569682545,44.442632891666484,43.62143629944442,40.58361281833334,40.24206207916682,38.996496566666856,38.769977383333334,39.443694566666615,46.36923029444448,45.233946368055626,44.63493170000005,44.7214186500002,35.81841839444449,27.96106498333341,27.159705799999937,26.468949733333364,25.009820738888905,24.5321298544445,25.444359443611177,25.442728878333348,25.569912383333396,26.998060900000056,28.280582083333226,36.860933275,42.299868922222224,51.444423244444195,48.48120556666678,43.197940166666896,39.11722996111129,38.69683341111123,40.8853675337301,42.39434680000004,41.37758508055566,43.887804258333304,42.5336007083333,44.91207000000001,34.77637270555554,27.072826333333378,25.032722116666665,22.718771966666733,20.12525211666667,20.008802872222198,20.049300633333292,20.622908183333283,20.44888581666662,20.75905554999995,21.266402577777754,26.636315515555452,23.774796599444464,25.617352192380995,31.296951099999806,32.611757166666656,32.85377879999999,32.41910500000017,32.50487578333344,33.828888849999956,29.88698865000002,22.827737750000047,24.636693900000125,25.263285914999965,24.3529085166667,25.613946416666614,25.931178583333335,23.508926733333407,24.88188990000006,20.71473868722222,24.698419666666688,26.36502471412703,27.58628967916666,30.53478225000015,21.411860608240726,24.405845913690456,35.27969329166658,36.60228870166685,35.69006544583347,36.520444277222246,36.795059591111055,37.113628546388725,37.57210535694428,37.98189741944428,41.61830868888895,41.03519983222216,47.4414902833332,47.048410366666545,33.0306618333334,27.25621515000014,25.57140076666671,24.150163133333407,19.963694900000014,18.6237472333333,18.57027933333327,19.083358972222136,19.774996166666607,21.479835830952396,20.915385714999957,24.25781382222223,27.52260559166676,35.810881636111176,35.74367524166658,34.760367911389054,35.57994227083334,35.85335489999979,35.279864816666894,36.694339433333276,37.43924067555544,39.38116425404769,43.39611008333333,43.26824073333322,33.647551950000064,25.17022958333338,24.018507383333336,22.091520883333388,18.387894416666626,17.243427083333266,17.226640783333277,17.28398886666663,22.533728999999983,24.80276075000016,24.90480441944452,34.03457733916657,41.28664815416647,47.20322663333324,44.403407591666706,42.28628767083337,42.401854038889084,40.61239825555582,40.662051549999724,40.80216126666667,41.70611675499998,47.24580430847245,44.8836362694444,44.86945395555567,34.30698386972231,26.477978000000036,25.26442239999993,25.80029302500007,24.106608333333362,23.371034450000057,24.210539100000005,24.0175456666667,25.80701378333341,28.21444769444447,26.415810963888905,35.8808904933333,40.92546939583315,44.9280091583332,44.12566608333343,43.02692063333352,40.44181088888902,40.95660916666688,40.55786811666654,39.81914310138887,37.71506720000008,52.491298283333535,48.165278399999885,47.17641901666683,34.71960903833344,28.435965966666586,28.26053243333327,25.727918258333442,23.094685013889,21.765923405000045,22.82887815833336,24.463167016666695,27.404260966666683,27.217926187500122,27.65156208750011,26.400906162896906,32.03991562476185,36.69343210583322,36.30487400686511,36.46078362079361,36.23152888559524,36.27426724611113,36.3804242736112,36.5508415027779,38.19920218940477,37.064598724999954,42.408899163333345,44.67421015999971,34.14912705000006,26.892194483333327,26.331572533333254,25.419968266666743,23.875518695000174,20.90396529944459,23.688060499999978,23.900132366666597,24.091224799999946,24.802635372499967,20.32206368333334,27.76295639722208,28.235776530000052,36.425066458888814,35.639990450000006,35.765786286111194,36.027704887500235,37.259966550000186,38.13719590486104,40.40581391111102,37.0209666549207,37.22683409000009,42.901224107658564,43.07918821333328,32.35174772277775,24.782170709999967,23.504933000000094,22.23371116666667,17.46525438333319,15.514222166666716,15.577319050000003,19.434836666666747,18.31941724833327,17.90616167999996,18.609435064682536,20.403737266666816,22.021576281111198,23.14125043750002,34.428722549999925,30.457889216666786,32.7106143333333,32.784023633333355,32.961118816666726,25.13893915666677,24.238251266666655,25.032449816666627,26.305350483333356,27.096858766666763,26.777351333333353,23.134160333333426,21.83911312500008,19.32136224999995,18.68952661666667,19.137244316666663,19.43737343333336,19.841195466666672,21.908968743333297,22.22050102718246,28.795266200793613,27.52606970500008,37.01021290833339,37.92690052583328,36.69714654158735,36.85219331968258,38.47188485111093,37.564616995317316,38.69573888706363,37.295974701111,39.43459090972217,40.13861175000001,43.17953928333337,32.531488433333415,25.435862416666748,25.57334029999983,23.297456383333298,18.919959366666628,17.52876475000005,17.697064183333364,17.9692796666667,18.68010786666671,21.087863176111046,20.974790705952298,24.51330908888874,30.183976817857044,35.513868686904964,36.6853794754099,37.7819440372219,37.090956827500094,37.02378793888888,45.04297824444427,45.38707707861097,37.65026397027769,37.50094378499996,41.03899004999997,44.06865881666653,32.16556371666665,25.67686796666681,23.52358031666662,22.530458365873073,19.18653268888893,17.173673416666666,17.332201849999997,18.044374733333335,19.087064466666597,21.921397683333375,22.530503112777808,25.45197106805565,27.31085368333334,35.55281895250014,37.009554106904716,37.48208179107146,36.796943297619094,37.55909006666667,37.36860857444451,36.23282444646829,36.763827462817375,37.52436725428558,41.3399852875001,42.62460558555546,32.5639895166668,24.99521856666671,24.015130633333296,25.573564500000213,22.699070883333416,19.759879833333404,20.041225316666615,20.287254333333333,20.375784916666657,23.096304983333294,21.60593645000011,22.168233943333515,27.480661066666794,33.999310750000134,32.519348039999926,33.091969056944635,35.239607384563456,34.94838442347232,35.330955660833446,35.15355976944414,36.52101333130949,37.55009192607153,40.82969495559529,42.836647027777765,32.39925231626987,24.993179205555425,23.521008800000075,22.915162377777825,18.751982883333373,16.646009016666675,16.739081233333344,20.73552770000009,19.44806066666667,19.832795967777802,20.732903837777805,22.380324964285784,28.236510562500136,35.82474509250001,36.18510719750003,36.84764694999982,36.30722277500023,36.8424095683333,36.561497206865035,38.05571476648151,36.56403191249996,37.91127079750001,41.512007589999975,42.746617601666756,32.60269770555541,24.516066416666533,23.693248666666655,22.42866210000003,19.581465247222184,18.91731213027776,19.34823890000002,19.02456726666676,19.5584948666667,20.20936354999999,20.81103859761904,21.59091885555558,28.21078346666678,35.00674784944436,35.773894071270014,36.07702596833343,36.15537343166695,37.22002976666654,38.13676554444434,37.884639760833494,38.52536026166662,41.58101294874983,42.76263830166677,43.04848756666648,32.82271616166665,25.110566216666577,23.037068316666662,22.275274518055575,19.22604393055558,18.91413502813491,18.99629878750001,19.42856435000007,19.437867616666747,18.658310183333327,19.20340869000004,21.357565856150682,28.070291944166648,21.051207619444394,26.57822110833326,32.769622883333206,33.04763768333317,28.26941428611113,26.95572986805559,26.3952855763889,22.455889833333245,21.25913921666668,18.80004966666664,23.80845132222232,23.643494616666743,23.094619966666635,25.533307166666756,25.91467786333344,22.751565581666732,21.424508345000067,22.947443488888972,23.221588712222307,23.678012627777807,24.00878740000008,25.95394966111117,34.82065407999993,48.396901263889056,47.368820141388824,43.5737647053173,42.30575013333335,39.50618650000007,36.762543883333414,36.486641683333445,37.24717120555565,36.473472881944495,40.35029690972228,44.622237027777885,45.52893724166676,33.42094978194447,25.78175458333328,26.199043149999937,25.053610074722233,24.862937899999963,23.218931330555606,24.068867437222213,22.564876350555572,25.046001584999935,26.843257488611133,26.615222412777822,36.16207676111104,39.914290716468166,44.62372004694444,41.475260927777725,36.92225050583337,37.02818289666672,37.33769289999994,37.30092987083329,38.90007818999996,38.42977466111116,41.38942698333329,46.01181784999981,45.66309333666674,36.05264400037061,28.647453049999957,26.546500999999953,25.15078795555562,27.10186301666668,27.12132936666666,26.885646030555552,27.970811494444504,27.40566151666672,27.993852123611056,28.710937545833442,23.326556281944402,35.64055382500007,36.38609862499994,36.66223399555549,36.68559791083338,36.540105536111156,35.975916816666505,35.54880524861097,36.98380012666659,36.596023005793555,37.37274535666664,41.79146487916674,43.761119428730204,33.69205195000006,26.00889938888896,26.366185766666554,23.941486862777783,21.374710900000046,19.27010902500006,19.05471500000002,20.274520233333313,19.192596066666706,20.434787870079393,20.379634756111127,21.665922052777848,28.44371390000004,36.804935103333285,35.420866241666594,35.8452380766667,35.68215550206342,35.21472147000006,35.62940363444447,35.87293510333342,36.25215484999994,37.40572004404755,42.90453257999985,41.75601746999988,32.946315295833415,24.66326167222212,23.698298299999895,22.160301610000054,19.18181607500003,19.186417199999983,19.88323033333328,19.434247399999943,19.864248066666665,20.400940388888884,20.332060508333356,22.241151700000003,27.93264745000016,35.54475930833311,35.284028472222474,35.58730949166657,36.18101739781752,36.52515852777761,37.68977355000004,37.75533077500005,38.32326498333328,36.58212891361102,41.02281860999979,43.06285670666647,32.35613670369053,24.342756216666494,23.150111866666762,21.849887548611207,18.59537543333332,21.029755481269966,19.89049876666669,22.502193777777926,19.460960016666693,19.917703325277778,19.22218073666669,20.2543096416665,27.320117716666836,35.26948587499984,35.653210239166576,36.07976721166659,36.795446644682656,37.53709310916667,37.61058965134923,39.19899956630952,39.0884277935714,39.96318742472228,42.811875169444555,43.328747981746005,33.341676920555464,24.09938458388881,23.131720150000085,21.86928510000016,18.10676571666667,16.517989749999927,16.44033383333326,16.871243066666676,16.755807016666683,18.687005849999984,18.699863799999957,21.055217388452373,20.74067193333339,21.83029485000002,27.182937383333375,32.31371033666676,34.068148376865125,41.39988031666677,41.804855503611265,41.90738555194461,27.554803491666757,20.797847966666595,23.305691791666675,30.169669141110948,30.205923999999897,26.435315016666554,24.687114649999838,22.68132744499997,18.14563804999994,16.238003849999924,16.177191116666645,16.52894214999998,16.976430516666635,21.319017209999995,19.903299794999942,24.22425519444445,29.78185362499988,36.676560118611164,36.68134399361112,36.71650903444444,37.565683101388984,37.70093937333315,40.49902076749995,38.70573672666677,39.42183774472213,38.4869604794444,42.44688960000012,44.47897843333313,32.43850713333329,24.908659877777822,23.733059500000017,22.583848200000016,19.299979049999944,18.779656016666614,18.057224383333313,18.046761758333336,18.429901699999995,19.97074755111116,20.23753449492058,25.490068812063413,28.207314149166635,36.33568733555559,38.08086504388867,36.522407254206364,37.11913317361098,37.85403979031743,42.14788469380935,44.227324509999875,39.09212711111107,38.676246686666545,43.05958808333353,43.564289280555435,33.74323698333348,24.757679850000116,23.90717759999995,22.834092511944522,20.28483988194453,19.122435033333353,18.79095354999993,21.26349329999996,21.805240666666595,20.808535176111125,20.453688451750068,22.614542435555645,29.077982575000036,35.85001063749997,35.634724213055584,35.748271003333386,35.83543284916682,35.54261033166656,35.421264398333264,35.640026990555654,36.239747893055565,36.56517777555558,42.135800053016034,43.32540741666677,32.20936115888891,24.915804424999884,23.479588793333342,22.907648125277767,19.225882765277813,18.941023915555554,18.194886791666757,18.810424341666764,18.99623915833334,20.332490516666525,20.30629059999996,21.947623061111102,27.9059028333334,33.54794878539684,34.29997211611115,34.47253125194448,33.88633553091276,33.99322941666681,36.78772801472216,36.23890823500018,37.97443545583329,38.526713494999974,42.81148054499997,43.20699668333335,32.538625968809406,24.586256427777716,23.441639483333297,21.857319655555546,18.74503008888888,18.100106033333255,18.50775548333331,18.19139328333327,18.148871183333263,20.2232920877778,20.53965997333333,21.685860394444372,27.498425550000054,35.66851730333326,35.911273783889115,36.60814745182537,36.852138052777946,37.54674360555573,37.52609313333345,37.69092640000021,38.605512566666505,36.65236103027792,41.34457947071449,43.16318993333334,33.1252624922222,24.61046287222228,23.356353833333447,22.167992149999968,17.747604949999847,15.819962233333385,15.784562066666743,16.667420166666698,16.33228020000007,17.724898779999943,18.537474100000026,22.336578277499974,28.83775910000004,39.35634125000008,39.62506666666673,40.96240958079375,44.0952173291667,46.19221364166692,46.48071766666694,45.99444823333355,42.89326169861115,42.75806788750001,41.57746912166681,42.459587239166765,32.88953660833338,24.33411645476191,23.03729266666664,21.7992932666667,17.604605952777824,15.907322850000064,15.72269211666675,15.664183150000033,16.079916900000036,16.016085633333265,16.00695896666663,18.366120932500035,20.525736566666776,22.922016408333267,25.495289250000184,37.5615314666667,37.99033006666671,40.63032231666677,41.13245471666678,40.943785316666784,27.574922358333367,19.05642024999999,17.20732584999994,23.081766366666773,24.018130366666632,22.76861025444438,22.679135283333316,21.62719661666686,18.528175366666634,17.02432068333336,16.98082463333338,16.34176728333339,16.112742116666627,19.47442721666665,18.52148428333328,23.592414456944518,34.31493566305555,35.33061802047635,35.15327917638891,35.64828610277777,36.96229822222218,37.689252127777685,38.08608348333331,38.01259666833339,38.1283899430556,38.817967995833385,41.193679575000225,50.04589954444427,32.75550153888885,24.499748483333402,22.883006283333355,21.877448016666744,18.173360333333314,15.648346249999936,15.647047999999975,15.682973600000018,16.102826266666696,19.461889416666693,19.54872080444446,28.002143101587354,37.39552068095249,43.014079602222246,37.512209847222344,37.16134294444452,36.70845880555572,36.08821155555565,36.644936133888905,36.63447288722221,35.933949299999895,43.35505797222219,39.2210303333334,45.65392763333327,33.81832092000016,25.637907727777808,23.51580763333321,22.26765411666676,18.86720305000003,16.654597216666634,16.240523799999934,16.702116583333293,16.940465116666626,19.5756437666667,19.36543208916665,21.418382055595306,27.429174114166536,35.33083593333342,35.452438540277825,36.31853189226193,37.72196804277786,37.99470860055553,38.65940535138907,38.206777972222504,38.86472390694474,38.89565454166698,40.07949388333325,45.413909786111105,33.75498849749972,25.569613355555468,24.00216028222209,22.263684768055548,18.46943774999993,15.816728250000034,16.02426659999999,16.01059693333334,15.847268483333233,19.923936867777805,19.12487547666661,20.67935126111116,27.593400533333345,35.56601844444439,36.05988604999994,36.43006714583342,40.97265936111117,43.08394313111129,38.21074599861137,37.74183550194466,42.435913659999976,40.54191508638888,42.389576543333305,47.121357630753735,33.54151680051595,24.648561742460377,23.699948131944417,22.38925385000003,18.69484786666661,15.95124516666669,15.912652966666688,16.00869143333337,16.169074699999992,19.46184078333335,18.4721938055555,21.359980763888874,27.382886566666727,35.74258788277781,36.22506038777792,36.61593432777781,36.635234811944535,37.36020444999999,37.90061524361116,38.27152029222233,37.24311464750003,36.3623148055553,40.089570177777745,43.317393634166486,37.03432158888889,25.084109000000122,27.245762800000026,22.70698793055556,19.312910413888865,17.240372254166683,16.812669283333335,16.861492466666682,18.045051166666696,20.049173441666692,20.56458715000004,30.380656583333362,39.23436363888895,35.895139633333486,35.63186879166685,35.61172675000017,36.58461335555562,37.133837119444365,37.853333511944314,38.33240534321421,37.339823369444495,36.894636525039566,37.764205495317334,42.995986657499806,32.22634457722204,25.150029033333333,24.715367966666644,22.65932951666655,18.10902938809525,16.19797786666666,16.22840983333332,16.46219298333337,18.37592990000005,17.63530274999997,17.758552603333342,26.306448030833177,26.061732301666687,21.654976941666554,26.259023408333235,32.2708781833333,33.77199121666654,34.071625611111024,34.5515326613492,34.619620666666606,24.922332593333348,17.73351733333339,20.443447411111087,26.788663160634815,24.04106787222229,23.330896799999994,22.761620800000017,21.825080100000097,18.72594663333329,16.89874534999999,16.887405566666658,17.000763266666667,17.80179454999999,21.27406021666674,20.901154649206337,29.421162066944355,28.422796849999756,35.3354314694444,36.251688353849026,36.85718652444444,37.446465659722165,38.50495703888872,39.1176290349999,39.19106322777761,39.128488298333174,38.74577414722206,40.36123383555556,45.276999509682774,33.25215167972235,24.406505096825523,23.476712033333268,22.050863799999956,19.46237484999993,16.96089303333335,16.568271816666613,16.970262149999982,17.20425559999997,20.48072788999999,18.605204349999994,22.223536626944444,28.101749260555586,36.23465744555557,37.28422091666657,42.77647964087966,43.3590251641667,45.391645058333246,46.509687916666564,45.457322093333325,44.16709784583331,44.0953459169444,45.942867014722275,45.27942310817456,34.073727999444536,25.428535522222436,24.620073390277646,22.164596984722188,19.233336300000154,16.562684649999877,16.601265883333227,16.567136033333316,16.207204933333376,20.236168449999887,19.034875283333296,22.123930672857263,28.406811611111262,36.80487061488101,39.65916827484126,43.013852713888724,43.08925771111117,41.28306923749989,40.51209536166657,41.576284978809454,40.833493508333255,41.96783615027776,42.44789740888865,44.04099961166656,33.96081385555537,25.712117567142663,23.987795872579365,22.529540791666633,18.811791548611094,16.79953098333328,17.67777633333328,16.561559766666658,16.699926366666677,20.860503266666587,19.125901322222248,22.251851395277708,29.721737356666637,38.11135637249987,36.923653889166744,35.59327050944444,36.308236874999864,36.870059030555424,37.019843859722286,37.592709176388915,38.51274821833334,38.5704296132143,38.27758475408723,43.9363089388888,33.721770413412486,24.653983359444563,23.66376384999988,22.61558815694447,18.31503077777777,16.26681656111112,16.151364977777813,16.076100583333382,16.363231149999976,19.821209250000024,19.378999450000002,21.15350121019837,27.478696277499957,36.65751898388878,36.63866654444437,36.02792038750003,36.264952599127035,36.670190318055546,36.99976891388892,37.38088489444438,37.48832872500001,36.73073958972212,37.22753493055553,42.22089625000014,32.72219298277763,24.320002315158725,23.241000633333268,22.26150351666662,18.383129391666685,16.07079360000002,15.938896433333401,15.78563566666669,15.966006183333377,17.63612443333329,17.107855533333293,21.827114788889002,29.263917730000024,37.154866140634866,37.183009847261815,37.60983601194443,36.423580707341394,36.57272929500001,37.39389603999996,37.86716109277779,37.44761141111108,37.44022500888894,37.3395725333333,43.25322326166656,32.17257332916647,24.421074333333287,23.453693150000092,23.126577833333393,18.395031966666668,16.20212271666673,16.355923450000017,16.263792966666706,16.518774433333274,16.690752049999983,17.567658266666754,19.686776075000047,20.09940966666679,20.123556269047643,28.917217858333167,33.935446499999976,31.788512800000156,31.779643783333295,31.70001206666672,31.643058800000137,25.263770299999972,18.032473233333288,18.667366983333345,23.867171381111255,24.06710324777792,25.986515399999924,22.418419666666743,21.67108443638891,18.306502883333287,15.835666383333287,15.845187750000015,16.035135266666714,16.801226116666633,19.552902916666703,19.808038383333347,25.723262150000036,28.347763466666667,35.941076033333374,35.52006615305576,35.45000331666682,35.7188144500002,36.6152318250001,38.09893841666668,38.160549388055536,39.12514513666664,38.62299605261907,39.891372966666765,43.823940056666515,32.23231740000014,24.53304030000003,23.13458666666655,22.103837866666687,18.85013240000001,16.617555733333287,16.98481001666665,17.671603050000087,17.24365555,20.178300950000047,22.080728611111002,21.809590357222284,27.64265590083335,36.234839926666844,36.5466939166668,36.83563916888889,38.52351574638893,39.60578908833315,41.84441661960324,40.110290188611174,38.6765574780556,38.570054488769806,40.870659053333426,45.05965831666661,32.79864122896821,24.37990331611114,23.653472016666598,22.386771216666578,18.60668277500002,15.959672100000013,16.18398719999998,16.487584033333306,16.5051480333333,19.387855605555558,18.197331583333256,21.624704523333307,27.879945216666595,35.849768200000106,36.54122566666663,36.99183655277774,37.75050458749996,37.56170313027773,37.51547461500007,37.3420088541668,37.0172248111114,37.146307555555865,39.2970917000002,43.82394187333331,32.64621817083347,23.928228588889088,23.974797199999948,22.41790669999997,18.867497188194452,16.638660733333396,16.09795690000006,16.19600840000001,16.499136400000012,21.425028483333318,19.3172120266667,22.65010563749994,28.4998315333332,36.010581360000145,36.190933683333455,36.37475757916682,36.35770255916686,36.251853006944394,36.60618106333345,36.712351154444775,36.827389279484,37.587687162222174,38.821191549444684,44.66772268888906,32.27720331111092,24.278556820555654,23.246531266666526,21.99701914999997,19.057701465833293,18.35381608333334,17.12751028333332,16.975632783333328,17.41520071666666,21.221972133333367,23.045944549999998,22.147256661111108,28.32744651666665,37.01173211666673,37.10513593333334,36.93540923194444,36.71121697861119,37.031977634444516,36.193230203333336,38.7306460485714,38.39858687021824,37.3499826301985,38.80471855833323,43.60666080027769,32.44327635349192,24.193750067936506,23.104079449999936,22.14617915000012,18.603206968333385,22.743857600000013,21.620496083333453,19.45018308333339,17.158700866666713,19.012699666666624,18.45997803333329,21.58693741944439,27.980541677777715,37.90411803222213,38.14371538833328,38.65739408888895,39.230439333333386,39.48373730416678,40.297554100000056,40.692159473809504,40.468474779444385,40.2268319294446,43.08551967138891,44.665007872222226,33.402626160555656,24.99496955166674,24.24328132249991,21.88069711666664,18.092920558333326,17.070936633333343,16.798273216666683,16.561819116666666,16.54556768333332,16.546870099047617,16.871057167380975,17.850239107460297,19.800951183333453,20.550881441111144,26.298639972222297,34.66151730000015,37.44717507500014,37.96375519253975,32.49957123333329,33.955066961111235,24.17971995833336,20.37565541666659,19.30382393333332,20.206002226111103,23.394241498888793,23.28790251666653,23.31368673333335,22.25981026666663,20.004719899999884,19.00486300000002,21.748883500000055,22.4228084166667,22.963464483333365,20.786623749999944,18.46061956666667,23.29141606305571,30.695512897222226,41.66030271666669,43.97085176666687,43.2225154255556,45.19048452833349,46.3146110328176,46.05891223055546,45.71159960833318,46.12834253333329,44.67140943499998,44.43134113138884,46.63644773694433,33.43291083119061,24.97186920833348,24.064276116666715,22.67319034999992,18.941225599999957,16.552842900000044,16.978094400000025,16.481158416666695,16.176034416666656,19.67670373333328,18.47017411111114,22.762415692222213,30.684160404166747,40.504776650000046,41.72392562027772,40.892671921110974,41.476359808333406,42.325460475000035,43.05253064166679,43.51335891944428,44.70005637833323,43.51151576388861,42.496932974721894,46.067807424999984,33.28710540111124,24.28080853444456,23.781918014722052,22.31317416499997,18.832444449999926,16.320346400000034,16.141557316666653,16.500033600000066,16.293038549999977,19.41389958333327,17.902790233333405,20.460502436666747,27.96672784666665,39.76979086666651,41.438438267341105,40.18461868174597,40.12555946646829,41.092873587063465,43.37367895999995,43.36919247305554,44.868397828055656,42.921909935238055,43.67250159805554,45.30437191527779,31.539759997777665,23.881120426666538,23.306476458333343,22.649970283333396,18.228154937499973,15.796499066666742,15.850500433333359,15.805408433333351,15.930352616666648,19.30906179999998,18.600318399999946,22.802522252685304,28.860725050000013,38.70640266666666,40.62301584523801,40.089478369444336,40.04341017388878,41.59255614885574,42.55061867328039,43.51609070152765,41.08253344333316,44.194988269444224,43.47013746972215,44.64793057750004,33.56206787682545,25.342142880555567,23.872268248888883,22.307233900000014,18.50653438333337,21.96963073333329,21.799092550000015,21.28883071666669,21.215026016666698,24.997595583333364,23.939136466666724,22.888536383333275,30.158331044444413,37.304094149999884,37.7918986833334,37.04088352222218,36.47433672083357,36.465422851389,36.973534913055694,36.77841473583335,37.77170143111112,37.32873210650784,38.32338483055565,43.177845199999915,32.92270300499978,24.555325706984167,22.93836093333331,21.772922033333273,18.523063711111142,16.832297183333388,16.622327500000065,17.127045833333355,17.403269479166696,20.89821767361117,18.51036071666665,26.65357341587301,33.36549209166667,39.63903336666654,39.227384033333266,36.037958249999924,36.44185393055542,37.016194855555646,37.1409456080556,38.16299722833327,37.54031532944454,37.99395560166672,39.067532900000074,43.1447367972223,32.63315258333303,24.196658155555614,22.806828033333364,22.57194067658729,18.462227700000025,16.509494233333335,15.59642395000002,15.710633616666637,15.952809416666737,17.296879266666675,16.804608786428677,18.205695786666794,19.92343211500005,21.75764178277778,22.053022883333398,21.688729816666577,21.610975522222137,21.134545486111033,21.101761644444434,22.60053627500005,23.756938161904856,17.99369136666665,18.861857899999997,24.625317583333217,24.43187641666658,23.721834683333196,23.296739516666737,22.208180616666652,20.259980833333213,22.739056216666608,20.93741891666667,16.613225433333323,17.52924131666663,20.134637816666682,22.502924516666585,21.512029633333334,28.16685348166658,35.4924445833335,36.50490848333326,37.4711331708333,39.30588347638884,39.92746856666656,40.314351283333444,41.36477334583362,41.09763910000011,40.36850877500003,39.556782535595275,45.3263224244444,33.09054427055546,24.82533079305563,24.507284522777756,22.574307287731486,18.881131416666673,15.489859838135008,15.306741826666682,15.116233683333238,15.400629583333233,17.33792162333338,17.084494166666566,22.928008179166625,30.63818887222205,38.658118749999936,42.131938302916865,43.23249111289704,43.14115179553578,46.17618760226194,45.71027391416672,41.797666291666964,43.889312933333414,41.71650572986107,42.88756874305566,44.90859825936505,35.08069094444442,25.672105112500116,24.006700042857176,22.555641199999965,18.5424458666666,16.127552477777794,15.683810697222217,15.695008456507958,15.902198532473586,17.861313958333344,17.358948236111004,22.171439241388853,30.587698338889012,38.221570501388705,38.62321102499993,41.17843043876979,40.355460156269835,43.52214070527776,43.052809375555505,43.34756459662686,43.7909862194443,41.71960000694466,41.694642983333004,41.846009268055454,34.949160009722334,25.250626183333317,24.283478409008,22.74446538750011,18.022999549999906,16.252384386805613,16.34761568444455,15.487659033333312,15.63610915111115,16.929800616666565,17.01296212083325,21.222093369444405,28.312343724127075,39.48690323194439,36.38950478406731,42.19316179000005,38.5800440983335,44.154138362142724,41.216067259285666,42.35961908493373,41.8523781425795,42.39588784583322,41.726283608333226,44.57482467666652,34.59956025000025,25.455854683333406,23.136791877777796,21.351488899999993,18.16583786666655,15.879180341666702,15.600680564999978,15.59145458055556,15.568080405555559,18.492855687500015,17.335855292777826,21.200016807222255,28.867870874761792,36.60825447361127,39.65377746869034,38.887311665436684,38.80779907888892,40.095532440198376,40.688409801666495,41.60692662638871,40.74109509547604,41.41328375571425,41.340921447202454,43.529244423888926,33.19758552500003,24.30923765833347,23.240453399999875,21.30308284999996,18.08263459999993,15.49556456666663,15.666809333333399,15.440725706944521,15.6939637,17.509868503214328,16.65210567638892,20.46324660833332,29.003921793888868,35.29225630555538,34.82309971166655,35.30811581111122,35.796199839999886,43.726934316666714,39.838748050000085,43.27304108569452,40.7280487073414,39.582180938392845,40.95335133111125,41.685133169444434,33.75275513555561,24.290745003611136,23.215959549999884,22.020761416666762,17.422898509722227,15.211896533333308,15.26513541111108,15.393266083333259,15.433956441666608,15.028582594444515,15.17454996444457,17.733232867142906,20.204479650000156,21.578002701666584,25.00643861666673,31.91904088333334,27.76074731666652,31.53920178333345,30.077932949999862,30.47678704999989,23.360117049999996,17.44346445,18.464520199999978,22.853442449999893,23.47379314999987,23.676136983333272,23.25875943333336,21.92714539999996,18.715759483333336,15.623805599556993,15.63736465144186,15.657106912195816,15.77246281666661,16.86884845361112,17.108010538333236,20.34486847777783,28.075807062500054,36.62426087500008,40.92843023333339,43.60839788333301,43.895715216666595,44.16346976666671,44.47024649999989,44.690468580555596,42.11746087083329,41.81481512666664,40.430624420972215,43.59881741666649,34.26443625000012,25.152527350000057,23.23034093333342,22.301296533333307,18.58941331666664,15.27546608269182,15.204508387797599,15.229873808333323,15.521305568571362,17.930507331944472,18.294041862499935,21.956213032539612,27.85191880555562,36.58430286666671,40.66742427500016,43.28851288670608,43.510638583333225,44.2379130166668,41.00785522499997,43.76840122333325,40.47703302083332,39.70609092694454,40.87051711361108,43.628428286587344,35.32730749833334,25.475890459682546,23.59875350499994,22.117691261111027,18.20769758333329,15.992352073235951,15.776231282870352,15.435018333333337,15.977287311111132,18.403679668214266,17.855683235793602,22.13727647797611,29.171042438888723,36.96004214750014,38.56239141250001,39.274161458611104,40.15522844166657,40.61103823583331,40.54041029833336,43.13202909416671,40.30705118055556,40.63249490749992,42.58595287694456,44.91208748660715,34.1185393194446,25.078064296547584,23.08489421666657,21.747466638888877,18.231677899999998,15.609362199999978,16.06897318829372,15.869269624444517,16.111942279166747,18.647728428333334,17.831612777499892,20.727121535555597,28.598013196825345,37.30197093750005,38.86382933353184,42.584788588849214,40.22824256527771,41.697727060555536,44.29651483388885,45.02266406194438,42.100853076388994,40.38484161944457,42.64000688055557,44.429985459027854,34.458564640476396,25.038059217777672,23.522361106746022,21.910919313888797,18.055188833333347,16.032920534999953,16.000046759999996,15.94326390000007,15.824062617142864,18.300469941666655,17.4899584459524,20.800265891666783,29.125373436111055,36.87489662222219,36.93432565000025,38.07857403333356,38.659824249999964,39.10138356666667,39.296353916666654,39.32189400000001,39.65908448333332,39.9208679766666,39.134224843333236,43.328814302777744,33.92767694444433,24.561794847222206,23.06867608333334,21.922279291666715,17.926576350000044,15.497216166666675,15.571189700000048,15.587938599999985,15.709731686666647,18.572229615000015,17.317789959444468,21.534270155277838,28.21548724999993,37.06689694999989,37.920655400000086,38.99576506666668,39.63983988333325,40.32994748333329,40.62107991833346,40.93687026027793,41.05204613611103,41.69924722805555,40.53291777638877,43.47292949111106,33.59277183888904,24.64271297416678,23.582564499999933,21.83825589999996,18.009372183333284,15.959287388888894,15.78011122222221,15.742412975000036,15.851966654166691,14.11887067515881,14.71994132071435,18.394577550000022,20.80356013333329,21.644486158333294,25.722694449999988,31.540986122619067,33.154980392619095,33.448312703452444,39.20309370277785,33.86459389861118,24.390430913452274,18.37619961666667,20.493475143333328,21.561146822222273,22.054866439999977,23.47961578333323,22.66883356666669,21.579130166666673,18.32442879999995,15.295858169065685,15.184680668749943,15.214439468749944,15.477666258452318,17.83718713138887,17.40438453166654,21.814401691111165,28.109018219444405,35.858218733333395,37.221137850000076,38.960599150000135,39.397981483333325,39.76234267500005,40.258406308333406,40.388646846428685,40.10358501666661,40.507543883333234,43.85917134702385,43.62392885999995,33.78656856027775,24.72665709813491,23.2579056166667,22.106508433333328,17.97261671666666,15.08232011595235,15.126414603492007,15.110834779007877,15.729079676269906,18.717592471666613,17.147736818253957,22.93300631361104,29.108534283333125,38.3225175557143,37.91372676797605,39.42682031984146,42.65199219706342,39.81622869111135,40.256089840277724,40.8780571516269,42.581362522619045,43.193956255476195,43.094714787499875,45.0901333833335,34.2691193096825,25.343037618611184,24.389996686349168,22.360838110555537,18.41392296666661,15.657937818888959,15.600063316666716,15.42801314999997,15.84474348333342,17.685351390238093,18.20292703333323,22.52339852972219,29.222343338333427,35.234573057499986,39.61331151920622,39.109066216666534,41.0583270666666,39.91098554805544,41.60297098083335,39.743048060257905,43.283247504444404,41.81212557166661,40.54245025416663,43.676983247222374,33.042339747222215,24.21482981333328,23.106447264722203,21.517611816666644,18.666821416666735,16.436289933333335,15.563952399999941,15.329966750833309,15.660411352777762,18.62127078388888,17.75921917500009,22.24062259361104,29.264718633333302,36.805526461388865,38.307084983472286,37.04526797369061,41.411038976388866,42.22798197265862,43.61491799277788,41.458835958611154,44.97337551944469,40.69351598750019,40.3816524111114,41.97522237055556,33.60082959583344,24.510971283095166,23.55651273849206,22.136740599999943,18.5761731499999,15.952923829523877,14.922928699999908,15.195131394444378,15.59530503611112,18.000569204722293,17.15018412083332,21.380331886250037,27.97015357444443,38.710057561111114,39.46640649444462,40.03949265416671,39.68691059682528,40.4141098965873,41.18972421666658,42.99473008999988,40.86187621666671,41.86161009789693,40.626350753075435,44.30588834871032,34.36504931944458,24.96186071666673,23.500745150436483,22.076568200000047,18.21981406666674,16.078665016666697,16.048091806666697,16.023771516666724,16.071082850000067,18.90898447166671,17.196157133333337,21.294401205833434,29.10839465000001,37.7283650986113,38.13897067321441,40.71994985111116,41.58511614833325,41.77654133333328,42.03501161666654,41.280119773333375,40.512961921666644,39.503059479444424,42.41352928888891,43.92281816666675,34.38878082999986,24.926724815555612,23.152793100000068,21.825541500000096,17.41627173333341,15.476108916666687,15.370330066666677,15.354176283333373,15.449802533333372,13.824287424999902,14.176009550000064,17.312554395555555,21.38879027166667,25.617348348888807,31.281831381666684,40.113971086111164,40.94925508194467,40.23644722928576,40.35604561039688,39.77681395944452,27.75882921668648,21.539283209999866,19.64249756666661,21.435157861111207,24.498307713889005,24.799912814166582,23.266141822222135,22.090600369166616,18.171649649999967,16.40994102865086,16.35085638444455,16.313919983333427,15.823878865873139,18.003354066666656,17.022034040873017,25.03618452083339,32.09327203333337,39.729294125000024,41.23537600494029,41.653729828333404,42.51024349166668,44.67074423333337,46.11840515833332,46.74637160305536,44.41580865416676,44.10833979920646,43.70824517083334,42.22879908777767,33.470927970555614,24.632230340555562,23.20785976585326,22.480187144444564,18.595615699999982,16.158016795740778,15.978241919444395,16.056305433055545,16.11710167916662,17.22856364861117,18.132190459523688,22.521636744444514,29.689973164166524,41.646347004166515,42.337362755555375,42.999226806765776,43.52698684305543,44.446982166388786,45.34392866388871,45.72236406011871,45.854865784166705,44.817355965000004,44.0392282263889,43.665521150000124,33.583194702777625,24.46028402698407,23.87181113486105,21.90705075000001,19.701234616666707,15.931371399999886,15.943008633333248,15.954031549999959,15.96607912936512,18.614821298333293,17.168525808333268,21.22701155444448,28.92779652666644,37.651228476131,38.38194770936517,41.669264069722004,40.58522954055552,43.41271621896845,43.85138647055561,43.84196881583329,46.43761840805573,41.88082473408732,41.589139874960296,42.99581958619048,33.86244773083334,25.746643556110996,24.01459526666672,22.695241633333264,18.433758683333302,15.924081853333412,15.545907717460397,15.47202465055563,16.206633700000076,18.241260675000042,17.40921706515866,22.547820445833324,28.453027111111044,37.94263705634932,39.57531900833333,41.184849972222366,42.18089123194454,43.349012952222225,43.43346816722215,43.8132303416668,43.16256066666675,42.69578334666675,41.72318547916674,44.05057118472228,35.577123199999974,25.400218415555635,23.971649416666516,22.32114961666671,18.33453829999995,15.590623820000037,15.536736332222295,15.621120461111195,15.78326755000001,18.68503210166663,17.135742333333315,22.78957972777772,30.278208646666457,36.718826943055674,40.5078680808334,39.85064438861093,39.167216635833114,40.089309231547475,39.3398612,41.01367689194443,41.14965007222228,41.2543583869445,42.72130666404778,44.45687174500007,35.295586767460335,25.32756695599214,22.92834756666663,22.667916766666778,18.06923824166659,15.679390566666719,15.631719566666636,15.55607656666661,15.61668873333331,17.988269627777772,17.53717261388885,22.12782651666656,29.567172561984204,41.88839754263893,42.17773735166656,45.033927983333236,51.0890779888886,51.73496538333289,48.438576970356955,39.70135648333328,40.43183984944443,39.274464755555655,39.21642976527785,41.601981115277766,34.032786961706236,25.598166450000075,23.343834649999927,21.91537070416678,18.015087849999933,15.889696677777808,15.704890850000059,15.843895083333406,15.888424566666554,14.809152319126879,15.10141152055555,18.527139619999957,21.41339160000015,22.79293659166658,24.874342983333506,34.086691306666566,34.27928036944438,34.204443366666794,34.31485363333325,32.376656900000064,24.41787381666654,16.907891661111183,17.97963218333336,22.49065834666672,23.127539868888903,22.727232116666613,22.68170436666671,22.118795783333347,18.0024853333333,15.422372440277808,15.382364565833365,15.6716020535715,15.859622187500062,18.335513988194545,17.980788004444374,21.828934900000164,28.86918366111092,38.64844459999997,41.462178550000075,43.62502549999998,45.06888856666676,44.99475865833341,45.36439509166659,44.835421741666714,43.78081254791664,45.025388379166664,41.592081836944494,44.54470589444474,34.646373550000085,24.946632883333496,23.29169461666671,22.19825001666659,18.583118333333346,15.526886272500008,15.50382570821428,15.208276283333355,15.5469102572222,18.61130277503965,17.98513403253959,22.037991735555472,29.623760177777665,38.124138503333405,40.27481312222216,41.321870280555636,45.182911548611216,44.57199914861121,44.056633757500045,43.527164699722114,43.77625122861124,42.324328509920676,41.9107548924999,42.6252252041664,34.41457947777776,25.16933225000002,23.237935349523802,22.212881900000074,18.23303914999997,15.814951866666604,15.732028749999985,15.632824383333325,15.812033783333472,18.639028633333286,16.610416474999983,21.488655035238047,28.60657081444456,36.28002350944442,36.407722889325456,38.274634818373016,39.573411449722265,40.271131025833306,41.914039234722175,43.081841813042324,41.16206656944429,43.950010183333035,39.680928733333445,45.81195662777747,35.013456838888914,25.77670357000003,24.166924130396744,22.256779626666603,18.022949083333202,15.359675794444387,15.294210078769755,15.820145999920642,15.736788079583365,18.681937200000085,17.89528761805549,21.57046149079364,28.851275566666583,39.52459008071414,37.51464912301592,39.03808225555545,39.83982046055552,41.34209828708315,42.43551713972198,41.3315249984523,43.289004972777995,42.64730678000012,42.20118474722217,42.95107941972218,33.66815470000019,24.408746166666756,22.918146049999923,20.812668000000038,15.19738803333331,12.670853050000034,12.534635816666702,12.532166200000068,12.772933050000034,13.966490633333317,15.114426722222275,19.331740170396827,31.229137650555696,37.47864280027768,40.2205090621827,39.04382452202366,39.36236088333353,39.807788145000075,40.62139235000002,39.52939126666665,40.662486971389,39.619382790833335,42.88092337444448,43.50824678142853,34.74172138916654,23.350379723333397,21.087465249999934,20.886791000000002,15.927283211111158,14.645450105555547,14.00582646944441,13.902086150000024,14.228059258333385,14.773028594444558,13.803909815277791,19.156919586309478,25.732814953981435,38.2359256278571,40.294803457777704,41.45479785833322,36.17447624999992,36.41227934999999,37.47016457222222,36.15523745833335,40.0654566838887,41.598689030555455,41.496976766666684,39.88035016527766,31.324556869444212,22.070101433730187,22.574698861785777,19.994737016666686,15.850177400000058,14.727632379920609,13.772891853888884,14.187527239999998,13.605012836111195,10.829597933333343,13.77517115238095,18.169540850000097,22.18533250805554,25.2579983857142,29.565769268194373,38.0398107255556,38.7901895755556,39.06789383333333,39.55739128444452,41.11431047972218,27.9018603428572,20.422594750000034,19.84986230825398,20.82031043333345,23.70367229690482,23.283599218055578,23.091587238888778,21.691950866666666,17.621903600000003,14.778432661111088,14.459788616666657,14.639717000000008,14.993117916666655,15.382990691666686,15.231354558333383,22.584967869444522,30.94699818333326,41.94462017055574,41.82967684555573,44.557979116666914,42.12469398888909,42.447113422222465,43.038073683333515,43.944106750000124,44.25077096666681,41.36589835999996,49.14345080972228,40.206694999999975,35.42637809904752,23.778150972222292,22.40335215833328,21.164658302222062,17.821321900000058,15.057766416666695,14.324704066666644,14.735728300000012,13.004080283333378,13.892796266666661,15.492635483333274,20.448577969444468,28.979783695833348,40.47970540833322,40.997501988888835,40.96391334999987,41.53185006547603,41.61105409603157,38.190647158333086,38.25577864305532,38.06519336666647,37.74117561666648,38.1294709072221,38.115974743333126,31.46594700555542,23.532150269166756,21.93045531888898,20.140243238888882,16.456708257579407,13.885909683333312,13.236462198484835,13.110238133333414,12.967996925000044,14.124347680158731,13.631051847777755,19.87862504833331,26.79482894611121,34.61284661666681,38.62993149361102,39.45545425277772,41.38626676722214,42.76509150666655,43.555926365277465,42.65384654444431,41.981575646111004,41.39761161124993,38.39798883027787,43.30705439111107,33.398316281944425,22.803714213888966,21.975241630277697,20.71081966646839,17.211310150000006,14.32832065277767,13.94271985277771,13.664971043333269,13.585369208194459,14.301863991666716,14.23096485833341,21.571233887777804,31.845108958333086,42.09910876499996,44.10432095555542,45.89930239999991,47.96173447555534,48.24842323333306,48.57656584999989,48.52600706666651,47.38598120333323,46.05004958666658,42.49076231416658,42.3901454249999,34.08594890138895,23.943264971111162,22.123935916666653,20.907473783333256,16.24811101527767,14.189775866666714,12.930270066666715,12.71809234999996,12.752594205277743,13.460778225000054,14.552307720000076,21.97243953333321,32.204745035000094,41.55558603277791,38.6847440527779,44.11809511111097,45.646589766666295,46.72371849444416,47.231896729999654,48.054957988333314,52.12171309166686,42.358036650079654,44.34208717083338,46.134593383333424,34.201678369444416,23.22976647138901,22.41386732972214,19.871387033333367,17.7718175166667,15.605953383333276,15.062641455555529,14.798786500000087,14.92166073333338,15.482527850000054,15.754204994047535,21.434666529166627,29.823687784999933,39.172320148214375,39.16423187722248,42.170879228333256,43.28812698888873,45.28415019944431,44.65153959329352,44.61552061111109,44.18080220111117,42.16214841111114,37.01384393333333,45.39815802055557,35.4169821472221,25.54713964611118,21.73568402777776,19.642479383333367,15.497874000000019,14.4675027666667,13.245427297222232,13.159532352777804,13.248710260555612,13.22384676539682,14.348897786111182,17.912205400952345,21.089147947500077,24.87586153611099,28.066814166666845,36.98509504999997,39.05061488333344,39.18610680277791,39.57408466666677,40.226015380952425,28.366696447539635,17.0918346188889,21.049452548333303,22.014231935555635,24.625908466666676,23.953868677500104,22.155074816666566,20.624943745714333,16.18046708333336,13.809440166666683,13.74582604666669,13.690776680000074,13.743774233333404,15.208297705555601,15.729964333333344,21.404962533333403,29.45169150833323,36.84366980000012,39.78979535333315,42.42892480026474,43.84996287250015,43.93583760416677,45.445901750000026,45.24155066666668,44.47240857500005,43.93294288055555,42.397484194444345,43.73169444166655,33.02954978222226,23.169737212500035,21.45286468333335,20.109273641666682,15.59110146666675,13.16553803333337,12.80394123333335,13.095524333333305,13.375223166666661,13.860797333333332,13.821723116666645,21.359597955277774,29.79330047666658,37.604915979166655,40.93863040694443,40.558138396666656,39.83477663749995,41.91865293527783,41.3643176608332,42.64624186944452,42.92256146638882,41.74365928194448,41.09298688472217,41.36180831249988,33.01259609444435,22.237665748610993,21.07787687638884,19.0528196055556,15.026811266666705,12.33413971666659,12.132971999999976,12.164777683333387,12.503025083333341,13.731087416666629,13.926865116666633,20.05461951293651,28.930453136666586,35.47493264388884,39.401772185833345,40.75732156638898,39.18549425833318,40.731859071944356,40.93627998333332,41.90419469999993,42.44103261666671,41.06563552222212,41.208914662618966,40.87470172916662,33.0536361972222,22.40106889611109,20.616989835000037,19.7718002,15.17605316666672,12.704919966666727,12.610613766666654,12.696321750000015,13.181401666666737,14.131610433333279,14.313916139166775,20.804052845833272,29.468411274999983,38.33560740333341,39.062989939166734,38.640592275000074,42.26971358853167,42.56880525361099,42.52363428873017,42.25930720396826,43.95853622750001,40.88937465920639,42.61436219888898,43.25135034166658,34.53264110166662,23.17354436753969,21.063212698888908,20.820005341984114,16.819555847698325,14.328429633333348,14.353457616666699,14.786854766666602,14.479364516666658,15.347899124999987,15.038740318333359,20.684974552500062,30.12188728833352,42.656413105000034,44.469817504444386,45.73435462777762,44.2738525066666,45.82218455694433,46.34352414166662,44.195085005634866,46.2761749008333,41.63789394194431,43.97292505611126,44.049292558888915,33.28982458999984,22.413039000436314,23.769385200000166,21.132591283333436,17.732518725000006,14.49196694888893,14.938500211111187,14.242339167777844,14.010647567777868,14.885308566944532,14.229152357222208,21.430995629166596,29.872381095833536,41.642401023928535,43.55778392444429,44.21801307932539,45.54738146111128,46.83904443888889,48.33232600833327,48.67617950291659,48.38629371555566,44.955944531666866,44.37581455416683,44.32523836250005,34.920283323610924,24.902024847261938,22.438277074999874,20.34227010000003,18.560268099999917,15.175687866666605,15.172025533333343,15.737483883333436,15.784339050000101,14.245359823333256,15.782508984444396,21.395801523611087,23.72240667404752,25.312394638888794,31.55580209722219,42.08163945777753,43.33850422166667,43.649284692777826,43.9862179338887,44.383674006111015,29.584804661666556,21.811953083333464,21.516103931269885,22.060719683333293,24.373546548333227,23.202772899047602,20.897883905555602,18.853519716666696,16.582860116666637,15.47537401666669,15.15298106666664,15.117910883333275,15.036974566666615,16.40180968333333,18.2414303333333,25.544923501388997,33.34918979555573,42.349407576666735,45.19113605555581,43.913061826666684,47.12724940000023,50.004428966666644,48.037990150000084,48.1068366999998,50.443168616666405,48.3770898833335,46.63211568333343,43.2006053444445,33.893144696111044,24.176767683571434,22.733139501388855,22.164889016666713,18.05832764999996,15.79307546666665,15.682769716666629,13.772197599999984,12.999584283333355,15.511301566666718,15.970039408333387,21.85710757361111,28.647170287142774,36.429276284444505,37.20743842166657,39.01859957666666,37.68651614444442,37.89885673611111,37.990842636388905,38.06506937222221,37.101592848333425,34.850766616666526,39.150048163889,41.25816364000011,33.093256181111,23.625462462777936,22.64631149111103,20.770039535793494,15.51868058333339,12.887302783333345,12.611134916666684,15.57450945000009,15.56602709666677,16.835277266666687,16.974056195833388,20.124873958333374,28.197819865132097,35.80379426805531,41.72198953333315,40.551740845555365,40.46507195000002,41.4169680099999,41.240117791666485,41.683346960833354,42.28420456666649,41.47599739722184,40.87989994999979,40.15207604055542,33.32417768273792,22.878093625238183,21.087494852222346,19.1948596166667,17.15132501666671,12.899314666666697,13.276551298484906,13.333843100000099,14.12281576666675,14.778801033333371,14.320183208333395,19.938548916666658,28.743613899999993,37.43157878666665,42.44182338353172,42.76867106305546,46.76948213333293,47.41995730833298,43.50522134027756,47.775404656110844,46.88011665499994,47.56892827333329,46.14300742999995,45.86222328833333,32.522000699523794,23.35009185500007,22.008937983531663,19.800683395555456,16.88617403333334,13.071609596111077,13.269659845833374,12.620182366666665,14.52895856666667,15.982613101587393,15.85338504769849,20.88857421071422,29.1971470178572,37.30506721944451,36.9445110999998,40.862706249999874,39.39321948333335,39.88641441666678,41.110924636110916,41.255114662499814,41.33069722777777,47.525110233333336,42.21407690305579,43.28136174166674,35.84240657999998,25.022259402777646,22.558160276468314,22.414988050000126,17.799737216666593,15.64494030833335,15.361500316666719,15.161661675000047,15.26252154166671,16.200802353333433,13.380258467857068,19.557139437499913,28.853778614920554,38.846546357499975,41.94879398749994,44.24075876333341,42.087647626389064,47.38338804027766,43.436440491666616,49.792228835714425,49.42226216571454,44.74891946666683,46.3311211888891,36.90207213833337,33.55841672325391,23.126350261944417,23.25817547499992,22.37444616666677,16.408215916666737,13.991814666666704,13.959047766666716,13.98882230000003,15.111392066666756,12.907653042380955,14.067285841666711,19.645247377361205,24.07524250527771,23.615863171666582,30.726335168253875,37.950361616666726,39.55001866666673,42.307435013889055,43.11440806666662,43.44278393333316,29.646938077778028,21.601060495555586,19.92008149555561,20.475012976666772,25.132501312500064,24.59681725833337,23.36615799166664,22.247390822222172,18.474403466666725,16.320569300000056,15.952027793939436,15.848439369191945,15.88287930119048,17.28464436250001,17.70437221888887,22.94688930714282,30.508482477777665,45.72142503055591,45.53100638333362,47.50242810000036,48.189432559524164,46.5389165861907,48.744409295555805,49.4414283722221,47.68479470833341,47.70525825833345,47.172658261111245,47.244942863889,35.76023578444435,25.19175177242078,21.910495716666684,21.00724709444439,18.433022166666685,14.788768666666677,15.032838433333339,15.379406700000038,14.989208843888902,15.563946733333328,15.404447449999976,22.47172919166674,28.24059985242068,37.84300427500015,39.593582950000126,40.25799425000009,38.92332381333338,36.24674960361118,40.63390916527786,40.84500418194451,41.013115802777875,39.032928536051585,38.024501522499975,41.70912671666652,33.22562112111118,23.625065944722326,22.335276388531657,21.310463576388784,18.028771818333272,15.28184634999997,15.115415966666715,15.247986112121243,14.741232454040437,15.83794164166666,15.319059000000019,16.780879848035777,30.680796869444375,41.88567558666667,41.864227123611116,42.25311776249996,43.15268599999995,40.0969621539684,38.51994245174617,43.55835104999994,43.12989339999991,43.20936483333326,43.59094319083352,41.304085100000215,33.28038537916682,23.29482433305553,21.5911305000001,20.802197172738172,17.327851633333257,14.707726033333385,14.462205253030342,14.212236510353533,11.689435692424201,14.977292164682499,13.391014403571386,19.734390997063475,28.768216883333157,37.60599352888889,39.38351886261902,40.77595632222217,43.23791652916647,44.01550628333318,43.630814762499845,43.272396398888965,43.045105378055716,43.20266710833326,43.087410316666904,44.98560645833314,34.64540187750013,23.90754658027779,21.035495833333247,20.485908585000082,16.57963736924595,14.57327552348474,14.308653614393911,13.926773920707047,13.414599283333347,13.942300640158743,13.467278996666687,18.71918728333337,28.691075286111044,36.52269746277778,40.686519652857015,40.133037189999925,44.785374761944325,46.048162148610956,45.75453864726187,45.21699320361123,44.77682104769861,47.69126743087297,47.245225741190445,45.27997171944434,34.3775318327779,23.24442553638896,21.485049880218217,20.469305755555578,16.805706282936487,13.924033666666741,13.763248465151575,13.787178528636296,12.96274216666661,14.170418811666678,13.716254588333326,20.447748871666683,28.6046438958334,39.37898278859128,40.184096895833214,40.323812724761844,44.64103201674593,43.30123392412723,45.10442709246048,47.864819284126774,47.76207254107144,47.885590503571535,48.19896376119045,47.624557493333285,35.28663538611118,24.212518033333364,22.933898656666656,22.508887415277847,17.692537966666784,14.902006390674638,14.66768677845239,14.437817858174581,15.003621561111165,14.03254509571422,15.128818479999957,20.373652994047685,25.00735976416659,26.74556893062163,32.515519381666806,42.296494925833294,41.79429454666665,44.36471481277781,45.765654171666675,45.94255138611123,29.74910578888896,21.318389098253938,20.62628418357144,22.62626958333343,25.03901353333337,24.235584016666767,23.319787616666574,21.969134061111152,17.92574933333337,14.92014471666665,14.461093981818175,14.355707116666636,14.594355605555567,17.953520602777736,18.515412858545073,26.413448187500162,34.72903261031739,44.31758363809516,45.57860445154764,47.105304535555476,48.11625589444464,47.448008540277776,49.42069953077379,48.73952405944444,48.19074879361105,47.44952348444433,46.0262651748413,45.31335368777774,36.357453284523885,25.34146642218264,22.69454636666665,21.945463741666714,17.736678844444505,14.62941768333335,14.677951830000007,14.778663913333286,14.61262599666664,16.11098492944438,17.22145361747352,24.7320701133334,34.178391984940326,43.811739006944315,44.370816519166404,45.98999848527775,47.211768300833135,46.903847363055654,47.218639089722295,50.56238959785722,48.99316399666677,47.62417822222223,47.000046166388785,48.70055389999998,36.4529636809257,26.60644455869055,24.16772024682546,23.00885220555548,18.080520450436634,14.982650816666537,16.327359421666735,15.928437781666673,15.95394347749996,18.29570961111119,17.12253505324077,24.92469439666667,34.65759519980143,45.69865708694425,45.24277155916645,46.21101425791676,46.810128747500045,49.02340000968296,50.24041336703712,50.13499434999994,48.6574477100794,48.128973702777806,47.91407151055537,48.70689710246024,38.860551489166674,26.579118137500007,23.660780269722274,21.90817986626998,17.942451233333305,15.575014348484782,15.157323249494926,14.907567445454491,14.977439427525258,16.502554396666625,16.19842070555559,24.242320133333486,34.29247818238087,44.82737549999998,46.00087229861105,47.69739324666659,49.436533944920555,50.716803014444615,51.17373121194467,51.43741882960325,50.68730713297645,48.42203111666658,46.60077937444441,48.303161630118865,37.37825302664685,26.19734418015879,23.55958508583332,22.034293138227554,18.110101894444483,15.559526366666706,15.024849737222214,14.872106956944437,15.15485223638887,18.641151892619057,17.216256689682492,25.692108925000035,35.43083784095239,47.68537588916667,48.57156865555583,48.05764247083326,49.10901318249978,49.267927543055535,49.93206462222183,50.73035456444426,50.30369346249997,48.9994054055555,47.01483553234121,47.32847117277776,37.05326860027776,25.332374232321225,22.813453161388946,21.37086408999992,17.587655729166766,15.274414400000014,14.831761566287867,14.372898458080776,14.598163092222187,16.611280289603204,16.88788609083331,22.536248958214344,33.10617613920631,44.215031991666685,45.99418396373009,47.61017821249987,45.96786756666682,47.71912101833346,48.5111389902777,50.26461098805546,45.98893451944451,47.99898317706353,47.53289592500025,46.38987885305547,36.583769900932516,25.402463418095238,23.415794083333264,21.64953504746022,17.344510700000082,14.812006283333396,14.324891864166677,14.363277148888907,14.714917808333336,14.243857400000074,14.386461366666786,21.911865867777834,24.84221921194453,27.800756391091234,34.23537168333342,41.22271823083352,41.186890681865115,41.917599552539706,43.01260920365091,43.2125903966669,29.491464549999776,22.4928577583335,23.54205958777784,21.53687201785718,25.064564142777858,24.224550021944406,23.27063133333333,21.887568216666605,17.975115283333334,14.807037983333354,14.524850933333353,14.685839395833312,14.729972262499967,17.35789314861116,17.714743737142918,26.809872659523613,35.03214744333317,44.99705669190478,46.443201338889125,47.536971224999846,48.20998180388884,49.036134222777875,46.39640224666683,50.03308703333343,48.462542749999905,48.79788706666688,46.746964196944475,46.465813874325285,35.57805026817468,24.508344501190557,22.68688351666662,22.044901561666585,18.014111938888778,14.873407199999967,15.011607866666735,14.888388383333389,14.935256766666729,17.815992554166655,17.232290875462972,25.338169904166765,35.361431804285445,44.96828616150799,45.74961669829358,45.17583898468272,46.586762635000255,46.63661919210314,48.4660478611111,47.32976794305563,47.86832489000025,47.02529625166665,44.54008494575391,39.46339049444458,35.271313924285685,26.00616543384931,23.44150938333325,21.996880566666626,17.489413883889007,15.473168297777793,14.663956473888998,14.309946366666761,14.147314561111163,17.20093662388887,17.333264680892917,22.304109493333268,32.14210014916679,43.964808761944255,44.90842286944437,45.83189875333313,47.26104359658728,49.141500577778,49.26703761170648,48.53885505986103,48.693320651111144,46.494860311111346,46.186035895277875,44.023195391666874,37.117684132221896,25.435212828333295,23.11039008976197,21.908648562321467,18.167946403055623,15.687699916666595,14.752821933333431,14.808278077777812,14.755194480000043,17.036106547222232,16.860623039444466,24.844631700000214,34.160890124682545,44.5977318794442,43.938935318055385,47.8171110320236,49.830786466666844,48.18254432035728,49.0834176988891,48.599055172499945,48.04972923861113,48.3181357822223,48.198858654444564,50.47960009499961,32.6137938405555,26.03436570361108,23.7327723666668,22.17882762333351,18.489408621785675,16.144151083333266,15.850557444444417,15.598832861111187,15.476032063888944,18.98161035972238,17.3135547108333,24.452567077380962,33.09639263041676,44.3012306097618,45.49555773111105,47.05558446111107,48.04581101499995,47.1392015282538,46.751219192777555,46.69100138277764,46.705379592499945,47.286718897222265,44.259909283611094,48.46260629249993,36.19931069222216,25.387162213015863,23.45653550583335,22.31933891496036,19.64761624999996,15.930553216666674,15.62016480527779,15.622540313333323,15.514190143253938,17.583754311388894,16.709379140952443,22.710632316666718,34.46284145043663,45.33099296388876,46.71908368055528,47.687363748055475,48.7712567666668,50.69421855333358,49.61535939416682,50.72632317166689,50.77983946746025,49.58966888087302,48.63901974345252,49.012261112499736,36.39661636694449,25.423687341904753,23.509357412500044,22.460989253134994,19.260317252519908,15.80882254722217,14.800230119583311,14.642885022222151,15.161219246825361,14.229778299999921,14.725508320238188,22.203034365377043,25.141105719841132,28.50787683388874,32.96782325833349,41.74340407500005,42.620788580952336,43.47912099055561,43.500666893888926,45.84996194444452,29.20629356555541,20.821600358333306,19.983687864285766,21.751701232222324,25.766761193333423,24.470670246177352,23.4122095638889,21.88440666742064,18.1110838499999,14.671233149999992,14.684312773333335,14.475504576666763,14.740743016666627,16.028911049999937,18.259843658730272,27.76143468333346,34.38716929948409,45.02559216761903,46.451262931666555,46.68639367055544,49.6077390757539,48.7642226694443,51.53992275301597,49.273045901666606,48.63890741388877,47.70199563119056,46.70807013333294,46.41419421533736,36.750287558333554,25.120805326666837,23.341830849999972,21.854921141111017,18.297235824166584,15.311833991666656,15.096904273888896,15.118833740277797,15.38934294166675,16.959103809722198,17.95020913499997,23.89964378333328,34.595512767499734,44.15720852722235,45.51662892468264,46.300048685694456,45.4953665955553,46.60843448388875,50.09446172083363,49.00196317638897,49.290299515000086,49.571637730555125,45.58845594305576,46.199968246565646,36.24929616379655,26.258425190000057,24.83712853333325,22.59876410815471,19.3042143430557,15.303770533333417,15.59301985000005,15.174483100000023,15.16130655555559,16.80148301888884,17.144706531898198,24.80106545500009,33.805133325555595,45.21041319476211,45.63641114027791,45.65265719781752,45.70819781333319,45.78172583805591,48.3279376997222,47.193295059444424,47.08210626936508,48.237705798333266,44.39176907333349,44.0818669483333,37.525236192500124,26.592724071110982,23.429158716666738,21.592590186785745,18.15372088333342,15.72898483333329,15.23795790000008,14.587991416666707,14.816259277777734,16.800415877222186,17.0316898080159,24.656479183333282,33.57788737027793,43.893603637221815,45.87412169293654,47.7777848430951,50.59281633333362,50.453959392777556,50.87285367916653,51.47268709444421,50.79910065000027,47.084044637777765,46.406705932222195,45.93141020555528,38.35062326805558,25.839114870555687,24.543578366666637,22.027744760277805,19.208945624126954,16.240658899999936,16.07623934999995,15.961717283333424,15.931073694444473,18.649605002777815,17.224522404722315,23.448437508690432,35.01304451388902,46.68978020999998,47.2034594427778,47.31113250111107,46.9169434347225,49.96102312333324,50.352898320000115,50.640686544206375,50.30885699615078,48.696161230833184,45.9377374166667,48.73293477515879,36.23365204833342,24.871407028333294,22.564658538888747,21.06522086888901,17.712954638888842,15.161940316666671,14.95187754722223,14.73211453333334,14.302369188888862,17.40291261805549,16.43990191876986,23.914262154166746,33.07434267555551,44.86789836249976,46.82844201015873,47.99626466194447,48.99245956777764,50.43710135527775,51.6685363141666,51.10769887583345,51.21256797250002,49.17008230222199,47.781155655555374,49.15141571666666,36.93609209821409,25.722843590000103,23.25910373472217,21.301403039007972,17.28366176666679,14.716032483333446,14.386082416666746,14.216009883333323,14.227363116666622,13.198636099999934,13.864985448333364,21.702309715000005,25.37961112714276,27.32840336087295,33.80398578333352,41.83088185000021,43.21362132666696,44.989550936190554,44.428803134444244,46.56419090333352,29.341487032500186,25.255289237301568,19.69001468500007,20.556558458333438,24.530576016666625,24.23937923333349,23.382703266666685,21.997512576666573,17.711510693333366,15.070398598492085,14.718750296508004,14.710263126944506,14.701554070833351,17.78938011388889,19.687760394999945,26.26689347333345,34.90763210797614,44.5111951038889,44.898671476666784,47.11061112499991,47.36607548166679,47.212143202222606,49.084420612400805,48.40522693138868,48.03676952277763,47.144342091001285,43.6842112027779,44.89931069128973,35.357148499603234,25.918947498333413,23.412094914444335,21.907106149166705,17.121751097499992,15.242936414761884,14.432557183888962,14.358933243888954,14.815546658333394,17.871953400833334,17.670111144682558,25.882666860952398,34.58274156666663,44.1363383202779,44.90822021583319,48.03044112249979,47.34891140953711,48.73741878575379,51.100153683908914,49.863530600833336,49.66193135416654,47.20637800547622,45.9923171435718,45.86336010298946,35.84338899472226,25.33844387063505,23.813234158333387,22.061686338293615,17.986141633888913,14.41691704499997,15.001897605277778,15.069782511944437,15.317210511111151,16.93759310277778,16.531938946329436,25.52406822500002,33.30473535444464,44.65073697611095,45.8701161055556,45.41950441190469,45.590564904999944,47.7410686830555,49.23090180916662,47.81887634761917,47.08635037444452,47.36630664555569,46.8992844510121,46.17620006597887,37.508248471428594,25.817879178055474,24.07564063750002,21.919287861825424,18.085662590833337,14.901092074074024,14.688100490000005,14.598792162777771,14.802724585833344,16.552762672182524,16.983123896792375,22.923382462500026,33.46474128499986,45.76761501416661,46.44808790111128,47.357310730555426,48.849454308055684,51.03608631595251,51.367367147658804,51.31535415777771,49.93398461333344,47.39648100333336,38.45538059039707,45.865275383333426,36.3816136272221,26.203689635000032,23.607890085119113,22.81058549333338,19.24123086249987,14.969309177777706,15.400645736111093,15.85087486916659,15.781183543055567,17.083572106944438,17.59557048067463,23.837719141666717,34.02880513055533,42.521571528333105,45.9155997833329,47.39955221611101,48.03159332111123,47.17141898944429,49.805415119444305,49.97939117999976,48.392205598333135,47.20199733305556,47.381931513492134,48.916759404127,36.70425196083349,24.938652041389023,22.46283679166677,21.15261002777776,18.284358472500035,15.23123944833331,15.161939484722232,15.144396407499977,15.53053589999995,19.288663851666747,18.375125246666673,25.587456883333324,33.52856040111119,43.48153374107118,45.27206387222225,46.309194202777654,48.16395712015881,46.68158609408712,45.9115436027777,49.454809017658846,44.36979982666665,47.85228603666675,47.19780537611134,48.094342713055504,37.25504995277767,25.9815012333332,23.274889966666727,21.7512982239682,17.502656316666755,15.03546521666669,15.274103866666604,14.926130737777829,14.415154788888913,13.254121200000059,14.606825050000086,21.76550920277777,24.751679547341375,26.87024169180562,33.309185033333236,41.69824775984132,40.93095046318776,42.70914536686507,43.07239496944445,44.616746933333154,31.554666100000134,24.59408001257946,20.346496348888934,24.315102755555746,25.97760847222236,25.25311377194437,23.28095385000004,21.941347109999963,18.059160299999963,15.013929333333268,14.862119683333372,14.699238415000107,14.818500565000065,17.409533152777794,18.042689154246055,26.494058310714284,34.24518756041008,45.095960987539854,46.4330235840276,47.620454790000174,47.4592674466664,50.18168726333356,50.607292435833635,48.348842758333326,47.11759027388893,45.4262726611112,45.62390209805571,44.58234600428573,35.19431237666651,24.505813793055744,23.33492970000014,22.313949444444482,18.113186888888904,15.13266589166662,15.017759766818175,14.945474673888887,14.914241235833279,16.730758810853136,16.905307362023784,24.47289190388892,34.00397685551595,45.823213061904966,42.91933845833338,45.90827484833327,45.93016174000017,49.68980604083363,49.9244309166669,49.701910640000335,47.721521116666864,47.76825520944474,47.592965052420496,47.2337707587499,36.05904988305567,26.076390807142985,24.01323164444445,22.35871524166677,18.374803465277783,15.344484444444433,15.048422808333306,14.870644856944411,14.733151988888897,17.20338725611104,16.688980859047625,23.219833372500005,32.770943086746044,43.68386008777793,44.56064941436495,45.91537230265865,46.553420187222436,49.12317899996009,49.93841150956326,50.23364246666703,48.429431501110884,47.63535792805546,46.56097530888903,48.884862670277755,37.35445080750009,26.090387057499917,23.484869416666665,21.87435990916669,18.440042277777724,15.156319700000056,14.791637350000013,14.197399683333414,14.838915845833414,18.20200878944436,16.881060714444388,22.188660536785598,30.43931993402767,42.35141930339299,44.64235718472224,44.679308385832925,46.91433315277757,51.255631845555506,50.649906464087216,50.0658843527775,48.721497137976144,47.6640801884128,47.29058624246051,50.60813104777793,36.65742880361118,26.88154790166653,24.117932371805495,22.883777671111194,19.248100972222222,15.496339675000012,15.45634410000002,15.058901691666653,15.002933616666732,19.21446033132935,17.67431409138894,23.65468198611116,35.49539288150774,43.35471789305562,43.96689704305572,46.25675221857127,48.18054244277805,46.92615078666672,49.02259856388874,46.6051681458335,46.375965756111086,46.17265221444421,46.42009151722198,51.2138915033336,37.647408100000106,25.44634961666658,23.08392238333322,21.930190583333438,18.183684705555596,14.082234100000036,13.60757519999999,13.488533720833304,13.914789829166654,18.296232512222197,15.557263677777732,21.00584925000004,31.433617514722233,42.54066593809521,43.69549177833345,44.571509941825276,44.6505626852775,46.159318385555274,47.69082819166629,48.17802690416667,47.16908684194439,46.65820392861115,47.09780144250014,49.96836800000029,34.50273484563506,24.769377976666767,22.82483015000007,21.14209418333346,17.98869403333331,14.896157366666673,17.71168643333327,17.68411199999993,19.95529906666651,17.19412822111099,16.519722049999928,21.665036969444444,25.079673536111166,27.977601545476208,33.11966037166671,41.96234763904748,42.83153566722227,44.36574257235454,44.88473658404777,45.028218914788305,30.82427393333343,21.500399119444392,20.892692763333333,24.044006816666712,24.96865831500005,24.124104579722182,23.153644533333352,21.529948930555552,19.081751183333328,17.98285063333333,17.67295093333337,17.475099066666704,16.712197875000015,18.626476534722215,19.274317737579405,26.982204994444494,34.03915047821058,43.004915101111024,45.7323322741668,46.70231600277758,48.86413971527795,48.91336534861132,50.464425499999734,49.16307924583351,49.19269670166651,47.576958297222106,46.67850510944456,49.518190864027844,36.17597441361117,25.652996890317564,22.98338715555566,21.961108936944324,18.11478222333338,16.453734127777782,16.37528894999999,16.275417549999915,16.0348681999999,18.59247850939148,18.899599949722848,25.54688481694442,34.576021587222364,45.02489860472214,45.772118198333025,46.64071030833303,47.16877386833311,48.163368742222026,50.39216707698398,50.50801328222204,48.8173754030424,47.62130348718267,46.96128619444457,51.877212649999635,36.32997263873017,25.948921728253982,23.512581983333337,22.499976550000056,18.289952399999912,15.7161286499999,15.076326691666678,14.177776609722274,14.195829195833321,17.41642925646821,17.4176842083334,23.15172099166666,31.650376870873046,41.599931851388874,44.18858846750016,45.179961038889154,46.587919397500094,48.25520899444437,49.184745193849025,48.88730890956338,49.00467533396835,47.22019623503314,45.67284400555577,48.891200266666964,33.80039313055545,25.208950670833417,23.294253033333362,23.057658983333205,18.76610391666663,14.735899799999945,14.253919633333277,14.056784458333274,15.16847738500002,17.834362033333328,17.3768844069444,22.800168910833307,33.888952540515724,42.83399450186523,44.481629963333354,45.2803481192856,47.19018129396826,48.307695191111044,48.966870700119166,49.478522419841276,49.32671960777778,47.130654101111034,46.376054566667,48.229896994305506,37.24792610777779,26.314200543769847,24.177572492777678,22.36990301547624,18.598533816666503,15.054833049999942,14.884140733333266,14.14240628333323,14.262116049999927,18.290246530555518,16.755358744444422,22.818229143491966,33.30508725589298,41.99054788388881,43.08274567361092,44.53344064888868,45.64429658333312,49.09702223333327,49.90673262705621,49.69148439734133,49.062177958333535,48.11440151428534,47.74829857690482,49.12614620027759,36.92542085793642,24.96921976388888,22.470165349999842,21.829759170317605,17.921675602777803,14.651877733333318,14.365642295833345,14.190339044761908,14.225562086785688,17.479166132658676,16.45141501047618,21.977991330635,32.92537307551596,43.38496325111116,44.32078631835978,44.252145380039494,46.6644160934522,48.979760684623,47.837195108889105,48.23803091321416,47.77661346779746,45.11361994166686,46.41066621388907,50.697912457380774,37.50970669310848,26.483498423333163,22.9713105222222,21.933914833333397,17.655181721388825,14.497460416666643,14.029292500000087,13.861962300000089,13.912493112500098,13.10265457888885,14.31475620523806,20.723813154999938,23.76459211861111,26.035839132222165,30.779346144444506,40.99680902777763,42.14634488333337,43.6468300333333,44.13520726666675,43.88991243333345,29.712338187499995,21.833679730740712,20.798624232579293,24.502884701666684,24.99972916472216,23.591829623888906,22.555005383333427,21.965605600000014,20.09651148333336,14.920293605555514,14.8624125958333,14.69949199722223,15.037790700000022,18.943858699999968,17.538623526388875,26.197299776785744,32.25452834555545,42.37906890333334,46.066298657619264,46.16796481749991,48.57498526777782,49.89043118333333,50.207862273333134,50.842859005952604,49.411812130925874,46.937522560000154,46.740065370555406,50.74597276111105,37.2153605166668,25.421245049999825,23.230537283333437,21.876665750000047,18.777294155555552,17.74159153333333,18.068899833333365,16.264934158333354,14.76765172666669,18.031212248611077,19.528901734722137,22.651955200000057,32.62207455111094,42.454977466666506,44.52413670357158,46.038826429722256,48.54315747499992,47.70022615833338,49.75526181666657,48.6490625829362,46.60821351666704,46.55370128333323,46.16335259416669,49.31990326666692,36.632822782619016,26.29564547333345,24.203473333333424,22.24565866666659,19.2390912499999,16.290447608333306,15.028810483333286,15.415382003888888,15.691062370833402,17.991454669166664,18.327387826388858,23.636282715277797,33.12853841507931,44.151695665277984,44.48019295077384,47.21628448499988,48.304036310555716,50.08798470166689,49.62147192805568,49.49628255043664,48.36262073555529,47.604821976984354,45.11844441111108,48.15943733888899,39.70845382420643,25.961175599841205,24.48975498333338,22.23602408333338,19.996046483333302,16.82519513333326,15.690109083333232,15.381337811111026,15.465080624999906,18.273361199999854,16.884897889722286,21.168260188333253,29.797583641150887,41.276741181944494,42.70519684444458,47.334553006626905,46.34113992916652,48.26173736539686,49.59619505476185,49.202402215396916,49.11806173031763,46.93589247972239,47.30360405666648,49.35963566904793,35.932409936666765,26.10411309642857,24.13487633194444,20.929803274999962,17.897741650000007,15.296835880555513,15.254885129166654,15.331374595833351,15.620410711111157,18.887693739722238,17.886981756944387,21.295087807499886,29.647918487500014,40.814452258333276,46.27746581166667,45.5772903975925,47.099660136111204,49.468845965277914,46.89883828472223,46.50265135388896,46.37800643333313,46.8943187527777,46.40592592444459,48.87498831440473,36.32326144273818,25.246803962777697,22.442936516388812,21.107040050000137,17.617845467777673,16.61933938333327,15.675807316666667,16.214009193333332,13.432921283333298,19.76675930722222,20.77805468833332,19.591855184444285,29.75266587361131,38.98721731428566,41.12306554777794,43.61662012555567,43.83631221043645,45.43694766734127,45.678827177936405,45.8882960078967,46.3877720305556,44.85549986111107,46.4076202466666,47.926485939999935,33.803904288730195,23.823923381944557,22.211825416666727,21.22357591666666,17.28302348333328,14.308312866666702,14.427637887500028,14.289370394444486,14.294098476666731,14.229880808333235,14.920776762222204,18.260493213194422,18.95636723075398,21.340167573333407,29.058242406944366,39.83650658242062,40.48513003472224,41.90908110305536,42.351078234444444,43.67666314480157,30.1422881350991,21.808545762500138,21.12480629583319,23.892436663888866,24.81588051666661,23.73927439999997,22.580124649999963,21.16208206666663,17.98447786666661,14.66121071666671,14.713624499999945,14.935960938888824,14.951950655555544,18.297702454166682,18.261586035515872,27.37026868055573,31.69625096666656,41.912553593333456,42.99869710555557,43.82378788277773,44.60157314166679,45.20024471666659,45.77395855000007,48.60535406805563,48.32490488972226,45.770599972222314,46.09411994456362,49.80085988809541,37.00030224194455,25.922384515000036,23.321350966666724,22.020680870833296,20.090635677777644,17.602241145833307,14.934490631111096,17.41938437555561,15.035428012777821,18.47331099166666,17.984137316666676,28.94728086666656,37.770016203333164,44.24056523055569,45.732477733928675,45.76323070555537,46.78570763694448,47.87112087666661,48.27280568083319,50.074861024722,49.18577590555583,48.28976430000017,47.38863968888876,50.72073941809516,35.844597133333444,26.127986855555527,23.7982311166666,21.090642461111166,18.694632783333216,15.646305183333412,15.675320783333417,15.812165008333398,18.448452444444527,21.091569774722235,18.34464968154757,22.473734384444437,34.9464531333335,43.39321913972229,46.57200377698426,48.44620022499971,47.76856147317467,50.903553637500266,49.063922309721896,50.23484164055547,48.14607353055545,47.32012762551596,46.23650058055574,49.876009955555915,36.920745701111,25.71608047805573,22.84973865158731,21.846769771468292,17.769849916666654,16.747574499999924,16.3505758452381,16.372676516904754,16.383904418849173,17.13768920277769,17.71494816111124,24.526307225833367,31.608603230277534,40.57163911388895,44.62376011111119,46.06843790611105,49.6405944352776,49.50641197361121,50.54270750115095,52.2023488390474,48.53236050206359,48.7538157977777,48.157978650000196,48.83713851666641,36.232847038769734,26.42269625333343,23.68142313634929,22.108498938333376,18.78823692777779,15.402696033333369,15.198823783333397,14.649227864444436,15.17798156999998,18.576474900000022,17.387716408134892,23.897174174999986,34.623891660833245,44.18091538379632,46.024485458055686,46.446574269722134,49.41160660738068,48.22007847722212,47.02656395972194,46.627514666666414,48.47660677103162,47.32557744749989,48.36409459999964,51.72231242777794,36.46390782666666,25.326439709444294,22.783238726111023,21.926890600000043,17.952758372222178,14.631038050000045,14.604892600000062,13.60187891666663,14.117511083333287,17.34481893563496,15.604028444444499,19.98021276111115,30.26128581611104,40.021465651587455,42.760092530000044,44.77124586296287,46.41595886805533,47.39529653166691,48.02224425833352,47.090910053650724,47.58603365611097,47.73846185555569,46.71626475416653,47.940735283333694,36.15871803944461,24.917213990000096,23.017127616666645,21.39621264999999,18.42548874999997,14.730160733333246,14.484938166666682,14.19702879166671,13.973689716666701,14.249092811666582,15.13154759000004,24.262395756666823,24.216132736666722,29.0112176611113,32.965915238888925,42.419340483333265,44.75960298333326,45.99511713333328,46.74885270000007,46.871605083333286,29.30472280333348,22.711352853610997,21.511021536111073,24.425136169444457,23.897144964285623,23.398059199999892,23.21509741666676,21.35132133333338,18.04423966666671,14.895387916666555,14.79683041666657,14.813100094444348,17.055905692777753,19.508609755555586,21.065656193055645,27.8579965499009,36.379393166944304,45.0011399538888,46.60626171154777,47.642592344444246,48.01792935083305,49.00119657361138,51.064644163889184,49.458723080277856,49.1917971727775,47.61120507000022,46.19856571031746,49.03465946904759,34.623873919444534,26.22976316666685,23.273280683333383,22.47711535000001,17.59283814999991,16.95607963333325,20.197941750000016,19.30811470000003,20.92560972500006,20.793296348611168,17.842456500000047,24.814623320753984,32.77409830986098,42.0756674416666,44.24082376305532,45.50222930000016,47.74445591666659,49.97582558305555,49.97058517444449,48.394722823611,47.98458034222208,47.27540224425927,46.95216134972234,47.59095908611139,37.31676576055559,26.754330122222242,24.146682702380982,22.33624100690478,18.679815682777754,16.879615283333376,16.687293700000044,19.669297266666707,16.39794631666662,20.744631871944396,19.05883741666659,20.921627416666535,31.530117702182608,42.64089097888919,44.89463354714293,45.440996519087314,46.17530583166673,48.64340609222229,49.447046095496255,48.549100051190514,48.05952045515864,46.98153093055568,44.43563468282414,49.33486153166667,36.13054826749988,26.150706656666635,24.20272590194443,22.212712796944437,18.206723145238087,14.456908066666637,14.41375103333333,13.80719408333326,14.20803513666663,18.426151489365104,16.954264353333286,24.226601371666685,32.343209544722114,42.088170645833344,45.23877423527758,45.980274364206075,47.64452413003967,49.20684231543657,50.57455032341261,49.206477171666755,50.10427322777769,47.78741731388896,46.766940448412846,48.84941190833334,37.133334962916635,26.51272860222217,23.56403043055558,21.320158343174686,17.54729466666662,14.763895105555507,14.635302356944461,14.916483511944442,15.164719244444452,18.24470166388879,16.68846703472229,23.745411235833316,34.24782741777796,43.59367327777778,44.3498365565874,44.99540593150784,46.57844218869029,47.00417821404745,47.754830621269825,47.38070422611113,46.487865889722016,45.892798830555485,44.28400999999974,48.59478428000013,36.451963123333435,24.783114379444303,23.88597169444447,20.33339657222235,16.213625916666594,13.657332549999996,13.306280649999985,13.339564333333275,13.36763908333326,16.781992815873032,15.43221414999999,19.002372698611165,29.460752801587304,40.99201604805553,43.71341628166677,45.15013598361116,43.81441849111122,43.728184601111145,43.79199921944444,43.61080630000014,43.50398890000006,43.28386767583331,45.94524441111118,46.60832983472226,33.661862881944536,23.63118500833326,21.90556925000007,20.925887588889005,16.75914533988103,14.335922300000028,14.287891849999994,14.256224916666666,14.209185466666655,15.69665474999997,18.747800513015783,20.09992849609132,27.280775382222124,27.070701721150822,30.934550345833287,43.04279021638895,44.806426609999804,46.209539144444776,46.9833540005556,45.24564786900792,32.62718554829357,21.420190766388945,21.190181998888807,23.945570183333235,24.497734977222297,22.317952577777667,21.197835433333264,20.43285074055554,16.909541816666643,13.67962695000002,13.56730296666662,13.496562616666607,13.777775316666599,18.310898368055533,20.035733242222282,23.124042105555574,31.74782687511922,40.98467498333335,41.90816135416659,43.670001866666745,44.23119048333335,44.20767744555561,45.098295583333176,44.66654475000009,44.928522699999895,43.85143618888893,44.793998332500195,46.03018460972234,33.907183438888985,23.236273433333483,22.012990383333303,19.841319038333303,16.33518539444451,13.443506299999953,13.312239049999977,13.317115633333305,13.368933900000046,16.571277066666678,17.37935966944449,20.287109703571453,29.9513654859127,38.55059902928571,40.11027988333314,41.55151595972205,41.97593133833331,41.72952042722222,43.171993954444325,43.3775275238888,43.78341269375001,42.4174119500001,43.37203749833316,45.31067478194438,32.96019541666654,23.95943465833342,21.902115800555713,20.50590116666663,16.84559601666673,14.130705666666627,13.51088498333341,13.639410850000093,13.594918699999967,16.85112675595235,16.510488666666667,18.34894228333334,26.898484661111024,37.74379508749994,38.50483388999989,42.43258433333314,42.85683286666646,41.844596333333016,41.96972800444417,42.67586678154772,42.03480094805566,40.7425985333335,44.62898179166643,45.368324983333395,33.21109758333321,23.53523447111109,21.38550111666666,20.29371510000001,16.689693877936524,13.443260601111108,13.032351501666668,13.014278085000004,13.0256004427778,16.703949933333327,15.989547499999947,18.88578839972216,27.612260058611263,37.07592969777785,39.40405116666674,43.48930629111086,43.48195811777767,44.44020745333347,43.941161800793815,44.304867491269974,44.89231674444458,42.61096508833334,45.101941597222265,46.80947633675916,33.1268024833335,22.931255700000158,21.69930892499999,19.724686149999997,16.36616746666676,13.714136549999955,13.616420344444423,13.678037433888901,13.696755102777828,17.681711045396774,16.039890611111048,19.563896051825356,28.609431850833285,37.788172072222046,40.811925603492206,44.653615308333585,44.382076371944436,45.209434804047596,45.38384162777794,45.725917181111015,44.342238610793665,43.05233567222217,46.55419305833317,47.916368043518354,33.77061436182542,23.195122966666677,21.352843765000024,20.359841025000044,16.75585055000002,14.452829383333372,14.486734883333396,13.83563335000005,14.45587171666674,17.194167183333363,16.100618933333344,18.629545732460286,28.942123647777677,39.8966614472221,41.71218082365094,43.517252169166625,42.44616683291652,44.204228121666624,45.86089318055526,44.896937837480166,45.016721922222295,44.43215383888892,47.1995981166664,47.92562699999957,33.37965763230166,23.946885430555472,21.97784149388894,20.380580933333366,16.59526575000003,14.578813149999956,14.015902133333341,13.8927338357143,13.586165573333421,13.354631824999986,14.19019135999999,16.33475201666657,19.90419349111125,23.00974228488103,28.01754179666646,38.05209944492068,39.281013277896854,40.12217135194429,40.52012504579369,40.33094913432535,27.092428230952507,19.341315621847077,23.356222418888745,24.387301549999925,22.29745779222221,22.026902683333308,21.240397676388888,19.900222683333375,16.44678924365094,13.47979786666663,13.361686450000006,13.374096483333343,13.871848999999981,16.799518587500025,16.290146416666644,20.822453588095314,29.80623559968261,40.90495751666652,42.54280165000014,43.056055350000165,43.846745850000126,44.39912415000006,45.10513751666668,45.268625449999966,45.280862755555596,42.60433143666675,45.35615140000026,46.787022333889034,33.348415411666714,22.835758743254047,21.46634003333337,19.674676083333317,16.919163400000045,13.672273216666705,13.560516050000004,13.535999450000018,13.731359783333334,17.148545181865035,17.043464608333363,22.168542794444505,31.42807839055573,42.707910369999986,42.83500982503977,43.61182470055572,44.34644815892859,45.55465255000003,46.51838500333329,46.52226355499993,46.48496095277776,45.66296694666669,45.329778877777784,46.55208029722226,36.893823096666836,24.954205577777863,22.134581400000116,20.825469203055693,16.915393903333406,13.944171179999959,13.68865631666671,13.680580933333395,14.013903583333333,17.898874375000048,17.22333656111112,19.895833699999947,28.09143258749997,38.288583888889036,40.48183623333336,42.943073336388906,43.38088962083343,44.46256656666683,45.11941233361123,44.565654961547665,44.564357678888975,42.67340991507932,46.191878633333346,48.75491349166671,33.63232879500002,23.511997568650823,21.64408711666672,20.06229287174605,16.798699666666753,13.982239799999956,13.863895483333316,13.655031124999978,13.778978766666667,17.376540097222225,16.26610816944452,19.52309916666669,28.952137416111096,39.6764548609126,41.56996073333329,41.03715914583343,43.18318596384936,43.606886809722496,43.80205188222237,42.99408655472225,42.981791753055575,43.15360586666677,44.60074529880959,42.89703522333329,33.015169376547775,23.547266504722216,21.84607426722217,20.522563949999938,16.539301516666693,13.617914933333346,13.352985133333277,13.223846983333218,13.309127410000054,17.20131095000001,16.410015716666692,19.15284443611104,27.678103811111267,37.80978132777757,40.71972508611128,42.43619568222229,43.094624633333375,44.474208721666905,44.46681494555567,44.904898248333446,43.90156366448423,42.73399139666671,45.88597437309524,46.950135019444254,32.726194500000126,23.51786935833327,21.96997373333349,20.45036340000006,16.34675245000002,13.967235808333342,13.471625241666727,13.450704980555596,13.358718703333425,17.09901221444447,16.13071486666671,18.74192504999994,28.356960810277762,38.741446714285644,42.14846764444448,43.87699530194421,43.254283427857104,43.93734010388887,45.160248787499775,44.62540811615095,43.43177041416657,42.918977949999835,46.39187229166654,47.816988224999704,33.0924592597224,23.70559716833332,21.688272527777794,20.495023183333323,16.112829338888805,14.00224069999991,13.700222550000047,13.586746516666697,13.40389039000004,13.015340683333397,14.407678044444456,16.208301353571414,20.41493998472217,22.55713889861099,29.189601466666783,37.473082240039794,39.615535383333366,38.947764380555604,39.51741304833359,41.19151711611103,24.75467839390862,20.71988707734127,21.749486038055572,24.600778033333242,22.75149595555556,22.742575883333345,21.829598411111167,20.868292605555485,17.519455989999894,14.70847758333327,14.619151999999938,14.656870041666565,14.627253899999976,17.530797808333322,18.483610054999993,20.784296633333337,30.879056377222124,39.39720347726178,40.36014328777768,41.525254784027695,41.58208622999993,41.684340424166685,41.810934769999996,41.93051677555572,42.29030127000001,40.79574952083347,46.07402951861105,45.951448743611024,35.003210816666694,24.75717758333338,21.875725011111104,20.576068915277745,16.719911191481557,13.465274016666667,13.349572758333384,13.309151169444474,13.558736433333374,16.61816176964281,16.423975583333256,19.698058183333362,28.111724140277662,38.01591547869059,39.61150799861099,42.43601959194451,43.24070424638904,42.515403708888826,42.060578393333415,41.77019177000022,41.80066299999995,40.55180131666684,45.14515684999987,46.97387869777785,34.16242797222226,24.980785286111097,22.246462821111084,20.47395219999999,16.96167018333342,13.799283316666655,13.652616975000042,13.671171641666751,13.7563307,16.72732486999994,16.220621416666617,19.057334336785633,28.40847925027774,38.85188375833327,38.665613900000075,41.84732799444428,43.45239438666649,43.95013360777772,43.679553049444486,43.865714750760645,41.849886286944496,40.78139111666684,45.01555355388884,46.14552508499983,33.567781333333286,23.96639789694455,22.035817827777787,20.079744733333282,16.732572580952418,13.921329538888841,14.018751866666749,13.884441133333357,13.84022040333338,16.865738749999977,16.088308716666695,17.773013218611094,28.537488088889,38.036846056587265,40.847041214127074,43.102735435000135,43.99682353539704,43.07734849000004,42.64217352083331,44.071039078333335,43.57479205777815,43.21954530000002,46.08451848888903,47.62593001499978,33.36609666527785,23.838948331587265,21.882336753333384,19.97708721333342,16.53458453888882,14.210450723333318,13.452334091111133,13.491668612222231,13.635920130952394,16.861920233333343,15.783527716666622,18.087599866666682,27.90703894444433,40.256273025793604,40.65697470714286,44.054142365476096,44.76507670000011,45.434904343055514,46.05781167888907,46.23551041444427,44.98741758698447,43.915879900000036,45.86089508888892,46.51143441666647,33.59713496666664,23.709969523610983,22.391682266666585,20.13627375000001,16.595582533333307,13.862849733333272,13.730620925833318,14.010908604444435,13.987864246190508,17.059821405555613,16.23839683333326,17.801332081746033,28.27844035250006,37.99107408694437,40.48672679527784,44.00330967388893,44.14471198234128,44.87379179594571,44.649465348730146,45.2713836586574,44.58351600170622,43.14552485999996,46.68626651111111,47.26841951666672,33.166143216666654,24.056037888611083,22.333157667222277,19.92510234999998,16.045344133333398,13.77548654166665,13.49408330833335,13.471734658333336,13.318070950515846,13.096605380952397,14.071924404444466,16.30362023333328,20.88286642333341,23.575377215833296,31.59701704861111,38.97984917777774,40.06398216666663,40.43202230619039,41.444900791904665,40.83540061285717,28.82451583369043,19.83767583833341,22.744991848333207,25.046089334193127,23.64942064943127,22.206590483055454,21.368014547222174,20.53374690277779,17.475718316666644,14.432955633333325,14.05315490000005,13.943771516666674,14.154299716666634,18.100545916666725,17.93779628333336,21.127321353571407,31.990365938889052,39.574966586349305,43.04156300611124,43.3305576336111,42.99081123833344,43.81643377194446,43.866092969444445,43.8029882416667,42.07309048888878,43.80106719333341,44.06784486666698,45.4064913750002,33.414923750000085,24.363231473333432,21.782505566666636,20.518632344444416,16.41193929999999,14.079081650000049,13.922449716666698,14.149299024999968,13.771750288888875,17.30394725555547,16.62130373333332,19.822508683333382,28.657493590000087,39.08228596833342,40.26075715000003,42.97009923749994,42.348346612777604,43.44217004138876,43.07990210460301,44.215878580297534,43.32679547685189,42.33982123333335,44.806097290099245,45.82365359777794,34.57549552305561,23.612633950000053,22.30989765000004,20.56479532361109,16.70618920666668,13.796880150000014,13.654332183333375,13.629393150000002,13.78673935000003,17.152731924999916,16.902363072222204,20.377122454166688,29.740150933333563,38.55362381666662,41.20551810833339,42.46683978444442,42.10631663722216,44.56813087075395,44.55841612753967,44.31456483611118,45.28672184583326,43.886424480952535,43.40520141611096,45.3458831477779,34.63135708444473,24.022841504444546,21.678695283333305,20.05240627666676,16.375778400000005,13.423196016666692,13.250154727083336,13.315058235138874,13.40187107055558,16.841701353888848,16.435479308333328,17.903348324999964,28.015361789603155,38.922527387936476,41.78822514722224,44.12856190833325,41.83917910638898,42.085619795694576,43.45810257527775,43.66878840416662,43.14296382333321,41.52276500555561,44.035108699999746,46.23033990277773,33.97265140000011,23.277020299999936,21.921219794444497,20.272557250000013,16.812391322222293,13.867573733333279,13.663161816666639,13.694841116666593,13.806363749999944,17.291939199999987,15.993941083333272,19.618853169444343,28.686152185555567,38.63597068281741,42.377329450000055,43.6361023183335,42.540154802857224,43.85994262128983,44.45099454702385,44.828361311746065,43.45572550361094,42.06777794722202,45.88689336666653,47.8397460888887,34.23177397960325,24.00515802638888,21.664677863333253,19.941736300000006,16.18306949999996,13.845458799999966,13.324068733333299,13.30600904999994,13.567948674999943,16.564483350833434,15.955362716666617,19.059914816666787,29.69867292138896,37.80937297499999,41.85927063444442,43.65471154999989,43.22412493194428,45.4371402059524,45.23773762952358,45.61532082321407,44.63198934365064,43.1856930388887,46.882916405555356,46.145408849999924,34.505471931666655,24.01370733666684,21.30754851555556,20.1896418166666,16.20996736666661,13.823125549999917,13.568099050000024,14.190566488888905,14.256929136666681,13.728556044444373,14.628368476666738,16.362361737420628,20.67998135444447,22.912694896230075,30.940501919444262,37.43724663750004,38.51719695277789,39.861894883373026,40.15217922861115,41.505739181150865,28.385955394444412,19.991167681944408,20.0584627491667,23.501188713888865,22.95520141138891,21.89138850138879,21.068172833333424,20.415232643611173,16.17406783333334,13.422949841666682,13.296125791666663,13.246088630555526,13.525468963888857,17.685142208333332,18.872715216666702,21.319357850000028,29.274149333928534,40.0113851499999,40.87382908333321,41.408557189999854,40.65872450999991,39.00965185166661,37.787492647222265,38.66372208611118,37.474836905555485,37.243655920833326,45.38218084349223,43.797468512261915,31.352900299999924,22.008487250000055,20.59683302000008,19.80288951666675,16.087180776666706,12.489068650000013,12.881148600000031,12.880233811567404,13.094951356944465,16.805567281666626,16.690935249999935,19.833003220833263,28.79839882791672,37.13982776666677,38.01181200000026,38.309636805555726,38.83778185000005,38.56255549444453,38.8337175833335,38.953405495833415,39.4744332166667,40.278166681944555,44.93702336666674,45.290733800000176,30.563335916666528,21.41610281666676,21.13651903333343,19.702397951666672,15.855081554444498,13.155333688888923,13.024569838888924,12.973557292499942,13.268734222777779,16.75531701249992,16.43698340000002,19.670643498888804,28.791433261111123,37.809190860277866,41.245510476666574,41.75964139499983,41.826814361666585,41.42381080972212,41.02256699499998,40.24441129777783,38.90627987083333,40.75925847095227,42.987342232738094,41.397987908333384,30.47641631666692,22.154158574999926,21.102886002083338,19.841793202777804,16.921708052777767,13.403243750000005,13.430444057222157,13.654169319444451,14.10361611666675,16.724684783333338,16.935023143333297,21.68723799444435,28.932358081249884,34.42303864999984,33.55600873333324,33.91083029999987,34.639722366666625,36.02651787777778,36.079381015000116,36.44338980972237,38.42394390000001,39.85332673333327,40.99160611666651,39.937013216666685,29.673635283333514,21.026187916666633,20.67183551944456,19.16099543333332,17.53977511416662,13.839968750000002,13.888726316666554,13.74624324999996,14.069713533333363,17.62224146666666,17.83489993333328,25.370064397222233,31.28465104932542,35.768883983333254,34.31122815,34.442199683333335,35.013013616666704,34.799267516666696,34.30840441666657,33.665690683333246,39.17153845773818,40.779725232777736,43.04882666666674,42.520061533333234,31.721859858888973,20.989452259444395,20.441194183333455,19.174467666666708,16.013533138055486,13.003014813888939,12.945824685000035,13.088552926666711,13.751181772222234,16.585252146666704,16.92460934388882,24.272235511944523,28.649040996944294,35.73518349999994,35.78755621111111,35.98445618333333,34.98098940000003,35.03086068333335,34.341742799999956,34.89000707833334,39.64196383333336,35.888800113888855,40.516889083333425,40.90638563333327,34.153147722222236,28.50698099999996,26.51450434999991,20.6298339166666,16.394753700000077,13.577365041666623,12.93802422944438,14.714396866666611,15.147617183333379,16.49734159999996,16.905248316666587,29.817777183333305,23.790774225000103,29.721200849999992,32.26362848333327,35.13017900000004,34.292542333333486,35.96187348333336,36.24644129166665,38.768875999999885,30.207485841666802,23.11142662083333,20.883722211428598,23.496695764285658,23.190429939444428,21.255345840000007,21.87385231055564,20.734895566666655,21.013249356388833,16.185875122222168,15.037859516666693,14.358328544444399,14.93295180000008,18.065377441666655,16.904618750000044,21.776120512777844,26.343792015833337,34.33607179666671,33.97397118666646,34.096868515555514,35.0771899922223,35.49733048194456,34.88836103888896,34.53264291944432,37.65368354333336,39.67108821777791,41.23671661944446,42.3220591261112,30.647151950000083,22.6774121166667,22.534388083333432,19.169701200555572,15.59695116666656,16.038147890833233,13.34237469999993,13.3656656333333,13.6789089055556,16.674236883333403,17.02344627166672,21.396418759722273,28.324670102777763,35.06767343000008,35.021140702777856,34.88691251876986,34.60945173555544,34.17704993333316,34.813498378888845,36.723218834166566,35.95746348777762,38.62958704571427,41.82768205865076,41.82800380999987,31.946438800000237,22.87949099999996,22.194870754166715,21.52203089888893,15.947160033333342,16.256234766666676,15.003358383333268,13.606965033333287,13.864121333333403,16.890186566666664,16.82980609047622,22.518232455555626,28.01100446222223,34.54530521416676,34.151286250000055,32.26083928333329,34.94995171666662,36.44359438333327,36.67918785555545,36.37404023333339,36.52211812222225,41.52424847777779,41.50629324051586,40.931260626666585,29.93413554999986,20.843639516666755,20.52429830194445,18.91540256452381,15.876945830000011,13.279423141666642,13.159519420833346,13.603465850000012,13.088083649999993,16.753496599999995,16.199032129444355,18.43895704301586,25.972735429166615,34.04244695499992,34.23625592249989,35.23631566805547,37.27143463333335,37.31101063333329,38.54844438888893,37.21015797499993,38.85366623333352,40.81075340222217,43.234131714880945,42.67391434999987,30.860953599999988,21.603537758333275,21.386967186111207,21.476830048333273,16.614851883333326,15.952340724999871,13.507552759999937,13.471686132222224,13.947306083333364,17.255564704444527,17.231894647222195,22.606841836111204,26.381401208611024,34.107035107936476,33.66036893999992,35.01088082333327,37.343920466666546,39.00665659166671,38.76258251666659,39.14908067500001,41.7098232277779,41.75982511277786,44.374457536944306,43.68787484555531,33.347151733333185,21.64472540138881,20.326942063333433,19.655715166666656,16.005611783333293,13.096212398888964,13.06235626555557,13.415594399999986,13.0978085333333,16.29549189444438,15.686922266666636,18.379904929444457,28.016968680555447,35.708877116666685,36.32785031666666,37.16184601666648,37.43251394999992,38.26329893333346,41.5322704811111,41.417287975357084,38.98182792500004,40.5881042611108,44.824300325833434,44.247320024444534,32.376089483333516,23.188378691666784,21.804824549325474,20.438386433333367,16.20936875972225,14.067762316666641,13.930727316666708,13.899343233333328,13.85317179999999,12.911012083333256,13.818374478888893,16.45233009388883,17.787359725555568,19.286758361111136,28.935937349999957,30.29186038333319,32.36378331111114,33.01813354277778,32.83519188416668,33.47189576250001,25.933546009722214,21.794384782142945,21.4330576063889,20.931828547222175,20.462051049999936,20.370138597539643,19.85300524880953,19.43611000000006,16.014009283333387,12.763102266666634,12.712324149999986,12.711208733333292,13.10515341666665,16.51169176166661,17.406402049761926,19.666722350000047,25.94665906666687,32.57810273333317,33.19703167222223,34.85128631736117,34.50134665518518,34.50109601666652,33.492148116666456,33.589736683333356,35.999486049999845,40.036199740555624,39.28706017611099,39.769104100000035,29.279830066666676,20.975590066666737,20.7305227944444,19.561221183333338,15.771987957777844,12.879545549999987,13.394409733333374,13.407348504166716,13.488675691666716,16.345714933333262,16.62417821666671,18.875921183333336,26.509179795833198,33.81610023888892,33.23630036499979,36.038621984722376,42.67236150999982,38.61883758999984,42.711021158333196,42.8474306888889,42.00109672916673,41.194256233333455,46.98253053511926,47.0492816999998,32.898651966666506,23.16146458333336,20.692948944444534,19.009620277777884,17.266786950000036,13.27715740833326,13.251490722222115,13.370041533333255,13.510889550000018,17.189730775000065,17.661655464761893,26.661576766944428,30.221693555000016,35.15145147999991,34.498940616666715,35.66490426611109,36.794969427777886,36.16727530000007,36.94832895000006,38.08637395000001,36.45934687638881,38.36349789027779,43.43170891666652,41.7087739499999,30.971381200000046,21.814948350000012,21.387282458333395,22.862565116666623,20.153628691666665,15.46760136666669,14.57910778333331,15.100335333333266,15.351872700000078,17.665944100000118,18.82280979666672,26.339544988888882,28.690317227500056,34.68638958333323,32.56071877388892,32.82061403361114,37.53016585333344,37.833469841666755,37.954127869444456,37.50358638333329,38.94326233166678,38.462433486666775,43.28495302333329,42.51289279999979,31.17017461666661,21.714677077777804,22.376599499999962,20.676095883333343,16.278247107222168,13.185388966666684,13.028182000000042,12.972241583333362,13.324200933333275,16.817420366666752,17.484131233333326,18.472716307222214,26.637380293055514,37.00239015000005,38.4833105016667,39.03719028166669,39.637723204166655,39.72707930944449,39.79648668027784,39.47854595361115,39.1667545833333,39.86574122666664,43.773693324999854,42.85659214999992,31.89538220000007,22.894948130000095,21.665320634166672,19.963084221666744,16.01225181666671,13.061629973333353,12.95197908333334,13.030722030555522,13.040783733333372,16.6534617922223,16.54792039999994,18.704658994444404,26.716898775833407,35.39764479999996,35.91818388333332,36.784029666666704,37.34623706666673,39.33316716666661,39.39675524166662,39.77695564166673,39.17655235000014,43.393654483333535,43.63045301527772,43.1361956111109,32.89443380666657,21.053574316666648,19.93391273619054,19.18747673027779,15.366707633293652,12.950627354166684,12.921538650000011,14.310387391666586,14.03049232083326,13.635119957777784,14.415903918888864,17.351021800277724,17.847196782420607,20.418825694444404,24.3289300666668,33.08687525694422,32.043990507777686,32.019303933333305,32.426224266666686,33.37214683333337,24.419256622341177,20.96960205333334,22.19926816543643,21.50623667579356,21.594942722222115,20.846279590277707,20.21255845000007,18.86084469761904,15.694899833333286,12.819030183333307,13.322118170833344,13.448526099999947,13.655486183333256,17.177005116666695,17.90924433333333,21.0366911666667,24.465796437936415,33.723425316666656,34.40221515444436,34.80710538805547,35.59953113333347,37.598986725000046,39.272699216666666,39.01995653333322,39.3311155,39.35670993666686,44.7074099930554,44.18292585277785,31.85669186666688,21.864081183333294,20.109496738888797,18.955557425000062,15.592531799999989,13.107624559166624,13.50773799833331,13.05365451666662,13.279050333333283,16.639096468333285,19.27421118333322,18.836803080555544,23.986876127182583,33.93623843000003,34.47387025305557,34.565295102222194,35.58985076777793,36.544348965555706,37.99021624999989,38.13640881666667,38.63669335285708,40.04295660436518,41.69139735694426,41.3983780099998,30.114290483333267,22.37960125000004,22.242172772222304,20.37169375555546,16.011726799999952,13.088227749999886,13.17093291666654,13.39824478333323,13.375164849999958,16.885293000000114,16.353788385833422,18.740421283333422,25.422807086111014,32.221390076666665,35.173658399999994,36.2127298833333,37.5417363500001,38.136738366666634,38.62170965000003,38.66395978333333,38.687555041666705,40.08070078472219,40.409647116666804,40.75028281666654,30.19325840000013,21.998803666666614,24.71976731666671,19.936435416666782,16.15984954444438,13.663056316666664,13.52364294166667,13.69921498333336,13.628483016666603,17.212492305555482,18.360638864444468,25.457533183333332,39.21368681015886,42.46304764916657,40.725617616111,37.97002063333329,35.72915413333333,35.55140855833331,35.39637489999995,37.28079117500002,33.18621113194442,39.71940756666676,41.343099066666774,39.01991602222227,29.671748450000116,23.760565949999997,23.824684616666648,22.718572749999986,20.706316658333282,14.253393299999978,13.632921127777808,13.843725633333413,14.062284366666741,18.386852022222218,19.139653865555573,35.12788850000004,38.33676369999998,40.09591897500003,36.456685663333324,35.206677916666415,34.69856721666655,37.001474425000126,37.77761945277791,39.421508227777885,35.116226013889005,40.369388152499994,46.16651986488101,45.77374321666676,34.79058517472228,26.19803060555554,25.717389483333264,20.93588803333343,17.173396591666645,15.306088466666695,15.50624514722223,16.538199850000016,16.762728750000043,23.688264916666636,19.593189616666685,28.08375415000006,33.030117991666444,40.52013129847223,37.966028526111224,37.793952162222325,38.41950049583339,39.15027548333336,39.94181043333338,39.74528855000013,38.83550397777796,40.13912339999989,43.03225679999992,41.99142721999992,31.35653295222223,22.067302457222294,21.062070062777806,19.81279308333338,16.50183201666676,13.98421548111108,14.072505343333326,13.3772292,13.825167500000003,15.72675468333328,16.82346467111108,22.49354376238095,27.23163569999981,22.070228991666664,25.395264633333444,32.881390423610945,32.52571790948408,32.32484925888876,32.76953605555544,32.02479556388887,24.389816469999953,20.322085103968238,22.699660446349093,22.087237580555485,21.74364821611105,21.224301119444437,21.196804814801677,19.344538642936573,16.26395023888893,12.595165899999985,12.652472133333308,12.777921937499947,13.192802869444407,16.487366150000042,16.991567989999986,20.34833660000012,26.500612083333436,37.370266633333394,35.83661068333314,33.85228719444456,34.35490386111134,34.72157769027789,36.70156969499995,37.55114633888882,38.709050091666526,40.61974169999995,42.496604146626964,41.45568094111112,31.46183770000018,22.333807633333315,20.016996283333405,18.934436183333375,15.481663500000039,12.87963376666661,12.831954299999978,12.868115683333299,13.195124607222214,16.660669262500047,16.430134516666634,20.464654483333362,25.441864458333317,34.118509224999954,32.8988712799997,34.0978641005557,35.24603454662712,33.93226983333351,35.5064642483334,35.36690837222226,35.69126064166665,39.93429428444442,41.13986657638914,42.650458380000124,32.200897666666776,23.446175666666587,21.804901783333335,19.6534639722223,16.238665366666602,14.566218748333327,13.381610965119025,14.749038288333292,15.409954335833257,19.699609405555602,17.168470684999974,22.41905830293663,24.220115082499873,34.85810632499995,33.72839464111094,38.57602184027789,37.41404728611116,38.781433394444406,39.129203972222165,38.361051989999915,35.76182838333325,39.018091280158984,43.90214437436509,43.558121101666636,33.27853826666671,23.20254379999997,21.93353721666672,20.33059926666661,16.59359872499996,13.85137495027781,13.817592043888856,14.644619449999897,15.215775233333355,19.121805166666668,19.20817803333333,19.634148121428552,25.94420232222229,32.08845827250001,32.93948271666655,33.14954678333345,34.22576823888904,34.364231017857094,35.12382603750012,38.13917766388895,39.642175709722146,40.339556399999964,41.07052810944437,40.49749648944435,29.64880101666666,22.41386747499997,21.519760064166608,19.84698436388886,16.44099656666674,16.156709011111136,15.753950300000067,15.060220758333406,16.0348916333334,21.908479482222287,20.576879304444486,19.873559709603217,27.00527625734099,35.34453130277766,36.22665658666661,35.39764283666676,35.70993540833328,36.72128240583334,34.33097735051598,38.18401791638891,41.262556261111136,40.21542921476196,40.571054266666714,40.98350984638877,31.606193461111214,22.326430444444423,21.08856351166671,20.383372499999922,18.301086983333335,22.148871885555494,21.326239827380988,20.242244044444426,19.193672949999982,22.41362568777781,22.960968701111153,29.42256869555564,35.27075187499994,39.78977243333317,38.13176064888872,38.20859923111107,39.06530164166672,38.53019939333351,38.15275383611125,39.52454594194446,41.75352932777787,41.002780786785635,41.15622615873003,40.6650131999999,31.702140417777837,22.11032745563487,21.148657141666714,20.374179066666642,19.564423583333383,19.573220118333374,19.042667067420684,19.41047643468257,20.05149518194439,17.127505675000027,23.224969186666595,21.28667854999986,20.81726160595236,20.468466258333294,23.5908546500001,26.21745396666678,34.73193428333325,34.76357531666671,34.775374299999996,34.79391718611111,35.80904737500011,28.678565439999904,23.546404800952438,23.92842140694463,23.10837406666675,22.48400082777785,22.722928194722236,21.662805816666733,21.02792778333333,18.47899277777779,17.75538084166672,18.660679625000054,17.7961685333334,17.806975699999988,22.265070800000185,23.70052710333345,24.35185544444441,26.693619031944454,34.28517948333315,33.21048880071412,34.02443688115084,35.0803067888889,35.663543676111225,35.85789780277798,37.83034334583334,41.10271725000008,41.1446384033332,41.134039427777616,40.746809083333325,30.651001333333483,22.027999866666686,20.98713998916665,20.14886290555557,17.507102399999997,16.160769583333252,15.868871999999929,16.10339380833326,16.712457761111068,22.116629045079442,22.701423716666643,21.124881200000058,26.640441416626853,32.25756796666652,33.60566772888865,34.312842952777906,35.323077690277856,35.74185622222222,35.21561128888887,35.76720394999981,40.374693829166446,41.10441238333332,41.0424081241668,40.77317811666668,30.823845550000073,22.910652183333305,21.944602899999953,19.89863025611112,16.126071749999934,15.552613776957605,13.416065606666722,14.216340041388856,14.236097106388932,17.758705150000072,17.38680812777778,22.94991293055565,25.632728616666434,33.496573633333185,33.78180244999999,34.69780305000004,35.62609592500011,35.992106412301666,36.830273236111196,36.75352526666672,40.37770643333333,40.753222716666585,41.147350161111135,40.66528432333339,30.36976031666661,24.664121349999963,22.183326683611067,19.425154266666638,15.809179083333419,18.02907655420639,13.150126025555565,13.578722586388897,16.28681266388892,18.099097793333325,17.861182334444432,19.26697279055559,28.622273488888865,24.66342860777766,31.723103259722052,32.0454341819444,32.75515076777778,33.20148106666641,33.33606048305532,36.69099609166671,40.22795152222215,40.18023766027782,40.698907283333384,40.20584484999996,31.155944609999963,26.615966149999913,22.87667796250004,20.227211732222084,17.57132629583332,15.733331103432523,14.273453366666692,14.560532125000083,15.064496049999992,18.34186300222228,18.213081477777834,23.17267275472221,26.610324718055434,32.585390238611154,36.16463944166652,37.02233751666673,38.022925966666634,37.54424039761919,34.80774226777769,40.373626138333435,41.51794220000023,40.898903305555585,39.88177052111112,39.27531636865067,31.030581522222256,22.27686184444442,21.37719124999996,19.63542886055558,15.747447516666755,17.25970130277782,17.10465446944449,17.138308266666648,16.325075183333343,21.77189794999996,22.41385530539683,24.083328762777768,34.420060600277836,40.646140201666675,40.30125392500012,40.05577024166681,40.80450057916681,40.5456487041666,40.098255366666706,38.45891880357141,42.1308584069445,42.94561544444447,39.4911505583334,48.309247633333534,40.842998955555764,26.937729949999973,25.566294033333396,27.58199829166671,28.37507721666663,27.306656969166575,32.93074406666679,32.169316499999915,31.27919598333335,32.95634081666673,34.92335923333337,37.16438174999993,40.30016374999996,40.237703099999884,42.41355715000005,44.304967024999826,41.79266992499972,40.80894950000008,40.374135216666566,39.794296425000056,33.315460361111086,36.27542351874989,35.71811516249986,36.68542748666664,34.80440947555552,31.26888408333334,28.50339988333336,29.031148500000164,23.806361800000005,22.782678799999967,23.911698499999932,23.272477469444382,25.832618116666463,29.431765583333164,32.10536355000001,34.627194049999844,38.52975220277791,36.804005253888924,36.00449857500029,35.35228232222229,37.29768950789684,36.25642069916666,35.5139229911111,36.930686166666646,38.70654449444451,41.56793089583335,41.02548602083331,41.052154783333435,32.150540303769766,26.051239783333266,24.177621250000026,23.303152233333346,19.148520925000025,17.365635583333344,20.902422222222214,18.90981352500004,16.17869934166673,23.7143265666666,23.57776028333318,34.03811885000003,40.12653186666666,40.9681588958333,39.54551853750003,37.67603301666684,36.83201899444453,35.500246411111156,35.43377057805576,37.691641383333184,42.34605268888909,40.79306810750024,41.52612416111131,41.18968390555555,30.644535133333562,26.911813749999965,26.166260133333346,22.571472563888854,19.508878333333488,17.50035376666665,17.397642258333306,18.349058999999993,19.95819421250002,21.407272833333323,21.898227683333413,27.91057330277784,35.663070997222434,37.65758692666666,36.1151044216666,35.91647044999993,34.46813332499996,35.114874066666566,35.99650293555544,38.80447016666669,41.719373592619036,41.14835070138893,41.07190397380942,41.42979718999981,30.118967216666857,24.339207383333367,22.217505766666655,21.3476572305555,18.673175799999978,16.221319717222183,16.39806757083328,15.827482320833363,16.612254549999907,22.25107644999997,18.423747399999936,23.17531252206357,37.03997413888895,33.441238816666534,30.768587620833245,29.69072798333328,29.09196568333326,28.03262415000003,25.14301426666673,29.316454299999975,41.59415233694435,40.36061785000003,40.633699263968225,41.01529426174592,31.2211964833333,22.5210279833333,25.065062233333347,21.53530051666665,19.562303461111124,17.49175714999996,17.556242616666687,19.211558283333364,18.542574758333362,19.922731183333365,20.806666424999964,22.890266115277836,35.05916215111115,37.83267304083324,34.145634200000146,33.44790878333316,33.370088474999974,35.62719572500022,37.513033430000036,39.36462515083329,42.095872121111036,39.32759008055582,40.54527521777764,40.16713043888864,31.468074062222197,22.211685548769825,21.70222170555552,20.509219099999985,18.737869400317482,14.86169513499992,14.747106213888813,17.367574421666667,17.074004661111154,20.724232133333278,21.42375056666659,23.907503471666697,28.6759299813889,33.57782798690475,33.62886076428566,34.07497808809525,34.02858416944434,34.74035027361101,34.91770215662699,40.73003725000007,40.22617884111116,39.69024776027767,39.63107515666662,39.93526503333318,32.176538916666395,22.08162119999999,21.00284090000004,19.82272889999988,18.43320688333336,17.229001653333327,19.631564400000133,16.16084635000007,15.28076412222218,18.534238216666587,15.922048900000084,20.446442668333265,16.74225706666662,19.20122876666661,24.39180941190477,29.67199668333317,30.252786583333283,31.60516093819429,37.146435774999915,37.881589158333206,29.109586458333368,23.146828773611162,23.2490627722223,22.767710816666593,22.404700900000044,22.86851387583326,20.455338642777754,21.659492611111002,15.912755913095204,15.058629245833295,14.18619662361115,14.026198050000028,14.506312766666758,18.526416150000035,18.024760601111023,21.747318680555626,26.03503094166657,34.96853428000012,36.16251476666683,36.026480216666755,35.40420065555559,34.905086761111015,35.565767923968195,40.3095485477777,41.946324618055556,42.146727406388955,42.157910453333315,41.67568125833317,31.448843950000114,23.021029116666597,22.173890149999867,22.302333458333337,20.298199733333348,18.90425738333335,19.187815816666692,18.31192708333332,18.05788483333336,21.269156494444367,18.465100966666675,26.133076072222227,27.343569582777764,32.08582302833328,33.670252556944455,34.86921901666681,35.48899601666672,35.30263551944435,36.098900553968214,37.991491425555466,41.6488173640476,41.42189110944434,41.293563189999986,40.95501014999993,31.74127541666669,25.195522174999972,22.264546799999955,20.678985219841262,17.206324536111083,15.17847656222227,16.88967522805558,15.62208457500008,16.626491533333326,17.686203083333357,17.886141849999987,19.775543190158754,25.653009566666782,32.163187261666494,32.73724994583308,34.53649196111115,35.87342359999998,35.551116541666694,34.870723891666856,39.64632567500014,41.56037605194442,40.63356585000024,40.33144139055555,40.40101414499989,30.608954998888844,21.865543241666707,21.341868116666763,20.424606730277745,17.784278055277767,14.839309692242015,14.358464089186466,16.230967727519875,13.825839039166622,16.657106483333294,17.385255299999955,22.31364022412699,25.03809217329359,32.34067919583309,32.934440504444304,33.59198796111113,33.86208177500008,34.454802097023695,36.74512264333324,38.30742702499997,35.24170200166673,36.8145675397223,41.13381894777779,44.081509909523916,32.20562693333341,26.84489834999995,25.736098816666605,27.62370623341279,23.154564266666554,21.472362920833262,22.49957472499997,21.931553633333312,25.4287095361111,28.917622483333325,29.850533266666773,33.55292371666666,35.98517095833341,39.97341812777778,38.99934570055542,38.692127741666624,37.453545943333246,37.00082598861112,37.37861850293653,35.36808923404755,40.23282720777775,39.13614544277784,31.669426383333164,38.802010791666575,31.422274684127093,25.676034492063543,24.7993219777778,20.836482750000037,19.30628924388891,14.674729626111228,16.088062991150846,14.526014216666688,15.32712945000001,18.67578198777778,17.389109561111145,22.58027171222226,26.480783335515802,33.068407493889,34.95361376416662,34.95649663333332,35.36532938888885,36.39248921361115,38.068678626269836,40.252194503333314,41.33908992666683,40.73359628333336,40.85671471666655,40.67485829055551,32.01788253333341,22.31462924999998,21.58984946666671,20.223026216666646,15.606164394444436,14.373772361111177,17.35541178333334,16.30382298333332,18.02489266666667,17.516844489444363,18.53369933999999,28.050514398888996,35.046986083333366,26.62158497833315,27.515061762500068,36.17778408888879,36.29117552499998,35.24240988611112,36.741192955555746,37.03649373333331,29.975982316666585,23.30779621666672,23.63867983944448,23.443544238888826,30.26445586166666,23.730632102777783,23.32298913333332,21.82710219777782,19.56599481222218,17.4358035683333,18.31356453916666,17.254416826666674,17.021724485000053,22.419872349999974,24.76718638333324,38.58281658333338,52.92666915000012,52.286511386111236,45.111238187499914,40.13913113333338,39.03380768333336,38.64002896666657,37.98939519999994,38.7105678333333,41.23733300238075,45.29789098500027,43.1704537499999,42.48216601666659,36.11881280317464,28.75172988333329,29.255485766666666,29.476939758333277,20.42667892940477,21.139106333333327,16.966719250357176,16.92308605,16.241739933333346,23.31983286666672,25.602130699999936,25.732372916666687,37.18124836666676,38.842334093333434,36.88835030833342,37.4574139333334,35.80198889999991,35.17147079999992,35.37602914166635,38.404908483333394,41.712104818055494,40.18846541138902,40.32004882333315,40.36066375460301,31.459484783333345,25.38031381111118,23.610042750000012,22.268278941666672,18.537613266666774,16.65238650833333,16.83417540773818,17.845342450833353,17.77442644249993,20.127257233333324,21.41857334999991,26.61507313000013,32.27825180833344,35.75091712749989,34.29618107208325,35.09224268749998,34.28106417083327,35.40634906666667,34.55457922000002,34.815249983333345,40.54126511541676,40.444702933333446,38.974698698809455,42.20386681309529,33.18203566666679,27.013724216666542,23.45673394999999,23.144882783333355,16.944345216666704,15.621761715674577,14.088272158333409,13.001601125000072,13.687006866666668,17.82914510888891,18.001653484444404,20.848787132222313,23.998907954444373,32.407900130000094,32.66081190000002,32.56027159999993,33.19073551250001,33.22491771249981,34.235532775277896,35.897094314999975,41.44440911777779,40.575820703095125,40.03592205000018,39.63263469999981,31.730020412539883,22.804703453611157,21.40624835000002,20.909912600000048,17.312513833333284,18.735764618333295,19.199688175000006,17.90530965,18.155394733333313,20.382681955555633,21.642759805555592,28.889385883333386,29.929607279166554,37.597057068015836,39.79273707999982,39.82720511333313,35.33592674777767,37.35669295833329,38.14507420277775,35.98541815833328,38.3307001565477,39.86602969749991,39.56313250555556,39.71166183333339,32.15183325555565,21.872768683333284,21.493443849999938,20.588619401666687,16.854315516666706,15.370306911111095,16.06740568888894,15.64297633333333,15.687886466666694,21.396215832063426,22.78246389095232,25.503880992222236,33.3912097083332,35.925812099404794,37.76818533333324,38.122731266666804,37.66329074500006,37.654411325000176,36.43494397638876,40.72308232666663,43.73628421638888,42.9689096333334,41.78969248333339,44.588250999999886,35.46937061222207,24.60478836305559,23.65024570000013,21.431367150000014,19.0607079516666,18.067196194444364,16.668096827380854,16.772539862499947,17.902554158333317,23.285131733333298,23.067651733333317,31.07144305000019,36.44605498333315,33.626342833333226,29.17499233749982,36.56305276666679,35.70680693055566,35.90287962500006,35.37036029444461,37.15843504166667,32.109284150000015,24.62715946888888,23.831864289126933,23.43791423499996,22.95395159718254,22.14033579579355,21.750676776944456,20.731375149999984,18.078054500000054,16.18167351666667,16.066884466666696,16.086152400000028,16.11069265,22.989217666666683,21.678989966666666,24.1814389944443,29.334940433333212,50.87145069249994,40.07676865833346,38.113151195833346,37.043119346666614,36.02774812999999,37.162607472222284,38.70638784166672,42.87478184833338,43.25368525833338,43.93306290416682,43.851886149999736,37.80665623888901,29.41885261666653,25.390569850000055,24.939532308571472,18.7751119480159,17.20790529833341,22.713147770555533,18.385817402698436,19.314314344444476,24.089090514484177,22.76443965000009,32.96969865555566,42.33013698958338,46.91445279166665,42.23875081250002,40.298953466547786,38.44844714583338,36.409524721111126,36.370638239444474,38.44706760222224,42.591541144444605,41.88994727777778,43.35955303507918,45.76934258333321,33.84229759999999,24.41935186666665,24.220600283333365,23.15609347777772,17.664807266666617,16.666969803478793,14.64863466888891,14.858754713888835,15.630170699999946,19.400468913333384,19.817361027777775,24.03368771666665,28.134342137777725,32.807971818333066,33.708111661111126,34.80659561666674,35.78249648333331,35.28644266666667,35.35539432777772,37.312261066666686,42.23027243333346,42.019469499999985,42.32328359999999,44.540784283333245,32.55232451666663,24.30064173333329,23.373580733333387,20.93542134777777,16.367245516666657,14.074205101388904,13.822276916666711,13.830949391666719,15.759700974444494,19.5094604833332,19.470764041111035,25.299846534444452,33.18090305833328,32.20182014138871,29.993991510000008,27.43332005,28.23920179166668,29.149153672777818,29.35775704888893,36.94676053666668,42.210225733333345,42.45394331666674,42.82024404444452,43.91149845555549,32.42043332916663,24.124861383333357,24.50255118333338,22.0252356666667,18.69011869444445,14.994635776666614,18.158067233333394,21.568487433333328,21.325081333333348,20.50260980079366,24.30186062301586,25.16573612833326,29.443987266666554,40.31032992083331,38.622577242222185,37.90873716777776,38.52768213083338,36.40411720833317,35.75730511666675,42.31519116166672,42.47592014999989,42.77625870000017,43.263036934722244,42.42402877444417,36.43036541773802,30.78921026666675,24.04335251666658,23.26322173333343,18.827834333333332,19.014750044444522,20.59025180000002,23.04692960000005,25.488883583333365,29.452763833333268,26.05317020000001,30.37775268888907,44.084327533333564,42.566364048611185,39.73831153333341,37.842794733333406,37.39280498333338,37.42695604611095,38.48809117222212,42.59233448333353,43.15133249999996,42.60247890000001,42.02664500833329,46.52739352261912,45.06875360797631,28.77242535000003,27.134739099999862,25.350001100000057,22.48407940000003,20.517038050000075,27.96120313333335,28.256218400000026,28.673306283333368,28.739752166666715,29.07865486666673,40.39856098333331,36.46464269999997,35.464057016666686,36.45786671666674,39.65299721666664,38.425633199999915,39.95527700666668,40.45962899999995,39.65316158750019,34.06850353333323,39.85177981111086,39.93349066666639,41.35247726666643,39.14161591666662,34.666397150000165,32.21916193333326,28.102459016666742,25.20087220000007,24.920330516666617,23.777809399999974,23.032044649999936,22.938936338888823,27.765424883333175,31.42628279999998,43.91870359999972,45.26348443333347,44.7743869151192,40.53699690833314,39.599233316666684,38.9953379833333,38.78961388888885,39.12121103333328,43.91389283333328,53.67956856111111,45.83117366666677,39.86707566666666,40.77020176666674,34.73968838333321,32.21438679999993,27.57252116666649,25.100124174999994,22.719852527777714,22.612139744444363,21.60900973888883,22.196969937777723,26.303421433333217,27.848194216666506,37.510365333333304,43.663265783333145,40.11505444444451,44.76839673194442,41.72272346444417,40.686460716666545,40.61279460555556,39.59100434999993,38.48284394999999,40.493697350000076,46.8370799950001,43.66751516111095,44.48988634861103,41.78464343722233,39.00427004583341,31.450856433333115,28.657708733333425,22.850865283333334,19.441868083333443,17.763447350000003,18.046100766666726,21.041629466666755,18.58244501666664,23.2422620888889,22.38618239999988,35.230617516666726,39.399880331944516,39.03629362249978,40.106001841666604,36.377959100000005,36.4647967833333,35.35813667861105,35.718470820277744,40.85058580777783,42.44945685277769,44.67276242444455,41.34795965833331,42.3463980063891,41.239973575833275,26.139731927777735,24.346089449999955,21.65177803333337,18.628781300000075,17.41136491666673,17.849973983333424,19.270702350000075,19.369340549999993,24.17753363833334,32.184886266666844,31.52327683333353,37.32992958055561,36.70689633849214,35.25464748750009,34.198865766666685,34.075021025000055,32.83674788333329,32.59849213666666,35.83127766999991,42.429772066666736,41.47929049999988,40.85986650833335,42.397719472222086,37.19728783333352,29.49964321666669,27.907742116666817,25.628436610000133,19.140390516666663,23.712409183333314,16.510089683333444,17.916637350000073,18.567691800000013,20.886434588888953,21.158878166666724,34.16614462500018,45.435737401805504,49.52286083888871,44.370373524999856,43.734381019999816,43.037740853333176,39.00526398333327,40.400590350555554,40.60939150833339,46.087497068611086,44.84876264305547,43.34720198333332,43.80808708333339,39.35338368333306,28.82605221111113,27.47700603333334,23.112813866666755,19.386534000000026,15.866827225436477,15.201031008333272,15.419896216666741,19.05530896666661,29.722768849999905,26.517918200000025,29.413387502777883,47.70780255277779,47.73001624333329,44.33992307583323,38.17363555000008,37.904125316666715,37.25351426666656,36.90920093833339,38.20856708166664,43.454716511666746,42.80026829999986,42.20269759999983,42.1258123255553,34.20512815694455,25.403089016666645,23.98707168333339,21.939491233333282,19.728892384722222,18.76673068333332,17.404120633333388,18.190482350000035,18.61641571666673,21.05036503333337,22.478827649999978,39.35217340555564,44.55716488333329,44.00470098333318,42.18750341666673,45.92372028333326,43.73661796666658,40.1005639666667,38.69487765416658,38.382051999999916,36.63411163333318,38.054973088888694,39.38273574444413,41.0698165166664,37.627609766666616,36.28668071666685,31.77119843333343,25.42516772499995,20.233532366666708,19.344444358333337,21.64187055833337,20.74768488333333,22.374560049999868,24.749040000000004,25.869385149999932,40.98410457083335,46.72093597083335,41.72209906750009,41.54906210456354,40.66537659444438,39.49509425000001,36.5637401749999,37.509555916666606,39.86380258888891,43.966294871627056,42.31140008055571,41.81786473333328,41.6062062166667,32.407999105555554,24.798108477777724,22.71822488333338,21.171913149999966,18.07528214999996,15.759729316666638,16.51163912499998,17.383562091666658,17.26403382916668,22.358895905555535,23.01589108333332,36.81250891250013,37.056021773333484,43.1516540305554,40.637970183333394,40.147781574999875,39.55923009166659,37.923772716666655,37.78226576666668,39.49536254166671,44.90659106444413,42.34389807777772,42.78805712777782,46.1173045500001,40.37175197083336,28.234548216666745,28.250669616666773,28.12565621833334,21.44227355388892,17.758552833333376,22.0416727166666,22.41904726666665,22.02362432499997,29.37169904722228,31.85047915555559,42.532422791666505,49.46671358333343,45.82212034999999,43.513872533333355,42.79613016666677,42.4978012333334,42.77451391666674,43.69618093333347,35.37413963333335,49.699838899999726,49.55740629999995,40.38471023333327,40.0249750999999,38.21696685555581,38.490139816666805,31.920063883333267,28.578582949999983,26.688537350000107,25.115865666666753,26.997191500000035,28.511040633333305,28.197164366666627,28.317675966666705,27.59768071000003,40.07246123333322,43.93211576666665,38.5421740069444,39.39626213333325,37.65622848888886,36.73024613333329,37.27793046666669,38.38761941666669,39.088056794444334,47.01650237777771,44.43437396083346,43.3268973416668,48.476078616666506,38.423069458928744,31.44806914999981,23.548384133333244,27.49043181666667,21.73291469444448,24.363994766666636,23.046547949999987,18.93048524444451,25.820129183333336,24.48803281111114,25.192339416666712,32.791358900000134,35.56751009333336,39.979889340661316,38.55378704777758,38.62554331388887,37.09922449166655,36.151280549999896,35.70103218333339,38.536790796666736,42.41595295833326,45.85128373611124,47.30938186666677,46.01493427500004,38.77354945000013,24.470228700000106,29.518411266666693,27.914216366666835,23.237997466666673,18.891771466666736,21.604945283333368,23.777182033333293,17.919773183333298,20.70288293333328,21.036030783333345,41.44452870000019,40.80425587583341,41.64871508888892,40.30612534999975,39.05674989166645,38.97103374214286,37.567969920833384,39.66609705277796,40.51468881666691,47.3028485680555,47.32711556388898,47.272839645833365,46.54058896666687,44.75247321523781,31.58622454999991,29.620845999999943,24.90289108333337,22.3294195333333,20.806408500000032,19.100375816666677,23.890012999999918,20.560970845833285,20.3881195722222,20.218085066666614,25.018653200000177,22.418424424999984,23.749670043333236,30.4742695333334,37.65176401666651,36.91541974999996,34.91904328333335,35.49245151666648,37.69349114999981,42.76381898333341,35.14586143333329,32.689261050000034,28.386133066666602,27.530052633333387,32.52596354999991,31.488620316666665,28.707570949999976,25.852162666666707,18.547217416666705,18.08027661666668,18.39836140000007,18.779645144841286,26.29116409861108,30.49950575833344,39.66256084999985,45.531478983333024,47.38913134388905,42.3782942422222,39.48239893500004,38.78452064999988,38.131007883333254,36.66567083333327,39.19888454999996,47.55876446388896,47.70636678746017,46.08679166111095,46.64896295000005,37.29230111666687,32.854898083333225,30.87690666666669,25.451151849999988,21.82650183333331,25.406571683333315,27.970774183333297,27.13722513888881,26.703610638888804,37.30324861666671,43.20331545000011,46.039065183333065,51.91106371666664,50.40056664583358,49.44780105611123,47.20648899999993,48.26569196666679,48.72297765000012,47.22384231666658,47.62405044999991,42.780687811111136,43.228730044444276,44.460750249999876,44.489088533333295,47.57983365555534,37.20818026666679,33.93013016666665,26.919332916666566,24.912499350000008,23.400523233333278,24.411947999999903,24.52425459999987,23.996272983333235,26.809136499999926,29.96385611666663,41.26207198436487,46.265334450000054,48.39212768333354,46.98706451666655,41.8805493166666,40.16736650000006,41.22826323333324,38.62942958333326,39.654060666666595,47.47547630555524,47.270491766666346,46.04150244999981,46.21664088333332,44.710268259523666,38.14855556666688,32.95957451666667,26.89326355000002,24.829304300000054,24.511045066666668,27.53702783333323,27.17637111666659,29.099464083333263,30.279000950000103,33.187660000000086,44.63503254138889,50.395845988888844,47.18330499194431,44.56849459833331,44.79739879999985,42.11612981666673,41.15107290000006,41.540536416666676,44.77680813333341,49.993184572221956,46.17029370833318,46.635646016666655,45.990923683333364,41.16352938253959,36.247947183333466,31.554441383333305,28.872215733333178,26.26660636666651,25.43431198333342,28.11537861666682,27.523116783333226,28.217163133333194,30.82250990000001,34.46571565000011,41.77854583333312,48.91132096666672,44.39274669972238,41.97996283333328,40.01880928333341,40.1165521333335,38.64220776666684,38.137187350000076,41.56479262500006,48.363675066666595,50.56030360833313,48.430304945833335,49.06862080000015,42.42757643174606,34.310099972222105,30.183069116666534,28.59190986666662,28.250540249999975,26.943872616666678,28.38400584999996,29.045925916666548,27.75108998333321,34.627004800000066,36.99558433333345,37.54063653333329,45.903091489444584,47.05324184999994,44.73053891666654,42.3013403833333,41.722336849999834,39.02006616666671,38.52922309444439,42.91922749777803,49.285459355555616,49.707064499999944,49.260091850000045,49.00598183333347,48.52340222361116,32.31505418333338,29.02830658333338,26.60657303333333,26.565583850000042,25.62258851666668,24.249531799999954,23.999209849999893,25.002405833333242,28.337608883333292,29.666827850000058,34.459550466666734,38.32231904999984,35.91372896666656,39.00314735000001,39.062125616666584,37.88656233333336,37.21414341666658,34.960885658333176,35.705589862499984,39.59240962499994,39.36162391111092,30.086252500000057,28.02602957999984,26.425804291666747,27.164514799999953,25.944236416666605,23.358338999999894,20.85362398333331,21.086894949999927,25.665585733333213,26.542792705555406,25.903651258333152,26.641444766666474,28.44278648333336,42.21587716249979,44.21969953333328,44.22804707777785,42.315279204722245,40.42090686666665,39.58813343333339,38.253767266666614,34.977672150000025,36.1551410333334,48.66115329999996]}},\"id\":\"bfd1a519-9c80-414a-9722-45c58af54f4b\",\"type\":\"ColumnDataSource\"},{\"attributes\":{\"plot\":{\"id\":\"a8092d24-9325-4be3-a889-62f56a142c7f\",\"subtype\":\"Figure\",\"type\":\"Plot\"}},\"id\":\"2f779267-785e-49b8-b4ca-2f876d892d79\",\"type\":\"WheelZoomTool\"},{\"attributes\":{\"plot\":{\"id\":\"a8092d24-9325-4be3-a889-62f56a142c7f\",\"subtype\":\"Figure\",\"type\":\"Plot\"}},\"id\":\"709ec10c-ee99-440c-8a22-6fffef5d97a7\",\"type\":\"PreviewSaveTool\"},{\"attributes\":{\"overlay\":{\"id\":\"bc2e49ff-7090-4993-a145-d86bf8ef6b58\",\"type\":\"BoxAnnotation\"},\"plot\":{\"id\":\"a8092d24-9325-4be3-a889-62f56a142c7f\",\"subtype\":\"Figure\",\"type\":\"Plot\"}},\"id\":\"107659f7-eda3-456c-b1b9-de243d9a580f\",\"type\":\"BoxZoomTool\"},{\"attributes\":{\"plot\":{\"id\":\"a8092d24-9325-4be3-a889-62f56a142c7f\",\"subtype\":\"Figure\",\"type\":\"Plot\"}},\"id\":\"c671cfff-eeca-4f0c-97fc-21cf28aeab0f\",\"type\":\"ResizeTool\"},{\"attributes\":{\"callback\":null,\"end\":70},\"id\":\"151174d0-4c27-45f3-ac08-6faa9aa9b54b\",\"type\":\"Range1d\"}],\"root_ids\":[\"a8092d24-9325-4be3-a889-62f56a142c7f\"]},\"title\":\"Bokeh Application\",\"version\":\"0.11.1\"}};\n",
       "            var render_items = [{\"docid\":\"9570986c-fe11-4d24-9183-62440761248f\",\"elementid\":\"c72c5db3-d810-4349-8dca-a6c5622a82fc\",\"modelid\":\"a8092d24-9325-4be3-a889-62f56a142c7f\",\"notebook_comms_target\":\"5a01e44d-6798-4961-b834-f434bef9af2d\"}];\n",
       "            \n",
       "            Bokeh.embed.embed_items(docs_json, render_items);\n",
       "        });\n",
       "      },\n",
       "      function(Bokeh) {\n",
       "      }\n",
       "    ];\n",
       "  \n",
       "    function run_inline_js() {\n",
       "      for (var i = 0; i < inline_js.length; i++) {\n",
       "        inline_js[i](window.Bokeh);\n",
       "      }\n",
       "    }\n",
       "  \n",
       "    if (window._bokeh_is_loading === 0) {\n",
       "      console.log(\"Bokeh: BokehJS loaded, going straight to plotting\");\n",
       "      run_inline_js();\n",
       "    } else {\n",
       "      load_libs(js_urls, function() {\n",
       "        console.log(\"Bokeh: BokehJS plotting callback run at\", now());\n",
       "        run_inline_js();\n",
       "      });\n",
       "    }\n",
       "  }(this));\n",
       "</script>"
      ]
     },
     "metadata": {},
     "output_type": "display_data"
    },
    {
     "data": {
      "text/html": [
       "<p><code>&lt;Bokeh Notebook handle for <strong>In[31]</strong>&gt;</code></p>"
      ],
      "text/plain": [
       "<bokeh.io._CommsHandle at 0x1293b0f50>"
      ]
     },
     "execution_count": 31,
     "metadata": {},
     "output_type": "execute_result"
    }
   ],
   "source": [
    "p = figure(y_range = (0,70))\n",
    "x = range(len(plot_pred_list))\n",
    "p.line(x,plot_pred_list,color = \"darkred\",legend=\"Pred\")\n",
    "p.line(x,plot_actual_list,color = \"navy\",legend = \"Real\")\n",
    "show(p)"
   ]
  },
  {
   "cell_type": "markdown",
   "metadata": {},
   "source": [
    "## Random forest -- Use only external feature--with previous temp(temp delay)"
   ]
  },
  {
   "cell_type": "code",
   "execution_count": 198,
   "metadata": {
    "collapsed": false
   },
   "outputs": [
    {
     "data": {
      "text/html": [
       "<div>\n",
       "<table border=\"1\" class=\"dataframe\">\n",
       "  <thead>\n",
       "    <tr style=\"text-align: right;\">\n",
       "      <th></th>\n",
       "      <th>Temp</th>\n",
       "      <th>Month</th>\n",
       "      <th>Weekday</th>\n",
       "      <th>Hour</th>\n",
       "      <th>Temp1</th>\n",
       "      <th>Temp2</th>\n",
       "      <th>Temp3</th>\n",
       "    </tr>\n",
       "  </thead>\n",
       "  <tbody>\n",
       "    <tr>\n",
       "      <th>2012-01-01 03:00:00-07:00</th>\n",
       "      <td>20.666667</td>\n",
       "      <td>1</td>\n",
       "      <td>7</td>\n",
       "      <td>3</td>\n",
       "      <td>20.000000</td>\n",
       "      <td>20.333333</td>\n",
       "      <td>20.666667</td>\n",
       "    </tr>\n",
       "    <tr>\n",
       "      <th>2012-01-01 04:00:00-07:00</th>\n",
       "      <td>19.000000</td>\n",
       "      <td>1</td>\n",
       "      <td>7</td>\n",
       "      <td>4</td>\n",
       "      <td>20.666667</td>\n",
       "      <td>20.000000</td>\n",
       "      <td>20.333333</td>\n",
       "    </tr>\n",
       "    <tr>\n",
       "      <th>2012-01-01 05:00:00-07:00</th>\n",
       "      <td>19.000000</td>\n",
       "      <td>1</td>\n",
       "      <td>7</td>\n",
       "      <td>5</td>\n",
       "      <td>19.000000</td>\n",
       "      <td>20.666667</td>\n",
       "      <td>20.000000</td>\n",
       "    </tr>\n",
       "    <tr>\n",
       "      <th>2012-01-01 06:00:00-07:00</th>\n",
       "      <td>19.000000</td>\n",
       "      <td>1</td>\n",
       "      <td>7</td>\n",
       "      <td>6</td>\n",
       "      <td>19.000000</td>\n",
       "      <td>19.000000</td>\n",
       "      <td>20.666667</td>\n",
       "    </tr>\n",
       "    <tr>\n",
       "      <th>2012-01-01 07:00:00-07:00</th>\n",
       "      <td>18.000000</td>\n",
       "      <td>1</td>\n",
       "      <td>7</td>\n",
       "      <td>7</td>\n",
       "      <td>19.000000</td>\n",
       "      <td>19.000000</td>\n",
       "      <td>19.000000</td>\n",
       "    </tr>\n",
       "  </tbody>\n",
       "</table>\n",
       "</div>"
      ],
      "text/plain": [
       "                                Temp  Month  Weekday  Hour      Temp1  \\\n",
       "2012-01-01 03:00:00-07:00  20.666667      1        7     3  20.000000   \n",
       "2012-01-01 04:00:00-07:00  19.000000      1        7     4  20.666667   \n",
       "2012-01-01 05:00:00-07:00  19.000000      1        7     5  19.000000   \n",
       "2012-01-01 06:00:00-07:00  19.000000      1        7     6  19.000000   \n",
       "2012-01-01 07:00:00-07:00  18.000000      1        7     7  19.000000   \n",
       "\n",
       "                               Temp2      Temp3  \n",
       "2012-01-01 03:00:00-07:00  20.333333  20.666667  \n",
       "2012-01-01 04:00:00-07:00  20.000000  20.333333  \n",
       "2012-01-01 05:00:00-07:00  20.666667  20.000000  \n",
       "2012-01-01 06:00:00-07:00  19.000000  20.666667  \n",
       "2012-01-01 07:00:00-07:00  19.000000  19.000000  "
      ]
     },
     "execution_count": 198,
     "metadata": {},
     "output_type": "execute_result"
    }
   ],
   "source": [
    "target = total[[\"Value\"]]\n",
    "feature = total.copy().drop(\"Value\",axis=1)\n",
    "Y = target.values.reshape(1,-1)[0]\n",
    "X = feature.values\n",
    "feature.head()"
   ]
  },
  {
   "cell_type": "code",
   "execution_count": 199,
   "metadata": {
    "collapsed": false
   },
   "outputs": [
    {
     "name": "stdout",
     "output_type": "stream",
     "text": [
      "Mape Error =  0.0228257114162\n"
     ]
    },
    {
     "data": {
      "text/plain": [
       "(6220.5132944480347, 272522.20888181822)"
      ]
     },
     "execution_count": 199,
     "metadata": {},
     "output_type": "execute_result"
    }
   ],
   "source": [
    "# cal insample error\n",
    "from sklearn.ensemble import RandomForestRegressor\n",
    "clf = RandomForestRegressor(n_estimators=500)\n",
    "clf = clf.fit(X, Y)\n",
    "pred = clf.predict(X)\n",
    "cal_error_for_list(pred,Y)"
   ]
  },
  {
   "cell_type": "code",
   "execution_count": 200,
   "metadata": {
    "collapsed": false
   },
   "outputs": [
    {
     "name": "stdout",
     "output_type": "stream",
     "text": [
      "Importance of each feature\n",
      "\n",
      "Temp : 0.0281300625286\n",
      "Month : 0.0514156926606\n",
      "Weekday : 0.0666751856797\n",
      "Hour : 0.737671873761\n",
      "Temp1 : 0.0229113175863\n",
      "Temp2 : 0.0358535157394\n",
      "Temp3 : 0.0573423520444\n"
     ]
    }
   ],
   "source": [
    "# see which feature is important\n",
    "print \"Importance of each feature\\n\"\n",
    "for name,score in zip(feature.columns,clf.feature_importances_ ):\n",
    "    print name,\":\",score"
   ]
  },
  {
   "cell_type": "code",
   "execution_count": 204,
   "metadata": {
    "collapsed": false
   },
   "outputs": [
    {
     "name": "stdout",
     "output_type": "stream",
     "text": [
      "Mape Error =  0.0653710731873\n",
      "Mape Error =  0.065494308852\n",
      "Mape Error =  0.0564755932259\n",
      "Mape Error =  0.061090966353\n",
      "Mape Error =  0.0626029560243\n",
      "Mape Error =  0.0621122838242\n",
      "Mape Error =  0.0643621454073\n",
      "Mape Error =  0.0647727491776\n",
      "Mape Error =  0.0668049550268\n",
      "Mape Error =  0.0651276089757\n",
      "Mape Error =  0.0700038244298\n",
      "Mape Error =  0.0605585514489\n",
      "Mape Error =  0.0627088866794\n",
      "Mape Error =  0.0649620582448\n",
      "Mape Error =  0.0644099568484\n",
      "Mape Error =  0.0666629245308\n",
      "Mape Error =  0.0660694145119\n",
      "Mape Error =  0.0604268492219\n",
      "Mape Error =  0.0613949249805\n",
      "Mape Error =  0.0550553914504\n",
      "Total Mape Error =  0.0633362695565\n"
     ]
    }
   ],
   "source": [
    "# cal outsample error using random sample\n",
    "from sklearn.ensemble import RandomForestRegressor\n",
    "from sklearn import cross_validation\n",
    "ss = cross_validation.ShuffleSplit(len(X), 20, 0.05, random_state=0)\n",
    "error_list = []\n",
    "actual_list = []\n",
    "\n",
    "for train,test in ss:\n",
    "    clf = RandomForestRegressor(n_estimators=500)\n",
    "    clf = clf.fit(X[train], Y[train])\n",
    "    pred = clf.predict(X[test])\n",
    "    error,actual = cal_error_for_list(pred, Y[test])\n",
    "    error_list.append(error)\n",
    "    actual_list.append(actual)\n",
    "error_sum = np.array(error_list).sum()\n",
    "actual_sum = np.array(actual_list).sum()\n",
    "print \"Total Mape Error = \",float(error_sum)/float(actual_sum)"
   ]
  },
  {
   "cell_type": "markdown",
   "metadata": {
    "collapsed": true
   },
   "source": [
    "## Random Forest --Use external feature and previous load--Short term prediction"
   ]
  },
  {
   "cell_type": "code",
   "execution_count": 222,
   "metadata": {
    "collapsed": false
   },
   "outputs": [
    {
     "data": {
      "text/html": [
       "<div>\n",
       "<table border=\"1\" class=\"dataframe\">\n",
       "  <thead>\n",
       "    <tr style=\"text-align: right;\">\n",
       "      <th></th>\n",
       "      <th>Temp</th>\n",
       "      <th>Month</th>\n",
       "      <th>Weekday</th>\n",
       "      <th>Hour</th>\n",
       "      <th>Value1</th>\n",
       "      <th>Value2</th>\n",
       "      <th>Value3</th>\n",
       "    </tr>\n",
       "  </thead>\n",
       "  <tbody>\n",
       "    <tr>\n",
       "      <th>2012-01-01 03:00:00-07:00</th>\n",
       "      <td>20.666667</td>\n",
       "      <td>1</td>\n",
       "      <td>7</td>\n",
       "      <td>3</td>\n",
       "      <td>34.844692</td>\n",
       "      <td>34.168583</td>\n",
       "      <td>34.094725</td>\n",
       "    </tr>\n",
       "    <tr>\n",
       "      <th>2012-01-01 04:00:00-07:00</th>\n",
       "      <td>19.000000</td>\n",
       "      <td>1</td>\n",
       "      <td>7</td>\n",
       "      <td>4</td>\n",
       "      <td>35.956950</td>\n",
       "      <td>34.844692</td>\n",
       "      <td>34.168583</td>\n",
       "    </tr>\n",
       "    <tr>\n",
       "      <th>2012-01-01 05:00:00-07:00</th>\n",
       "      <td>19.000000</td>\n",
       "      <td>1</td>\n",
       "      <td>7</td>\n",
       "      <td>5</td>\n",
       "      <td>35.518508</td>\n",
       "      <td>35.956950</td>\n",
       "      <td>34.844692</td>\n",
       "    </tr>\n",
       "    <tr>\n",
       "      <th>2012-01-01 06:00:00-07:00</th>\n",
       "      <td>19.000000</td>\n",
       "      <td>1</td>\n",
       "      <td>7</td>\n",
       "      <td>6</td>\n",
       "      <td>36.074642</td>\n",
       "      <td>35.518508</td>\n",
       "      <td>35.956950</td>\n",
       "    </tr>\n",
       "    <tr>\n",
       "      <th>2012-01-01 07:00:00-07:00</th>\n",
       "      <td>18.000000</td>\n",
       "      <td>1</td>\n",
       "      <td>7</td>\n",
       "      <td>7</td>\n",
       "      <td>36.882300</td>\n",
       "      <td>36.074642</td>\n",
       "      <td>35.518508</td>\n",
       "    </tr>\n",
       "  </tbody>\n",
       "</table>\n",
       "</div>"
      ],
      "text/plain": [
       "                                Temp  Month  Weekday  Hour     Value1  \\\n",
       "2012-01-01 03:00:00-07:00  20.666667      1        7     3  34.844692   \n",
       "2012-01-01 04:00:00-07:00  19.000000      1        7     4  35.956950   \n",
       "2012-01-01 05:00:00-07:00  19.000000      1        7     5  35.518508   \n",
       "2012-01-01 06:00:00-07:00  19.000000      1        7     6  36.074642   \n",
       "2012-01-01 07:00:00-07:00  18.000000      1        7     7  36.882300   \n",
       "\n",
       "                              Value2     Value3  \n",
       "2012-01-01 03:00:00-07:00  34.168583  34.094725  \n",
       "2012-01-01 04:00:00-07:00  34.844692  34.168583  \n",
       "2012-01-01 05:00:00-07:00  35.956950  34.844692  \n",
       "2012-01-01 06:00:00-07:00  35.518508  35.956950  \n",
       "2012-01-01 07:00:00-07:00  36.074642  35.518508  "
      ]
     },
     "execution_count": 222,
     "metadata": {},
     "output_type": "execute_result"
    }
   ],
   "source": [
    "target = total[[\"Value\"]]\n",
    "feature = total.copy().drop(\"Value\",axis=1)\n",
    "Y = target.values.reshape(1,-1)[0]\n",
    "X = feature.values\n",
    "feature.head()"
   ]
  },
  {
   "cell_type": "code",
   "execution_count": 224,
   "metadata": {
    "collapsed": false
   },
   "outputs": [
    {
     "name": "stdout",
     "output_type": "stream",
     "text": [
      "Mape Error =  0.0153981096801\n"
     ]
    },
    {
     "data": {
      "text/plain": [
       "(4196.3268626180297, 272522.20888181822)"
      ]
     },
     "execution_count": 224,
     "metadata": {},
     "output_type": "execute_result"
    }
   ],
   "source": [
    "# cal insample error\n",
    "from sklearn.ensemble import RandomForestRegressor\n",
    "clf = RandomForestRegressor(n_estimators=500)\n",
    "clf = clf.fit(X, Y)\n",
    "pred = clf.predict(X)\n",
    "cal_error_for_list(pred,Y)"
   ]
  },
  {
   "cell_type": "code",
   "execution_count": 225,
   "metadata": {
    "collapsed": false
   },
   "outputs": [
    {
     "name": "stdout",
     "output_type": "stream",
     "text": [
      "Importance of each feature\n",
      "\n",
      "Temp : 0.0108027255531\n",
      "Month : 0.00518739526359\n",
      "Weekday : 0.0063177631235\n",
      "Hour : 0.0868868607124\n",
      "Value1 : 0.865019489945\n",
      "Value2 : 0.00968752381045\n",
      "Value3 : 0.0160982415923\n"
     ]
    }
   ],
   "source": [
    "# see which feature is important\n",
    "print \"Importance of each feature\\n\"\n",
    "for name,score in zip(feature.columns,clf.feature_importances_ ):\n",
    "    print name,\":\",score"
   ]
  },
  {
   "cell_type": "code",
   "execution_count": 227,
   "metadata": {
    "collapsed": false
   },
   "outputs": [
    {
     "name": "stdout",
     "output_type": "stream",
     "text": [
      "Mape Error =  0.040915902479\n",
      "Mape Error =  0.0460398936047\n",
      "Mape Error =  0.0359812001673\n",
      "Mape Error =  0.0418314157013\n",
      "Mape Error =  0.0396328837052\n",
      "Mape Error =  0.0399420624362\n",
      "Mape Error =  0.0432185209596\n",
      "Mape Error =  0.0444632319805\n",
      "Mape Error =  0.044300026159\n",
      "Mape Error =  0.0427542528083\n",
      "Mape Error =  0.0432768534563\n",
      "Mape Error =  0.0387837125108\n",
      "Mape Error =  0.0405968262609\n",
      "Mape Error =  0.042157909402\n",
      "Mape Error =  0.041058570442\n",
      "Mape Error =  0.0434259163175\n",
      "Mape Error =  0.0441071844921\n",
      "Mape Error =  0.0443680265666\n",
      "Mape Error =  0.0412951819576\n",
      "Mape Error =  0.0401145399396\n",
      "Total Mape Error =  0.0419307497552\n"
     ]
    }
   ],
   "source": [
    "# cal outsample error using random sample\n",
    "from sklearn.ensemble import RandomForestRegressor\n",
    "from sklearn import cross_validation\n",
    "ss = cross_validation.ShuffleSplit(len(X), 20, 0.05, random_state=0)\n",
    "error_list = []\n",
    "actual_list = []\n",
    "\n",
    "for train,test in ss:\n",
    "    clf = RandomForestRegressor(n_estimators=500)\n",
    "    clf = clf.fit(X[train], Y[train])\n",
    "    pred = clf.predict(X[test])\n",
    "    error,actual = cal_error_for_list(pred, Y[test])\n",
    "    error_list.append(error)\n",
    "    actual_list.append(actual)\n",
    "error_sum = np.array(error_list).sum()\n",
    "actual_sum = np.array(actual_list).sum()\n",
    "print \"Total Mape Error = \",float(error_sum)/float(actual_sum)"
   ]
  },
  {
   "cell_type": "code",
   "execution_count": 111,
   "metadata": {
    "collapsed": true
   },
   "outputs": [],
   "source": [
    "def to_list(x):\n",
    "    l = []\n",
    "    for i in x:\n",
    "        for j in i:\n",
    "            l.append(j)\n",
    "    return l\n",
    "plot_actual_list = to_list(plot_actual)\n",
    "plot_pred_list = to_list(plot_pred)"
   ]
  },
  {
   "cell_type": "code",
   "execution_count": 2,
   "metadata": {
    "collapsed": false
   },
   "outputs": [
    {
     "data": {
      "text/html": [
       "\n",
       "    <div class=\"bk-banner\">\n",
       "        <a href=\"http://bokeh.pydata.org\" target=\"_blank\" class=\"bk-logo bk-logo-small bk-logo-notebook\"></a>\n",
       "        <span id=\"1aa6b881-bf36-49d9-a8ad-7ccd6edab2cd\">Loading BokehJS ...</span>\n",
       "    </div>"
      ]
     },
     "metadata": {},
     "output_type": "display_data"
    },
    {
     "data": {
      "application/javascript": [
       "\n",
       "(function(global) {\n",
       "  function now() {\n",
       "    return new Date();\n",
       "  }\n",
       "\n",
       "  if (typeof (window._bokeh_onload_callbacks) === \"undefined\") {\n",
       "    window._bokeh_onload_callbacks = [];\n",
       "  }\n",
       "\n",
       "  function run_callbacks() {\n",
       "    window._bokeh_onload_callbacks.forEach(function(callback) { callback() });\n",
       "    delete window._bokeh_onload_callbacks\n",
       "    console.info(\"Bokeh: all callbacks have finished\");\n",
       "  }\n",
       "\n",
       "  function load_libs(js_urls, callback) {\n",
       "    window._bokeh_onload_callbacks.push(callback);\n",
       "    if (window._bokeh_is_loading > 0) {\n",
       "      console.log(\"Bokeh: BokehJS is being loaded, scheduling callback at\", now());\n",
       "      return null;\n",
       "    }\n",
       "    if (js_urls == null || js_urls.length === 0) {\n",
       "      run_callbacks();\n",
       "      return null;\n",
       "    }\n",
       "    console.log(\"Bokeh: BokehJS not loaded, scheduling load and callback at\", now());\n",
       "    window._bokeh_is_loading = js_urls.length;\n",
       "    for (var i = 0; i < js_urls.length; i++) {\n",
       "      var url = js_urls[i];\n",
       "      var s = document.createElement('script');\n",
       "      s.src = url;\n",
       "      s.async = false;\n",
       "      s.onreadystatechange = s.onload = function() {\n",
       "        window._bokeh_is_loading--;\n",
       "        if (window._bokeh_is_loading === 0) {\n",
       "          console.log(\"Bokeh: all BokehJS libraries loaded\");\n",
       "          run_callbacks()\n",
       "        }\n",
       "      };\n",
       "      s.onerror = function() {\n",
       "        console.warn(\"failed to load library \" + url);\n",
       "      };\n",
       "      console.log(\"Bokeh: injecting script tag for BokehJS library: \", url);\n",
       "      document.getElementsByTagName(\"head\")[0].appendChild(s);\n",
       "    }\n",
       "  };\n",
       "\n",
       "  var js_urls = ['https://cdn.pydata.org/bokeh/release/bokeh-0.11.1.min.js', 'https://cdn.pydata.org/bokeh/release/bokeh-widgets-0.11.1.min.js', 'https://cdn.pydata.org/bokeh/release/bokeh-compiler-0.11.1.min.js'];\n",
       "\n",
       "  var inline_js = [\n",
       "    function(Bokeh) {\n",
       "      Bokeh.set_log_level(\"info\");\n",
       "    },\n",
       "    \n",
       "    function(Bokeh) {\n",
       "      Bokeh.$(\"#1aa6b881-bf36-49d9-a8ad-7ccd6edab2cd\").text(\"BokehJS successfully loaded\");\n",
       "    },\n",
       "    function(Bokeh) {\n",
       "      console.log(\"Bokeh: injecting CSS: https://cdn.pydata.org/bokeh/release/bokeh-0.11.1.min.css\");\n",
       "      Bokeh.embed.inject_css(\"https://cdn.pydata.org/bokeh/release/bokeh-0.11.1.min.css\");\n",
       "      console.log(\"Bokeh: injecting CSS: https://cdn.pydata.org/bokeh/release/bokeh-widgets-0.11.1.min.css\");\n",
       "      Bokeh.embed.inject_css(\"https://cdn.pydata.org/bokeh/release/bokeh-widgets-0.11.1.min.css\");\n",
       "    }\n",
       "  ];\n",
       "\n",
       "  function run_inline_js() {\n",
       "    for (var i = 0; i < inline_js.length; i++) {\n",
       "      inline_js[i](window.Bokeh);\n",
       "    }\n",
       "  }\n",
       "\n",
       "  if (window._bokeh_is_loading === 0) {\n",
       "    console.log(\"Bokeh: BokehJS loaded, going straight to plotting\");\n",
       "    run_inline_js();\n",
       "  } else {\n",
       "    load_libs(js_urls, function() {\n",
       "      console.log(\"Bokeh: BokehJS plotting callback run at\", now());\n",
       "      run_inline_js();\n",
       "    });\n",
       "  }\n",
       "}(this));"
      ]
     },
     "metadata": {},
     "output_type": "display_data"
    }
   ],
   "source": [
    "from bokeh.io import output_notebook, show\n",
    "from bokeh.plotting import figure\n",
    "output_notebook()"
   ]
  },
  {
   "cell_type": "code",
   "execution_count": 3,
   "metadata": {
    "collapsed": false
   },
   "outputs": [
    {
     "ename": "NameError",
     "evalue": "name 'plot_pred_list' is not defined",
     "output_type": "error",
     "traceback": [
      "\u001b[0;31m---------------------------------------------------------------------------\u001b[0m",
      "\u001b[0;31mNameError\u001b[0m                                 Traceback (most recent call last)",
      "\u001b[0;32m<ipython-input-3-d8d491592203>\u001b[0m in \u001b[0;36m<module>\u001b[0;34m()\u001b[0m\n\u001b[1;32m      1\u001b[0m \u001b[0mp\u001b[0m \u001b[0;34m=\u001b[0m \u001b[0mfigure\u001b[0m\u001b[0;34m(\u001b[0m\u001b[0my_range\u001b[0m \u001b[0;34m=\u001b[0m \u001b[0;34m(\u001b[0m\u001b[0;36m0\u001b[0m\u001b[0;34m,\u001b[0m\u001b[0;36m70\u001b[0m\u001b[0;34m)\u001b[0m\u001b[0;34m)\u001b[0m\u001b[0;34m\u001b[0m\u001b[0m\n\u001b[0;32m----> 2\u001b[0;31m \u001b[0mx\u001b[0m \u001b[0;34m=\u001b[0m \u001b[0mrange\u001b[0m\u001b[0;34m(\u001b[0m\u001b[0mlen\u001b[0m\u001b[0;34m(\u001b[0m\u001b[0mplot_pred_list\u001b[0m\u001b[0;34m)\u001b[0m\u001b[0;34m)\u001b[0m\u001b[0;34m\u001b[0m\u001b[0m\n\u001b[0m\u001b[1;32m      3\u001b[0m \u001b[0mp\u001b[0m\u001b[0;34m.\u001b[0m\u001b[0mline\u001b[0m\u001b[0;34m(\u001b[0m\u001b[0mx\u001b[0m\u001b[0;34m,\u001b[0m\u001b[0mplot_pred_list\u001b[0m\u001b[0;34m,\u001b[0m\u001b[0mcolor\u001b[0m \u001b[0;34m=\u001b[0m \u001b[0;34m\"darkred\"\u001b[0m\u001b[0;34m,\u001b[0m\u001b[0mlegend\u001b[0m\u001b[0;34m=\u001b[0m\u001b[0;34m\"Predicted\"\u001b[0m\u001b[0;34m)\u001b[0m\u001b[0;34m\u001b[0m\u001b[0m\n\u001b[1;32m      4\u001b[0m \u001b[0mp\u001b[0m\u001b[0;34m.\u001b[0m\u001b[0mline\u001b[0m\u001b[0;34m(\u001b[0m\u001b[0mx\u001b[0m\u001b[0;34m,\u001b[0m\u001b[0mplot_actual_list\u001b[0m\u001b[0;34m,\u001b[0m\u001b[0mcolor\u001b[0m \u001b[0;34m=\u001b[0m \u001b[0;34m\"navy\"\u001b[0m\u001b[0;34m,\u001b[0m\u001b[0mlegend\u001b[0m \u001b[0;34m=\u001b[0m \u001b[0;34m\"Actual\"\u001b[0m\u001b[0;34m)\u001b[0m\u001b[0;34m\u001b[0m\u001b[0m\n\u001b[1;32m      5\u001b[0m \u001b[0mshow\u001b[0m\u001b[0;34m(\u001b[0m\u001b[0mp\u001b[0m\u001b[0;34m)\u001b[0m\u001b[0;34m\u001b[0m\u001b[0m\n",
      "\u001b[0;31mNameError\u001b[0m: name 'plot_pred_list' is not defined"
     ]
    }
   ],
   "source": [
    "p = figure(y_range = (0,70))\n",
    "x = range(len(plot_pred_list))\n",
    "p.line(x,plot_pred_list,color = \"darkred\",legend=\"Predicted\")\n",
    "p.line(x,plot_actual_list,color = \"navy\",legend = \"Actual\")\n",
    "show(p)"
   ]
  },
  {
   "cell_type": "markdown",
   "metadata": {},
   "source": [
    "## XGBoost -- Only external feature"
   ]
  },
  {
   "cell_type": "code",
   "execution_count": 8,
   "metadata": {
    "collapsed": true
   },
   "outputs": [],
   "source": [
    "import xgboost as xgb"
   ]
  },
  {
   "cell_type": "code",
   "execution_count": 9,
   "metadata": {
    "collapsed": false
   },
   "outputs": [
    {
     "data": {
      "text/html": [
       "<div>\n",
       "<table border=\"1\" class=\"dataframe\">\n",
       "  <thead>\n",
       "    <tr style=\"text-align: right;\">\n",
       "      <th></th>\n",
       "      <th>Temp</th>\n",
       "      <th>Month</th>\n",
       "      <th>Weekday</th>\n",
       "      <th>Hour</th>\n",
       "    </tr>\n",
       "  </thead>\n",
       "  <tbody>\n",
       "    <tr>\n",
       "      <th>2012-01-01 00:00:00-07:00</th>\n",
       "      <td>20.666667</td>\n",
       "      <td>1</td>\n",
       "      <td>7</td>\n",
       "      <td>0</td>\n",
       "    </tr>\n",
       "    <tr>\n",
       "      <th>2012-01-01 01:00:00-07:00</th>\n",
       "      <td>20.333333</td>\n",
       "      <td>1</td>\n",
       "      <td>7</td>\n",
       "      <td>1</td>\n",
       "    </tr>\n",
       "    <tr>\n",
       "      <th>2012-01-01 02:00:00-07:00</th>\n",
       "      <td>20.000000</td>\n",
       "      <td>1</td>\n",
       "      <td>7</td>\n",
       "      <td>2</td>\n",
       "    </tr>\n",
       "    <tr>\n",
       "      <th>2012-01-01 03:00:00-07:00</th>\n",
       "      <td>20.666667</td>\n",
       "      <td>1</td>\n",
       "      <td>7</td>\n",
       "      <td>3</td>\n",
       "    </tr>\n",
       "    <tr>\n",
       "      <th>2012-01-01 04:00:00-07:00</th>\n",
       "      <td>19.000000</td>\n",
       "      <td>1</td>\n",
       "      <td>7</td>\n",
       "      <td>4</td>\n",
       "    </tr>\n",
       "  </tbody>\n",
       "</table>\n",
       "</div>"
      ],
      "text/plain": [
       "                                Temp  Month  Weekday  Hour\n",
       "2012-01-01 00:00:00-07:00  20.666667      1        7     0\n",
       "2012-01-01 01:00:00-07:00  20.333333      1        7     1\n",
       "2012-01-01 02:00:00-07:00  20.000000      1        7     2\n",
       "2012-01-01 03:00:00-07:00  20.666667      1        7     3\n",
       "2012-01-01 04:00:00-07:00  19.000000      1        7     4"
      ]
     },
     "execution_count": 9,
     "metadata": {},
     "output_type": "execute_result"
    }
   ],
   "source": [
    "target = total[[\"Value\"]]\n",
    "feature = total.copy().drop(\"Value\",axis=1)\n",
    "Y = target.values.reshape(1,-1)[0]\n",
    "X = feature.values\n",
    "feature.head()"
   ]
  },
  {
   "cell_type": "code",
   "execution_count": 47,
   "metadata": {
    "collapsed": false
   },
   "outputs": [],
   "source": [
    "# config\n",
    "\n",
    "n_estimators = 1000\n",
    "\n",
    "# encounter overfitting directly\n",
    "max_depth = 5\n",
    "min_child_weight = 0.6\n",
    "gamma =2\n",
    "\n",
    "# encounter overfitting by add randomness\n",
    "subsample = 0.3\n",
    "seed = 3\n"
   ]
  },
  {
   "cell_type": "code",
   "execution_count": 48,
   "metadata": {
    "collapsed": false
   },
   "outputs": [
    {
     "name": "stdout",
     "output_type": "stream",
     "text": [
      "Mape Error =  0.0543368650726\n"
     ]
    },
    {
     "data": {
      "text/plain": [
       "(14813.6050587886, 272625.31688181817)"
      ]
     },
     "execution_count": 48,
     "metadata": {},
     "output_type": "execute_result"
    }
   ],
   "source": [
    "# insample error\n",
    "xgb_model = xgb.XGBRegressor(\n",
    "    n_estimators = n_estimators,\n",
    "    max_depth=max_depth,\n",
    "    min_child_weight = min_child_weight,\n",
    "    gamma=gamma).fit(X,Y)\n",
    "pred = xgb_model.predict(X)\n",
    "cal_error_for_list(pred,Y)"
   ]
  },
  {
   "cell_type": "code",
   "execution_count": 49,
   "metadata": {
    "collapsed": false
   },
   "outputs": [
    {
     "name": "stdout",
     "output_type": "stream",
     "text": [
      "Mape Error =  0.0650880037751\n",
      "Mape Error =  0.0609888912244\n",
      "Mape Error =  0.0598203231417\n",
      "Mape Error =  0.0634666884815\n",
      "Mape Error =  0.0637521864607\n",
      "Mape Error =  0.0568759718694\n",
      "Mape Error =  0.0600150854171\n",
      "Mape Error =  0.0633803327597\n",
      "Mape Error =  0.0634513588236\n",
      "Mape Error =  0.0606506840876\n",
      "Mape Error =  0.0622841404703\n",
      "Mape Error =  0.0686908701242\n",
      "Mape Error =  0.0611256572046\n",
      "Mape Error =  0.0610122688423\n",
      "Mape Error =  0.0598990339714\n",
      "Mape Error =  0.0584745593843\n",
      "Mape Error =  0.0620511763262\n",
      "Mape Error =  0.0645363096724\n",
      "Mape Error =  0.0616451785077\n",
      "Mape Error =  0.0615161762923\n",
      "Total Mape Error =  0.0619338043205\n"
     ]
    }
   ],
   "source": [
    "# cal outsample error using random sample\n",
    "from sklearn.ensemble import RandomForestRegressor\n",
    "from sklearn import cross_validation\n",
    "ss = cross_validation.ShuffleSplit(len(X), 20, 0.05, random_state=0)\n",
    "error_list = []\n",
    "actual_list = []\n",
    "\n",
    "for train,test in ss:\n",
    "    xgb_model = xgb.XGBRegressor(\n",
    "        n_estimators = n_estimators,\n",
    "        max_depth=max_depth,\n",
    "        min_child_weight = min_child_weight\n",
    "        ,gamma=gamma).fit(X[train], Y[train])\n",
    "    pred = xgb_model.predict(X[test])\n",
    "    error,actual = cal_error_for_list(pred, Y[test])\n",
    "    error_list.append(error)\n",
    "    actual_list.append(actual)\n",
    "error_sum = np.array(error_list).sum()\n",
    "actual_sum = np.array(actual_list).sum()\n",
    "print \"Total Mape Error = \",float(error_sum)/float(actual_sum)"
   ]
  },
  {
   "cell_type": "markdown",
   "metadata": {},
   "source": [
    "## XGBoost -- External feature and previous load"
   ]
  },
  {
   "cell_type": "code",
   "execution_count": 174,
   "metadata": {
    "collapsed": false
   },
   "outputs": [
    {
     "data": {
      "text/html": [
       "<div>\n",
       "<table border=\"1\" class=\"dataframe\">\n",
       "  <thead>\n",
       "    <tr style=\"text-align: right;\">\n",
       "      <th></th>\n",
       "      <th>Temp</th>\n",
       "      <th>Month</th>\n",
       "      <th>Weekday</th>\n",
       "      <th>Hour</th>\n",
       "      <th>Value1</th>\n",
       "      <th>Value2</th>\n",
       "      <th>Value3</th>\n",
       "    </tr>\n",
       "  </thead>\n",
       "  <tbody>\n",
       "    <tr>\n",
       "      <th>2012-01-01 03:00:00-07:00</th>\n",
       "      <td>20.666667</td>\n",
       "      <td>1</td>\n",
       "      <td>7</td>\n",
       "      <td>3</td>\n",
       "      <td>34.844692</td>\n",
       "      <td>34.168583</td>\n",
       "      <td>34.094725</td>\n",
       "    </tr>\n",
       "    <tr>\n",
       "      <th>2012-01-01 04:00:00-07:00</th>\n",
       "      <td>19.000000</td>\n",
       "      <td>1</td>\n",
       "      <td>7</td>\n",
       "      <td>4</td>\n",
       "      <td>35.956950</td>\n",
       "      <td>34.844692</td>\n",
       "      <td>34.168583</td>\n",
       "    </tr>\n",
       "    <tr>\n",
       "      <th>2012-01-01 05:00:00-07:00</th>\n",
       "      <td>19.000000</td>\n",
       "      <td>1</td>\n",
       "      <td>7</td>\n",
       "      <td>5</td>\n",
       "      <td>35.518508</td>\n",
       "      <td>35.956950</td>\n",
       "      <td>34.844692</td>\n",
       "    </tr>\n",
       "    <tr>\n",
       "      <th>2012-01-01 06:00:00-07:00</th>\n",
       "      <td>19.000000</td>\n",
       "      <td>1</td>\n",
       "      <td>7</td>\n",
       "      <td>6</td>\n",
       "      <td>36.074642</td>\n",
       "      <td>35.518508</td>\n",
       "      <td>35.956950</td>\n",
       "    </tr>\n",
       "    <tr>\n",
       "      <th>2012-01-01 07:00:00-07:00</th>\n",
       "      <td>18.000000</td>\n",
       "      <td>1</td>\n",
       "      <td>7</td>\n",
       "      <td>7</td>\n",
       "      <td>36.882300</td>\n",
       "      <td>36.074642</td>\n",
       "      <td>35.518508</td>\n",
       "    </tr>\n",
       "  </tbody>\n",
       "</table>\n",
       "</div>"
      ],
      "text/plain": [
       "                                Temp  Month  Weekday  Hour     Value1  \\\n",
       "2012-01-01 03:00:00-07:00  20.666667      1        7     3  34.844692   \n",
       "2012-01-01 04:00:00-07:00  19.000000      1        7     4  35.956950   \n",
       "2012-01-01 05:00:00-07:00  19.000000      1        7     5  35.518508   \n",
       "2012-01-01 06:00:00-07:00  19.000000      1        7     6  36.074642   \n",
       "2012-01-01 07:00:00-07:00  18.000000      1        7     7  36.882300   \n",
       "\n",
       "                              Value2     Value3  \n",
       "2012-01-01 03:00:00-07:00  34.168583  34.094725  \n",
       "2012-01-01 04:00:00-07:00  34.844692  34.168583  \n",
       "2012-01-01 05:00:00-07:00  35.956950  34.844692  \n",
       "2012-01-01 06:00:00-07:00  35.518508  35.956950  \n",
       "2012-01-01 07:00:00-07:00  36.074642  35.518508  "
      ]
     },
     "execution_count": 174,
     "metadata": {},
     "output_type": "execute_result"
    }
   ],
   "source": [
    "target = total[[\"Value\"]]\n",
    "feature = total.copy().drop(\"Value\",axis=1)\n",
    "Y = target.values.reshape(1,-1)[0]\n",
    "X = feature.values\n",
    "feature.head()"
   ]
  },
  {
   "cell_type": "code",
   "execution_count": 186,
   "metadata": {
    "collapsed": true
   },
   "outputs": [],
   "source": [
    "# config\n",
    "n_esti = 500"
   ]
  },
  {
   "cell_type": "code",
   "execution_count": 187,
   "metadata": {
    "collapsed": false
   },
   "outputs": [
    {
     "name": "stdout",
     "output_type": "stream",
     "text": [
      "Mape Error =  0.0381150325048\n"
     ]
    },
    {
     "data": {
      "text/plain": [
       "(10387.192849820502, 272522.20888181822)"
      ]
     },
     "execution_count": 187,
     "metadata": {},
     "output_type": "execute_result"
    }
   ],
   "source": [
    "# insample error\n",
    "xgb_model = xgb.XGBRegressor(n_estimators = n_esti).fit(X,Y)\n",
    "pred = xgb_model.predict(X)\n",
    "cal_error_for_list(pred,Y)"
   ]
  },
  {
   "cell_type": "code",
   "execution_count": 188,
   "metadata": {
    "collapsed": false
   },
   "outputs": [
    {
     "name": "stdout",
     "output_type": "stream",
     "text": [
      "Mape Error =  0.0447857075796\n",
      "Mape Error =  0.0480430345307\n",
      "Mape Error =  0.040337686451\n",
      "Mape Error =  0.0457610253683\n",
      "Mape Error =  0.0416110750089\n",
      "Mape Error =  0.0441645621681\n",
      "Mape Error =  0.0461445596733\n",
      "Mape Error =  0.0437049336027\n",
      "Mape Error =  0.0460379968929\n",
      "Mape Error =  0.0461603609921\n",
      "Mape Error =  0.0432624781897\n",
      "Mape Error =  0.0406456802448\n",
      "Mape Error =  0.0446351421007\n",
      "Mape Error =  0.0453016585541\n",
      "Mape Error =  0.0439552775158\n",
      "Mape Error =  0.0457402659554\n",
      "Mape Error =  0.0469054507789\n",
      "Mape Error =  0.0492058019106\n",
      "Mape Error =  0.0418586832465\n",
      "Mape Error =  0.0414193823266\n",
      "Total Mape Error =  0.0444928710633\n"
     ]
    }
   ],
   "source": [
    "# cal outsample error using random sample\n",
    "from sklearn.ensemble import RandomForestRegressor\n",
    "from sklearn import cross_validation\n",
    "ss = cross_validation.ShuffleSplit(len(X), 20, 0.05, random_state=0)\n",
    "error_list = []\n",
    "actual_list = []\n",
    "\n",
    "for train,test in ss:\n",
    "    xgb_model = xgb.XGBRegressor(n_estimators = n_esti).fit(X[train], Y[train])\n",
    "    pred = xgb_model.predict(X[test])\n",
    "    error,actual = cal_error_for_list(pred, Y[test])\n",
    "    error_list.append(error)\n",
    "    actual_list.append(actual)\n",
    "error_sum = np.array(error_list).sum()\n",
    "actual_sum = np.array(actual_list).sum()\n",
    "print \"Total Mape Error = \",float(error_sum)/float(actual_sum)"
   ]
  },
  {
   "cell_type": "code",
   "execution_count": null,
   "metadata": {
    "collapsed": true
   },
   "outputs": [],
   "source": []
  }
 ],
 "metadata": {
  "kernelspec": {
   "display_name": "Python 2",
   "language": "python",
   "name": "python2"
  },
  "language_info": {
   "codemirror_mode": {
    "name": "ipython",
    "version": 2
   },
   "file_extension": ".py",
   "mimetype": "text/x-python",
   "name": "python",
   "nbconvert_exporter": "python",
   "pygments_lexer": "ipython2",
   "version": "2.7.10"
  },
  "widgets": {
   "state": {},
   "version": "1.1.1"
  }
 },
 "nbformat": 4,
 "nbformat_minor": 0
}
